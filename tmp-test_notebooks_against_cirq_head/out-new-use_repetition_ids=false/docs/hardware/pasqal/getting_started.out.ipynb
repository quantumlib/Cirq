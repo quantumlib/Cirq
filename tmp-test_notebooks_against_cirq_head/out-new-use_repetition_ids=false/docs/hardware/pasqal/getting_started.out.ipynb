{
 "cells": [
  {
   "cell_type": "markdown",
   "id": "e68174fe",
   "metadata": {
    "id": "6HTRLzyWW5Q1",
    "papermill": {
     "duration": 0.000319,
     "end_time": "2025-07-17T21:29:43.844502",
     "exception": false,
     "start_time": "2025-07-17T21:29:43.844183",
     "status": "completed"
    },
    "tags": []
   },
   "source": [
    "##### Copyright 2020 The Cirq Developers"
   ]
  },
  {
   "cell_type": "code",
   "execution_count": 1,
   "id": "f75f42c3",
   "metadata": {
    "cellView": "form",
    "execution": {
     "iopub.execute_input": "2025-07-17T21:29:43.846731Z",
     "iopub.status.busy": "2025-07-17T21:29:43.846343Z",
     "iopub.status.idle": "2025-07-17T21:29:43.850419Z",
     "shell.execute_reply": "2025-07-17T21:29:43.849675Z"
    },
    "id": "oOggJBe6W5nF",
    "papermill": {
     "duration": 0.00674,
     "end_time": "2025-07-17T21:29:43.851823",
     "exception": false,
     "start_time": "2025-07-17T21:29:43.845083",
     "status": "completed"
    },
    "tags": []
   },
   "outputs": [],
   "source": [
    "# @title Licensed under the Apache License, Version 2.0 (the \"License\");\n",
    "# you may not use this file except in compliance with the License.\n",
    "# You may obtain a copy of the License at\n",
    "#\n",
    "# https://www.apache.org/licenses/LICENSE-2.0\n",
    "#\n",
    "# Unless required by applicable law or agreed to in writing, software\n",
    "# distributed under the License is distributed on an \"AS IS\" BASIS,\n",
    "# WITHOUT WARRANTIES OR CONDITIONS OF ANY KIND, either express or implied.\n",
    "# See the License for the specific language governing permissions and\n",
    "# limitations under the License."
   ]
  },
  {
   "cell_type": "markdown",
   "id": "71702f54",
   "metadata": {
    "id": "9UinLMKSWRkA",
    "papermill": {
     "duration": 0.000115,
     "end_time": "2025-07-17T21:29:43.852173",
     "exception": false,
     "start_time": "2025-07-17T21:29:43.852058",
     "status": "completed"
    },
    "tags": []
   },
   "source": [
    "# Quantum circuits on Pasqal devices"
   ]
  },
  {
   "cell_type": "markdown",
   "id": "f5d9d37e",
   "metadata": {
    "id": "8jnX4ti8W6Lg",
    "papermill": {
     "duration": 8.2e-05,
     "end_time": "2025-07-17T21:29:43.852415",
     "exception": false,
     "start_time": "2025-07-17T21:29:43.852333",
     "status": "completed"
    },
    "tags": []
   },
   "source": [
    "<table class=\"tfo-notebook-buttons\" align=\"left\">\n",
    "  <td>\n",
    "    <a target=\"_blank\" href=\"https://quantumai.google/cirq/hardware/pasqal/getting_started\"><img src=\"https://quantumai.google/site-assets/images/buttons/quantumai_logo_1x.png\" />View on QuantumAI</a>\n",
    "  </td>\n",
    "  <td>\n",
    "    <a target=\"_blank\" href=\"https://colab.research.google.com/github/quantumlib/Cirq/blob/main/docs/hardware/pasqal/getting_started.ipynb\"><img src=\"https://quantumai.google/site-assets/images/buttons/colab_logo_1x.png\" />Run in Google Colab</a>\n",
    "  </td>\n",
    "  <td>\n",
    "    <a target=\"_blank\" href=\"https://github.com/quantumlib/Cirq/blob/main/docs/hardware/pasqal/getting_started.ipynb\"><img src=\"https://quantumai.google/site-assets/images/buttons/github_logo_1x.png\" />View source on GitHub</a>\n",
    "  </td>\n",
    "  <td>\n",
    "    <a href=\"https://storage.googleapis.com/tensorflow_docs/Cirq/docs/hardware/pasqal/getting_started.ipynb\"><img src=\"https://quantumai.google/site-assets/images/buttons/download_icon_1x.png\" />Download notebook</a>\n",
    "  </td>\n",
    "</table>"
   ]
  },
  {
   "cell_type": "code",
   "execution_count": 2,
   "id": "760a578c",
   "metadata": {
    "execution": {
     "iopub.execute_input": "2025-07-17T21:29:43.853828Z",
     "iopub.status.busy": "2025-07-17T21:29:43.853487Z",
     "iopub.status.idle": "2025-07-17T21:29:46.462485Z",
     "shell.execute_reply": "2025-07-17T21:29:46.461715Z"
    },
    "id": "bd9529db1c0b",
    "papermill": {
     "duration": 2.611554,
     "end_time": "2025-07-17T21:29:46.464123",
     "exception": false,
     "start_time": "2025-07-17T21:29:43.852569",
     "status": "completed"
    },
    "tags": []
   },
   "outputs": [],
   "source": [
    "try:\n",
    "    import cirq\n",
    "except ImportError:\n",
    "    print(\"installing cirq...\")\n",
    "    !pip install --quiet cirq\n",
    "    print(\"installed cirq.\")\n",
    "    import cirq\n",
    "import cirq_pasqal\n",
    "from cirq_pasqal import ThreeDQubit, TwoDQubit, PasqalVirtualDevice, PasqalNoiseModel"
   ]
  },
  {
   "cell_type": "markdown",
   "id": "3386ecf3",
   "metadata": {
    "id": "785bc8599470",
    "papermill": {
     "duration": 0.000142,
     "end_time": "2025-07-17T21:29:46.464769",
     "exception": false,
     "start_time": "2025-07-17T21:29:46.464627",
     "status": "completed"
    },
    "tags": []
   },
   "source": [
    "<img src=\"../../images/pasqal/Cirq_pasqal.png\" width=\"700\"/>\n",
    "\n",
    "In this notebook, we show how to program a quantum circuit for Pasqal using cirq. The first step is to import cirq, and Pasqal custom classes. We use ``PasqalVirtualDevice`` to showcase how Cirq enforces Pasqal's devices' restrictions throughout the process."
   ]
  },
  {
   "cell_type": "markdown",
   "id": "eb25e617",
   "metadata": {
    "id": "2308f81b64c4",
    "papermill": {
     "duration": 8.8e-05,
     "end_time": "2025-07-17T21:29:46.465075",
     "exception": false,
     "start_time": "2025-07-17T21:29:46.464987",
     "status": "completed"
    },
    "tags": []
   },
   "source": [
    "## Create an array of qubits on a lattice\n",
    "\n",
    "The QPU of Pasqal is made of neutral atoms controlled by lasers. Individual atoms are trapped at well-defined positions in 1, 2 or even 3D, as shown on the following plot ( [Nature 561, 79 (2018)](https://www.nature.com/articles/s41586-018-0450-2)).\n",
    "\n",
    "<img src=\"../../images/pasqal/eiffel_tower.png\" width=\"500\"/>\n",
    "\n",
    "We created a custom class in Cirq, ThreeDQubit, that corresponds to a qubit placed in 3D space. Let us start by creating a register comprising $36=6\\times6$ qubits in 2D, regularly arranged on a square lattice. It corresponds to the following configuration (image taken from [Nature 561, 79 (2018)](https://www.nature.com/articles/s41586-018-0450-2))\n",
    "\n",
    "<img src=\"../../images/pasqal/grid_atoms.png\" width=\"300\"/>"
   ]
  },
  {
   "cell_type": "code",
   "execution_count": 3,
   "id": "d9fe5692",
   "metadata": {
    "execution": {
     "iopub.execute_input": "2025-07-17T21:29:46.466425Z",
     "iopub.status.busy": "2025-07-17T21:29:46.466061Z",
     "iopub.status.idle": "2025-07-17T21:29:46.470329Z",
     "shell.execute_reply": "2025-07-17T21:29:46.469618Z"
    },
    "id": "74507c7b7017",
    "papermill": {
     "duration": 0.006527,
     "end_time": "2025-07-17T21:29:46.471743",
     "exception": false,
     "start_time": "2025-07-17T21:29:46.465216",
     "status": "completed"
    },
    "tags": []
   },
   "outputs": [],
   "source": [
    "width = 6\n",
    "height = 6\n",
    "depth = 1\n",
    "# Creating p_qubits, a list of ThreeDQubits.\n",
    "p_qubits = [\n",
    "    ThreeDQubit(row, col, layer)\n",
    "    for row in range(width)\n",
    "    for col in range(height)\n",
    "    for layer in range(depth)\n",
    "]"
   ]
  },
  {
   "cell_type": "markdown",
   "id": "de83af0c",
   "metadata": {
    "id": "0c70e0cd44b6",
    "papermill": {
     "duration": 9.4e-05,
     "end_time": "2025-07-17T21:29:46.472087",
     "exception": false,
     "start_time": "2025-07-17T21:29:46.471993",
     "status": "completed"
    },
    "tags": []
   },
   "source": [
    "Notice how we are fixing `depth=1` to keep all qubits in the $z=0$ plane. The same can also be achieved by using the `TwoDQubit` class, which is nothing more than a `ThreeDQubit` confined to the `z=0` plane. We can create the same $6 x 6$ square array, this time using one of the built-in methods:"
   ]
  },
  {
   "cell_type": "code",
   "execution_count": 4,
   "id": "6f90f405",
   "metadata": {
    "execution": {
     "iopub.execute_input": "2025-07-17T21:29:46.473492Z",
     "iopub.status.busy": "2025-07-17T21:29:46.473131Z",
     "iopub.status.idle": "2025-07-17T21:29:46.477230Z",
     "shell.execute_reply": "2025-07-17T21:29:46.476562Z"
    },
    "id": "YPyeqF3EReB2",
    "papermill": {
     "duration": 0.006175,
     "end_time": "2025-07-17T21:29:46.478389",
     "exception": false,
     "start_time": "2025-07-17T21:29:46.472214",
     "status": "completed"
    },
    "tags": []
   },
   "outputs": [],
   "source": [
    "p_qubits = TwoDQubit.square(6)  # 6x6 square array of TwoDQubits"
   ]
  },
  {
   "cell_type": "markdown",
   "id": "cda0d552",
   "metadata": {
    "id": "0b0039da850c",
    "papermill": {
     "duration": 9e-05,
     "end_time": "2025-07-17T21:29:46.478667",
     "exception": false,
     "start_time": "2025-07-17T21:29:46.478577",
     "status": "completed"
    },
    "tags": []
   },
   "source": [
    "## Create a PasqalDevice\n",
    "\n",
    "Multi-qubit gates can be applied between qubits in the device, provided that the distance between them is smaller than the so-called Rydberg blocade radius (or control radius), that can be passed as a parameter of the device (in units of the lattice size). Here, we instantiate a `PasqalVirtualDevice` with 36 qubits and a control radius of $2.1$. \n",
    "\n",
    "This `PasqalVirtualDevice` can be used to validate the operations within a `Circuit`."
   ]
  },
  {
   "cell_type": "code",
   "execution_count": 5,
   "id": "0daaa5de",
   "metadata": {
    "execution": {
     "iopub.execute_input": "2025-07-17T21:29:46.479752Z",
     "iopub.status.busy": "2025-07-17T21:29:46.479489Z",
     "iopub.status.idle": "2025-07-17T21:29:46.638585Z",
     "shell.execute_reply": "2025-07-17T21:29:46.637822Z"
    },
    "id": "c9f65c79ae9e",
    "papermill": {
     "duration": 0.215636,
     "end_time": "2025-07-17T21:29:46.694426",
     "exception": false,
     "start_time": "2025-07-17T21:29:46.478790",
     "status": "completed"
    },
    "tags": []
   },
   "outputs": [
    {
     "name": "stdout",
     "output_type": "stream",
     "text": [
      "cirq.CNOT is not a supported gate\n"
     ]
    }
   ],
   "source": [
    "# Initialize and create a circuit\n",
    "initial_circuit = cirq.Circuit()\n",
    "initial_circuit.append(cirq.CZ(p_qubits[0], p_qubits[1]))\n",
    "initial_circuit.append(cirq.Z(p_qubits[0]))\n",
    "initial_circuit.append(cirq.CX(p_qubits[0], p_qubits[2]))\n",
    "\n",
    "# Create a Pasqal device with a control radius of 2.1 (in units of the lattice spacing)\n",
    "p_device = PasqalVirtualDevice(control_radius=2.1, qubits=p_qubits)\n",
    "\n",
    "# Validate the circuit using the device\n",
    "try:\n",
    "    p_device.validate_circuit(initial_circuit)\n",
    "except ValueError as e:\n",
    "    # Uh oh!  This circuit does not pass validation.\n",
    "    print(e)"
   ]
  },
  {
   "cell_type": "markdown",
   "id": "b4b42164",
   "metadata": {
    "id": "aa25f2e644ce",
    "papermill": {
     "duration": 0.000112,
     "end_time": "2025-07-17T21:29:46.694954",
     "exception": false,
     "start_time": "2025-07-17T21:29:46.694842",
     "status": "completed"
    },
    "tags": []
   },
   "source": [
    "Notice that the `CX` gate, also called a `CNOT` gate is not valid on this device.  We can use a `PasqalGateset` object with the built-in cirq method `cirq.optimize_for_target_gateset` to convert it.  This will convert the logical gates into native hardware gates.  "
   ]
  },
  {
   "cell_type": "code",
   "execution_count": 6,
   "id": "f37dde6f",
   "metadata": {
    "execution": {
     "iopub.execute_input": "2025-07-17T21:29:46.696405Z",
     "iopub.status.busy": "2025-07-17T21:29:46.696117Z",
     "iopub.status.idle": "2025-07-17T21:29:46.709618Z",
     "shell.execute_reply": "2025-07-17T21:29:46.708789Z"
    },
    "id": "1JbgjTVzZg6u",
    "papermill": {
     "duration": 0.015605,
     "end_time": "2025-07-17T21:29:46.710708",
     "exception": false,
     "start_time": "2025-07-17T21:29:46.695103",
     "status": "completed"
    },
    "tags": []
   },
   "outputs": [
    {
     "name": "stdout",
     "output_type": "stream",
     "text": [
      "(0, 0): ───@───Z───────────────────@──────────────────\n",
      "           │                       │\n",
      "(1, 0): ───@───────────────────────┼──────────────────\n",
      "                                   │\n",
      "(2, 0): ───────────PhX(-0.5)^0.5───@───PhX(0.5)^0.5───\n"
     ]
    }
   ],
   "source": [
    "pasqal_gateset = cirq_pasqal.PasqalGateset(include_additional_controlled_ops=False)\n",
    "pasqal_circuit = cirq.optimize_for_target_gateset(initial_circuit, gateset=pasqal_gateset)\n",
    "\n",
    "# TODO(https://github.com/quantumlib/Cirq/issues/6655) - remove after fixup\n",
    "pasqal_circuit = cirq.Circuit(pasqal_circuit.all_operations(), strategy=cirq.InsertStrategy.NEW)\n",
    "\n",
    "print(pasqal_circuit)\n",
    "\n",
    "# Now the circuit validates correctly!\n",
    "p_device.validate_circuit(pasqal_circuit)"
   ]
  },
  {
   "cell_type": "markdown",
   "id": "6329f19f",
   "metadata": {
    "id": "DkHu3gfNpe2J",
    "papermill": {
     "duration": 6.4e-05,
     "end_time": "2025-07-17T21:29:46.710921",
     "exception": false,
     "start_time": "2025-07-17T21:29:46.710857",
     "status": "completed"
    },
    "tags": []
   },
   "source": [
    "When inserting into circuits designed for Pasqal devices, be sure to insert each operation into its own `Moment` (for example, using `cirq.InsertStrategy.NEW`).  You may need to do this in a separate step, as in the below example that converts two simultaneous Hadamard gates."
   ]
  },
  {
   "cell_type": "code",
   "execution_count": 7,
   "id": "de975e6d",
   "metadata": {
    "execution": {
     "iopub.execute_input": "2025-07-17T21:29:46.711963Z",
     "iopub.status.busy": "2025-07-17T21:29:46.711714Z",
     "iopub.status.idle": "2025-07-17T21:29:46.720848Z",
     "shell.execute_reply": "2025-07-17T21:29:46.720026Z"
    },
    "id": "YtXUHkTfpraF",
    "papermill": {
     "duration": 0.011201,
     "end_time": "2025-07-17T21:29:46.722204",
     "exception": false,
     "start_time": "2025-07-17T21:29:46.711003",
     "status": "completed"
    },
    "tags": []
   },
   "outputs": [
    {
     "name": "stdout",
     "output_type": "stream",
     "text": [
      "Initial Circuit, does not pass validation:\n",
      "(0, 0): ───H───\n",
      "\n",
      "(1, 0): ───H───\n",
      "Cannot do simultaneous gates. Use cirq.InsertStrategy.NEW.\n",
      "\n",
      "Converted Circuit, passes validation:\n",
      "(0, 0): ───H───────\n",
      "\n",
      "(1, 0): ───────H───\n"
     ]
    }
   ],
   "source": [
    "initial_circuit = cirq.Circuit()\n",
    "initial_circuit.append(cirq.H(p_qubits[0]))\n",
    "initial_circuit.append(cirq.H(p_qubits[1]))\n",
    "print('Initial Circuit, does not pass validation:')\n",
    "print(initial_circuit)\n",
    "try:\n",
    "    p_device.validate_circuit(initial_circuit)\n",
    "except ValueError as e:\n",
    "    # Uh oh!  This circuit does not pass validation.\n",
    "    print(e)\n",
    "\n",
    "pasqal_circuit = cirq.Circuit(initial_circuit.all_operations(), strategy=cirq.InsertStrategy.NEW)\n",
    "print('')\n",
    "print('Converted Circuit, passes validation:')\n",
    "print(pasqal_circuit)\n",
    "\n",
    "# Now the circuit validates correctly!\n",
    "p_device.validate_circuit(pasqal_circuit)"
   ]
  },
  {
   "cell_type": "markdown",
   "id": "b4cda1a6",
   "metadata": {
    "id": "612100a9e1a0",
    "papermill": {
     "duration": 8.6e-05,
     "end_time": "2025-07-17T21:29:46.722494",
     "exception": false,
     "start_time": "2025-07-17T21:29:46.722408",
     "status": "completed"
    },
    "tags": []
   },
   "source": [
    "When the distance between the two qubits involved in the gate is greater than the control radius, as shown for example in the following plot, Cirq will raise an error.\n",
    "\n",
    "<img src=\"../../images/pasqal/r_radius.001.png\" width=\"300\"/><br>"
   ]
  },
  {
   "cell_type": "code",
   "execution_count": 8,
   "id": "ac923dde",
   "metadata": {
    "execution": {
     "iopub.execute_input": "2025-07-17T21:29:46.723839Z",
     "iopub.status.busy": "2025-07-17T21:29:46.723505Z",
     "iopub.status.idle": "2025-07-17T21:29:46.728582Z",
     "shell.execute_reply": "2025-07-17T21:29:46.727819Z"
    },
    "id": "25d50548ab09",
    "papermill": {
     "duration": 0.007478,
     "end_time": "2025-07-17T21:29:46.730123",
     "exception": false,
     "start_time": "2025-07-17T21:29:46.722645",
     "status": "completed"
    },
    "tags": []
   },
   "outputs": [
    {
     "name": "stdout",
     "output_type": "stream",
     "text": [
      "ERROR: Qubits pasqal.TwoDQubit(0, 0), pasqal.TwoDQubit(5, 5) are too far away\n"
     ]
    }
   ],
   "source": [
    "# It is impossible to add a multi-qubit gate if the qubits involved are too far away\n",
    "try:\n",
    "    p_device.validate_operation(cirq.CZ(p_qubits[0], p_qubits[-1]))\n",
    "except ValueError as msg:\n",
    "    print(\"ERROR:\", msg)\n",
    "else:\n",
    "    print(\"Failed to raise the expected ValueError.\")"
   ]
  },
  {
   "cell_type": "markdown",
   "id": "4659720e",
   "metadata": {
    "id": "bd01f8dc88c9",
    "papermill": {
     "duration": 0.000107,
     "end_time": "2025-07-17T21:29:46.730475",
     "exception": false,
     "start_time": "2025-07-17T21:29:46.730368",
     "status": "completed"
    },
    "tags": []
   },
   "source": [
    "## Send a circuit to a remote Pasqal machine\n",
    "\n",
    "Using the Circuit class of Cirq, one can then build a circuit that will be implemented with one of Pasqal's devices as a backend.\n",
    "\n",
    "The real QPU is not plugged in yet as a backend. If you send us your circuit, we currently use a classical emulator as a backend to determine the result of your simulation. As emulating a quantum circuit with a large number of qubits is computationnaly intensive, here we choose to realize a circuit on a smaller register.\n",
    "\n",
    "More precisely, we will implement Grover's algorithm to search for the state $|10\\rangle$, which corresponds to the circuit:\n",
    "\n",
    "<img src=\"../../images/pasqal/Grover_circuit.png\" width=\"750\"/><br>\n",
    "\n",
    "Bear in mind that this is a naïve implementation that can be substantially optimized, particularly in the oracle and the usage of an ancilla, but that is beyond the scope of this tutorial.\n",
    "\n",
    "Here is the Cirq implementation of the circuit using generators:"
   ]
  },
  {
   "cell_type": "code",
   "execution_count": 9,
   "id": "af9a7fe1",
   "metadata": {
    "execution": {
     "iopub.execute_input": "2025-07-17T21:29:46.731928Z",
     "iopub.status.busy": "2025-07-17T21:29:46.731592Z",
     "iopub.status.idle": "2025-07-17T21:29:46.773601Z",
     "shell.execute_reply": "2025-07-17T21:29:46.772967Z"
    },
    "id": "494c8052fa12",
    "papermill": {
     "duration": 0.044445,
     "end_time": "2025-07-17T21:29:46.775106",
     "exception": false,
     "start_time": "2025-07-17T21:29:46.730661",
     "status": "completed"
    },
    "tags": []
   },
   "outputs": [],
   "source": [
    "import numpy as np\n",
    "\n",
    "# Place qubits at vertices of an equilateral triangle\n",
    "qs = [TwoDQubit(0, 0), TwoDQubit(1, 0), TwoDQubit(0.5, np.sqrt(3) / 2)]\n",
    "q_meas = [TwoDQubit(1, 0), TwoDQubit(0, 0)]\n",
    "\n",
    "\n",
    "def state_preparation():\n",
    "    for q in qs[:-1]:\n",
    "        yield cirq.H(q)\n",
    "    yield cirq.X(qs[-1])\n",
    "    yield cirq.H(qs[-1])\n",
    "\n",
    "\n",
    "def oracle():\n",
    "    # Signals the state 10\n",
    "    yield cirq.X(qs[0])\n",
    "    yield cirq.CCX(*qs)\n",
    "    yield cirq.X(qs[0])\n",
    "\n",
    "\n",
    "def grover_operator():\n",
    "    for q in qs[:-1]:\n",
    "        yield cirq.H(q)\n",
    "        yield cirq.X(q)\n",
    "\n",
    "    yield cirq.CZ(*qs[:-1])\n",
    "\n",
    "    for q in qs[:-1]:\n",
    "        yield cirq.X(q)\n",
    "        yield cirq.H(q)\n",
    "\n",
    "\n",
    "def generate_grover():\n",
    "    yield state_preparation()\n",
    "    yield oracle()\n",
    "    yield grover_operator()\n",
    "\n",
    "\n",
    "def generate_pasqal_grover():\n",
    "    pasqal_gateset = cirq_pasqal.PasqalGateset(include_additional_controlled_ops=False)\n",
    "    grover_cicruit = cirq.optimize_for_target_gateset(\n",
    "        cirq.Circuit(generate_grover()), gateset=pasqal_gateset\n",
    "    )\n",
    "    return cirq.Circuit(grover_cicruit.all_operations(), strategy=cirq.InsertStrategy.NEW)\n",
    "\n",
    "\n",
    "device = PasqalVirtualDevice(control_radius=1.1, qubits=qs)\n",
    "grover_circuit = generate_pasqal_grover()\n",
    "device.validate_circuit(grover_circuit)\n",
    "grover_circuit.append(cirq.measure(*q_meas, key='x'))"
   ]
  },
  {
   "cell_type": "markdown",
   "id": "bdb36220",
   "metadata": {
    "id": "ea966b4466aa",
    "papermill": {
     "duration": 9.4e-05,
     "end_time": "2025-07-17T21:29:46.775423",
     "exception": false,
     "start_time": "2025-07-17T21:29:46.775329",
     "status": "completed"
    },
    "tags": []
   },
   "source": [
    "Now, to execute the circuit on one of our servers, one has to create a sampler that will send the circuit to the remote host address. One currently needs a token to do this. Please contact us to get one !"
   ]
  },
  {
   "cell_type": "code",
   "execution_count": 10,
   "id": "d04f76c9",
   "metadata": {
    "execution": {
     "iopub.execute_input": "2025-07-17T21:29:46.776853Z",
     "iopub.status.busy": "2025-07-17T21:29:46.776474Z",
     "iopub.status.idle": "2025-07-17T21:29:46.779466Z",
     "shell.execute_reply": "2025-07-17T21:29:46.778844Z"
    },
    "id": "8214ee49f634",
    "papermill": {
     "duration": 0.005226,
     "end_time": "2025-07-17T21:29:46.780810",
     "exception": false,
     "start_time": "2025-07-17T21:29:46.775584",
     "status": "completed"
    },
    "tags": []
   },
   "outputs": [],
   "source": [
    "# To execute on one of Pasqal's servers, get an access token and uncomment these lines\n",
    "# sampler = cirq_pasqal.PasqalSampler(remote_host='http://34.98.71.118/v0/pasqal',\n",
    "#                                     access_token='')"
   ]
  },
  {
   "cell_type": "markdown",
   "id": "9907da5e",
   "metadata": {
    "id": "70151da8a002",
    "papermill": {
     "duration": 0.000104,
     "end_time": "2025-07-17T21:29:46.781166",
     "exception": false,
     "start_time": "2025-07-17T21:29:46.781062",
     "status": "completed"
    },
    "tags": []
   },
   "source": [
    "Alternatively, small circuits can also be simulated locally using Cirq's `Simulator`, which we will do here. "
   ]
  },
  {
   "cell_type": "code",
   "execution_count": 11,
   "id": "99f51aca",
   "metadata": {
    "execution": {
     "iopub.execute_input": "2025-07-17T21:29:46.782414Z",
     "iopub.status.busy": "2025-07-17T21:29:46.782178Z",
     "iopub.status.idle": "2025-07-17T21:29:46.793858Z",
     "shell.execute_reply": "2025-07-17T21:29:46.793023Z"
    },
    "id": "8918f73e67c1",
    "papermill": {
     "duration": 0.014035,
     "end_time": "2025-07-17T21:29:46.795375",
     "exception": false,
     "start_time": "2025-07-17T21:29:46.781340",
     "status": "completed"
    },
    "tags": []
   },
   "outputs": [],
   "source": [
    "sampler = cirq.Simulator()\n",
    "data_raw = sampler.run(grover_circuit, repetitions=200)"
   ]
  },
  {
   "cell_type": "markdown",
   "id": "2b72c822",
   "metadata": {
    "id": "54df16cee323",
    "papermill": {
     "duration": 0.00012,
     "end_time": "2025-07-17T21:29:46.795902",
     "exception": false,
     "start_time": "2025-07-17T21:29:46.795782",
     "status": "completed"
    },
    "tags": []
   },
   "source": [
    "Next, we can plot the results obtained."
   ]
  },
  {
   "cell_type": "code",
   "execution_count": 12,
   "id": "3c05f461",
   "metadata": {
    "execution": {
     "iopub.execute_input": "2025-07-17T21:29:46.797585Z",
     "iopub.status.busy": "2025-07-17T21:29:46.797027Z",
     "iopub.status.idle": "2025-07-17T21:29:47.079082Z",
     "shell.execute_reply": "2025-07-17T21:29:47.078381Z"
    },
    "id": "ab8f82fc985a",
    "papermill": {
     "duration": 0.28429,
     "end_time": "2025-07-17T21:29:47.080356",
     "exception": false,
     "start_time": "2025-07-17T21:29:46.796066",
     "status": "completed"
    },
    "tags": []
   },
   "outputs": [
    {
     "data": {
      "image/png": "[encoded data removed]",
      "text/plain": [
       "<Figure size 640x480 with 1 Axes>"
      ]
     },
     "metadata": {},
     "output_type": "display_data"
    }
   ],
   "source": [
    "import matplotlib.pyplot as plt\n",
    "\n",
    "# Create dictionary of results\n",
    "data0 = data_raw.data.to_dict()\n",
    "vec = [j for j in range(4)]\n",
    "res = np.zeros(len(vec))\n",
    "for jj in range(200):\n",
    "    number = data0['x'][jj]\n",
    "    res[number] += 1\n",
    "res = res / 200.0\n",
    "\n",
    "# Display plot of states\n",
    "fig = plt.figure()\n",
    "ax = fig.add_axes([0.16, 0.16, 0.78, 0.78])\n",
    "ax.plot(vec, res, 'o')\n",
    "ax.set_xticks(vec)\n",
    "ax.set_xticklabels([r'$|00\\rangle$', r'$|01\\rangle$', r'$|10\\rangle$', r'$|11\\rangle$'])\n",
    "plt.xlabel(r'$j$', fontsize=20)\n",
    "plt.ylabel(r'$p$', fontsize=20)\n",
    "plt.show()"
   ]
  },
  {
   "cell_type": "markdown",
   "id": "15485783",
   "metadata": {
    "id": "2243a99d0e8f",
    "papermill": {
     "duration": 9e-05,
     "end_time": "2025-07-17T21:29:47.080654",
     "exception": false,
     "start_time": "2025-07-17T21:29:47.080564",
     "status": "completed"
    },
    "tags": []
   },
   "source": [
    "In this particular case, it takes a single Grover iteration to find the correct result ($|10\\rangle$) with 100% probability on a perfect device."
   ]
  },
  {
   "cell_type": "markdown",
   "id": "40eecbc4",
   "metadata": {
    "id": "389112dcf80a",
    "papermill": {
     "duration": 6.9e-05,
     "end_time": "2025-07-17T21:29:47.080870",
     "exception": false,
     "start_time": "2025-07-17T21:29:47.080801",
     "status": "completed"
    },
    "tags": []
   },
   "source": [
    "## Incorporate the effect of noise during a classical emulation of the circuit\n",
    "\n",
    "Current NISQ processors are imperfect and prone to errors. We incorporated in Cirq a typical noise model for Pasqal devices, that can be used when one emulates the behavior of the device with a classical computer."
   ]
  },
  {
   "cell_type": "code",
   "execution_count": 13,
   "id": "317bd07e",
   "metadata": {
    "execution": {
     "iopub.execute_input": "2025-07-17T21:29:47.082027Z",
     "iopub.status.busy": "2025-07-17T21:29:47.081784Z",
     "iopub.status.idle": "2025-07-17T21:29:52.873836Z",
     "shell.execute_reply": "2025-07-17T21:29:52.873339Z"
    },
    "id": "675a72331dca",
    "papermill": {
     "duration": 5.79564,
     "end_time": "2025-07-17T21:29:52.876682",
     "exception": false,
     "start_time": "2025-07-17T21:29:47.081042",
     "status": "completed"
    },
    "tags": []
   },
   "outputs": [
    {
     "data": {
      "image/png": "[encoded data removed]",
      "text/plain": [
       "<Figure size 640x480 with 1 Axes>"
      ]
     },
     "metadata": {},
     "output_type": "display_data"
    }
   ],
   "source": [
    "# Use the custom noise model of Pasqal devices\n",
    "noise_model = PasqalNoiseModel(device)\n",
    "grover_circuit = generate_pasqal_grover()\n",
    "grover_circuit = grover_circuit.with_noise(noise_model)\n",
    "grover_circuit.append(cirq.measure(*q_meas, key='x'))\n",
    "\n",
    "# Run a simulation locally locally\n",
    "data_raw = sampler.run(grover_circuit, repetitions=200)\n",
    "\n",
    "# Plot the results\n",
    "data0 = data_raw.data.to_dict()\n",
    "vec = [j for j in range(4)]\n",
    "res = np.zeros(len(vec))\n",
    "for jj in range(200):\n",
    "    number = data0['x'][jj]\n",
    "    res[number] += 1\n",
    "res = res / 200.0\n",
    "\n",
    "fig = plt.figure()\n",
    "ax = fig.add_axes([0.16, 0.16, 0.78, 0.78])\n",
    "ax.plot(vec, res, 'o')\n",
    "ax.set_xticks(vec)\n",
    "ax.set_xticklabels([r'$|00\\rangle$', r'$|01\\rangle$', r'$|10\\rangle$', r'$|11\\rangle$'])\n",
    "plt.xlabel(r'$j$', fontsize=20)\n",
    "plt.ylabel(r'$p$', fontsize=20)\n",
    "plt.show()"
   ]
  },
  {
   "cell_type": "markdown",
   "id": "ff15dcae",
   "metadata": {
    "id": "c2e5c717a4b6",
    "papermill": {
     "duration": 0.000166,
     "end_time": "2025-07-17T21:29:52.877211",
     "exception": false,
     "start_time": "2025-07-17T21:29:52.877045",
     "status": "completed"
    },
    "tags": []
   },
   "source": [
    "One still finds a rather large probability to measure $|10\\rangle$, but we note the appearance of other measurement outcomes, due to the presence of noise."
   ]
  }
 ],
 "metadata": {
  "colab": {
   "collapsed_sections": [],
   "name": "getting_started.ipynb",
   "toc_visible": true
  },
  "kernelspec": {
   "display_name": "Python 3",
   "name": "python3"
  },
  "language_info": {
   "codemirror_mode": {
    "name": "ipython",
    "version": 3
   },
   "file_extension": ".py",
   "mimetype": "text/x-python",
   "name": "python",
   "nbconvert_exporter": "python",
   "pygments_lexer": "ipython3",
   "version": "3.11.9"
  },
  "papermill": {
   "default_parameters": {},
   "duration": 11.219328,
   "end_time": "2025-07-17T21:29:53.597327",
   "environment_variables": {},
   "exception": null,
   "input_path": "/tmp/tmp2qdoqg8v-rewrite.ipynb",
   "output_path": "/home/user/Cirq/out/docs/hardware/pasqal/getting_started.out.ipynb",
   "parameters": {},
   "start_time": "2025-07-17T21:29:42.377999",
   "version": "2.6.0"
  }
 },
 "nbformat": 4,
 "nbformat_minor": 5
}
