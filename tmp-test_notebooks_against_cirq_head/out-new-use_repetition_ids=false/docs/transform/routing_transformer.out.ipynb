{
 "cells": [
  {
   "cell_type": "code",
   "execution_count": 1,
   "id": "dc45c2d8",
   "metadata": {
    "cellView": "form",
    "execution": {
     "iopub.execute_input": "2025-07-17T21:29:43.717302Z",
     "iopub.status.busy": "2025-07-17T21:29:43.716910Z",
     "iopub.status.idle": "2025-07-17T21:29:43.721283Z",
     "shell.execute_reply": "2025-07-17T21:29:43.720589Z"
    },
    "id": "XI1k_z6yvbPq",
    "papermill": {
     "duration": 0.007231,
     "end_time": "2025-07-17T21:29:43.722613",
     "exception": false,
     "start_time": "2025-07-17T21:29:43.715382",
     "status": "completed"
    },
    "tags": []
   },
   "outputs": [],
   "source": [
    "# @title Copyright 2022 The Cirq Developers\n",
    "# Licensed under the Apache License, Version 2.0 (the \"License\");\n",
    "# you may not use this file except in compliance with the License.\n",
    "# You may obtain a copy of the License at\n",
    "#\n",
    "# https://www.apache.org/licenses/LICENSE-2.0\n",
    "#\n",
    "# Unless required by applicable law or agreed to in writing, software\n",
    "# distributed under the License is distributed on an \"AS IS\" BASIS,\n",
    "# WITHOUT WARRANTIES OR CONDITIONS OF ANY KIND, either express or implied.\n",
    "# See the License for the specific language governing permissions and\n",
    "# limitations under the License."
   ]
  },
  {
   "cell_type": "markdown",
   "id": "f458216e",
   "metadata": {
    "id": "ZQlrEZuMwDC2",
    "papermill": {
     "duration": 0.000112,
     "end_time": "2025-07-17T21:29:43.723259",
     "exception": false,
     "start_time": "2025-07-17T21:29:43.723147",
     "status": "completed"
    },
    "tags": []
   },
   "source": [
    "# Qubit Routing"
   ]
  },
  {
   "cell_type": "markdown",
   "id": "e8291345",
   "metadata": {
    "id": "99c8d5767d47",
    "papermill": {
     "duration": 6.7e-05,
     "end_time": "2025-07-17T21:29:43.723475",
     "exception": false,
     "start_time": "2025-07-17T21:29:43.723408",
     "status": "completed"
    },
    "tags": []
   },
   "source": [
    "<table class=\"tfo-notebook-buttons\" align=\"left\">\n",
    "  <td>\n",
    "    <a target=\"_blank\" href=\"https://quantumai.google/cirq/transform/routing_transformer\"><img src=\"https://quantumai.google/site-assets/images/buttons/quantumai_logo_1x.png\" />View on QuantumAI</a>\n",
    "  </td>\n",
    "  <td>\n",
    "    <a target=\"_blank\" href=\"https://colab.research.google.com/github/quantumlib/Cirq/blob/main/docs/transform/routing_transformer.ipynb\"><img src=\"https://quantumai.google/site-assets/images/buttons/colab_logo_1x.png\" />Run in Google Colab</a>\n",
    "  </td>\n",
    "  <td>\n",
    "    <a target=\"_blank\" href=\"https://github.com/quantumlib/Cirq/blob/main/docs/transform/routing_transformer.ipynb\"><img src=\"https://quantumai.google/site-assets/images/buttons/github_logo_1x.png\" />View source on GitHub</a>\n",
    "  </td>\n",
    "  <td>\n",
    "    <a href=\"https://storage.googleapis.com/tensorflow_docs/Cirq/docs/transform/routing_transformer.ipynb\"><img src=\"https://quantumai.google/site-assets/images/buttons/download_icon_1x.png\" />Download notebook</a>\n",
    "  </td>\n",
    "</table>"
   ]
  },
  {
   "cell_type": "markdown",
   "id": "67f6a592",
   "metadata": {
    "id": "LprWZc4awbQ4",
    "papermill": {
     "duration": 6.5e-05,
     "end_time": "2025-07-17T21:29:43.723665",
     "exception": false,
     "start_time": "2025-07-17T21:29:43.723600",
     "status": "completed"
    },
    "tags": []
   },
   "source": [
    "In order to execute a circuit on quantum hardware, the logical qubits of a quantum circuit must be placed onto the physical qubits of the hardware device. Moreover, this placement is often not enough to guarantee that all 2-qubit operations between logical qubits in the ciruit correpond to 2-qubit operations between physical qubits on the device that are adjacent. So in addition to mapping logical qubits to physical qubits, it is often required to insert additional SWAP gates in the circuit to ensure that all 2-qubit operations are executed between physically adjacent qubits."
   ]
  },
  {
   "cell_type": "markdown",
   "id": "677d97ea",
   "metadata": {
    "id": "RrRN9ilV0Ltg",
    "papermill": {
     "duration": 6.5e-05,
     "end_time": "2025-07-17T21:29:43.723857",
     "exception": false,
     "start_time": "2025-07-17T21:29:43.723792",
     "status": "completed"
    },
    "tags": []
   },
   "source": [
    "## Setup\n"
   ]
  },
  {
   "cell_type": "code",
   "execution_count": 2,
   "id": "fb440dd5",
   "metadata": {
    "execution": {
     "iopub.execute_input": "2025-07-17T21:29:43.725267Z",
     "iopub.status.busy": "2025-07-17T21:29:43.724937Z",
     "iopub.status.idle": "2025-07-17T21:29:46.206359Z",
     "shell.execute_reply": "2025-07-17T21:29:46.205691Z"
    },
    "id": "EJcUPXkY0K93",
    "papermill": {
     "duration": 2.483941,
     "end_time": "2025-07-17T21:29:46.207912",
     "exception": false,
     "start_time": "2025-07-17T21:29:43.723971",
     "status": "completed"
    },
    "tags": []
   },
   "outputs": [],
   "source": [
    "try:\n",
    "    import cirq\n",
    "except ImportError:\n",
    "    print(\"installing cirq...\")\n",
    "    !pip install --quiet cirq\n",
    "    import cirq\n",
    "\n",
    "    print(\"installed cirq.\")"
   ]
  },
  {
   "cell_type": "markdown",
   "id": "81c83a0a",
   "metadata": {
    "id": "ot9EMHfg0175",
    "papermill": {
     "duration": 0.000113,
     "end_time": "2025-07-17T21:29:46.208517",
     "exception": false,
     "start_time": "2025-07-17T21:29:46.208404",
     "status": "completed"
    },
    "tags": []
   },
   "source": [
    "## Routing as a `@cirq.transformer`"
   ]
  },
  {
   "cell_type": "markdown",
   "id": "6aeaf04b",
   "metadata": {
    "id": "8sVE5Mxw084B",
    "papermill": {
     "duration": 8.3e-05,
     "end_time": "2025-07-17T21:29:46.208786",
     "exception": false,
     "start_time": "2025-07-17T21:29:46.208703",
     "status": "completed"
    },
    "tags": []
   },
   "source": [
    "Routing in Cirq is implemented as a transformer class `RouteCQC`. An instance of `RouteCQC` is instantiated with a `nx.Graph` device graph. We will refer to this as the *router*. Calling this router on a `cirq.AbstractCircuit` circuit returns a *routed* `cirq.AbstractCircuit` circuit that is made of the device's physical qubits and contains only 2-qubit operations that are between physically adjacent qubits."
   ]
  },
  {
   "cell_type": "markdown",
   "id": "d04c08ae",
   "metadata": {
    "id": "UIEGpuvilO0l",
    "papermill": {
     "duration": 8.1e-05,
     "end_time": "2025-07-17T21:29:46.209082",
     "exception": false,
     "start_time": "2025-07-17T21:29:46.209001",
     "status": "completed"
    },
    "tags": []
   },
   "source": [
    "Before proceeding any further, we give a high-level overview of the algorithm implemented in `RouteCQC`. It is a heuristic that proceeds as follows:\n",
    "\n",
    "* Compute the **timesteps** of the circuit: considering operations in the given circuit from beginning to end, the next timestep is a maximal set of 2-qubit operations that act on disjoint qubits. It is 'maximal' because any 2-qubit gate's qubits in the next timestep must intersect with the qubits that are acted on in the current timestep.\n",
    "* Place the logical qubits in the input circuit onto some input device graph by using an initial mapping strategy.\n",
    "* Insert necessary swaps to ensure all 2-qubit gates are between adjacent qubits on the device graph by traversing the timesteps from left to right and for each timestep:\n",
    "  1. Remove any single qubit gate and executable 2-qubit gate in the current timestep and add it to the output routed circuit.\n",
    "  2. If there aren't any gates left in the current timestep, move on to the next.\n",
    "  3. If there are gates remaining in the current timestep, consider a set of candidate swaps on them and rank them based on a **heuristic cost function**. Pick the swap that minimises the cost and use it to update our logical to physical mapping. Repeat from 1."
   ]
  },
  {
   "cell_type": "markdown",
   "id": "c2e44b3a",
   "metadata": {
    "id": "eG3-uP8PlTdl",
    "papermill": {
     "duration": 7.6e-05,
     "end_time": "2025-07-17T21:29:46.209319",
     "exception": false,
     "start_time": "2025-07-17T21:29:46.209243",
     "status": "completed"
    },
    "tags": []
   },
   "source": [
    "**Note**: All n-qubit operations in the given circuit are assumed to be decomposed into 1/2-qubit operations (our transformer raises an error otherwise)."
   ]
  },
  {
   "cell_type": "markdown",
   "id": "8cb46b38",
   "metadata": {
    "id": "_1ePzhvl3xB_",
    "papermill": {
     "duration": 7.5e-05,
     "end_time": "2025-07-17T21:29:46.209550",
     "exception": false,
     "start_time": "2025-07-17T21:29:46.209475",
     "status": "completed"
    },
    "tags": []
   },
   "source": [
    "### A Simple Example"
   ]
  },
  {
   "cell_type": "code",
   "execution_count": 3,
   "id": "81dc542c",
   "metadata": {
    "execution": {
     "iopub.execute_input": "2025-07-17T21:29:46.211007Z",
     "iopub.status.busy": "2025-07-17T21:29:46.210576Z",
     "iopub.status.idle": "2025-07-17T21:29:46.220989Z",
     "shell.execute_reply": "2025-07-17T21:29:46.220242Z"
    },
    "id": "NafLVgAD34IL",
    "papermill": {
     "duration": 0.051756,
     "end_time": "2025-07-17T21:29:46.261457",
     "exception": false,
     "start_time": "2025-07-17T21:29:46.209701",
     "status": "completed"
    },
    "tags": []
   },
   "outputs": [
    {
     "name": "stdout",
     "output_type": "stream",
     "text": [
      "      ┌──┐\n",
      "0: ────X─────X───@───────X───\n",
      "       │         │       │\n",
      "1: ────┼@────@───X───H───@───\n",
      "       ││    │\n",
      "2: ────@┼────X───────H───X───\n",
      "        │                │\n",
      "3: ─────X────────────────@───\n",
      "      └──┘\n"
     ]
    }
   ],
   "source": [
    "# The circuit to be routed\n",
    "q = cirq.LineQubit.range(4)\n",
    "circuit = cirq.Circuit(\n",
    "    [\n",
    "        cirq.Moment(cirq.CNOT(q[2], q[0]), cirq.CNOT(q[1], q[3])),\n",
    "        cirq.Moment(cirq.X(q[0]), cirq.CNOT(q[1], q[2])),\n",
    "        cirq.Moment(cirq.CNOT(q[0], q[1])),\n",
    "        cirq.Moment(cirq.H.on_each(q[1], q[2])),\n",
    "        cirq.Moment(cirq.CNOT(q[1], q[0]), cirq.CNOT(q[3], q[2])),\n",
    "    ]\n",
    ")\n",
    "print(circuit)"
   ]
  },
  {
   "cell_type": "code",
   "execution_count": 4,
   "id": "992d17d7",
   "metadata": {
    "execution": {
     "iopub.execute_input": "2025-07-17T21:29:46.262731Z",
     "iopub.status.busy": "2025-07-17T21:29:46.262451Z",
     "iopub.status.idle": "2025-07-17T21:29:46.888401Z",
     "shell.execute_reply": "2025-07-17T21:29:46.887508Z"
    },
    "id": "WxHe11Yu9kzb",
    "papermill": {
     "duration": 0.62789,
     "end_time": "2025-07-17T21:29:46.889479",
     "exception": false,
     "start_time": "2025-07-17T21:29:46.261589",
     "status": "completed"
    },
    "tags": []
   },
   "outputs": [
    {
     "name": "stdout",
     "output_type": "stream",
     "text": [
      "                                             (0, 5)───(0, 6)\n",
      "                                             │        │\n",
      "                                             │        │\n",
      "                                    (1, 4)───(1, 5)───(1, 6)───(1, 7)\n",
      "                                    │        │        │        │\n",
      "                                    │        │        │        │\n",
      "                           (2, 3)───(2, 4)───(2, 5)───(2, 6)───(2, 7)───(2, 8)\n",
      "                           │        │        │        │        │        │\n",
      "                           │        │        │        │        │        │\n",
      "                  (3, 2)───(3, 3)───(3, 4)───(3, 5)───(3, 6)───(3, 7)───(3, 8)───(3, 9)\n",
      "                  │        │        │        │        │        │        │        │\n",
      "                  │        │        │        │        │        │        │        │\n",
      "         (4, 1)───(4, 2)───(4, 3)───(4, 4)───(4, 5)───(4, 6)───(4, 7)───(4, 8)───(4, 9)\n",
      "         │        │        │        │        │        │        │        │\n",
      "         │        │        │        │        │        │        │        │\n",
      "(5, 0)───(5, 1)───(5, 2)───(5, 3)───(5, 4)───(5, 5)───(5, 6)───(5, 7)───(5, 8)\n",
      "         │        │        │        │        │        │        │\n",
      "         │        │        │        │        │        │        │\n",
      "         (6, 1)───(6, 2)───(6, 3)───(6, 4)───(6, 5)───(6, 6)───(6, 7)\n",
      "                  │        │        │        │        │\n",
      "                  │        │        │        │        │\n",
      "                  (7, 2)───(7, 3)───(7, 4)───(7, 5)───(7, 6)\n",
      "                           │        │        │\n",
      "                           │        │        │\n",
      "                           (8, 3)───(8, 4)───(8, 5)\n",
      "                                    │\n",
      "                                    │\n",
      "                                    (9, 4)\n"
     ]
    }
   ],
   "source": [
    "# Initialize the router with Sycamore device hardware\n",
    "import cirq_google as cg\n",
    "\n",
    "device = cg.Sycamore\n",
    "device_graph = device.metadata.nx_graph\n",
    "router = cirq.RouteCQC(device_graph)\n",
    "\n",
    "# Let's look at what the device architecture looks like\n",
    "print(device)"
   ]
  },
  {
   "cell_type": "code",
   "execution_count": 5,
   "id": "dd18ba56",
   "metadata": {
    "execution": {
     "iopub.execute_input": "2025-07-17T21:29:46.891777Z",
     "iopub.status.busy": "2025-07-17T21:29:46.890847Z",
     "iopub.status.idle": "2025-07-17T21:29:46.910386Z",
     "shell.execute_reply": "2025-07-17T21:29:46.909444Z"
    },
    "id": "NO1dyRbS9-1x",
    "papermill": {
     "duration": 0.021977,
     "end_time": "2025-07-17T21:29:46.911714",
     "exception": false,
     "start_time": "2025-07-17T21:29:46.889737",
     "status": "completed"
    },
    "tags": []
   },
   "outputs": [
    {
     "name": "stdout",
     "output_type": "stream",
     "text": [
      "           ┌──┐               ┌──┐\n",
      "(1, 5): ────X─────X────────────@─────────X───\n",
      "            │                  │         │\n",
      "(2, 4): ────┼@────@───────×────┼X────────┼───\n",
      "            ││    │       │    ││        │\n",
      "(2, 5): ────@┼────X───H───×────X┼────H───@───\n",
      "             │                  │\n",
      "(3, 4): ─────X──────────────────@────────────\n",
      "           └──┘               └──┘\n"
     ]
    }
   ],
   "source": [
    "routed_circuit = router(circuit)\n",
    "print(routed_circuit)"
   ]
  },
  {
   "cell_type": "code",
   "execution_count": 6,
   "id": "488cec38",
   "metadata": {
    "execution": {
     "iopub.execute_input": "2025-07-17T21:29:46.913088Z",
     "iopub.status.busy": "2025-07-17T21:29:46.912787Z",
     "iopub.status.idle": "2025-07-17T21:29:46.984443Z",
     "shell.execute_reply": "2025-07-17T21:29:46.983593Z"
    },
    "id": "3KXcAFvN-kTV",
    "papermill": {
     "duration": 0.074075,
     "end_time": "2025-07-17T21:29:46.985996",
     "exception": false,
     "start_time": "2025-07-17T21:29:46.911921",
     "status": "completed"
    },
    "tags": []
   },
   "outputs": [],
   "source": [
    "# Compile the gates in routed_circuit to Sycamore gates (this is done because `validate_circuit` checks\n",
    "# that all 2-qubit operations are physically adjacent AND that all gates are part of the device's gateset).\n",
    "routed_circuit = cirq.optimize_for_target_gateset(\n",
    "    routed_circuit, gateset=cg.SycamoreTargetGateset()\n",
    ")\n",
    "# Validate our circuit\n",
    "device.validate_circuit(routed_circuit)"
   ]
  },
  {
   "cell_type": "markdown",
   "id": "5f719c33",
   "metadata": {
    "id": "mVgwDUyT_pli",
    "papermill": {
     "duration": 0.00011,
     "end_time": "2025-07-17T21:29:46.986323",
     "exception": false,
     "start_time": "2025-07-17T21:29:46.986213",
     "status": "completed"
    },
    "tags": []
   },
   "source": [
    "### Optional Arguments"
   ]
  },
  {
   "cell_type": "markdown",
   "id": "48d1dc0c",
   "metadata": {
    "id": "gtSz7AZL4cQP",
    "papermill": {
     "duration": 7.1e-05,
     "end_time": "2025-07-17T21:29:46.986552",
     "exception": false,
     "start_time": "2025-07-17T21:29:46.986481",
     "status": "completed"
    },
    "tags": []
   },
   "source": [
    "The `__call__` method of a router takes several optional arguments:\n",
    "1. `lookahead_radius: int`: a tunable argument that controls a convergence parameter for the heuristic cost function. It corresponds to the maximum number of succeeding timesteps the algorithm will consider for ranking candidate swaps with the cost cost function.\n",
    "2. `tag_inserted_swaps: bool`: whether or not a `cirq.RoutingSwapTag` should be attached to inserted swap operations in order to distinguish inserted SWAP gates by the routing procedure from SWAP gates part of the input circuit.\n",
    "3. `initial_mapper: Optional['cirq.AbstractInitialMapper']`: an initial mapping strategy (placement) of logical qubits in the circuit onto physical qubits on the device. If not provided, defaults to an instance of `cirq.LineInitialMapper`."
   ]
  },
  {
   "cell_type": "markdown",
   "id": "aa6c4b59",
   "metadata": {
    "id": "I6csX1EJmAEU",
    "papermill": {
     "duration": 6.8e-05,
     "end_time": "2025-07-17T21:29:46.986763",
     "exception": false,
     "start_time": "2025-07-17T21:29:46.986695",
     "status": "completed"
    },
    "tags": []
   },
   "source": [
    "Here is an example of routing the same circuit on the same device with non-default optional arguments."
   ]
  },
  {
   "cell_type": "code",
   "execution_count": 7,
   "id": "39b78afc",
   "metadata": {
    "execution": {
     "iopub.execute_input": "2025-07-17T21:29:46.988520Z",
     "iopub.status.busy": "2025-07-17T21:29:46.987924Z",
     "iopub.status.idle": "2025-07-17T21:29:46.993550Z",
     "shell.execute_reply": "2025-07-17T21:29:46.992786Z"
    },
    "id": "DU8lHNiK4eCL",
    "papermill": {
     "duration": 0.00799,
     "end_time": "2025-07-17T21:29:46.994895",
     "exception": false,
     "start_time": "2025-07-17T21:29:46.986905",
     "status": "completed"
    },
    "tags": []
   },
   "outputs": [
    {
     "name": "stdout",
     "output_type": "stream",
     "text": [
      "cirq.HardCodedInitialMapper({cirq.LineQubit(0): cirq.GridQubit(3, 5), cirq.LineQubit(1): cirq.GridQubit(3, 4), cirq.LineQubit(2): cirq.GridQubit(2, 5), cirq.LineQubit(3): cirq.GridQubit(2, 4)})\n"
     ]
    }
   ],
   "source": [
    "# Use a hard-coded initial mapping strategy of logical to physical that places q0, q1, q2, q3 onto\n",
    "# Grid(3, 5), Grid(3, 6), Grid(4, 5), Grid(4, 6), respectively\n",
    "gq = cirq.GridQubit(3, 5)\n",
    "hc_initial_mapper = cirq.HardCodedInitialMapper(\n",
    "    {q[0]: gq, q[1]: gq + (0, -1), q[2]: gq + (-1, 0), q[3]: gq + (-1, -1)}\n",
    ")\n",
    "print(hc_initial_mapper)"
   ]
  },
  {
   "cell_type": "code",
   "execution_count": 8,
   "id": "7bc538f9",
   "metadata": {
    "execution": {
     "iopub.execute_input": "2025-07-17T21:29:46.996476Z",
     "iopub.status.busy": "2025-07-17T21:29:46.996120Z",
     "iopub.status.idle": "2025-07-17T21:29:47.004645Z",
     "shell.execute_reply": "2025-07-17T21:29:47.003474Z"
    },
    "id": "RMGa1h2uoKui",
    "papermill": {
     "duration": 0.012715,
     "end_time": "2025-07-17T21:29:47.007968",
     "exception": false,
     "start_time": "2025-07-17T21:29:46.995253",
     "status": "completed"
    },
    "tags": []
   },
   "outputs": [
    {
     "name": "stdout",
     "output_type": "stream",
     "text": [
      "           ┌──┐\n",
      "(2, 4): ─────X─────────────────────────@───────────\n",
      "             │                         │\n",
      "(2, 5): ────@┼─────────────────X───H───X───────────\n",
      "            ││                 │\n",
      "(3, 4): ────┼@────────×[<r>]───┼───@───────────X───\n",
      "            │         │        │   │           │\n",
      "(3, 5): ────X─────X───×────────@───X───────H───@───\n",
      "           └──┘\n"
     ]
    }
   ],
   "source": [
    "routed_circuit = router(\n",
    "    circuit, lookahead_radius=5, tag_inserted_swaps=True, initial_mapper=hc_initial_mapper\n",
    ")\n",
    "print(routed_circuit)"
   ]
  },
  {
   "cell_type": "markdown",
   "id": "6dd02f05",
   "metadata": {
    "id": "bbfue03H_2Lc",
    "papermill": {
     "duration": 0.000262,
     "end_time": "2025-07-17T21:29:47.008636",
     "exception": false,
     "start_time": "2025-07-17T21:29:47.008374",
     "status": "completed"
    },
    "tags": []
   },
   "source": [
    "### Unitary Equivalence"
   ]
  },
  {
   "cell_type": "markdown",
   "id": "492e0d6c",
   "metadata": {
    "id": "l1RLuUE02-Qd",
    "papermill": {
     "duration": 0.000231,
     "end_time": "2025-07-17T21:29:47.009309",
     "exception": false,
     "start_time": "2025-07-17T21:29:47.009078",
     "status": "completed"
    },
    "tags": []
   },
   "source": [
    "It is often the case that the routing process will return a routed circuit that is unitarily equivalent to the input circuit but with the order of the qubits permuted. This is handled by calling the method of the router `route_circuit` with the input ciruit as an argument instead of calling the router. \n",
    "\n",
    "In addition to returning the routed circuit, `route_circuit` also returns the initial mapping of logical to physical qubits and the permutation of qubits caused by insertion of SWAP gates. For example, one way to recover the input circuit's unitary is to permute the routed circuit's qubits as in the example below:"
   ]
  },
  {
   "cell_type": "code",
   "execution_count": 9,
   "id": "0b8d4581",
   "metadata": {
    "execution": {
     "iopub.execute_input": "2025-07-17T21:29:47.011680Z",
     "iopub.status.busy": "2025-07-17T21:29:47.011202Z",
     "iopub.status.idle": "2025-07-17T21:29:47.024471Z",
     "shell.execute_reply": "2025-07-17T21:29:47.023873Z"
    },
    "id": "R9ikw2Jz3HND",
    "papermill": {
     "duration": 0.017316,
     "end_time": "2025-07-17T21:29:47.027063",
     "exception": false,
     "start_time": "2025-07-17T21:29:47.009747",
     "status": "completed"
    },
    "tags": []
   },
   "outputs": [
    {
     "name": "stdout",
     "output_type": "stream",
     "text": [
      "      ┌──┐\n",
      "0: ────X─────X───@───────X───\n",
      "       │         │       │\n",
      "1: ────┼@────@───X───H───@───\n",
      "       ││    │\n",
      "2: ────@┼────X───────H───X───\n",
      "        │                │\n",
      "3: ─────X────────────────@───\n",
      "      └──┘\n",
      "           ┌──┐\n",
      "(2, 4): ─────X────────────────────@───────────\n",
      "             │                    │\n",
      "(2, 5): ────@┼────────────X───H───X───────────\n",
      "            ││            │\n",
      "(3, 4): ────┼@────────×───┼───@───────────X───\n",
      "            │         │   │   │           │\n",
      "(3, 5): ────X─────X───×───@───X───────H───@───\n",
      "           └──┘\n"
     ]
    }
   ],
   "source": [
    "# Example with appending a QubitPermutationGate to `routed_circuit` and permuting initial order of qubits.\n",
    "routed_circuit, initial_mapping, swap_mapping = router.route_circuit(\n",
    "    circuit, initial_mapper=hc_initial_mapper\n",
    ")\n",
    "print(circuit)\n",
    "print(routed_circuit)\n",
    "\n",
    "# The following line that asserts `circuit` and `routed_circuit` have the same unitary will raise an error if uncommented.\n",
    "# cirq.testing.assert_allclose_up_to_global_phase(circuit.unitary(), routed_circuit.unitary(), atol=1e-8)"
   ]
  },
  {
   "cell_type": "markdown",
   "id": "c48af5c1",
   "metadata": {
    "id": "RJLcsOr3sw0c",
    "papermill": {
     "duration": 0.000189,
     "end_time": "2025-07-17T21:29:47.027637",
     "exception": false,
     "start_time": "2025-07-17T21:29:47.027448",
     "status": "completed"
    },
    "tags": []
   },
   "source": [
    "Below we show one way of reordering the qubits in `routed_circuit` using `initial_mapping` and `swap_map` to yield the same unitary as the original input circuit."
   ]
  },
  {
   "cell_type": "code",
   "execution_count": 10,
   "id": "31e11f02",
   "metadata": {
    "execution": {
     "iopub.execute_input": "2025-07-17T21:29:47.029672Z",
     "iopub.status.busy": "2025-07-17T21:29:47.029155Z",
     "iopub.status.idle": "2025-07-17T21:29:47.033737Z",
     "shell.execute_reply": "2025-07-17T21:29:47.033061Z"
    },
    "id": "pIpTv5LXq_9m",
    "papermill": {
     "duration": 0.007994,
     "end_time": "2025-07-17T21:29:47.035945",
     "exception": false,
     "start_time": "2025-07-17T21:29:47.027951",
     "status": "completed"
    },
    "tags": []
   },
   "outputs": [],
   "source": [
    "# Add a permutation gate that undoes the action of inserted SWAP gates\n",
    "initial_qubits, sorted_qubits = zip(*sorted(swap_mapping.items(), key=lambda x: x[1]))\n",
    "inverse_swap_permutation = [sorted_qubits.index(q) for q in initial_qubits]\n",
    "routed_circuit.append(cirq.QubitPermutationGate(list(inverse_swap_permutation)).on(*sorted_qubits))"
   ]
  },
  {
   "cell_type": "code",
   "execution_count": 11,
   "id": "16c391d7",
   "metadata": {
    "execution": {
     "iopub.execute_input": "2025-07-17T21:29:47.038201Z",
     "iopub.status.busy": "2025-07-17T21:29:47.037656Z",
     "iopub.status.idle": "2025-07-17T21:29:47.041319Z",
     "shell.execute_reply": "2025-07-17T21:29:47.040751Z"
    },
    "id": "HHRd-CmqsiQm",
    "papermill": {
     "duration": 0.007044,
     "end_time": "2025-07-17T21:29:47.043391",
     "exception": false,
     "start_time": "2025-07-17T21:29:47.036347",
     "status": "completed"
    },
    "tags": []
   },
   "outputs": [],
   "source": [
    "# Reorder to initial physical qubits in `routed_circuit` based on their ordering in `circuit`\n",
    "_, order = zip(*sorted(list(initial_mapping.items()), key=lambda x: x[0]))"
   ]
  },
  {
   "cell_type": "code",
   "execution_count": 12,
   "id": "5357dbf3",
   "metadata": {
    "execution": {
     "iopub.execute_input": "2025-07-17T21:29:47.045520Z",
     "iopub.status.busy": "2025-07-17T21:29:47.044990Z",
     "iopub.status.idle": "2025-07-17T21:29:47.060199Z",
     "shell.execute_reply": "2025-07-17T21:29:47.059445Z"
    },
    "id": "m_AyaXH8snjG",
    "papermill": {
     "duration": 0.018915,
     "end_time": "2025-07-17T21:29:47.062690",
     "exception": false,
     "start_time": "2025-07-17T21:29:47.043775",
     "status": "completed"
    },
    "tags": []
   },
   "outputs": [
    {
     "name": "stdout",
     "output_type": "stream",
     "text": [
      "      ┌──┐\n",
      "0: ────X─────X───@───────X───\n",
      "       │         │       │\n",
      "1: ────┼@────@───X───H───@───\n",
      "       ││    │\n",
      "2: ────@┼────X───────H───X───\n",
      "        │                │\n",
      "3: ─────X────────────────@───\n",
      "      └──┘\n",
      "           ┌──┐\n",
      "(2, 4): ─────X────────────────────@───────────[0>0]───\n",
      "             │                    │           │\n",
      "(2, 5): ────@┼────────────X───H───X───────────[1>1]───\n",
      "            ││            │                   │\n",
      "(3, 4): ────┼@────────×───┼───@───────────X───[2>3]───\n",
      "            │         │   │   │           │   │\n",
      "(3, 5): ────X─────X───×───@───X───────H───@───[3>2]───\n",
      "           └──┘\n"
     ]
    }
   ],
   "source": [
    "print(circuit)\n",
    "print(routed_circuit)\n",
    "\n",
    "# This will not raise an errors now\n",
    "cirq.testing.assert_allclose_up_to_global_phase(\n",
    "    circuit.unitary(), routed_circuit.unitary(qubit_order=order), atol=1e-8\n",
    ")"
   ]
  },
  {
   "cell_type": "markdown",
   "id": "e5dc6196",
   "metadata": {
    "id": "RccNfl947CyV",
    "papermill": {
     "duration": 0.000198,
     "end_time": "2025-07-17T21:29:47.063321",
     "exception": false,
     "start_time": "2025-07-17T21:29:47.063123",
     "status": "completed"
    },
    "tags": []
   },
   "source": [
    "**Note**: the decomposition of the `SwapPermutationGate` is a series of SWAP gates that may be applied on qubits that are not physically adjacent. \n",
    "\n",
    "In practice, the user would seldom need to undo the permutation due to inserted SWAP gates as they are often just doing some measurement at the end. Instead, this can be done correctly by just keeping track of the qubit with terminal measurement gate using *measurement keys* (which are unaffected by routing) or by looking at `initial_mapping` and `swap_mapping` to manually trace the permutation of the qubit in question."
   ]
  },
  {
   "cell_type": "markdown",
   "id": "98deddc0",
   "metadata": {
    "id": "DNmE3napAXzg",
    "papermill": {
     "duration": 0.00017,
     "end_time": "2025-07-17T21:29:47.063803",
     "exception": false,
     "start_time": "2025-07-17T21:29:47.063633",
     "status": "completed"
    },
    "tags": []
   },
   "source": [
    "## Extending the Routing API"
   ]
  },
  {
   "cell_type": "markdown",
   "id": "88a17490",
   "metadata": {
    "id": "mvLpskslAdEa",
    "papermill": {
     "duration": 0.000176,
     "end_time": "2025-07-17T21:29:47.064305",
     "exception": false,
     "start_time": "2025-07-17T21:29:47.064129",
     "status": "completed"
    },
    "tags": []
   },
   "source": [
    "### By Overriding the Heuristic Cost Function"
   ]
  },
  {
   "cell_type": "markdown",
   "id": "8b51f55a",
   "metadata": {
    "id": "tV6Ms1CVtpJv",
    "papermill": {
     "duration": 0.000167,
     "end_time": "2025-07-17T21:29:47.064820",
     "exception": false,
     "start_time": "2025-07-17T21:29:47.064653",
     "status": "completed"
    },
    "tags": []
   },
   "source": [
    "A user may decide that the existing cost function in `RouteCQC` can be improved or they may have a cost function that performs better in particular cases (injecting noise awareness, working devices with fixed topologies, etc.) We provide an easy to override the existing cost function by means of class extension. For example,"
   ]
  },
  {
   "cell_type": "code",
   "execution_count": 13,
   "id": "dcbf77bc",
   "metadata": {
    "execution": {
     "iopub.execute_input": "2025-07-17T21:29:47.067046Z",
     "iopub.status.busy": "2025-07-17T21:29:47.066512Z",
     "iopub.status.idle": "2025-07-17T21:29:47.072849Z",
     "shell.execute_reply": "2025-07-17T21:29:47.072123Z"
    },
    "id": "yqWstLnSuSw6",
    "papermill": {
     "duration": 0.008965,
     "end_time": "2025-07-17T21:29:47.074157",
     "exception": false,
     "start_time": "2025-07-17T21:29:47.065192",
     "status": "completed"
    },
    "tags": []
   },
   "outputs": [],
   "source": [
    "from typing import Sequence, Any\n",
    "\n",
    "QidIntPair = tuple[int, int]\n",
    "\n",
    "\n",
    "class RouteCQCSimpleCostFunction(cirq.RouteCQC):\n",
    "    @classmethod\n",
    "    def _cost(\n",
    "        cls,\n",
    "        mm: cirq.MappingManager,\n",
    "        swaps: tuple[QidIntPair, ...],\n",
    "        two_qubit_ops: Sequence[QidIntPair],\n",
    "    ) -> Any:\n",
    "        \"\"\"Computes the # of 2-qubit gates executable after applying SWAPs.\"\"\"\n",
    "        for swap in swaps:\n",
    "            mm.apply_swap(*swap)\n",
    "        ret = sum(1 for op_ints in two_qubit_ops if mm.is_adjacent(*op_ints))\n",
    "        for swap in swaps:\n",
    "            mm.apply_swap(*swap)\n",
    "        return ret"
   ]
  },
  {
   "cell_type": "code",
   "execution_count": 14,
   "id": "0d421c63",
   "metadata": {
    "execution": {
     "iopub.execute_input": "2025-07-17T21:29:47.075600Z",
     "iopub.status.busy": "2025-07-17T21:29:47.075258Z",
     "iopub.status.idle": "2025-07-17T21:29:47.100616Z",
     "shell.execute_reply": "2025-07-17T21:29:47.099886Z"
    },
    "id": "eea4dc233a27",
    "papermill": {
     "duration": 0.027523,
     "end_time": "2025-07-17T21:29:47.101893",
     "exception": false,
     "start_time": "2025-07-17T21:29:47.074370",
     "status": "completed"
    },
    "tags": []
   },
   "outputs": [
    {
     "name": "stdout",
     "output_type": "stream",
     "text": [
      "      ┌──┐\n",
      "0: ────X─────X───@───────X───\n",
      "       │         │       │\n",
      "1: ────┼@────@───X───H───@───\n",
      "       ││    │\n",
      "2: ────@┼────X───────H───X───\n",
      "        │                │\n",
      "3: ─────X────────────────@───\n",
      "      └──┘\n",
      "           ┌──┐       ┌──┐\n",
      "(1, 5): ────X─────X──────────────×───────────────────\n",
      "            │                    │\n",
      "(2, 4): ────┼@────@─────×────@───┼───×───@───────X───\n",
      "            ││    │     │    │   │   │   │       │\n",
      "(2, 5): ────@┼────X────H┼────X───×───×───┼───────┼───\n",
      "             │          │                │       │\n",
      "(3, 4): ─────X──────────×────────────────X───H───@───\n",
      "           └──┘       └──┘\n"
     ]
    }
   ],
   "source": [
    "new_router = RouteCQCSimpleCostFunction(device_graph)\n",
    "routed_circuit = new_router(circuit)\n",
    "print(circuit)\n",
    "print(routed_circuit)"
   ]
  },
  {
   "cell_type": "markdown",
   "id": "3c335223",
   "metadata": {
    "id": "l-MenrPoAgjO",
    "papermill": {
     "duration": 0.000103,
     "end_time": "2025-07-17T21:29:47.102434",
     "exception": false,
     "start_time": "2025-07-17T21:29:47.102331",
     "status": "completed"
    },
    "tags": []
   },
   "source": [
    "### By Defining a new Initial Mapping Strategy"
   ]
  },
  {
   "cell_type": "markdown",
   "id": "d750526f",
   "metadata": {
    "id": "mpzD3iFlwSd4",
    "papermill": {
     "duration": 7.4e-05,
     "end_time": "2025-07-17T21:29:47.102671",
     "exception": false,
     "start_time": "2025-07-17T21:29:47.102597",
     "status": "completed"
    },
    "tags": []
   },
   "source": [
    "Similarly, any concrete class that implements the interface `cirq.AbstractInitialMapper` can be used as an optional argument to the `__call__` or `route_circuit` method in `RouteCQC`. \n",
    "\n",
    "The use cases for this are also similar to overriding the cost function. For example, placing logical qubits on a subset of the physical qubits that are well calibrated or taking advantage of certain device topologies to come up with a initial mapping strategy that yields a more highly connected image under the initial mapping."
   ]
  }
 ],
 "metadata": {
  "colab": {
   "collapsed_sections": [],
   "name": "routing_transformer.ipynb",
   "toc_visible": true
  },
  "kernelspec": {
   "display_name": "Python 3",
   "name": "python3"
  },
  "language_info": {
   "codemirror_mode": {
    "name": "ipython",
    "version": 3
   },
   "file_extension": ".py",
   "mimetype": "text/x-python",
   "name": "python",
   "nbconvert_exporter": "python",
   "pygments_lexer": "ipython3",
   "version": "3.11.9"
  },
  "papermill": {
   "default_parameters": {},
   "duration": 5.723834,
   "end_time": "2025-07-17T21:29:47.919813",
   "environment_variables": {},
   "exception": null,
   "input_path": "/tmp/tmp11qvlqor-rewrite.ipynb",
   "output_path": "/home/user/Cirq/out/docs/transform/routing_transformer.out.ipynb",
   "parameters": {},
   "start_time": "2025-07-17T21:29:42.195979",
   "version": "2.6.0"
  }
 },
 "nbformat": 4,
 "nbformat_minor": 5
}
