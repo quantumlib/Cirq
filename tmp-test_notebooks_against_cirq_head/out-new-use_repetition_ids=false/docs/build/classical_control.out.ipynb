{
 "cells": [
  {
   "cell_type": "code",
   "execution_count": 1,
   "id": "e3d4ddc2",
   "metadata": {
    "execution": {
     "iopub.execute_input": "2025-07-17T22:31:43.270703Z",
     "iopub.status.busy": "2025-07-17T22:31:43.270407Z",
     "iopub.status.idle": "2025-07-17T22:31:43.274245Z",
     "shell.execute_reply": "2025-07-17T22:31:43.273633Z"
    },
    "id": "b952a1c0faad",
    "papermill": {
     "duration": 0.006067,
     "end_time": "2025-07-17T22:31:43.275271",
     "exception": false,
     "start_time": "2025-07-17T22:31:43.269204",
     "status": "completed"
    },
    "tags": []
   },
   "outputs": [],
   "source": [
    "# @title Copyright 2022 The Cirq Developers\n",
    "# Licensed under the Apache License, Version 2.0 (the \"License\");\n",
    "# you may not use this file except in compliance with the License.\n",
    "# You may obtain a copy of the License at\n",
    "#\n",
    "# https://www.apache.org/licenses/LICENSE-2.0\n",
    "#\n",
    "# Unless required by applicable law or agreed to in writing, software\n",
    "# distributed under the License is distributed on an \"AS IS\" BASIS,\n",
    "# WITHOUT WARRANTIES OR CONDITIONS OF ANY KIND, either express or implied.\n",
    "# See the License for the specific language governing permissions and\n",
    "# limitations under the License."
   ]
  },
  {
   "cell_type": "markdown",
   "id": "67868ea8",
   "metadata": {
    "id": "3556e78efd03",
    "papermill": {
     "duration": 7.1e-05,
     "end_time": "2025-07-17T22:31:43.275692",
     "exception": false,
     "start_time": "2025-07-17T22:31:43.275621",
     "status": "completed"
    },
    "tags": []
   },
   "source": [
    "# Classical control"
   ]
  },
  {
   "cell_type": "markdown",
   "id": "1846add9",
   "metadata": {
    "id": "925dbb45c75e",
    "papermill": {
     "duration": 4.6e-05,
     "end_time": "2025-07-17T22:31:43.275838",
     "exception": false,
     "start_time": "2025-07-17T22:31:43.275792",
     "status": "completed"
    },
    "tags": []
   },
   "source": [
    "<table class=\"tfo-notebook-buttons\" align=\"left\">\n",
    "  <td>\n",
    "    <a target=\"_blank\" href=\"https://quantumai.google/cirq/build/classical_control\"><img src=\"https://quantumai.google/site-assets/images/buttons/quantumai_logo_1x.png\" />View on QuantumAI</a>\n",
    "  </td>\n",
    "  <td>\n",
    "    <a target=\"_blank\" href=\"https://colab.research.google.com/github/quantumlib/Cirq/blob/main/docs/build/classical_control.ipynb\"><img src=\"https://quantumai.google/site-assets/images/buttons/colab_logo_1x.png\" />Run in Google Colab</a>\n",
    "  </td>\n",
    "  <td>\n",
    "    <a target=\"_blank\" href=\"https://github.com/quantumlib/Cirq/blob/main/docs/build/classical_control.ipynb\"><img src=\"https://quantumai.google/site-assets/images/buttons/github_logo_1x.png\" />View source on GitHub</a>\n",
    "  </td>\n",
    "  <td>\n",
    "    <a href=\"https://storage.googleapis.com/tensorflow_docs/Cirq/docs/build/classical_control.ipynb\"><img src=\"https://quantumai.google/site-assets/images/buttons/download_icon_1x.png\" />Download notebook</a>\n",
    "  </td>\n",
    "</table>"
   ]
  },
  {
   "cell_type": "markdown",
   "id": "541a163e",
   "metadata": {
    "id": "bb398b9478d3",
    "papermill": {
     "duration": 4.2e-05,
     "end_time": "2025-07-17T22:31:43.275958",
     "exception": false,
     "start_time": "2025-07-17T22:31:43.275916",
     "status": "completed"
    },
    "tags": []
   },
   "source": [
    "## Setup"
   ]
  },
  {
   "cell_type": "code",
   "execution_count": 2,
   "id": "6ccfd2fe",
   "metadata": {
    "execution": {
     "iopub.execute_input": "2025-07-17T22:31:43.277035Z",
     "iopub.status.busy": "2025-07-17T22:31:43.276836Z",
     "iopub.status.idle": "2025-07-17T22:31:45.163048Z",
     "shell.execute_reply": "2025-07-17T22:31:45.162391Z"
    },
    "id": "d4c447ddd24e",
    "papermill": {
     "duration": 1.890564,
     "end_time": "2025-07-17T22:31:45.166601",
     "exception": false,
     "start_time": "2025-07-17T22:31:43.276037",
     "status": "completed"
    },
    "tags": []
   },
   "outputs": [],
   "source": [
    "try:\n",
    "    import cirq\n",
    "except ImportError:\n",
    "    print(\"installing cirq...\")\n",
    "    !pip install --quiet cirq\n",
    "    import cirq\n",
    "\n",
    "    print(\"installed cirq.\")"
   ]
  },
  {
   "cell_type": "markdown",
   "id": "c08dcf82",
   "metadata": {
    "id": "8ccb64c25e3a",
    "papermill": {
     "duration": 0.000295,
     "end_time": "2025-07-17T22:31:45.167889",
     "exception": false,
     "start_time": "2025-07-17T22:31:45.167594",
     "status": "completed"
    },
    "tags": []
   },
   "source": [
    "While some quantum algorithms can be defined entirely at the quantum level, there are many others (notably including [teleportation](../experiments/textbook_algorithms.ipynb#quantum_teleportation) and [error correction](https://www.nature.com/articles/s41586-021-03588-y)) which rely on classical measurement results from one part of the algorithm to control operations in a later section.\n",
    "\n",
    "To represent this, Cirq provides the `ClassicallyControlledOperation`. Following the pattern of controlled operations, a classically-controlled version of any `Operation` can be constructed by calling its `with_classical_controls` method with the control condition(s)."
   ]
  },
  {
   "cell_type": "markdown",
   "id": "32165090",
   "metadata": {
    "id": "b3ed39be4c06",
    "papermill": {
     "duration": 0.000225,
     "end_time": "2025-07-17T22:31:45.168623",
     "exception": false,
     "start_time": "2025-07-17T22:31:45.168398",
     "status": "completed"
    },
    "tags": []
   },
   "source": [
    "## Basic conditions\n",
    "\n",
    "In the example below, `H` will only be applied to `q1` if the previous measurement \"a\" returns a 1. More generally, providing some string `\"cond\"` to `with_classical_controls` creates a `cirq.ClassicallyControlledOperation` with a `cirq.KeyCondition` whose key is `\"cond\"`. A `KeyCondition` will only trigger, and apply the operation it controls, if a preceding measurement with the same key measured **one or more** qubits in the $|1\\rangle$ state."
   ]
  },
  {
   "cell_type": "code",
   "execution_count": 3,
   "id": "a3f935c2",
   "metadata": {
    "execution": {
     "iopub.execute_input": "2025-07-17T22:31:45.170979Z",
     "iopub.status.busy": "2025-07-17T22:31:45.170524Z",
     "iopub.status.idle": "2025-07-17T22:31:45.481894Z",
     "shell.execute_reply": "2025-07-17T22:31:45.481292Z"
    },
    "id": "df3dd6e3b308",
    "papermill": {
     "duration": 0.396731,
     "end_time": "2025-07-17T22:31:45.565864",
     "exception": false,
     "start_time": "2025-07-17T22:31:45.169133",
     "status": "completed"
    },
    "tags": []
   },
   "outputs": [
    {
     "name": "stdout",
     "output_type": "stream",
     "text": [
      "0: ───H───M────────────────\n",
      "          ║\n",
      "1: ───────╫───H───M('b')───\n",
      "          ║   ║\n",
      "a: ═══════@═══^════════════\n",
      "Counter({0: 754, 1: 246})\n"
     ]
    }
   ],
   "source": [
    "q0, q1 = cirq.LineQubit.range(2)\n",
    "circuit = cirq.Circuit(\n",
    "    cirq.H(q0),\n",
    "    cirq.measure(q0, key='a'),\n",
    "    cirq.H(q1).with_classical_controls('a'),\n",
    "    cirq.measure(q1, key='b'),\n",
    ")\n",
    "print(circuit)\n",
    "print(cirq.Simulator().run(circuit, repetitions=1000).histogram(key='b'))"
   ]
  },
  {
   "cell_type": "markdown",
   "id": "d20183e7",
   "metadata": {
    "id": "4e416431b695",
    "papermill": {
     "duration": 0.000104,
     "end_time": "2025-07-17T22:31:45.566350",
     "exception": false,
     "start_time": "2025-07-17T22:31:45.566246",
     "status": "completed"
    },
    "tags": []
   },
   "source": [
    "The results from running the circuit on the simulator match expectation. `H` applied to qubit `q0` means that qubit will be $|1\\rangle$ half of the time on average. When `H` is then applied to qubit `q1`, (half of the time), `q1` will measure $|1\\rangle$ a quarter of the time and $|0\\rangle$ three-quarters of the time.\n",
    "\n",
    "Using just these conditions, we can construct the [quantum teleportation](../experiments/textbook_algorithms.ipynb#quantum_teleportation) circuit:"
   ]
  },
  {
   "cell_type": "code",
   "execution_count": 4,
   "id": "183ba748",
   "metadata": {
    "execution": {
     "iopub.execute_input": "2025-07-17T22:31:45.568049Z",
     "iopub.status.busy": "2025-07-17T22:31:45.567696Z",
     "iopub.status.idle": "2025-07-17T22:31:45.579157Z",
     "shell.execute_reply": "2025-07-17T22:31:45.578545Z"
    },
    "id": "01ccc99c6a3c",
    "papermill": {
     "duration": 0.014,
     "end_time": "2025-07-17T22:31:45.580483",
     "exception": false,
     "start_time": "2025-07-17T22:31:45.566483",
     "status": "completed"
    },
    "tags": []
   },
   "outputs": [
    {
     "name": "stdout",
     "output_type": "stream",
     "text": [
      "0: ───H───M────────────────\n",
      "          ║\n",
      "1: ───────╫───H───M('b')───\n",
      "          ║   ║\n",
      "a: ═══════@═══^════════════\n",
      "Message Qubit State: [ 0.14283165 -0.91899776 -0.36748084]\n",
      "Teleported Bob's Qubit state: [ 0.14283168 -0.9189978  -0.36748096]\n"
     ]
    }
   ],
   "source": [
    "# Teleports `_message` from Alice to Bob.\n",
    "alice = cirq.NamedQubit('alice')\n",
    "bob = cirq.NamedQubit('bob')\n",
    "message = cirq.NamedQubit('_message')\n",
    "\n",
    "message_circuit = cirq.Circuit(\n",
    "    # Create the message.\n",
    "    cirq.X(message) ** 0.371,\n",
    "    cirq.Y(message) ** 0.882,\n",
    ")\n",
    "\n",
    "teleport_circuit = cirq.Circuit(\n",
    "    # Create Bell state to be shared between Alice and Bob.\n",
    "    cirq.H(alice),\n",
    "    cirq.CNOT(alice, bob),\n",
    "    # Prepare message circuit\n",
    "    message_circuit,\n",
    "    # Bell measurement of the message and Alice's entangled qubit.\n",
    "    cirq.CNOT(message, alice),\n",
    "    cirq.H(message),\n",
    "    cirq.measure(message, key='M'),\n",
    "    cirq.measure(alice, key='A'),\n",
    "    # Uses the two classical bits from the Bell measurement to recover the\n",
    "    # original quantum message on Bob's entangled qubit.\n",
    "    cirq.X(bob).with_classical_controls('A'),\n",
    "    cirq.Z(bob).with_classical_controls('M'),\n",
    ")\n",
    "print(circuit)\n",
    "\n",
    "# Simulate the message and teleport circuits for Bloch vectors to compare\n",
    "#     the state of the teleported qubit before and after teleportation.\n",
    "sim = cirq.Simulator()\n",
    "message_bloch_vector = cirq.bloch_vector_from_state_vector(\n",
    "    sim.simulate(message_circuit).final_state_vector, index=0\n",
    ")\n",
    "teleport_bloch_vector = cirq.bloch_vector_from_state_vector(\n",
    "    sim.simulate(teleport_circuit).final_state_vector, index=2\n",
    ")\n",
    "print(f\"Message Qubit State: {message_bloch_vector}\")\n",
    "print(f\"Teleported Bob's Qubit state: {teleport_bloch_vector}\")"
   ]
  },
  {
   "cell_type": "markdown",
   "id": "b77f24c4",
   "metadata": {
    "id": "ca879df5fb2d",
    "papermill": {
     "duration": 9.7e-05,
     "end_time": "2025-07-17T22:31:45.580780",
     "exception": false,
     "start_time": "2025-07-17T22:31:45.580683",
     "status": "completed"
    },
    "tags": []
   },
   "source": [
    "This example separately simulated the message qubit after its construction, and Bob's qubit after teleportation of the message. The fact that the Bloch vectors of each respective qubit are the same indicate that the circuit successfully teleported the message qubit's state onto Bob's qubit. "
   ]
  },
  {
   "cell_type": "markdown",
   "id": "c5b87f44",
   "metadata": {
    "id": "a06629e49105",
    "papermill": {
     "duration": 0.000121,
     "end_time": "2025-07-17T22:31:45.581063",
     "exception": false,
     "start_time": "2025-07-17T22:31:45.580942",
     "status": "completed"
    },
    "tags": []
   },
   "source": [
    "## Multi-Qubit Measurements and Bit Masks\n",
    "\n",
    "The `cirq.KeyedCondition` class limited in that it evaluate a simple function `is the value != 0?`. When doing multi-qubit measurement we often need to do more complex function like applying a bitmask before comparison. The class [cirq.BitMaskKeyCondition](https://github.com/quantumlib/Cirq/blob/ebef9bff978f28b032f54eb5f0a2e1cb9ec6464c/cirq-core/cirq/value/condition.py#L140) provides this functionality allowing us to do:\n",
    "- `BitMaskKeyCondition('a')` $\\rightarrow a \\neq 0$\n",
    "- `BitMaskKeyCondition('a', bitmask=13)` $\\rightarrow  (a \\& 13) \\neq 0$\n",
    "- `BitMaskKeyCondition('a', bitmask=13, target_value=9)` $\\rightarrow  (a \\& 13) \\neq 9$\n",
    "- `BitMaskKeyCondition('a', bitmask=13, target_value=9, equal_target=True)` $\\rightarrow  (a \\& 13) = 9$\n",
    "- `BitMaskKeyCondition.create_equal_mask('a', 13)` $\\rightarrow  (a \\& 13) = 13$\n",
    "- `BitMaskKeyCondition.create_not_equal_mask('a', 13)` $\\rightarrow  (a \\& 13) \\neq 13$\n",
    "\n",
    "In this example, `X` will be applied to $q_5$ when the bits corresponding to $q_1$, $q_2$, and $q_4$ are $1$ regardless of the values of other bits."
   ]
  },
  {
   "cell_type": "code",
   "execution_count": 5,
   "id": "1d3f08ce",
   "metadata": {
    "execution": {
     "iopub.execute_input": "2025-07-17T22:31:45.583152Z",
     "iopub.status.busy": "2025-07-17T22:31:45.582772Z",
     "iopub.status.idle": "2025-07-17T22:31:45.624644Z",
     "shell.execute_reply": "2025-07-17T22:31:45.624056Z"
    },
    "id": "fcdccc377484",
    "papermill": {
     "duration": 0.04524,
     "end_time": "2025-07-17T22:31:45.626677",
     "exception": false,
     "start_time": "2025-07-17T22:31:45.581437",
     "status": "completed"
    },
    "tags": []
   },
   "outputs": [
    {
     "name": "stdout",
     "output_type": "stream",
     "text": [
      "    q_{0..4}  q_5\n",
      "0         20    0\n",
      "1         22    0\n",
      "2         29    1\n",
      "3          5    0\n",
      "4         20    0\n",
      "5         27    0\n",
      "6         12    0\n",
      "7          3    0\n",
      "8         16    0\n",
      "9         11    0\n",
      "10        28    0\n",
      "11         3    0\n",
      "12         1    0\n",
      "13        21    0\n",
      "14         8    0\n",
      "15        16    0\n",
      "16        27    0\n",
      "17        20    0\n",
      "18        12    0\n",
      "19        27    0\n",
      "20         2    0\n",
      "21        25    0\n",
      "22        25    0\n",
      "23         8    0\n",
      "24         3    0\n",
      "25        31    1\n",
      "26        17    0\n",
      "27        12    0\n",
      "28        20    0\n",
      "29        22    0\n",
      "30        27    0\n",
      "31        27    0\n"
     ]
    }
   ],
   "source": [
    "qs = cirq.LineQubit.range(5)\n",
    "cond = cirq.BitMaskKeyCondition.create_equal_mask('q_{0..4}', bitmask=13)\n",
    "circuit = cirq.Circuit(\n",
    "    cirq.H.on_each(qs),\n",
    "    cirq.measure(qs, key='q_{0..4}'),\n",
    "    cirq.X(cirq.q(5)).with_classical_controls(cond),\n",
    "    cirq.measure(cirq.q(5), key='q_5'),\n",
    ")\n",
    "circuit\n",
    "print(cirq.Simulator().run(circuit, repetitions=2**5).data)"
   ]
  },
  {
   "cell_type": "markdown",
   "id": "4953d26f",
   "metadata": {
    "id": "3c64d94110ba",
    "papermill": {
     "duration": 0.000153,
     "end_time": "2025-07-17T22:31:45.627132",
     "exception": false,
     "start_time": "2025-07-17T22:31:45.626979",
     "status": "completed"
    },
    "tags": []
   },
   "source": [
    "## Sympy conditions\n",
    "\n",
    "Cirq also supports more complex control conditions: providing some `sympy` expression `\"expr\"` to `with_classical_controls` creates a `ClassicallyControlledOperation` with a `SympyCondition`. That condition will only trigger if `\"expr\"` evaluates to a \"truthy\" value (`bool(expr) == True`), and uses measurement results to resolve any variables in the expression.\n",
    "\n",
    "In this example, `X` will only be applied to `q2` if `a == b`; in other words, $|q_0q_1\\rangle$ must be either $|00\\rangle$ or $|11\\rangle$. This is verifiable with the simulated result data, where the `c` measurement key for qubit `q2` is always `1` when `a` and `b` are `00` or `11`, and `0` otherwise."
   ]
  },
  {
   "cell_type": "code",
   "execution_count": 6,
   "id": "54aece8d",
   "metadata": {
    "execution": {
     "iopub.execute_input": "2025-07-17T22:31:45.628568Z",
     "iopub.status.busy": "2025-07-17T22:31:45.628357Z",
     "iopub.status.idle": "2025-07-17T22:31:45.673989Z",
     "shell.execute_reply": "2025-07-17T22:31:45.673382Z"
    },
    "id": "9a7ff41b51c0",
    "papermill": {
     "duration": 0.048914,
     "end_time": "2025-07-17T22:31:45.676271",
     "exception": false,
     "start_time": "2025-07-17T22:31:45.627357",
     "status": "completed"
    },
    "tags": []
   },
   "outputs": [
    {
     "name": "stdout",
     "output_type": "stream",
     "text": [
      "          ┌──┐\n",
      "0: ───H────M─────────────────────────────────────────\n",
      "           ║\n",
      "1: ───H────╫M────────────────────────────────────────\n",
      "           ║║\n",
      "2: ────────╫╫────X(conditions=[Eq(a, b)])───M('c')───\n",
      "           ║║    ║\n",
      "a: ════════@╬════^═══════════════════════════════════\n",
      "            ║    ║\n",
      "b: ═════════@════^═══════════════════════════════════\n",
      "          └──┘\n",
      "   a  b  c\n",
      "0  0  0  1\n",
      "1  0  0  1\n",
      "2  0  1  0\n",
      "3  0  1  0\n",
      "4  0  1  0\n",
      "5  1  1  1\n",
      "6  1  0  0\n",
      "7  0  0  1\n"
     ]
    }
   ],
   "source": [
    "import sympy\n",
    "\n",
    "q0, q1, q2 = cirq.LineQubit.range(3)\n",
    "a, b = sympy.symbols('a b')\n",
    "sympy_cond = sympy.Eq(a, b)\n",
    "circuit = cirq.Circuit(\n",
    "    cirq.H.on_each(q0, q1),\n",
    "    cirq.measure(q0, key='a'),\n",
    "    cirq.measure(q1, key='b'),\n",
    "    cirq.X(q2).with_classical_controls(sympy_cond),\n",
    "    cirq.measure(q2, key='c'),\n",
    ")\n",
    "print(circuit)\n",
    "results = cirq.Simulator(seed=2).run(circuit, repetitions=8)\n",
    "print(results.data)"
   ]
  },
  {
   "cell_type": "markdown",
   "id": "ee6cc0e7",
   "metadata": {
    "id": "d4731757905b",
    "papermill": {
     "duration": 0.000208,
     "end_time": "2025-07-17T22:31:45.677074",
     "exception": false,
     "start_time": "2025-07-17T22:31:45.676866",
     "status": "completed"
    },
    "tags": []
   },
   "source": [
    "### Sympy Complex Boolean Functions\n",
    "\n",
    "Cirq supports evaluating complex boolean functions on multiqubit measurement keys throught Sympy's [indexed objects](https://docs.sympy.org/latest/modules/tensor/indexed.html#sympy.tensor.indexed.Indexed.base).\n",
    "\n",
    "In this example, `X` will be applied to $q_2$ if and only if the result of the two-qubit measurement of $q_0, q_1$ has two different bits. "
   ]
  },
  {
   "cell_type": "code",
   "execution_count": 7,
   "id": "01f048fd",
   "metadata": {
    "execution": {
     "iopub.execute_input": "2025-07-17T22:31:45.678653Z",
     "iopub.status.busy": "2025-07-17T22:31:45.678370Z",
     "iopub.status.idle": "2025-07-17T22:31:45.693580Z",
     "shell.execute_reply": "2025-07-17T22:31:45.692975Z"
    },
    "id": "0f4f5867dd3e",
    "papermill": {
     "duration": 0.018039,
     "end_time": "2025-07-17T22:31:45.695375",
     "exception": false,
     "start_time": "2025-07-17T22:31:45.677336",
     "status": "completed"
    },
    "tags": []
   },
   "outputs": [
    {
     "name": "stdout",
     "output_type": "stream",
     "text": [
      "0: ───────H───M───────────────────────────────────────────────────\n",
      "              ║\n",
      "1: ───────H───M───────────────────────────────────────────────────\n",
      "              ║\n",
      "2: ───────────╫───X(conditions=[q0_q1[0] ^ q0_q1[1]])───M('q2')───\n",
      "              ║   ║\n",
      "q0_q1: ═══════@═══^═══════════════════════════════════════════════\n",
      "   q0_q1  q2\n",
      "0      1   1\n",
      "1      2   1\n",
      "2      1   1\n",
      "3      0   0\n",
      "4      1   1\n",
      "5      2   1\n",
      "6      0   0\n",
      "7      0   0\n"
     ]
    }
   ],
   "source": [
    "m = sympy.IndexedBase('q0_q1')\n",
    "q0, q1, q2 = cirq.LineQubit.range(3)\n",
    "sympy_indexed_condition = sympy.Xor(m[0], m[1])\n",
    "circuit = cirq.Circuit(\n",
    "    cirq.H.on_each(q0, q1),\n",
    "    cirq.measure(q0, q1, key='q0_q1'),\n",
    "    cirq.X(q2).with_classical_controls(sympy_indexed_condition),\n",
    "    cirq.measure(q2, key='q2'),\n",
    ")\n",
    "print(circuit)\n",
    "results = cirq.Simulator(seed=2).run(circuit, repetitions=8)\n",
    "print(results.data)"
   ]
  },
  {
   "cell_type": "markdown",
   "id": "38c8aca3",
   "metadata": {
    "id": "dfb58a6f479c",
    "papermill": {
     "duration": 0.000159,
     "end_time": "2025-07-17T22:31:45.695849",
     "exception": false,
     "start_time": "2025-07-17T22:31:45.695690",
     "status": "completed"
    },
    "tags": []
   },
   "source": [
    "## Combining conditions\n",
    "\n",
    "Multiple conditions of either type can be specified to `with_classical_controls`, in which case the resulting `ClassicallyControlledOperation` will only trigger if _all_ conditions trigger. Similarly, calling `with_classical_controls` on an existing `ClassicallyControlledOperation` will require all new and pre-existing conditions to trigger for the operation to trigger."
   ]
  },
  {
   "cell_type": "code",
   "execution_count": 8,
   "id": "f0db6284",
   "metadata": {
    "execution": {
     "iopub.execute_input": "2025-07-17T22:31:45.697353Z",
     "iopub.status.busy": "2025-07-17T22:31:45.697068Z",
     "iopub.status.idle": "2025-07-17T22:31:45.719448Z",
     "shell.execute_reply": "2025-07-17T22:31:45.718845Z"
    },
    "id": "8be2002669fc",
    "papermill": {
     "duration": 0.025149,
     "end_time": "2025-07-17T22:31:45.721243",
     "exception": false,
     "start_time": "2025-07-17T22:31:45.696094",
     "status": "completed"
    },
    "tags": []
   },
   "outputs": [
    {
     "name": "stdout",
     "output_type": "stream",
     "text": [
      "          ┌──┐   ┌──────────────────────────────────────────────────────┐\n",
      "0: ───H────M─────────────────────────────────────────────────────────────────────────\n",
      "           ║\n",
      "1: ───H────M─────────────────────────────────────────────────────────────────────────\n",
      "           ║\n",
      "2: ───H────╫M────────────────────────────────────────────────────────────────────────\n",
      "           ║║\n",
      "3: ────────╫╫─────X(conditions=[b, Eq(a, 0)])───────────────────────────────M('c')───\n",
      "           ║║     ║\n",
      "4: ────────╫╫─────╫──────────────────────────X(conditions=[Eq(a, 0), b])────M('d')───\n",
      "           ║║     ║                          ║\n",
      "a: ════════@╬═════^══════════════════════════^═══════════════════════════════════════\n",
      "            ║     ║                          ║\n",
      "b: ═════════@═════^══════════════════════════^═══════════════════════════════════════\n",
      "          └──┘   └──────────────────────────────────────────────────────┘\n",
      "   a  b  c  d\n",
      "0  1  1  0  0\n",
      "1  0  0  0  0\n",
      "2  1  1  0  0\n",
      "3  0  1  1  1\n",
      "4  1  1  0  0\n",
      "5  3  1  0  0\n",
      "6  3  1  0  0\n",
      "7  0  1  1  1\n"
     ]
    }
   ],
   "source": [
    "q0, q1, q2, q3, q4 = cirq.LineQubit.range(5)\n",
    "a = sympy.symbols('a')\n",
    "sympy_cond = sympy.Eq(a, 0)\n",
    "circuit = cirq.Circuit(\n",
    "    cirq.H.on_each(q0, q1, q2),\n",
    "    cirq.measure(q0, q1, key='a'),\n",
    "    cirq.measure(q2, key='b'),\n",
    "    cirq.X(q3).with_classical_controls('b', sympy_cond),\n",
    "    cirq.X(q4).with_classical_controls('b').with_classical_controls(sympy_cond),\n",
    "    cirq.measure(q3, key='c'),\n",
    "    cirq.measure(q4, key='d'),\n",
    ")\n",
    "print(circuit)\n",
    "results = cirq.Simulator(seed=1).run(circuit, repetitions=8)\n",
    "print(results.data)"
   ]
  },
  {
   "cell_type": "markdown",
   "id": "cdc19200",
   "metadata": {
    "id": "7d9e124484f3",
    "papermill": {
     "duration": 0.000159,
     "end_time": "2025-07-17T22:31:45.721732",
     "exception": false,
     "start_time": "2025-07-17T22:31:45.721573",
     "status": "completed"
    },
    "tags": []
   },
   "source": [
    "First, remember that the value of a measurement key for multiple qubits will be an integer representative of the bit string of those qubits' measurements. You can see this in the data for `a`, the measurement key for both `q0` and `q1`, which has values in the range `[0, 3]`. The sympy condition `Eq(a, 0)` will then only trigger when both of those qubits individually measure `0`. \n",
    "\n",
    "This means that `X(q3).with_classical_controls('b', sympy_cond)` only triggers when `b`'s qubit `q2` measures `1` and `a = 0` is true (`q0` and `q1` measure `0`). This is consistent with the simulated results, for both `c` (`q3`'s key) and `d` (`q4`'s key).\n",
    "\n",
    "Finally, the fact that `c` and `d` are always identical serves as a reminder that chaining multiple calls of `with_classical_controls()` together is equivalent to calling it once with multiple arguments."
   ]
  },
  {
   "cell_type": "markdown",
   "id": "889badb1",
   "metadata": {
    "id": "34d0fe9226e1",
    "papermill": {
     "duration": 0.000136,
     "end_time": "2025-07-17T22:31:45.722114",
     "exception": false,
     "start_time": "2025-07-17T22:31:45.721978",
     "status": "completed"
    },
    "tags": []
   },
   "source": [
    "## Variable scope\n",
    "\n",
    "When used with `cirq.CircuitOperation`, classically controlled operations will be resolved using local repetition IDs, if any. This is the only way to create a non-global variable scope within a circuit. A simple example of this is shown below, where the controls inside and outside a subcircuit rely on measurements in their respective scopes:"
   ]
  },
  {
   "cell_type": "code",
   "execution_count": 9,
   "id": "794aecd6",
   "metadata": {
    "execution": {
     "iopub.execute_input": "2025-07-17T22:31:45.723416Z",
     "iopub.status.busy": "2025-07-17T22:31:45.723212Z",
     "iopub.status.idle": "2025-07-17T22:31:45.730618Z",
     "shell.execute_reply": "2025-07-17T22:31:45.730199Z"
    },
    "id": "6a7441827bd6",
    "papermill": {
     "duration": 0.010932,
     "end_time": "2025-07-17T22:31:45.733277",
     "exception": false,
     "start_time": "2025-07-17T22:31:45.722345",
     "status": "completed"
    },
    "tags": []
   },
   "outputs": [
    {
     "name": "stdout",
     "output_type": "stream",
     "text": [
      "Original Circuit\n",
      "          [ 0: ───M───X─── ]\n",
      "0: ───M───[       ║   ║    ]─────────────────────────────────────X───\n",
      "      ║   [ a: ═══@═══^═══ ](loops=2, use_repetition_ids=True)   ║\n",
      "      ║                                                          ║\n",
      "a: ═══@══════════════════════════════════════════════════════════^═══\n",
      "Circuit with nested circuit unrolled.\n",
      "0: ─────M───M───X───M───X───X───\n",
      "        ║   ║   ║   ║   ║   ║\n",
      "0:a: ═══╬═══@═══^═══╬═══╬═══╬═══\n",
      "        ║           ║   ║   ║\n",
      "1:a: ═══╬═══════════@═══^═══╬═══\n",
      "        ║                   ║\n",
      "a: ═════@═══════════════════^═══\n"
     ]
    }
   ],
   "source": [
    "q0 = cirq.LineQubit(0)\n",
    "subcircuit = cirq.FrozenCircuit(cirq.measure(q0, key='a'), cirq.X(q0).with_classical_controls('a'))\n",
    "circuit = cirq.Circuit(\n",
    "    cirq.measure(q0, key='a'),\n",
    "    cirq.CircuitOperation(subcircuit, repetitions=2, use_repetition_ids=True),\n",
    "    cirq.X(q0).with_classical_controls('a'),\n",
    ")\n",
    "print(\"Original Circuit\")\n",
    "print(circuit)\n",
    "print(\"Circuit with nested circuit unrolled.\")\n",
    "print(cirq.CircuitOperation(cirq.FrozenCircuit(circuit)).mapped_circuit(deep=True))"
   ]
  },
  {
   "cell_type": "markdown",
   "id": "bfbde619",
   "metadata": {
    "id": "b0807e8edb7f",
    "papermill": {
     "duration": 0.000158,
     "end_time": "2025-07-17T22:31:45.733751",
     "exception": false,
     "start_time": "2025-07-17T22:31:45.733593",
     "status": "completed"
    },
    "tags": []
   },
   "source": [
    "The measurement key `a` is present both in the outer circuit and the `FrozenCircuit` nested within it, but these two keys are different due to their different scopes. After unrolling the inner circuit twice, these inner `a`s get prefixed by the repetition number and becomes new, separate measurement keys, `0:a` and `1:a`, that don't interact with each other or the original `a`. \n",
    "\n",
    "More complex scoping behavior is described in the [classically controlled operation tests](https://github.com/quantumlib/Cirq/blob/main/cirq-core/cirq/ops/classically_controlled_operation_test.py)."
   ]
  },
  {
   "cell_type": "markdown",
   "id": "3fb6bb58",
   "metadata": {
    "id": "520a5bbbea93",
    "papermill": {
     "duration": 0.000137,
     "end_time": "2025-07-17T22:31:45.734130",
     "exception": false,
     "start_time": "2025-07-17T22:31:45.733993",
     "status": "completed"
    },
    "tags": []
   },
   "source": [
    "## Using with transformers\n",
    "\n",
    "Cirq [transformers](../transform/transformers.ipynb) are aware of classical control and will avoid changes which move a control before its corresponding measurement. Additionally, for some simple cases the [`defer_measurements` transformer](https://github.com/quantumlib/Cirq/blob/6e0e164e8ac1c2f28a1f3389370fffb50a4d2a4f/cirq-core/cirq/transformers/measurement_transformers.py#L58) can convert a classically-controlled circuit into a purely-quantum circuit:"
   ]
  },
  {
   "cell_type": "code",
   "execution_count": 10,
   "id": "574f23e5",
   "metadata": {
    "execution": {
     "iopub.execute_input": "2025-07-17T22:31:45.735441Z",
     "iopub.status.busy": "2025-07-17T22:31:45.735245Z",
     "iopub.status.idle": "2025-07-17T22:31:45.741125Z",
     "shell.execute_reply": "2025-07-17T22:31:45.740604Z"
    },
    "id": "e7bda8edb27a",
    "papermill": {
     "duration": 0.009282,
     "end_time": "2025-07-17T22:31:45.743641",
     "exception": false,
     "start_time": "2025-07-17T22:31:45.734359",
     "status": "completed"
    },
    "tags": []
   },
   "outputs": [
    {
     "name": "stdout",
     "output_type": "stream",
     "text": [
      "Original circuit:\n",
      "0: ───M────────────────\n",
      "      ║\n",
      "1: ───╫───X───M('b')───\n",
      "      ║   ║\n",
      "a: ═══@═══^════════════\n",
      "Measurement deferred:\n",
      "0: ───────────────────@────────────────\n",
      "                      │\n",
      "1: ───────────────────┼───X───M('b')───\n",
      "                      │   │\n",
      "M('a[0]', q=q(0)): ───X───@───M('a')───\n"
     ]
    }
   ],
   "source": [
    "q0 = cirq.LineQubit(0)\n",
    "circuit = cirq.Circuit(\n",
    "    cirq.measure(q0, key='a'), cirq.X(q1).with_classical_controls('a'), cirq.measure(q1, key='b')\n",
    ")\n",
    "deferred = cirq.defer_measurements(circuit)\n",
    "print(\"Original circuit:\")\n",
    "print(circuit)\n",
    "print(\"Measurement deferred:\")\n",
    "print(deferred)"
   ]
  },
  {
   "cell_type": "markdown",
   "id": "7c0d2e76",
   "metadata": {
    "id": "48666318febe",
    "papermill": {
     "duration": 0.000154,
     "end_time": "2025-07-17T22:31:45.744101",
     "exception": false,
     "start_time": "2025-07-17T22:31:45.743947",
     "status": "completed"
    },
    "tags": []
   },
   "source": [
    "## Compatibility\n",
    "\n",
    "The Cirq built-in simulators provide support for classical control, but caution should be exercised when exporting these circuits to other environments. `ClassicallyControlledOperation` is fundamentally different from other operations in that it requires access to the measurement results, and simulators or hardware that do not explicitly support this will not be able to run `ClassicallyControlledOperation`s."
   ]
  }
 ],
 "metadata": {
  "colab": {
   "name": "classical_control.ipynb",
   "toc_visible": true
  },
  "kernelspec": {
   "display_name": "Python 3",
   "name": "python3"
  },
  "language_info": {
   "codemirror_mode": {
    "name": "ipython",
    "version": 3
   },
   "file_extension": ".py",
   "mimetype": "text/x-python",
   "name": "python",
   "nbconvert_exporter": "python",
   "pygments_lexer": "ipython3",
   "version": "3.11.9"
  },
  "papermill": {
   "default_parameters": {},
   "duration": 4.492228,
   "end_time": "2025-07-17T22:31:46.566517",
   "environment_variables": {},
   "exception": null,
   "input_path": "/tmp/tmp3yxr4pbi-rewrite.ipynb",
   "output_path": "/usr/local/google/home/juhas/Code/gh/quantumlib/Cirq4/out/docs/build/classical_control.out.ipynb",
   "parameters": {},
   "start_time": "2025-07-17T22:31:42.074289",
   "version": "2.6.0"
  }
 },
 "nbformat": 4,
 "nbformat_minor": 5
}