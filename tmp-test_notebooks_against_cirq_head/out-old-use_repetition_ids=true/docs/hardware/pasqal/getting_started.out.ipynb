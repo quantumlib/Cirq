{
 "cells": [
  {
   "cell_type": "markdown",
   "id": "98917a2a",
   "metadata": {
    "id": "6HTRLzyWW5Q1",
    "papermill": {
     "duration": 0.000316,
     "end_time": "2025-07-17T21:49:36.585975",
     "exception": false,
     "start_time": "2025-07-17T21:49:36.585659",
     "status": "completed"
    },
    "tags": []
   },
   "source": [
    "##### Copyright 2020 The Cirq Developers"
   ]
  },
  {
   "cell_type": "code",
   "execution_count": 1,
   "id": "59d4e883",
   "metadata": {
    "cellView": "form",
    "execution": {
     "iopub.execute_input": "2025-07-17T21:49:36.588288Z",
     "iopub.status.busy": "2025-07-17T21:49:36.587876Z",
     "iopub.status.idle": "2025-07-17T21:49:36.592531Z",
     "shell.execute_reply": "2025-07-17T21:49:36.591745Z"
    },
    "id": "oOggJBe6W5nF",
    "papermill": {
     "duration": 0.007544,
     "end_time": "2025-07-17T21:49:36.594114",
     "exception": false,
     "start_time": "2025-07-17T21:49:36.586570",
     "status": "completed"
    },
    "tags": []
   },
   "outputs": [],
   "source": [
    "# @title Licensed under the Apache License, Version 2.0 (the \"License\");\n",
    "# you may not use this file except in compliance with the License.\n",
    "# You may obtain a copy of the License at\n",
    "#\n",
    "# https://www.apache.org/licenses/LICENSE-2.0\n",
    "#\n",
    "# Unless required by applicable law or agreed to in writing, software\n",
    "# distributed under the License is distributed on an \"AS IS\" BASIS,\n",
    "# WITHOUT WARRANTIES OR CONDITIONS OF ANY KIND, either express or implied.\n",
    "# See the License for the specific language governing permissions and\n",
    "# limitations under the License."
   ]
  },
  {
   "cell_type": "markdown",
   "id": "f9035ca9",
   "metadata": {
    "id": "9UinLMKSWRkA",
    "papermill": {
     "duration": 0.000109,
     "end_time": "2025-07-17T21:49:36.594457",
     "exception": false,
     "start_time": "2025-07-17T21:49:36.594348",
     "status": "completed"
    },
    "tags": []
   },
   "source": [
    "# Quantum circuits on Pasqal devices"
   ]
  },
  {
   "cell_type": "markdown",
   "id": "6e23015f",
   "metadata": {
    "id": "8jnX4ti8W6Lg",
    "papermill": {
     "duration": 8.5e-05,
     "end_time": "2025-07-17T21:49:36.594742",
     "exception": false,
     "start_time": "2025-07-17T21:49:36.594657",
     "status": "completed"
    },
    "tags": []
   },
   "source": [
    "<table class=\"tfo-notebook-buttons\" align=\"left\">\n",
    "  <td>\n",
    "    <a target=\"_blank\" href=\"https://quantumai.google/cirq/hardware/pasqal/getting_started\"><img src=\"https://quantumai.google/site-assets/images/buttons/quantumai_logo_1x.png\" />View on QuantumAI</a>\n",
    "  </td>\n",
    "  <td>\n",
    "    <a target=\"_blank\" href=\"https://colab.research.google.com/github/quantumlib/Cirq/blob/main/docs/hardware/pasqal/getting_started.ipynb\"><img src=\"https://quantumai.google/site-assets/images/buttons/colab_logo_1x.png\" />Run in Google Colab</a>\n",
    "  </td>\n",
    "  <td>\n",
    "    <a target=\"_blank\" href=\"https://github.com/quantumlib/Cirq/blob/main/docs/hardware/pasqal/getting_started.ipynb\"><img src=\"https://quantumai.google/site-assets/images/buttons/github_logo_1x.png\" />View source on GitHub</a>\n",
    "  </td>\n",
    "  <td>\n",
    "    <a href=\"https://storage.googleapis.com/tensorflow_docs/Cirq/docs/hardware/pasqal/getting_started.ipynb\"><img src=\"https://quantumai.google/site-assets/images/buttons/download_icon_1x.png\" />Download notebook</a>\n",
    "  </td>\n",
    "</table>"
   ]
  },
  {
   "cell_type": "code",
   "execution_count": 2,
   "id": "112af119",
   "metadata": {
    "execution": {
     "iopub.execute_input": "2025-07-17T21:49:36.596280Z",
     "iopub.status.busy": "2025-07-17T21:49:36.595917Z",
     "iopub.status.idle": "2025-07-17T21:49:39.081407Z",
     "shell.execute_reply": "2025-07-17T21:49:39.080595Z"
    },
    "id": "bd9529db1c0b",
    "papermill": {
     "duration": 2.488069,
     "end_time": "2025-07-17T21:49:39.082994",
     "exception": false,
     "start_time": "2025-07-17T21:49:36.594925",
     "status": "completed"
    },
    "tags": []
   },
   "outputs": [],
   "source": [
    "try:\n",
    "    import cirq\n",
    "except ImportError:\n",
    "    print(\"installing cirq...\")\n",
    "    !pip install --quiet cirq\n",
    "    print(\"installed cirq.\")\n",
    "    import cirq\n",
    "import cirq_pasqal\n",
    "from cirq_pasqal import ThreeDQubit, TwoDQubit, PasqalVirtualDevice, PasqalNoiseModel"
   ]
  },
  {
   "cell_type": "markdown",
   "id": "8a5a9996",
   "metadata": {
    "id": "785bc8599470",
    "papermill": {
     "duration": 0.000113,
     "end_time": "2025-07-17T21:49:39.083505",
     "exception": false,
     "start_time": "2025-07-17T21:49:39.083392",
     "status": "completed"
    },
    "tags": []
   },
   "source": [
    "<img src=\"../../images/pasqal/Cirq_pasqal.png\" width=\"700\"/>\n",
    "\n",
    "In this notebook, we show how to program a quantum circuit for Pasqal using cirq. The first step is to import cirq, and Pasqal custom classes. We use ``PasqalVirtualDevice`` to showcase how Cirq enforces Pasqal's devices' restrictions throughout the process."
   ]
  },
  {
   "cell_type": "markdown",
   "id": "8824209a",
   "metadata": {
    "id": "2308f81b64c4",
    "papermill": {
     "duration": 8.2e-05,
     "end_time": "2025-07-17T21:49:39.083733",
     "exception": false,
     "start_time": "2025-07-17T21:49:39.083651",
     "status": "completed"
    },
    "tags": []
   },
   "source": [
    "## Create an array of qubits on a lattice\n",
    "\n",
    "The QPU of Pasqal is made of neutral atoms controlled by lasers. Individual atoms are trapped at well-defined positions in 1, 2 or even 3D, as shown on the following plot ( [Nature 561, 79 (2018)](https://www.nature.com/articles/s41586-018-0450-2)).\n",
    "\n",
    "<img src=\"../../images/pasqal/eiffel_tower.png\" width=\"500\"/>\n",
    "\n",
    "We created a custom class in Cirq, ThreeDQubit, that corresponds to a qubit placed in 3D space. Let us start by creating a register comprising $36=6\\times6$ qubits in 2D, regularly arranged on a square lattice. It corresponds to the following configuration (image taken from [Nature 561, 79 (2018)](https://www.nature.com/articles/s41586-018-0450-2))\n",
    "\n",
    "<img src=\"../../images/pasqal/grid_atoms.png\" width=\"300\"/>"
   ]
  },
  {
   "cell_type": "code",
   "execution_count": 3,
   "id": "2211fd2d",
   "metadata": {
    "execution": {
     "iopub.execute_input": "2025-07-17T21:49:39.085395Z",
     "iopub.status.busy": "2025-07-17T21:49:39.084850Z",
     "iopub.status.idle": "2025-07-17T21:49:39.090622Z",
     "shell.execute_reply": "2025-07-17T21:49:39.089084Z"
    },
    "id": "74507c7b7017",
    "papermill": {
     "duration": 0.00797,
     "end_time": "2025-07-17T21:49:39.091883",
     "exception": false,
     "start_time": "2025-07-17T21:49:39.083913",
     "status": "completed"
    },
    "tags": []
   },
   "outputs": [],
   "source": [
    "width = 6\n",
    "height = 6\n",
    "depth = 1\n",
    "# Creating p_qubits, a list of ThreeDQubits.\n",
    "p_qubits = [\n",
    "    ThreeDQubit(row, col, layer)\n",
    "    for row in range(width)\n",
    "    for col in range(height)\n",
    "    for layer in range(depth)\n",
    "]"
   ]
  },
  {
   "cell_type": "markdown",
   "id": "74db26ec",
   "metadata": {
    "id": "0c70e0cd44b6",
    "papermill": {
     "duration": 9.2e-05,
     "end_time": "2025-07-17T21:49:39.092238",
     "exception": false,
     "start_time": "2025-07-17T21:49:39.092146",
     "status": "completed"
    },
    "tags": []
   },
   "source": [
    "Notice how we are fixing `depth=1` to keep all qubits in the $z=0$ plane. The same can also be achieved by using the `TwoDQubit` class, which is nothing more than a `ThreeDQubit` confined to the `z=0` plane. We can create the same $6 x 6$ square array, this time using one of the built-in methods:"
   ]
  },
  {
   "cell_type": "code",
   "execution_count": 4,
   "id": "2b94f010",
   "metadata": {
    "execution": {
     "iopub.execute_input": "2025-07-17T21:49:39.093709Z",
     "iopub.status.busy": "2025-07-17T21:49:39.093323Z",
     "iopub.status.idle": "2025-07-17T21:49:39.098993Z",
     "shell.execute_reply": "2025-07-17T21:49:39.097869Z"
    },
    "id": "YPyeqF3EReB2",
    "papermill": {
     "duration": 0.007839,
     "end_time": "2025-07-17T21:49:39.100210",
     "exception": false,
     "start_time": "2025-07-17T21:49:39.092371",
     "status": "completed"
    },
    "tags": []
   },
   "outputs": [],
   "source": [
    "p_qubits = TwoDQubit.square(6)  # 6x6 square array of TwoDQubits"
   ]
  },
  {
   "cell_type": "markdown",
   "id": "1d11ba27",
   "metadata": {
    "id": "0b0039da850c",
    "papermill": {
     "duration": 8.9e-05,
     "end_time": "2025-07-17T21:49:39.100481",
     "exception": false,
     "start_time": "2025-07-17T21:49:39.100392",
     "status": "completed"
    },
    "tags": []
   },
   "source": [
    "## Create a PasqalDevice\n",
    "\n",
    "Multi-qubit gates can be applied between qubits in the device, provided that the distance between them is smaller than the so-called Rydberg blocade radius (or control radius), that can be passed as a parameter of the device (in units of the lattice size). Here, we instantiate a `PasqalVirtualDevice` with 36 qubits and a control radius of $2.1$. \n",
    "\n",
    "This `PasqalVirtualDevice` can be used to validate the operations within a `Circuit`."
   ]
  },
  {
   "cell_type": "code",
   "execution_count": 5,
   "id": "11805db4",
   "metadata": {
    "execution": {
     "iopub.execute_input": "2025-07-17T21:49:39.102532Z",
     "iopub.status.busy": "2025-07-17T21:49:39.102102Z",
     "iopub.status.idle": "2025-07-17T21:49:39.270484Z",
     "shell.execute_reply": "2025-07-17T21:49:39.269698Z"
    },
    "id": "c9f65c79ae9e",
    "papermill": {
     "duration": 0.221865,
     "end_time": "2025-07-17T21:49:39.322467",
     "exception": false,
     "start_time": "2025-07-17T21:49:39.100602",
     "status": "completed"
    },
    "tags": []
   },
   "outputs": [
    {
     "name": "stdout",
     "output_type": "stream",
     "text": [
      "cirq.CNOT is not a supported gate\n"
     ]
    }
   ],
   "source": [
    "# Initialize and create a circuit\n",
    "initial_circuit = cirq.Circuit()\n",
    "initial_circuit.append(cirq.CZ(p_qubits[0], p_qubits[1]))\n",
    "initial_circuit.append(cirq.Z(p_qubits[0]))\n",
    "initial_circuit.append(cirq.CX(p_qubits[0], p_qubits[2]))\n",
    "\n",
    "# Create a Pasqal device with a control radius of 2.1 (in units of the lattice spacing)\n",
    "p_device = PasqalVirtualDevice(control_radius=2.1, qubits=p_qubits)\n",
    "\n",
    "# Validate the circuit using the device\n",
    "try:\n",
    "    p_device.validate_circuit(initial_circuit)\n",
    "except ValueError as e:\n",
    "    # Uh oh!  This circuit does not pass validation.\n",
    "    print(e)"
   ]
  },
  {
   "cell_type": "markdown",
   "id": "50791880",
   "metadata": {
    "id": "aa25f2e644ce",
    "papermill": {
     "duration": 0.000104,
     "end_time": "2025-07-17T21:49:39.322977",
     "exception": false,
     "start_time": "2025-07-17T21:49:39.322873",
     "status": "completed"
    },
    "tags": []
   },
   "source": [
    "Notice that the `CX` gate, also called a `CNOT` gate is not valid on this device.  We can use a `PasqalGateset` object with the built-in cirq method `cirq.optimize_for_target_gateset` to convert it.  This will convert the logical gates into native hardware gates.  "
   ]
  },
  {
   "cell_type": "code",
   "execution_count": 6,
   "id": "14f4dbd5",
   "metadata": {
    "execution": {
     "iopub.execute_input": "2025-07-17T21:49:39.324826Z",
     "iopub.status.busy": "2025-07-17T21:49:39.324367Z",
     "iopub.status.idle": "2025-07-17T21:49:39.342755Z",
     "shell.execute_reply": "2025-07-17T21:49:39.341840Z"
    },
    "id": "1JbgjTVzZg6u",
    "papermill": {
     "duration": 0.021086,
     "end_time": "2025-07-17T21:49:39.344205",
     "exception": false,
     "start_time": "2025-07-17T21:49:39.323119",
     "status": "completed"
    },
    "tags": []
   },
   "outputs": [
    {
     "name": "stdout",
     "output_type": "stream",
     "text": [
      "(0, 0): ───@───Z───────────────────@──────────────────\n",
      "           │                       │\n",
      "(1, 0): ───@───────────────────────┼──────────────────\n",
      "                                   │\n",
      "(2, 0): ───────────PhX(-0.5)^0.5───@───PhX(0.5)^0.5───\n"
     ]
    }
   ],
   "source": [
    "pasqal_gateset = cirq_pasqal.PasqalGateset(include_additional_controlled_ops=False)\n",
    "pasqal_circuit = cirq.optimize_for_target_gateset(initial_circuit, gateset=pasqal_gateset)\n",
    "\n",
    "# TODO(https://github.com/quantumlib/Cirq/issues/6655) - remove after fixup\n",
    "pasqal_circuit = cirq.Circuit(pasqal_circuit.all_operations(), strategy=cirq.InsertStrategy.NEW)\n",
    "\n",
    "print(pasqal_circuit)\n",
    "\n",
    "# Now the circuit validates correctly!\n",
    "p_device.validate_circuit(pasqal_circuit)"
   ]
  },
  {
   "cell_type": "markdown",
   "id": "74b56145",
   "metadata": {
    "id": "DkHu3gfNpe2J",
    "papermill": {
     "duration": 9.5e-05,
     "end_time": "2025-07-17T21:49:39.344528",
     "exception": false,
     "start_time": "2025-07-17T21:49:39.344433",
     "status": "completed"
    },
    "tags": []
   },
   "source": [
    "When inserting into circuits designed for Pasqal devices, be sure to insert each operation into its own `Moment` (for example, using `cirq.InsertStrategy.NEW`).  You may need to do this in a separate step, as in the below example that converts two simultaneous Hadamard gates."
   ]
  },
  {
   "cell_type": "code",
   "execution_count": 7,
   "id": "3dd21827",
   "metadata": {
    "execution": {
     "iopub.execute_input": "2025-07-17T21:49:39.345992Z",
     "iopub.status.busy": "2025-07-17T21:49:39.345638Z",
     "iopub.status.idle": "2025-07-17T21:49:39.357558Z",
     "shell.execute_reply": "2025-07-17T21:49:39.356474Z"
    },
    "id": "YtXUHkTfpraF",
    "papermill": {
     "duration": 0.014188,
     "end_time": "2025-07-17T21:49:39.358840",
     "exception": false,
     "start_time": "2025-07-17T21:49:39.344652",
     "status": "completed"
    },
    "tags": []
   },
   "outputs": [
    {
     "name": "stdout",
     "output_type": "stream",
     "text": [
      "Initial Circuit, does not pass validation:\n",
      "(0, 0): ───H───\n",
      "\n",
      "(1, 0): ───H───\n",
      "Cannot do simultaneous gates. Use cirq.InsertStrategy.NEW.\n",
      "\n",
      "Converted Circuit, passes validation:\n",
      "(0, 0): ───H───────\n",
      "\n",
      "(1, 0): ───────H───\n"
     ]
    }
   ],
   "source": [
    "initial_circuit = cirq.Circuit()\n",
    "initial_circuit.append(cirq.H(p_qubits[0]))\n",
    "initial_circuit.append(cirq.H(p_qubits[1]))\n",
    "print('Initial Circuit, does not pass validation:')\n",
    "print(initial_circuit)\n",
    "try:\n",
    "    p_device.validate_circuit(initial_circuit)\n",
    "except ValueError as e:\n",
    "    # Uh oh!  This circuit does not pass validation.\n",
    "    print(e)\n",
    "\n",
    "pasqal_circuit = cirq.Circuit(initial_circuit.all_operations(), strategy=cirq.InsertStrategy.NEW)\n",
    "print('')\n",
    "print('Converted Circuit, passes validation:')\n",
    "print(pasqal_circuit)\n",
    "\n",
    "# Now the circuit validates correctly!\n",
    "p_device.validate_circuit(pasqal_circuit)"
   ]
  },
  {
   "cell_type": "markdown",
   "id": "640fe464",
   "metadata": {
    "id": "612100a9e1a0",
    "papermill": {
     "duration": 9.1e-05,
     "end_time": "2025-07-17T21:49:39.359124",
     "exception": false,
     "start_time": "2025-07-17T21:49:39.359033",
     "status": "completed"
    },
    "tags": []
   },
   "source": [
    "When the distance between the two qubits involved in the gate is greater than the control radius, as shown for example in the following plot, Cirq will raise an error.\n",
    "\n",
    "<img src=\"../../images/pasqal/r_radius.001.png\" width=\"300\"/><br>"
   ]
  },
  {
   "cell_type": "code",
   "execution_count": 8,
   "id": "ba2aebe6",
   "metadata": {
    "execution": {
     "iopub.execute_input": "2025-07-17T21:49:39.360526Z",
     "iopub.status.busy": "2025-07-17T21:49:39.360145Z",
     "iopub.status.idle": "2025-07-17T21:49:39.366563Z",
     "shell.execute_reply": "2025-07-17T21:49:39.365629Z"
    },
    "id": "25d50548ab09",
    "papermill": {
     "duration": 0.008666,
     "end_time": "2025-07-17T21:49:39.367908",
     "exception": false,
     "start_time": "2025-07-17T21:49:39.359242",
     "status": "completed"
    },
    "tags": []
   },
   "outputs": [
    {
     "name": "stdout",
     "output_type": "stream",
     "text": [
      "ERROR: Qubits pasqal.TwoDQubit(0, 0), pasqal.TwoDQubit(5, 5) are too far away\n"
     ]
    }
   ],
   "source": [
    "# It is impossible to add a multi-qubit gate if the qubits involved are too far away\n",
    "try:\n",
    "    p_device.validate_operation(cirq.CZ(p_qubits[0], p_qubits[-1]))\n",
    "except ValueError as msg:\n",
    "    print(\"ERROR:\", msg)\n",
    "else:\n",
    "    print(\"Failed to raise the expected ValueError.\")"
   ]
  },
  {
   "cell_type": "markdown",
   "id": "06212360",
   "metadata": {
    "id": "bd01f8dc88c9",
    "papermill": {
     "duration": 9.3e-05,
     "end_time": "2025-07-17T21:49:39.368186",
     "exception": false,
     "start_time": "2025-07-17T21:49:39.368093",
     "status": "completed"
    },
    "tags": []
   },
   "source": [
    "## Send a circuit to a remote Pasqal machine\n",
    "\n",
    "Using the Circuit class of Cirq, one can then build a circuit that will be implemented with one of Pasqal's devices as a backend.\n",
    "\n",
    "The real QPU is not plugged in yet as a backend. If you send us your circuit, we currently use a classical emulator as a backend to determine the result of your simulation. As emulating a quantum circuit with a large number of qubits is computationnaly intensive, here we choose to realize a circuit on a smaller register.\n",
    "\n",
    "More precisely, we will implement Grover's algorithm to search for the state $|10\\rangle$, which corresponds to the circuit:\n",
    "\n",
    "<img src=\"../../images/pasqal/Grover_circuit.png\" width=\"750\"/><br>\n",
    "\n",
    "Bear in mind that this is a naïve implementation that can be substantially optimized, particularly in the oracle and the usage of an ancilla, but that is beyond the scope of this tutorial.\n",
    "\n",
    "Here is the Cirq implementation of the circuit using generators:"
   ]
  },
  {
   "cell_type": "code",
   "execution_count": 9,
   "id": "4f5b7370",
   "metadata": {
    "execution": {
     "iopub.execute_input": "2025-07-17T21:49:39.369624Z",
     "iopub.status.busy": "2025-07-17T21:49:39.369256Z",
     "iopub.status.idle": "2025-07-17T21:49:39.434054Z",
     "shell.execute_reply": "2025-07-17T21:49:39.433218Z"
    },
    "id": "494c8052fa12",
    "papermill": {
     "duration": 0.067228,
     "end_time": "2025-07-17T21:49:39.435538",
     "exception": false,
     "start_time": "2025-07-17T21:49:39.368310",
     "status": "completed"
    },
    "tags": []
   },
   "outputs": [],
   "source": [
    "import numpy as np\n",
    "\n",
    "# Place qubits at vertices of an equilateral triangle\n",
    "qs = [TwoDQubit(0, 0), TwoDQubit(1, 0), TwoDQubit(0.5, np.sqrt(3) / 2)]\n",
    "q_meas = [TwoDQubit(1, 0), TwoDQubit(0, 0)]\n",
    "\n",
    "\n",
    "def state_preparation():\n",
    "    for q in qs[:-1]:\n",
    "        yield cirq.H(q)\n",
    "    yield cirq.X(qs[-1])\n",
    "    yield cirq.H(qs[-1])\n",
    "\n",
    "\n",
    "def oracle():\n",
    "    # Signals the state 10\n",
    "    yield cirq.X(qs[0])\n",
    "    yield cirq.CCX(*qs)\n",
    "    yield cirq.X(qs[0])\n",
    "\n",
    "\n",
    "def grover_operator():\n",
    "    for q in qs[:-1]:\n",
    "        yield cirq.H(q)\n",
    "        yield cirq.X(q)\n",
    "\n",
    "    yield cirq.CZ(*qs[:-1])\n",
    "\n",
    "    for q in qs[:-1]:\n",
    "        yield cirq.X(q)\n",
    "        yield cirq.H(q)\n",
    "\n",
    "\n",
    "def generate_grover():\n",
    "    yield state_preparation()\n",
    "    yield oracle()\n",
    "    yield grover_operator()\n",
    "\n",
    "\n",
    "def generate_pasqal_grover():\n",
    "    pasqal_gateset = cirq_pasqal.PasqalGateset(include_additional_controlled_ops=False)\n",
    "    grover_cicruit = cirq.optimize_for_target_gateset(\n",
    "        cirq.Circuit(generate_grover()), gateset=pasqal_gateset\n",
    "    )\n",
    "    return cirq.Circuit(grover_cicruit.all_operations(), strategy=cirq.InsertStrategy.NEW)\n",
    "\n",
    "\n",
    "device = PasqalVirtualDevice(control_radius=1.1, qubits=qs)\n",
    "grover_circuit = generate_pasqal_grover()\n",
    "device.validate_circuit(grover_circuit)\n",
    "grover_circuit.append(cirq.measure(*q_meas, key='x'))"
   ]
  },
  {
   "cell_type": "markdown",
   "id": "8092fe3f",
   "metadata": {
    "id": "ea966b4466aa",
    "papermill": {
     "duration": 9.2e-05,
     "end_time": "2025-07-17T21:49:39.436007",
     "exception": false,
     "start_time": "2025-07-17T21:49:39.435915",
     "status": "completed"
    },
    "tags": []
   },
   "source": [
    "Now, to execute the circuit on one of our servers, one has to create a sampler that will send the circuit to the remote host address. One currently needs a token to do this. Please contact us to get one !"
   ]
  },
  {
   "cell_type": "code",
   "execution_count": 10,
   "id": "82c4db27",
   "metadata": {
    "execution": {
     "iopub.execute_input": "2025-07-17T21:49:39.437446Z",
     "iopub.status.busy": "2025-07-17T21:49:39.437075Z",
     "iopub.status.idle": "2025-07-17T21:49:39.441065Z",
     "shell.execute_reply": "2025-07-17T21:49:39.440231Z"
    },
    "id": "8214ee49f634",
    "papermill": {
     "duration": 0.006282,
     "end_time": "2025-07-17T21:49:39.442408",
     "exception": false,
     "start_time": "2025-07-17T21:49:39.436126",
     "status": "completed"
    },
    "tags": []
   },
   "outputs": [],
   "source": [
    "# To execute on one of Pasqal's servers, get an access token and uncomment these lines\n",
    "# sampler = cirq_pasqal.PasqalSampler(remote_host='http://34.98.71.118/v0/pasqal',\n",
    "#                                     access_token='')"
   ]
  },
  {
   "cell_type": "markdown",
   "id": "44861d26",
   "metadata": {
    "id": "70151da8a002",
    "papermill": {
     "duration": 9.9e-05,
     "end_time": "2025-07-17T21:49:39.442707",
     "exception": false,
     "start_time": "2025-07-17T21:49:39.442608",
     "status": "completed"
    },
    "tags": []
   },
   "source": [
    "Alternatively, small circuits can also be simulated locally using Cirq's `Simulator`, which we will do here. "
   ]
  },
  {
   "cell_type": "code",
   "execution_count": 11,
   "id": "fa152928",
   "metadata": {
    "execution": {
     "iopub.execute_input": "2025-07-17T21:49:39.444183Z",
     "iopub.status.busy": "2025-07-17T21:49:39.443826Z",
     "iopub.status.idle": "2025-07-17T21:49:39.459405Z",
     "shell.execute_reply": "2025-07-17T21:49:39.458714Z"
    },
    "id": "8918f73e67c1",
    "papermill": {
     "duration": 0.018032,
     "end_time": "2025-07-17T21:49:39.460869",
     "exception": false,
     "start_time": "2025-07-17T21:49:39.442837",
     "status": "completed"
    },
    "tags": []
   },
   "outputs": [],
   "source": [
    "sampler = cirq.Simulator()\n",
    "data_raw = sampler.run(grover_circuit, repetitions=200)"
   ]
  },
  {
   "cell_type": "markdown",
   "id": "9897cf1b",
   "metadata": {
    "id": "54df16cee323",
    "papermill": {
     "duration": 6.7e-05,
     "end_time": "2025-07-17T21:49:39.461120",
     "exception": false,
     "start_time": "2025-07-17T21:49:39.461053",
     "status": "completed"
    },
    "tags": []
   },
   "source": [
    "Next, we can plot the results obtained."
   ]
  },
  {
   "cell_type": "code",
   "execution_count": 12,
   "id": "cb1bcd30",
   "metadata": {
    "execution": {
     "iopub.execute_input": "2025-07-17T21:49:39.462414Z",
     "iopub.status.busy": "2025-07-17T21:49:39.462171Z",
     "iopub.status.idle": "2025-07-17T21:49:39.678418Z",
     "shell.execute_reply": "2025-07-17T21:49:39.677646Z"
    },
    "id": "ab8f82fc985a",
    "papermill": {
     "duration": 0.218577,
     "end_time": "2025-07-17T21:49:39.679773",
     "exception": false,
     "start_time": "2025-07-17T21:49:39.461196",
     "status": "completed"
    },
    "tags": []
   },
   "outputs": [
    {
     "data": {
      "image/png": "[encoded data removed]",
      "text/plain": [
       "<Figure size 640x480 with 1 Axes>"
      ]
     },
     "metadata": {},
     "output_type": "display_data"
    }
   ],
   "source": [
    "import matplotlib.pyplot as plt\n",
    "\n",
    "# Create dictionary of results\n",
    "data0 = data_raw.data.to_dict()\n",
    "vec = [j for j in range(4)]\n",
    "res = np.zeros(len(vec))\n",
    "for jj in range(200):\n",
    "    number = data0['x'][jj]\n",
    "    res[number] += 1\n",
    "res = res / 200.0\n",
    "\n",
    "# Display plot of states\n",
    "fig = plt.figure()\n",
    "ax = fig.add_axes([0.16, 0.16, 0.78, 0.78])\n",
    "ax.plot(vec, res, 'o')\n",
    "ax.set_xticks(vec)\n",
    "ax.set_xticklabels([r'$|00\\rangle$', r'$|01\\rangle$', r'$|10\\rangle$', r'$|11\\rangle$'])\n",
    "plt.xlabel(r'$j$', fontsize=20)\n",
    "plt.ylabel(r'$p$', fontsize=20)\n",
    "plt.show()"
   ]
  },
  {
   "cell_type": "markdown",
   "id": "6b139338",
   "metadata": {
    "id": "2243a99d0e8f",
    "papermill": {
     "duration": 9.9e-05,
     "end_time": "2025-07-17T21:49:39.680222",
     "exception": false,
     "start_time": "2025-07-17T21:49:39.680123",
     "status": "completed"
    },
    "tags": []
   },
   "source": [
    "In this particular case, it takes a single Grover iteration to find the correct result ($|10\\rangle$) with 100% probability on a perfect device."
   ]
  },
  {
   "cell_type": "markdown",
   "id": "c842f712",
   "metadata": {
    "id": "389112dcf80a",
    "papermill": {
     "duration": 6.1e-05,
     "end_time": "2025-07-17T21:49:39.680427",
     "exception": false,
     "start_time": "2025-07-17T21:49:39.680366",
     "status": "completed"
    },
    "tags": []
   },
   "source": [
    "## Incorporate the effect of noise during a classical emulation of the circuit\n",
    "\n",
    "Current NISQ processors are imperfect and prone to errors. We incorporated in Cirq a typical noise model for Pasqal devices, that can be used when one emulates the behavior of the device with a classical computer."
   ]
  },
  {
   "cell_type": "code",
   "execution_count": 13,
   "id": "48fefbd2",
   "metadata": {
    "execution": {
     "iopub.execute_input": "2025-07-17T21:49:39.681706Z",
     "iopub.status.busy": "2025-07-17T21:49:39.681376Z",
     "iopub.status.idle": "2025-07-17T21:49:45.320586Z",
     "shell.execute_reply": "2025-07-17T21:49:45.319999Z"
    },
    "id": "675a72331dca",
    "papermill": {
     "duration": 5.642364,
     "end_time": "2025-07-17T21:49:45.322884",
     "exception": false,
     "start_time": "2025-07-17T21:49:39.680520",
     "status": "completed"
    },
    "tags": []
   },
   "outputs": [
    {
     "data": {
      "image/png": "[encoded data removed]",
      "text/plain": [
       "<Figure size 640x480 with 1 Axes>"
      ]
     },
     "metadata": {},
     "output_type": "display_data"
    }
   ],
   "source": [
    "# Use the custom noise model of Pasqal devices\n",
    "noise_model = PasqalNoiseModel(device)\n",
    "grover_circuit = generate_pasqal_grover()\n",
    "grover_circuit = grover_circuit.with_noise(noise_model)\n",
    "grover_circuit.append(cirq.measure(*q_meas, key='x'))\n",
    "\n",
    "# Run a simulation locally locally\n",
    "data_raw = sampler.run(grover_circuit, repetitions=200)\n",
    "\n",
    "# Plot the results\n",
    "data0 = data_raw.data.to_dict()\n",
    "vec = [j for j in range(4)]\n",
    "res = np.zeros(len(vec))\n",
    "for jj in range(200):\n",
    "    number = data0['x'][jj]\n",
    "    res[number] += 1\n",
    "res = res / 200.0\n",
    "\n",
    "fig = plt.figure()\n",
    "ax = fig.add_axes([0.16, 0.16, 0.78, 0.78])\n",
    "ax.plot(vec, res, 'o')\n",
    "ax.set_xticks(vec)\n",
    "ax.set_xticklabels([r'$|00\\rangle$', r'$|01\\rangle$', r'$|10\\rangle$', r'$|11\\rangle$'])\n",
    "plt.xlabel(r'$j$', fontsize=20)\n",
    "plt.ylabel(r'$p$', fontsize=20)\n",
    "plt.show()"
   ]
  },
  {
   "cell_type": "markdown",
   "id": "25032e2a",
   "metadata": {
    "id": "c2e5c717a4b6",
    "papermill": {
     "duration": 0.000238,
     "end_time": "2025-07-17T21:49:45.323445",
     "exception": false,
     "start_time": "2025-07-17T21:49:45.323207",
     "status": "completed"
    },
    "tags": []
   },
   "source": [
    "One still finds a rather large probability to measure $|10\\rangle$, but we note the appearance of other measurement outcomes, due to the presence of noise."
   ]
  }
 ],
 "metadata": {
  "colab": {
   "collapsed_sections": [],
   "name": "getting_started.ipynb",
   "toc_visible": true
  },
  "kernelspec": {
   "display_name": "Python 3",
   "name": "python3"
  },
  "language_info": {
   "codemirror_mode": {
    "name": "ipython",
    "version": 3
   },
   "file_extension": ".py",
   "mimetype": "text/x-python",
   "name": "python",
   "nbconvert_exporter": "python",
   "pygments_lexer": "ipython3",
   "version": "3.11.9"
  },
  "papermill": {
   "default_parameters": {},
   "duration": 10.92273,
   "end_time": "2025-07-17T21:49:46.041398",
   "environment_variables": {},
   "exception": null,
   "input_path": "/tmp/tmp2020n7s4-rewrite.ipynb",
   "output_path": "/home/user/Cirq/out/docs/hardware/pasqal/getting_started.out.ipynb",
   "parameters": {},
   "start_time": "2025-07-17T21:49:35.118668",
   "version": "2.6.0"
  }
 },
 "nbformat": 4,
 "nbformat_minor": 5
}
