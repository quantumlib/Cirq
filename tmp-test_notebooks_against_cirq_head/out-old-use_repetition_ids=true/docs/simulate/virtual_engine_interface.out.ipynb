{
 "cells": [
  {
   "cell_type": "markdown",
   "id": "9f88e207",
   "metadata": {
    "id": "DkA0Fobtb9dM",
    "papermill": {
     "duration": 0.000323,
     "end_time": "2025-07-17T21:49:36.472951",
     "exception": false,
     "start_time": "2025-07-17T21:49:36.472628",
     "status": "completed"
    },
    "tags": []
   },
   "source": [
    "##### Copyright 2022 The Cirq Developers"
   ]
  },
  {
   "cell_type": "code",
   "execution_count": 1,
   "id": "c684b2be",
   "metadata": {
    "cellView": "form",
    "execution": {
     "iopub.execute_input": "2025-07-17T21:49:36.474868Z",
     "iopub.status.busy": "2025-07-17T21:49:36.474573Z",
     "iopub.status.idle": "2025-07-17T21:49:36.478772Z",
     "shell.execute_reply": "2025-07-17T21:49:36.478000Z"
    },
    "id": "tUshu7YfcAAW",
    "papermill": {
     "duration": 0.006638,
     "end_time": "2025-07-17T21:49:36.480140",
     "exception": false,
     "start_time": "2025-07-17T21:49:36.473502",
     "status": "completed"
    },
    "tags": []
   },
   "outputs": [],
   "source": [
    "# @title Licensed under the Apache License, Version 2.0 (the \"License\");\n",
    "# you may not use this file except in compliance with the License.\n",
    "# You may obtain a copy of the License at\n",
    "#\n",
    "# https://www.apache.org/licenses/LICENSE-2.0\n",
    "#\n",
    "# Unless required by applicable law or agreed to in writing, software\n",
    "# distributed under the License is distributed on an \"AS IS\" BASIS,\n",
    "# WITHOUT WARRANTIES OR CONDITIONS OF ANY KIND, either express or implied.\n",
    "# See the License for the specific language governing permissions and\n",
    "# limitations under the License."
   ]
  },
  {
   "cell_type": "markdown",
   "id": "63db102e",
   "metadata": {
    "id": "5v5kLs-DU9qp",
    "papermill": {
     "duration": 0.000106,
     "end_time": "2025-07-17T21:49:36.480468",
     "exception": false,
     "start_time": "2025-07-17T21:49:36.480362",
     "status": "completed"
    },
    "tags": []
   },
   "source": [
    "# Quantum Virtual Engine"
   ]
  },
  {
   "cell_type": "markdown",
   "id": "373942e1",
   "metadata": {
    "id": "wRVl7p4zv8eT",
    "papermill": {
     "duration": 7e-05,
     "end_time": "2025-07-17T21:49:36.480688",
     "exception": false,
     "start_time": "2025-07-17T21:49:36.480618",
     "status": "completed"
    },
    "tags": []
   },
   "source": [
    "<table class=\"tfo-notebook-buttons\" align=\"left\">\n",
    "  <td>\n",
    "    <a target=\"_blank\" href=\"https://quantumai.google/cirq/simulate/virtual_engine_interface\"><img src=\"https://quantumai.google/site-assets/images/buttons/quantumai_logo_1x.png\" />View on QuantumAI</a>\n",
    "  </td>\n",
    "  <td>\n",
    "    <a target=\"_blank\" href=\"https://colab.research.google.com/github/quantumlib/Cirq/blob/main/docs/simulate/virtual_engine_interface.ipynb\"><img src=\"https://quantumai.google/site-assets/images/buttons/colab_logo_1x.png\" />Run in Google Colab</a>\n",
    "  </td>\n",
    "  <td>\n",
    "    <a target=\"_blank\" href=\"https://github.com/quantumlib/Cirq/blob/main/docs/simulate/virtual_engine_interface.ipynb\"><img src=\"https://quantumai.google/site-assets/images/buttons/github_logo_1x.png\" />View source on GitHub</a>\n",
    "  </td>\n",
    "  <td>\n",
    "    <a href=\"https://storage.googleapis.com/tensorflow_docs/Cirq/docs/simulate/virtual_engine_interface.ipynb\"><img src=\"https://quantumai.google/site-assets/images/buttons/download_icon_1x.png\" />Download notebook</a>\n",
    "  </td>\n",
    "</table>"
   ]
  },
  {
   "cell_type": "markdown",
   "id": "7d754865",
   "metadata": {
    "id": "BCeleGCgmY4y",
    "papermill": {
     "duration": 0.000102,
     "end_time": "2025-07-17T21:49:36.480933",
     "exception": false,
     "start_time": "2025-07-17T21:49:36.480831",
     "status": "completed"
    },
    "tags": []
   },
   "source": [
    "Cirq provides the [Quantum Virtual Machine](./quantum_virtual_machine.ipynb), which consists of two components: \n",
    "- The Quantum Virtual Engine: A class that implements the same interface as `cirq_google.Engine`, allowing you to simulate circuits with the same software interface that the real hardware uses. \n",
    "- Realistic noise models that mimic the behavior of real quantum hardware.\n",
    "\n",
    "This tutorial covers the former of the two components, the Quantum Virtual Engine, and how to run circuits on existing and custom virtual processor models."
   ]
  },
  {
   "cell_type": "markdown",
   "id": "9d9de70c",
   "metadata": {
    "id": "4Sif48OM1vPM",
    "papermill": {
     "duration": 7.5e-05,
     "end_time": "2025-07-17T21:49:36.481141",
     "exception": false,
     "start_time": "2025-07-17T21:49:36.481066",
     "status": "completed"
    },
    "tags": []
   },
   "source": [
    "## Setup"
   ]
  },
  {
   "cell_type": "code",
   "execution_count": 2,
   "id": "2db866bf",
   "metadata": {
    "execution": {
     "iopub.execute_input": "2025-07-17T21:49:36.482421Z",
     "iopub.status.busy": "2025-07-17T21:49:36.482158Z",
     "iopub.status.idle": "2025-07-17T21:49:39.403732Z",
     "shell.execute_reply": "2025-07-17T21:49:39.402812Z"
    },
    "id": "AL_CcSjjmL8n",
    "papermill": {
     "duration": 2.924292,
     "end_time": "2025-07-17T21:49:39.405559",
     "exception": false,
     "start_time": "2025-07-17T21:49:36.481267",
     "status": "completed"
    },
    "tags": []
   },
   "outputs": [],
   "source": [
    "try:\n",
    "    import cirq\n",
    "except ImportError:\n",
    "    print(\"installing cirq...\")\n",
    "    !pip install --quiet cirq\n",
    "    print(\"installed cirq.\")\n",
    "    import cirq\n",
    "\n",
    "import cirq_google\n",
    "import sympy"
   ]
  },
  {
   "cell_type": "markdown",
   "id": "e44bebd1",
   "metadata": {
    "id": "zKWtgtrYZIVy",
    "papermill": {
     "duration": 0.000119,
     "end_time": "2025-07-17T21:49:39.406209",
     "exception": false,
     "start_time": "2025-07-17T21:49:39.406090",
     "status": "completed"
    },
    "tags": []
   },
   "source": [
    "Communication with real quantum hardware in Cirq is done through the `cirq_google.Engine` class. Each `Engine` can contain multiple quantum processors, and the `Engine` class provides functions to run circuits and manage jobs sent to those processors. The Virtual Engine in Cirq is an instance of the class `cirq_google.SimulatedLocalEngine` that runs circuits on the built-in Cirq [Simulator](./simulation.ipynb) instead of on hardware, but uses the same interface as `Engine`. This is useful for testing your circuit and code pipeline before running on actual hardware, and can be used as a substitute when the real hardware is not available.\n",
    "\n",
    "The interface implemented by both `cirq_google.Engine` and `cirq_google.SimulatedLocalEngine` is called `cirq_google.AbstractEngine`, and defines the various functions and types involved with using either option. When writing functions of your own, this interface enables you to seamlessly support simulated and real-hardware versions of the `Engine` interface. "
   ]
  },
  {
   "cell_type": "markdown",
   "id": "c0ef40af",
   "metadata": {
    "id": "kuso8OxNo3t0",
    "papermill": {
     "duration": 9e-05,
     "end_time": "2025-07-17T21:49:39.406528",
     "exception": false,
     "start_time": "2025-07-17T21:49:39.406438",
     "status": "completed"
    },
    "tags": []
   },
   "source": [
    "## Instantiate a virtual Engine\n",
    "\n",
    "The easiest way to create a `cirq_google.SimulatedLocalEngine` is to make one from one or more processor templates. \n",
    "Example processor device specifications can be found in \n",
    "the [devices/specifications](https://github.com/quantumlib/Cirq/tree/main/cirq-google/cirq_google/devices/specifications) folder of `cirq_google` in the Cirq GitHub repository.  These device specifications closely match previous versions of Google quantum hardware, and can serve as templates for processors in a `SimulatedLocalEngine`. When Google hardware becomes publicly available again in the future, it will have device specifications like these that differ in details, but not in format.\n",
    "\n",
    "You can create a `cirq_google.SimulatedLocalEngine` that includes these example device specifications using `cirq_google.engine.create_noiseless_virtual_engine_from_latest_templates()`.  For example:"
   ]
  },
  {
   "cell_type": "code",
   "execution_count": 3,
   "id": "708aa135",
   "metadata": {
    "execution": {
     "iopub.execute_input": "2025-07-17T21:49:39.408472Z",
     "iopub.status.busy": "2025-07-17T21:49:39.407819Z",
     "iopub.status.idle": "2025-07-17T21:49:39.446108Z",
     "shell.execute_reply": "2025-07-17T21:49:39.445268Z"
    },
    "id": "dBbX5ll_blLI",
    "papermill": {
     "duration": 0.04103,
     "end_time": "2025-07-17T21:49:39.447737",
     "exception": false,
     "start_time": "2025-07-17T21:49:39.406707",
     "status": "completed"
    },
    "tags": []
   },
   "outputs": [],
   "source": [
    "engine = cirq_google.engine.create_noiseless_virtual_engine_from_latest_templates()"
   ]
  },
  {
   "cell_type": "markdown",
   "id": "dbfd6d0d",
   "metadata": {
    "id": "fwoJCTe0VPxl",
    "papermill": {
     "duration": 9.6e-05,
     "end_time": "2025-07-17T21:49:39.448061",
     "exception": false,
     "start_time": "2025-07-17T21:49:39.447965",
     "status": "completed"
    },
    "tags": []
   },
   "source": [
    "You can then use this Engine object to perform operations as if it included real hardware.  However, all interactions will be local and mocked with these example processors.  Program execution will be done by the Cirq Simulator.\n",
    "\n",
    "For instance, you can list the processors and their device layouts, which are the same as those specified in the `devices/specification` folder:"
   ]
  },
  {
   "cell_type": "code",
   "execution_count": 4,
   "id": "aab4483a",
   "metadata": {
    "execution": {
     "iopub.execute_input": "2025-07-17T21:49:39.449504Z",
     "iopub.status.busy": "2025-07-17T21:49:39.449176Z",
     "iopub.status.idle": "2025-07-17T21:49:39.472140Z",
     "shell.execute_reply": "2025-07-17T21:49:39.471368Z"
    },
    "id": "wF6ay4KPVPTL",
    "papermill": {
     "duration": 0.076392,
     "end_time": "2025-07-17T21:49:39.524597",
     "exception": false,
     "start_time": "2025-07-17T21:49:39.448205",
     "status": "completed"
    },
    "tags": []
   },
   "outputs": [
    {
     "name": "stdout",
     "output_type": "stream",
     "text": [
      "rainbow\n",
      "-----------------\n",
      "                  (3, 2)\n",
      "                  │\n",
      "                  │\n",
      "         (4, 1)───(4, 2)───(4, 3)\n",
      "         │        │        │\n",
      "         │        │        │\n",
      "(5, 0)───(5, 1)───(5, 2)───(5, 3)───(5, 4)\n",
      "         │        │        │        │\n",
      "         │        │        │        │\n",
      "         (6, 1)───(6, 2)───(6, 3)───(6, 4)───(6, 5)\n",
      "                  │        │        │        │\n",
      "                  │        │        │        │\n",
      "                  (7, 2)───(7, 3)───(7, 4)───(7, 5)───(7, 6)\n",
      "                           │        │        │\n",
      "                           │        │        │\n",
      "                           (8, 3)───(8, 4)───(8, 5)\n",
      "                                    │\n",
      "                                    │\n",
      "                                    (9, 4)\n",
      "\n",
      "\n",
      "\n",
      "\n",
      "weber\n",
      "-----------------\n",
      "                                             (0, 5)───(0, 6)\n",
      "                                             │        │\n",
      "                                             │        │\n",
      "                                    (1, 4)───(1, 5)───(1, 6)───(1, 7)\n",
      "                                    │        │        │        │\n",
      "                                    │        │        │        │\n",
      "                                    (2, 4)───(2, 5)───(2, 6)───(2, 7)───(2, 8)\n",
      "                                    │        │        │        │        │\n",
      "                                    │        │        │        │        │\n",
      "                  (3, 2)───(3, 3)───(3, 4)───(3, 5)───(3, 6)───(3, 7)───(3, 8)───(3, 9)\n",
      "                  │        │        │        │        │        │        │        │\n",
      "                  │        │        │        │        │        │        │        │\n",
      "         (4, 1)───(4, 2)───(4, 3)───(4, 4)───(4, 5)───(4, 6)───(4, 7)───(4, 8)───(4, 9)\n",
      "         │        │        │        │        │        │        │        │\n",
      "         │        │        │        │        │        │        │        │\n",
      "(5, 0)───(5, 1)───(5, 2)───(5, 3)───(5, 4)───(5, 5)───(5, 6)───(5, 7)───(5, 8)\n",
      "         │        │        │        │        │        │        │\n",
      "         │        │        │        │        │        │        │\n",
      "         (6, 1)───(6, 2)───(6, 3)───(6, 4)───(6, 5)───(6, 6)───(6, 7)\n",
      "                  │        │        │        │        │\n",
      "                  │        │        │        │        │\n",
      "                  (7, 2)───(7, 3)───(7, 4)───(7, 5)───(7, 6)\n",
      "                           │        │        │\n",
      "                           │        │        │\n",
      "                           (8, 3)───(8, 4)───(8, 5)\n",
      "                                    │\n",
      "                                    │\n",
      "                                    (9, 4)\n",
      "\n",
      "\n",
      "\n",
      "\n",
      "willow_pink\n",
      "-----------------\n",
      "                                                        (0, 6)────(0, 7)────(0, 8)\n",
      "                                                        │         │         │\n",
      "                                                        │         │         │\n",
      "                                              (1, 5)────(1, 6)────(1, 7)────(1, 8)\n",
      "                                              │         │         │         │\n",
      "                                              │         │         │         │\n",
      "                                    (2, 4)────(2, 5)────(2, 6)────(2, 7)────(2, 8)────(2, 9)────(2, 10)\n",
      "                                    │         │         │         │         │         │         │\n",
      "                                    │         │         │         │         │         │         │\n",
      "                           (3, 3)───(3, 4)────(3, 5)────(3, 6)────(3, 7)────(3, 8)────(3, 9)────(3, 10)\n",
      "                           │        │         │         │         │         │         │         │\n",
      "                           │        │         │         │         │         │         │         │\n",
      "                  (4, 2)───(4, 3)───(4, 4)────(4, 5)────(4, 6)────(4, 7)────(4, 8)────(4, 9)────(4, 10)────(4, 11)───(4, 12)\n",
      "                  │        │        │         │         │         │         │         │         │          │         │\n",
      "                  │        │        │         │         │         │         │         │         │          │         │\n",
      "         (5, 1)───(5, 2)───(5, 3)───(5, 4)────(5, 5)────(5, 6)────(5, 7)────(5, 8)────(5, 9)────(5, 10)────(5, 11)───(5, 12)\n",
      "         │        │        │        │         │         │         │         │         │         │          │         │\n",
      "         │        │        │        │         │         │         │         │         │         │          │         │\n",
      "(6, 0)───(6, 1)───(6, 2)───(6, 3)───(6, 4)────(6, 5)────(6, 6)────(6, 7)────(6, 8)────(6, 9)────(6, 10)────(6, 11)───(6, 12)───(6, 13)───(6, 14)\n",
      "                  │        │        │         │         │         │         │         │         │          │         │         │\n",
      "                  │        │        │         │         │         │         │         │         │          │         │         │\n",
      "                  (7, 2)───(7, 3)───(7, 4)────(7, 5)────(7, 6)────(7, 7)────(7, 8)────(7, 9)────(7, 10)────(7, 11)───(7, 12)───(7, 13)\n",
      "                  │        │        │         │         │         │         │         │         │          │         │\n",
      "                  │        │        │         │         │         │         │         │         │          │         │\n",
      "                  (8, 2)───(8, 3)───(8, 4)────(8, 5)────(8, 6)────(8, 7)────(8, 8)────(8, 9)────(8, 10)────(8, 11)───(8, 12)\n",
      "                                    │         │         │         │         │         │         │          │\n",
      "                                    │         │         │         │         │         │         │          │\n",
      "                                    (9, 4)────(9, 5)────(9, 6)────(9, 7)────(9, 8)────(9, 9)────(9, 10)────(9, 11)\n",
      "                                    │         │         │         │         │         │         │\n",
      "                                    │         │         │         │         │         │         │\n",
      "                                    (10, 4)───(10, 5)───(10, 6)───(10, 7)───(10, 8)───(10, 9)───(10, 10)\n",
      "                                                        │         │         │         │\n",
      "                                                        │         │         │         │\n",
      "                                                        (11, 6)───(11, 7)───(11, 8)───(11, 9)\n",
      "                                                        │         │         │\n",
      "                                                        │         │         │\n",
      "                                                        (12, 6)───(12, 7)───(12, 8)\n",
      "\n",
      "\n",
      "\n",
      "\n"
     ]
    }
   ],
   "source": [
    "for proc in engine.list_processors():\n",
    "    print(proc.processor_id)\n",
    "    print('-----------------')\n",
    "    print(proc.get_device())\n",
    "    print('\\n\\n\\n')"
   ]
  },
  {
   "cell_type": "markdown",
   "id": "82d64c23",
   "metadata": {
    "id": "sXsTR4ZpXfka",
    "papermill": {
     "duration": 0.000108,
     "end_time": "2025-07-17T21:49:39.525109",
     "exception": false,
     "start_time": "2025-07-17T21:49:39.525001",
     "status": "completed"
    },
    "tags": []
   },
   "source": [
    "## Run circuits and sweeps\n",
    "\n",
    "After creating the `SimulatedLocalEngine`, you can use any function that you might use with a normal `Engine` that has real quantum processors in it. Most importantly, this includes the ability to run circuits. "
   ]
  },
  {
   "cell_type": "code",
   "execution_count": 5,
   "id": "63aa3163",
   "metadata": {
    "execution": {
     "iopub.execute_input": "2025-07-17T21:49:39.526721Z",
     "iopub.status.busy": "2025-07-17T21:49:39.526350Z",
     "iopub.status.idle": "2025-07-17T21:49:39.536086Z",
     "shell.execute_reply": "2025-07-17T21:49:39.535331Z"
    },
    "id": "xmEzIfseVPg4",
    "papermill": {
     "duration": 0.012207,
     "end_time": "2025-07-17T21:49:39.537461",
     "exception": false,
     "start_time": "2025-07-17T21:49:39.525254",
     "status": "completed"
    },
    "tags": []
   },
   "outputs": [
    {
     "name": "stdout",
     "output_type": "stream",
     "text": [
      "q(7, 2)=0000000000\n"
     ]
    }
   ],
   "source": [
    "# Choose one of the (simulated) processors to run on.\n",
    "weber = engine.get_processor('weber')\n",
    "sampler = weber.get_sampler()\n",
    "\n",
    "# Run a simple circuit for ten repetitions\n",
    "result = sampler.run(cirq.Circuit(cirq.measure(cirq.GridQubit(7, 2))), repetitions=10)\n",
    "print(result)"
   ]
  },
  {
   "cell_type": "markdown",
   "id": "476e8647",
   "metadata": {
    "id": "H8aIHqEBYDnr",
    "papermill": {
     "duration": 9e-05,
     "end_time": "2025-07-17T21:49:39.537739",
     "exception": false,
     "start_time": "2025-07-17T21:49:39.537649",
     "status": "completed"
    },
    "tags": []
   },
   "source": [
    "Note that, even though this is a simulated processor device, there are still device constraints that must be met by a circit in order for it to be executed. For example, the gates and qubits used by the circuit must be supported by the device:"
   ]
  },
  {
   "cell_type": "code",
   "execution_count": 6,
   "id": "7eca6925",
   "metadata": {
    "execution": {
     "iopub.execute_input": "2025-07-17T21:49:39.539109Z",
     "iopub.status.busy": "2025-07-17T21:49:39.538821Z",
     "iopub.status.idle": "2025-07-17T21:49:39.545869Z",
     "shell.execute_reply": "2025-07-17T21:49:39.545150Z"
    },
    "id": "Ky1fiTLPYIqM",
    "papermill": {
     "duration": 0.009374,
     "end_time": "2025-07-17T21:49:39.547239",
     "exception": false,
     "start_time": "2025-07-17T21:49:39.537865",
     "status": "completed"
    },
    "tags": []
   },
   "outputs": [
    {
     "name": "stdout",
     "output_type": "stream",
     "text": [
      "Qubit not on device: cirq.GridQubit(7, 1).\n"
     ]
    }
   ],
   "source": [
    "# Weber does not have a (7, 1) qubit.\n",
    "try:\n",
    "    sampler.run(cirq.Circuit(cirq.measure(cirq.GridQubit(7, 1))), repetitions=10)\n",
    "except ValueError as e:\n",
    "    print(e)"
   ]
  },
  {
   "cell_type": "markdown",
   "id": "60f57d97",
   "metadata": {
    "id": "FtCpP5evY2Ss",
    "papermill": {
     "duration": 8.6e-05,
     "end_time": "2025-07-17T21:49:39.547506",
     "exception": false,
     "start_time": "2025-07-17T21:49:39.547420",
     "status": "completed"
    },
    "tags": []
   },
   "source": [
    "You can also run [Parameter Sweeps](./params.ipynb) with the `run_sweep` function, which returns a `cirq.Job`-type object instead of a `Result`. This way, jobs can be prepared and run asynchronously. When running a parameter sweep over many parameter options, or with particularly large circuits, it can be useful to set the job running and return for the results later, with the ability to check job execution status in between. "
   ]
  },
  {
   "cell_type": "code",
   "execution_count": 7,
   "id": "184cf252",
   "metadata": {
    "execution": {
     "iopub.execute_input": "2025-07-17T21:49:39.549507Z",
     "iopub.status.busy": "2025-07-17T21:49:39.548849Z",
     "iopub.status.idle": "2025-07-17T21:49:39.784560Z",
     "shell.execute_reply": "2025-07-17T21:49:39.783736Z"
    },
    "id": "0VECfWL0Y91w",
    "papermill": {
     "duration": 0.238058,
     "end_time": "2025-07-17T21:49:39.785681",
     "exception": false,
     "start_time": "2025-07-17T21:49:39.547623",
     "status": "completed"
    },
    "tags": []
   },
   "outputs": [
    {
     "name": "stdout",
     "output_type": "stream",
     "text": [
      "job is type <class 'cirq_google.engine.simulated_local_job.SimulatedLocalJob'>\n",
      "job has id projects/fake_project/processors/weber/job/6 and status 1\n",
      "\n",
      "Now executing results!\n"
     ]
    },
    {
     "name": "stdout",
     "output_type": "stream",
     "text": [
      "\n",
      "job has id projects/fake_project/processors/weber/job/6 and status 5\n",
      "\n",
      "Results:\n",
      "Counter({0: 1000})\n",
      "Counter({0: 975, 1: 25})\n",
      "Counter({0: 873, 1: 127})\n",
      "Counter({0: 755, 1: 245})\n",
      "Counter({0: 620, 1: 380})\n",
      "Counter({1: 564, 0: 436})\n",
      "Counter({1: 706, 0: 294})\n",
      "Counter({1: 840, 0: 160})\n",
      "Counter({1: 939, 0: 61})\n",
      "Counter({1: 990, 0: 10})\n",
      "Counter({1: 995, 0: 5})\n",
      "Counter({1: 941, 0: 59})\n",
      "Counter({1: 840, 0: 160})\n",
      "Counter({1: 689, 0: 311})\n",
      "Counter({1: 569, 0: 431})\n",
      "Counter({0: 608, 1: 392})\n",
      "Counter({0: 761, 1: 239})\n",
      "Counter({0: 885, 1: 115})\n",
      "Counter({0: 974, 1: 26})\n",
      "Counter({0: 1000})\n"
     ]
    }
   ],
   "source": [
    "qubit = cirq.GridQubit(7, 2)\n",
    "circuit = cirq.Circuit(cirq.X(qubit) ** sympy.Symbol('t'), cirq.measure(qubit, key='m'))\n",
    "job = weber.run_sweep(circuit, params=cirq.Linspace('t', 0, 2, 20), repetitions=1000)\n",
    "print(f'job is type {type(job)}')\n",
    "print(f'job has id {job.id()} and status {job.execution_status()}')\n",
    "print('')\n",
    "\n",
    "print('Now executing results!')\n",
    "results = job.results()\n",
    "print('')\n",
    "print(f'job has id {job.id()} and status {job.execution_status()}')\n",
    "\n",
    "print('')\n",
    "print('Results:')\n",
    "for result in results:\n",
    "    print(result.histogram(key='m'))"
   ]
  },
  {
   "cell_type": "markdown",
   "id": "b44bf372",
   "metadata": {
    "id": "tRaVuulAbYat",
    "papermill": {
     "duration": 0.00011,
     "end_time": "2025-07-17T21:49:39.786173",
     "exception": false,
     "start_time": "2025-07-17T21:49:39.786063",
     "status": "completed"
    },
    "tags": []
   },
   "source": [
    "## Reservations and scheduling\n",
    "\n",
    "Other functions are available to `Engine` classes that are part of using the `Engine` as a service. These include reservations, scheduling, downtime, and others. These functions are also available with the virtual processors, though all of them will generally succeed since there are no other users using the virtual service."
   ]
  },
  {
   "cell_type": "code",
   "execution_count": 8,
   "id": "13544dc2",
   "metadata": {
    "execution": {
     "iopub.execute_input": "2025-07-17T21:49:39.787863Z",
     "iopub.status.busy": "2025-07-17T21:49:39.787302Z",
     "iopub.status.idle": "2025-07-17T21:49:39.793714Z",
     "shell.execute_reply": "2025-07-17T21:49:39.793036Z"
    },
    "id": "Qc_zkuzdOCVn",
    "papermill": {
     "duration": 0.008318,
     "end_time": "2025-07-17T21:49:39.794665",
     "exception": false,
     "start_time": "2025-07-17T21:49:39.786347",
     "status": "completed"
    },
    "tags": []
   },
   "outputs": [
    {
     "name": "stdout",
     "output_type": "stream",
     "text": [
      "Next expected downtime: None\n",
      "Next expected recovery: None\n",
      "\n",
      "Reservations:\n",
      "---------------\n",
      "[name: \"projects/fake_project/processors/weber/reservation/7\"\n",
      "start_time {\n",
      "  seconds: 1752788979\n",
      "}\n",
      "end_time {\n",
      "  seconds: 1752792579\n",
      "}\n",
      ", name: \"projects/fake_project/processors/weber/reservation/8\"\n",
      "start_time {\n",
      "  seconds: 1752796179\n",
      "}\n",
      "end_time {\n",
      "  seconds: 1752799779\n",
      "}\n",
      "whitelisted_users: \"mysterious_fake_user@nonexistentwebsite.domain\"\n",
      "]\n"
     ]
    }
   ],
   "source": [
    "print(f'Next expected downtime: {weber.expected_down_time()}')\n",
    "print(f'Next expected recovery: {weber.expected_recovery_time()}')\n",
    "\n",
    "# Creating two example reservations\n",
    "import datetime\n",
    "\n",
    "now = datetime.datetime.now()\n",
    "hour = datetime.timedelta(hours=1)\n",
    "try:\n",
    "    weber.create_reservation(start_time=now, end_time=now + hour)\n",
    "    weber.create_reservation(\n",
    "        start_time=now + 2 * hour,\n",
    "        end_time=now + 3 * hour,\n",
    "        whitelisted_users=['mysterious_fake_user@nonexistentwebsite.domain'],\n",
    "    )\n",
    "except ValueError as e:\n",
    "    # If you re-run this cell, it will note that you already have a reservation\n",
    "    print('Cannot reserve time, did you already reserve it?  Error:')\n",
    "    print(e)\n",
    "\n",
    "print('')\n",
    "print('Reservations:')\n",
    "print('---------------')\n",
    "print(f'{weber.list_reservations()}')"
   ]
  },
  {
   "cell_type": "markdown",
   "id": "522cd565",
   "metadata": {
    "id": "Y0CyKooF2k0_",
    "papermill": {
     "duration": 5.7e-05,
     "end_time": "2025-07-17T21:49:39.794849",
     "exception": false,
     "start_time": "2025-07-17T21:49:39.794792",
     "status": "completed"
    },
    "tags": []
   },
   "source": [
    "The processor also comes with a stock calibration metric report. By default, all of the error values are zero."
   ]
  },
  {
   "cell_type": "code",
   "execution_count": 9,
   "id": "c7f89979",
   "metadata": {
    "execution": {
     "iopub.execute_input": "2025-07-17T21:49:39.795955Z",
     "iopub.status.busy": "2025-07-17T21:49:39.795627Z",
     "iopub.status.idle": "2025-07-17T21:49:39.800710Z",
     "shell.execute_reply": "2025-07-17T21:49:39.800023Z"
    },
    "id": "an5RBcbK2jNs",
    "papermill": {
     "duration": 0.00693,
     "end_time": "2025-07-17T21:49:39.801848",
     "exception": false,
     "start_time": "2025-07-17T21:49:39.794918",
     "status": "completed"
    },
    "tags": []
   },
   "outputs": [
    {
     "name": "stdout",
     "output_type": "stream",
     "text": [
      "Calibrations:\n",
      "---------------\n",
      "Calibration metrics: \n",
      "    ['single_qubit_p00_error', 'single_qubit_p11_error', 'single_qubit_readout_separation_error', 'parallel_p00_error', 'parallel_p11_error', 'single_qubit_rb_average_error_per_gate', 'single_qubit_rb_incoherent_error_per_gate', 'single_qubit_rb_pauli_error_per_gate', 'two_qubit_sycamore_gate_xeb_average_error_per_cycle', 'two_qubit_sycamore_gate_xeb_pauli_error_per_cycle', 'two_qubit_sycamore_gate_xeb_incoherent_error_per_cycle', 'two_qubit_sqrt_iswap_gate_xeb_average_error_per_cycle', 'two_qubit_sqrt_iswap_gate_xeb_pauli_error_per_cycle', 'two_qubit_sqrt_iswap_gate_xeb_incoherent_error_per_cycle', 'two_qubit_parallel_sycamore_gate_xeb_average_error_per_cycle', 'two_qubit_parallel_sycamore_gate_xeb_pauli_error_per_cycle', 'two_qubit_parallel_sycamore_gate_xeb_incoherent_error_per_cycle', 'two_qubit_parallel_sqrt_iswap_gate_xeb_average_error_per_cycle', 'two_qubit_parallel_sqrt_iswap_gate_xeb_pauli_error_per_cycle', 'two_qubit_parallel_sqrt_iswap_gate_xeb_incoherent_error_per_cycle', 'single_qubit_idle_t1_micros']\n",
      "single_qubit_p00_error\n",
      "   (cirq.GridQubit(5, 0),): [0.0]\n",
      "   (cirq.GridQubit(3, 2),): [0.0]\n",
      "   (cirq.GridQubit(4, 2),): [0.0]\n",
      "two_qubit_sycamore_gate_xeb_average_error_per_cycle\n",
      "   (cirq.GridQubit(0, 5), cirq.GridQubit(0, 6)): [0.0]\n",
      "   (cirq.GridQubit(0, 5), cirq.GridQubit(1, 5)): [0.0]\n",
      "   (cirq.GridQubit(0, 6), cirq.GridQubit(1, 6)): [0.0]\n"
     ]
    }
   ],
   "source": [
    "print('Calibrations:')\n",
    "print('---------------')\n",
    "calibration = weber.list_calibrations()[0]\n",
    "print(f\"Calibration metrics: \\n    {list(calibration.keys())}\")\n",
    "# Example calibration data\n",
    "for metric in [\"single_qubit_p00_error\", \"two_qubit_sycamore_gate_xeb_average_error_per_cycle\"]:\n",
    "    print(metric)\n",
    "    data = calibration[metric]\n",
    "    # Only print the first couple qubits/qubit pairs\n",
    "    for key in list(data.keys())[:3]:\n",
    "        print(f'   {key}: {data[key]}')"
   ]
  },
  {
   "cell_type": "markdown",
   "id": "ed1def5b",
   "metadata": {
    "id": "XFsv1dkrQqIs",
    "papermill": {
     "duration": 8.1e-05,
     "end_time": "2025-07-17T21:49:39.802093",
     "exception": false,
     "start_time": "2025-07-17T21:49:39.802012",
     "status": "completed"
    },
    "tags": []
   },
   "source": [
    "## Create a custom processor from a device\n",
    "\n",
    "You can also create processors to mimic other devices as needed.  Each of these classes is customizable and can be modified to suit your simulation needs.\n",
    "\n",
    "You can create processors from existing devices, like `cirq_google.Sycamore`, with `cirq_google.engine.create_noiseless_virtual_engine_from_device`:"
   ]
  },
  {
   "cell_type": "code",
   "execution_count": 10,
   "id": "75f6175d",
   "metadata": {
    "execution": {
     "iopub.execute_input": "2025-07-17T21:49:39.803295Z",
     "iopub.status.busy": "2025-07-17T21:49:39.802987Z",
     "iopub.status.idle": "2025-07-17T21:49:39.818655Z",
     "shell.execute_reply": "2025-07-17T21:49:39.817934Z"
    },
    "id": "TBdZgcyGRFKy",
    "papermill": {
     "duration": 0.017555,
     "end_time": "2025-07-17T21:49:39.819755",
     "exception": false,
     "start_time": "2025-07-17T21:49:39.802200",
     "status": "completed"
    },
    "tags": []
   },
   "outputs": [
    {
     "name": "stdout",
     "output_type": "stream",
     "text": [
      "['sycamore']\n",
      "                                             (0, 5)───(0, 6)\n",
      "                                             │        │\n",
      "                                             │        │\n",
      "                                    (1, 4)───(1, 5)───(1, 6)───(1, 7)\n",
      "                                    │        │        │        │\n",
      "                                    │        │        │        │\n",
      "                           (2, 3)───(2, 4)───(2, 5)───(2, 6)───(2, 7)───(2, 8)\n",
      "                           │        │        │        │        │        │\n",
      "                           │        │        │        │        │        │\n",
      "                  (3, 2)───(3, 3)───(3, 4)───(3, 5)───(3, 6)───(3, 7)───(3, 8)───(3, 9)\n",
      "                  │        │        │        │        │        │        │        │\n",
      "                  │        │        │        │        │        │        │        │\n",
      "         (4, 1)───(4, 2)───(4, 3)───(4, 4)───(4, 5)───(4, 6)───(4, 7)───(4, 8)───(4, 9)\n",
      "         │        │        │        │        │        │        │        │\n",
      "         │        │        │        │        │        │        │        │\n",
      "(5, 0)───(5, 1)───(5, 2)───(5, 3)───(5, 4)───(5, 5)───(5, 6)───(5, 7)───(5, 8)\n",
      "         │        │        │        │        │        │        │\n",
      "         │        │        │        │        │        │        │\n",
      "         (6, 1)───(6, 2)───(6, 3)───(6, 4)───(6, 5)───(6, 6)───(6, 7)\n",
      "                  │        │        │        │        │\n",
      "                  │        │        │        │        │\n",
      "                  (7, 2)───(7, 3)───(7, 4)───(7, 5)───(7, 6)\n",
      "                           │        │        │\n",
      "                           │        │        │\n",
      "                           (8, 3)───(8, 4)───(8, 5)\n",
      "                                    │\n",
      "                                    │\n",
      "                                    (9, 4)\n"
     ]
    }
   ],
   "source": [
    "sycamore_engine = cirq_google.engine.create_noiseless_virtual_engine_from_device(\n",
    "    'sycamore', cirq_google.Sycamore\n",
    ")\n",
    "\n",
    "# Note that the previous function creates an engine with just one processor\n",
    "print([proc.processor_id for proc in sycamore_engine.list_processors()])\n",
    "print(sycamore_engine.get_processor('sycamore').get_device())"
   ]
  },
  {
   "cell_type": "markdown",
   "id": "5b108439",
   "metadata": {
    "id": "n0CXvI0XR9iv",
    "papermill": {
     "duration": 8.6e-05,
     "end_time": "2025-07-17T21:49:39.820008",
     "exception": false,
     "start_time": "2025-07-17T21:49:39.819922",
     "status": "completed"
    },
    "tags": []
   },
   "source": [
    "## Create a custom processor from a specification\n",
    "\n",
    "You can also create virtual engines from device specifications written in the [Protocol Buffer](https://developers.google.com/protocol-buffers) structured-data file format. This allows for detailed custom device creation, in the case where you want to see how a slightly modified existing device, or a completely new device, would work in Cirq.\n",
    "\n",
    "The previous specification files mentioned in the [devices/specifications](https://github.com/quantumlib/Cirq/tree/main/cirq-google/cirq_google/devices/specifications) in the Cirq repository are already in this file format. The details of this format are subject to change as Cirq is updated, but it is designed to be human-readable. If you want to work with a very custom device, the best place to start is by inspecting one of these files, but be aware that the format may change without notice."
   ]
  },
  {
   "cell_type": "code",
   "execution_count": 11,
   "id": "4314cd08",
   "metadata": {
    "execution": {
     "iopub.execute_input": "2025-07-17T21:49:39.821333Z",
     "iopub.status.busy": "2025-07-17T21:49:39.821016Z",
     "iopub.status.idle": "2025-07-17T21:49:39.826930Z",
     "shell.execute_reply": "2025-07-17T21:49:39.826268Z"
    },
    "id": "WS8vRtvMRxBj",
    "papermill": {
     "duration": 0.007884,
     "end_time": "2025-07-17T21:49:39.828001",
     "exception": false,
     "start_time": "2025-07-17T21:49:39.820117",
     "status": "completed"
    },
    "tags": []
   },
   "outputs": [
    {
     "name": "stdout",
     "output_type": "stream",
     "text": [
      "Processor: rainbow\n",
      "valid_qubits: \"3_2\"\n",
      "valid_qubits: \"4_1\"\n",
      "valid_qubits: \"4_2\"\n",
      "valid_qubits: \"4_3\"\n",
      "valid_qubits: \"5_0\"\n",
      "valid_qubits: \"5_1\"\n",
      "valid_qubits: \"5_2\"\n",
      "valid_qubits: \"5_3\"\n",
      "valid_qubits: \"5_4\"\n",
      "valid_qubits: \"6_1\"\n",
      "...\n"
     ]
    }
   ],
   "source": [
    "import importlib\n",
    "from cirq_google.devices import specifications\n",
    "\n",
    "# Get the processor identifier and file location from MOST_RECENT_TEMPLATES.\n",
    "processor_id, template_name = next(\n",
    "    iter(cirq_google.engine.virtual_engine_factory.MOST_RECENT_TEMPLATES.items())\n",
    ")\n",
    "# Read the protobuf template.\n",
    "device_str = importlib.resources.files(specifications).joinpath(template_name).read_text()\n",
    "# Print just the first 10 lines of the very long protobuf specification.\n",
    "print(f'Processor: {processor_id}')\n",
    "print('\\n'.join(device_str.splitlines()[:10]))\n",
    "print('...')"
   ]
  },
  {
   "cell_type": "markdown",
   "id": "0da54119",
   "metadata": {
    "id": "MoPt-4l3B6-x",
    "papermill": {
     "duration": 7.7e-05,
     "end_time": "2025-07-17T21:49:39.828235",
     "exception": false,
     "start_time": "2025-07-17T21:49:39.828158",
     "status": "completed"
    },
    "tags": []
   },
   "source": [
    "In order to use this specification protobuf file string, parse it with `google.protobuf.text_format` and create the `SimulatedLocalEngine` with `cirq_google.engine.create_noiseless_virtual_engine_from_proto`. \n"
   ]
  },
  {
   "cell_type": "code",
   "execution_count": 12,
   "id": "68b2bfe0",
   "metadata": {
    "execution": {
     "iopub.execute_input": "2025-07-17T21:49:39.829286Z",
     "iopub.status.busy": "2025-07-17T21:49:39.829060Z",
     "iopub.status.idle": "2025-07-17T21:49:39.845380Z",
     "shell.execute_reply": "2025-07-17T21:49:39.844688Z"
    },
    "id": "0Ix-jMPvB5qV",
    "papermill": {
     "duration": 0.018093,
     "end_time": "2025-07-17T21:49:39.846427",
     "exception": false,
     "start_time": "2025-07-17T21:49:39.828334",
     "status": "completed"
    },
    "tags": []
   },
   "outputs": [
    {
     "name": "stdout",
     "output_type": "stream",
     "text": [
      "['rainbow']\n",
      "                  (3, 2)\n",
      "                  │\n",
      "                  │\n",
      "         (4, 1)───(4, 2)───(4, 3)\n",
      "         │        │        │\n",
      "         │        │        │\n",
      "(5, 0)───(5, 1)───(5, 2)───(5, 3)───(5, 4)\n",
      "         │        │        │        │\n",
      "         │        │        │        │\n",
      "         (6, 1)───(6, 2)───(6, 3)───(6, 4)───(6, 5)\n",
      "                  │        │        │        │\n",
      "                  │        │        │        │\n",
      "                  (7, 2)───(7, 3)───(7, 4)───(7, 5)───(7, 6)\n",
      "                           │        │        │\n",
      "                           │        │        │\n",
      "                           (8, 3)───(8, 4)───(8, 5)\n",
      "                                    │\n",
      "                                    │\n",
      "                                    (9, 4)\n",
      "results \n",
      "\n",
      "Qubit not on device: cirq.GridQubit(1, 1).\n"
     ]
    }
   ],
   "source": [
    "import google.protobuf.text_format as text_format\n",
    "\n",
    "# Import the spec.\n",
    "device_spec = cirq_google.api.v2.device_pb2.DeviceSpecification()\n",
    "text_format.Parse(device_str, device_spec)\n",
    "four_engine = cirq_google.engine.create_noiseless_virtual_engine_from_proto(\n",
    "    processor_id, device_spec\n",
    ")\n",
    "# Prepare a sampler.\n",
    "print([proc.processor_id for proc in four_engine.list_processors()])\n",
    "processor = four_engine.get_processor(processor_id)\n",
    "print(processor.get_device())\n",
    "sampler = processor.get_sampler()\n",
    "\n",
    "q1_1 = cirq.GridQubit(1, 1)\n",
    "q1_2 = cirq.GridQubit(1, 2)\n",
    "q2_1 = cirq.GridQubit(2, 1)\n",
    "# Run a circuit with one each of Z, CZ, Measure, and CircuitOperation.\n",
    "circuit = cirq.Circuit(\n",
    "    cirq.CircuitOperation(cirq.FrozenCircuit(cirq.Z(q2_1), cirq.CZ(q1_1, q1_2))),\n",
    "    cirq.measure(q1_1),\n",
    "    cirq.measure(q2_1),\n",
    ")\n",
    "print('results', '\\n')\n",
    "try:\n",
    "    print(sampler.run(circuit))\n",
    "except ValueError as e:\n",
    "    print(e)"
   ]
  },
  {
   "cell_type": "markdown",
   "id": "ff023ebc",
   "metadata": {
    "id": "zOtDbCSas8qm",
    "papermill": {
     "duration": 8.1e-05,
     "end_time": "2025-07-17T21:49:39.846675",
     "exception": false,
     "start_time": "2025-07-17T21:49:39.846594",
     "status": "completed"
    },
    "tags": []
   },
   "source": [
    "# Summary\n",
    "\n",
    "Cirq provides the `cirq.SimulatedLocalEngine`. which allows you to run circuits on the Cirq Simulator through the same interface as the `cirq.Engine` object, which is used for running on real quantum hardware. This is useful both as a preparation step before running on real quantum hardware, and as a substitute when real hardware is unavailable.\n",
    "\n",
    "As presented in this page, the virtual Engine is completely noiseless. In order to learn about using the virtual Engine with noise models, including realistic noise models which closely mimic actual hardware, see the [Quantum Virtual Machine](./quantum_virtual_machine.ipynb) page. "
   ]
  }
 ],
 "metadata": {
  "colab": {
   "collapsed_sections": [],
   "name": "virtual_engine_interface.ipynb",
   "toc_visible": true
  },
  "kernelspec": {
   "display_name": "Python 3",
   "name": "python3"
  },
  "language_info": {
   "codemirror_mode": {
    "name": "ipython",
    "version": 3
   },
   "file_extension": ".py",
   "mimetype": "text/x-python",
   "name": "python",
   "nbconvert_exporter": "python",
   "pygments_lexer": "ipython3",
   "version": "3.11.9"
  },
  "papermill": {
   "default_parameters": {},
   "duration": 5.770011,
   "end_time": "2025-07-17T21:49:40.765875",
   "environment_variables": {},
   "exception": null,
   "input_path": "/tmp/tmpb6k2shkr-rewrite.ipynb",
   "output_path": "/home/user/Cirq/out/docs/simulate/virtual_engine_interface.out.ipynb",
   "parameters": {},
   "start_time": "2025-07-17T21:49:34.995864",
   "version": "2.6.0"
  }
 },
 "nbformat": 4,
 "nbformat_minor": 5
}
