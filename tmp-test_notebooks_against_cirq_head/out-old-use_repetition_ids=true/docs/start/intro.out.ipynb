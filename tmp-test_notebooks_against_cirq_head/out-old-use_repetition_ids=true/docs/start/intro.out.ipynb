{
 "cells": [
  {
   "cell_type": "code",
   "execution_count": 1,
   "id": "4b642f62",
   "metadata": {
    "cellView": "form",
    "execution": {
     "iopub.execute_input": "2025-07-17T21:49:36.521452Z",
     "iopub.status.busy": "2025-07-17T21:49:36.521148Z",
     "iopub.status.idle": "2025-07-17T21:49:36.524985Z",
     "shell.execute_reply": "2025-07-17T21:49:36.524250Z"
    },
    "id": "906e07f6e562",
    "papermill": {
     "duration": 0.006544,
     "end_time": "2025-07-17T21:49:36.526416",
     "exception": false,
     "start_time": "2025-07-17T21:49:36.519872",
     "status": "completed"
    },
    "tags": []
   },
   "outputs": [],
   "source": [
    "# @title Copyright 2022 The Cirq Developers\n",
    "# Licensed under the Apache License, Version 2.0 (the \"License\");\n",
    "# you may not use this file except in compliance with the License.\n",
    "# You may obtain a copy of the License at\n",
    "#\n",
    "# https://www.apache.org/licenses/LICENSE-2.0\n",
    "#\n",
    "# Unless required by applicable law or agreed to in writing, software\n",
    "# distributed under the License is distributed on an \"AS IS\" BASIS,\n",
    "# WITHOUT WARRANTIES OR CONDITIONS OF ANY KIND, either express or implied.\n",
    "# See the License for the specific language governing permissions and\n",
    "# limitations under the License."
   ]
  },
  {
   "cell_type": "markdown",
   "id": "4ab355d1",
   "metadata": {
    "id": "19599098c1f9",
    "papermill": {
     "duration": 0.000149,
     "end_time": "2025-07-17T21:49:36.527178",
     "exception": false,
     "start_time": "2025-07-17T21:49:36.527029",
     "status": "completed"
    },
    "tags": []
   },
   "source": [
    "# Introduction to Cirq"
   ]
  },
  {
   "cell_type": "markdown",
   "id": "b9539667",
   "metadata": {
    "id": "8bd3406cf99e",
    "papermill": {
     "duration": 8.3e-05,
     "end_time": "2025-07-17T21:49:36.527439",
     "exception": false,
     "start_time": "2025-07-17T21:49:36.527356",
     "status": "completed"
    },
    "tags": []
   },
   "source": [
    "<table class=\"tfo-notebook-buttons\" align=\"left\">\n",
    "  <td>\n",
    "    <a target=\"_blank\" href=\"https://quantumai.google/cirq/start/intro\"><img src=\"https://quantumai.google/site-assets/images/buttons/quantumai_logo_1x.png\" />View on QuantumAI</a>\n",
    "  </td>\n",
    "  <td>\n",
    "    <a target=\"_blank\" href=\"https://colab.research.google.com/github/quantumlib/Cirq/blob/main/docs/start/intro.ipynb\"><img src=\"https://quantumai.google/site-assets/images/buttons/colab_logo_1x.png\" />Run in Google Colab</a>\n",
    "  </td>\n",
    "  <td>\n",
    "    <a target=\"_blank\" href=\"https://github.com/quantumlib/Cirq/blob/main/docs/start/intro.ipynb\"><img src=\"https://quantumai.google/site-assets/images/buttons/github_logo_1x.png\" />View source on GitHub</a>\n",
    "  </td>\n",
    "  <td>\n",
    "    <a href=\"https://storage.googleapis.com/tensorflow_docs/Cirq/docs/start/intro.ipynb\"><img src=\"https://quantumai.google/site-assets/images/buttons/download_icon_1x.png\" />Download notebook</a>\n",
    "  </td>\n",
    "</table>"
   ]
  },
  {
   "cell_type": "markdown",
   "id": "ec02a246",
   "metadata": {
    "id": "8m9ye4AS6dE4",
    "papermill": {
     "duration": 7.5e-05,
     "end_time": "2025-07-17T21:49:36.527651",
     "exception": false,
     "start_time": "2025-07-17T21:49:36.527576",
     "status": "completed"
    },
    "tags": []
   },
   "source": [
    "[Cirq](https://github.com/quantumlib/cirq) is a framework for writing quantum algorithms for noisy intermediate-scale quantum (NISQ) devices. Roughly speaking, NISQ devices are those with O(100) qubits that can enact O(1000) gates.  Because the resources for NISQ devices are so constrained, we believe that a framework for writing programs on these devices needs to be aware of all of the architectural properties of the device on which the algorithm is written. This is in contrast to other frameworks where there is a clean separation between the abstract model being used and the details of the device.  \n",
    "\n",
    "In this tutorial we will walk through the basics of writing quantum algorithms in Cirq. Our final goal will be to write a variational ansatz for use in an optimization algorithm."
   ]
  },
  {
   "cell_type": "markdown",
   "id": "2e7af680",
   "metadata": {
    "id": "cc948e49cecb",
    "papermill": {
     "duration": 7.5e-05,
     "end_time": "2025-07-17T21:49:36.527866",
     "exception": false,
     "start_time": "2025-07-17T21:49:36.527791",
     "status": "completed"
    },
    "tags": []
   },
   "source": [
    "# Installing Cirq"
   ]
  },
  {
   "cell_type": "markdown",
   "id": "9525db5d",
   "metadata": {
    "id": "rPgPbry6-mF3",
    "papermill": {
     "duration": 7.5e-05,
     "end_time": "2025-07-17T21:49:36.528064",
     "exception": false,
     "start_time": "2025-07-17T21:49:36.527989",
     "status": "completed"
    },
    "tags": []
   },
   "source": [
    "To use Cirq one first needs to install Cirq.  Installation instructions are available at [https://quantumai.google/cirq/start/install](https://quantumai.google/cirq/start/install).  For the purpose of this tutorial, we run `pip install cirq` as shown in the following code cell to install the latest release of Cirq. \n",
    "\n",
    "> Different notebook execution systems exist, but for most part they have \"run\" button on a cell which you can click, or \"shift + enter\" is often the shortcut to run the cell. \n"
   ]
  },
  {
   "cell_type": "code",
   "execution_count": 2,
   "id": "82968358",
   "metadata": {
    "execution": {
     "iopub.execute_input": "2025-07-17T21:49:36.529431Z",
     "iopub.status.busy": "2025-07-17T21:49:36.529153Z",
     "iopub.status.idle": "2025-07-17T21:49:39.004375Z",
     "shell.execute_reply": "2025-07-17T21:49:39.003654Z"
    },
    "id": "RlJBDvNgC00H",
    "papermill": {
     "duration": 2.477744,
     "end_time": "2025-07-17T21:49:39.005925",
     "exception": false,
     "start_time": "2025-07-17T21:49:36.528181",
     "status": "completed"
    },
    "tags": []
   },
   "outputs": [],
   "source": [
    "try:\n",
    "    import cirq\n",
    "except ImportError:\n",
    "    print(\"installing cirq...\")\n",
    "    !pip install --quiet cirq\n",
    "    print(\"installed cirq.\")\n",
    "    import cirq\n",
    "\n",
    "import matplotlib.pyplot as plt\n",
    "import numpy as np"
   ]
  },
  {
   "cell_type": "markdown",
   "id": "f77d296a",
   "metadata": {
    "id": "GPjUqrK8DJTq",
    "papermill": {
     "duration": 0.00011,
     "end_time": "2025-07-17T21:49:39.006484",
     "exception": false,
     "start_time": "2025-07-17T21:49:39.006374",
     "status": "completed"
    },
    "tags": []
   },
   "source": [
    "Let's check that Cirq has been successfully installed by importing Cirq and printing out a diagram of Google's Sycamore device.\n",
    "\n",
    "\n",
    "![Google's Sycamore chip](https://4.bp.blogspot.com/-b9akad6ismU/WpmyaJo-cYI/AAAAAAAACa8/mCqPBJxv5oUivy6Jq42FSOQYkeRlTmkiwCLcBGAs/s1600/image1.png)"
   ]
  },
  {
   "cell_type": "code",
   "execution_count": 3,
   "id": "f89e801d",
   "metadata": {
    "execution": {
     "iopub.execute_input": "2025-07-17T21:49:39.007975Z",
     "iopub.status.busy": "2025-07-17T21:49:39.007570Z",
     "iopub.status.idle": "2025-07-17T21:49:39.641201Z",
     "shell.execute_reply": "2025-07-17T21:49:39.640192Z"
    },
    "id": "FTrmLyq4C2gf",
    "papermill": {
     "duration": 0.69057,
     "end_time": "2025-07-17T21:49:39.697256",
     "exception": false,
     "start_time": "2025-07-17T21:49:39.006686",
     "status": "completed"
    },
    "tags": []
   },
   "outputs": [
    {
     "name": "stdout",
     "output_type": "stream",
     "text": [
      "                                             (0, 5)───(0, 6)\n",
      "                                             │        │\n",
      "                                             │        │\n",
      "                                    (1, 4)───(1, 5)───(1, 6)───(1, 7)\n",
      "                                    │        │        │        │\n",
      "                                    │        │        │        │\n",
      "                           (2, 3)───(2, 4)───(2, 5)───(2, 6)───(2, 7)───(2, 8)\n",
      "                           │        │        │        │        │        │\n",
      "                           │        │        │        │        │        │\n",
      "                  (3, 2)───(3, 3)───(3, 4)───(3, 5)───(3, 6)───(3, 7)───(3, 8)───(3, 9)\n",
      "                  │        │        │        │        │        │        │        │\n",
      "                  │        │        │        │        │        │        │        │\n",
      "         (4, 1)───(4, 2)───(4, 3)───(4, 4)───(4, 5)───(4, 6)───(4, 7)───(4, 8)───(4, 9)\n",
      "         │        │        │        │        │        │        │        │\n",
      "         │        │        │        │        │        │        │        │\n",
      "(5, 0)───(5, 1)───(5, 2)───(5, 3)───(5, 4)───(5, 5)───(5, 6)───(5, 7)───(5, 8)\n",
      "         │        │        │        │        │        │        │\n",
      "         │        │        │        │        │        │        │\n",
      "         (6, 1)───(6, 2)───(6, 3)───(6, 4)───(6, 5)───(6, 6)───(6, 7)\n",
      "                  │        │        │        │        │\n",
      "                  │        │        │        │        │\n",
      "                  (7, 2)───(7, 3)───(7, 4)───(7, 5)───(7, 6)\n",
      "                           │        │        │\n",
      "                           │        │        │\n",
      "                           (8, 3)───(8, 4)───(8, 5)\n",
      "                                    │\n",
      "                                    │\n",
      "                                    (9, 4)\n"
     ]
    }
   ],
   "source": [
    "\"\"\"Test successful installation by printing out the Sycamore device.\"\"\"\n",
    "\n",
    "import cirq_google\n",
    "\n",
    "print(cirq_google.Sycamore)"
   ]
  },
  {
   "cell_type": "markdown",
   "id": "1bb16db7",
   "metadata": {
    "id": "09zRgohCMiBs",
    "papermill": {
     "duration": 0.000129,
     "end_time": "2025-07-17T21:49:39.697924",
     "exception": false,
     "start_time": "2025-07-17T21:49:39.697795",
     "status": "completed"
    },
    "tags": []
   },
   "source": [
    "This cell should run successfully, and the output should in fact be the grid of qubits for the Sycamore device. If so, the install worked!\n"
   ]
  },
  {
   "cell_type": "markdown",
   "id": "6c48b888",
   "metadata": {
    "id": "3340594dd8c1",
    "papermill": {
     "duration": 9.7e-05,
     "end_time": "2025-07-17T21:49:39.698226",
     "exception": false,
     "start_time": "2025-07-17T21:49:39.698129",
     "status": "completed"
    },
    "tags": []
   },
   "source": [
    "# Qubits, Operations, Moments and Circuits"
   ]
  },
  {
   "cell_type": "markdown",
   "id": "343d70de",
   "metadata": {
    "id": "8A7a3jcql1l5",
    "papermill": {
     "duration": 9.3e-05,
     "end_time": "2025-07-17T21:49:39.698500",
     "exception": false,
     "start_time": "2025-07-17T21:49:39.698407",
     "status": "completed"
    },
    "tags": []
   },
   "source": [
    "In Cirq, circuits are represented by a `Circuit` object. Conceptually:\n",
    "\n",
    "- A `Circuit` is a collection of `Moment`s. \n",
    "- A `Moment` is a collection of `Operation`s that all act during the same abstract time slice. \n",
    "- An `Operation` is an effect that operates on a specific subset of Qubits. \n",
    "  - The most common type of `Operation` is a `Gate` applied to several qubits (a \"`GateOperation`\"). \n",
    "- The `Qubit`s of a circuit are implicitly defined by the operations - you can't allocate qubits to a Circuit.\n",
    "  "
   ]
  },
  {
   "cell_type": "markdown",
   "id": "5e8698b6",
   "metadata": {
    "id": "03b7d753ecd5",
    "papermill": {
     "duration": 0.000168,
     "end_time": "2025-07-17T21:49:39.698849",
     "exception": false,
     "start_time": "2025-07-17T21:49:39.698681",
     "status": "completed"
    },
    "tags": []
   },
   "source": [
    "<img width=\"50%\" src=\"data:image/png;base64,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\"/>"
   ]
  },
  {
   "cell_type": "markdown",
   "id": "4a0bb5b8",
   "metadata": {
    "id": "ca7d9d7b3953",
    "papermill": {
     "duration": 9.6e-05,
     "end_time": "2025-07-17T21:49:39.699126",
     "exception": false,
     "start_time": "2025-07-17T21:49:39.699030",
     "status": "completed"
    },
    "tags": []
   },
   "source": [
    "These ideas are illustrated by the above diagram, where time goes from left to right, horizontal lines are different qubits, operations acting on qubits are the boxes (sometimes spanning multiple qubits) and a moment is a group of operations that \"happen at the same time\". "
   ]
  },
  {
   "cell_type": "markdown",
   "id": "bd74e0e3",
   "metadata": {
    "id": "9768d38c9151",
    "papermill": {
     "duration": 9.3e-05,
     "end_time": "2025-07-17T21:49:39.699381",
     "exception": false,
     "start_time": "2025-07-17T21:49:39.699288",
     "status": "completed"
    },
    "tags": []
   },
   "source": [
    "## Create a `Circuit`"
   ]
  },
  {
   "cell_type": "markdown",
   "id": "acc97300",
   "metadata": {
    "id": "VFwmWPf7D057",
    "papermill": {
     "duration": 8.6e-05,
     "end_time": "2025-07-17T21:49:39.699644",
     "exception": false,
     "start_time": "2025-07-17T21:49:39.699558",
     "status": "completed"
    },
    "tags": []
   },
   "source": [
    "A typical way to create a `Circuit` is shown below."
   ]
  },
  {
   "cell_type": "code",
   "execution_count": 4,
   "id": "ed3d7bbc",
   "metadata": {
    "execution": {
     "iopub.execute_input": "2025-07-17T21:49:39.701637Z",
     "iopub.status.busy": "2025-07-17T21:49:39.701137Z",
     "iopub.status.idle": "2025-07-17T21:49:39.709490Z",
     "shell.execute_reply": "2025-07-17T21:49:39.708718Z"
    },
    "id": "pE88WsFeDGfs",
    "papermill": {
     "duration": 0.011115,
     "end_time": "2025-07-17T21:49:39.710936",
     "exception": false,
     "start_time": "2025-07-17T21:49:39.699821",
     "status": "completed"
    },
    "tags": []
   },
   "outputs": [
    {
     "name": "stdout",
     "output_type": "stream",
     "text": [
      "Circuit:\n",
      "\n",
      "a: ───H───────────\n",
      "\n",
      "b: ───H───@───H───\n",
      "          │\n",
      "c: ───────X───────\n"
     ]
    }
   ],
   "source": [
    "\"\"\"Creating a circuit.\"\"\"\n",
    "\n",
    "# Define three qubits.\n",
    "a = cirq.NamedQubit(\"a\")\n",
    "b = cirq.NamedQubit(\"b\")\n",
    "c = cirq.NamedQubit(\"c\")\n",
    "\n",
    "# Define a list of operations.\n",
    "ops = [cirq.H(a), cirq.H(b), cirq.CNOT(b, c), cirq.H(b)]\n",
    "\n",
    "# Create a circuit from the list of operations.\n",
    "circuit = cirq.Circuit(ops)\n",
    "print(\"Circuit:\\n\")\n",
    "print(circuit)"
   ]
  },
  {
   "cell_type": "markdown",
   "id": "e66fd99f",
   "metadata": {
    "id": "j0qHxsoyIrcj",
    "papermill": {
     "duration": 0.000101,
     "end_time": "2025-07-17T21:49:39.711272",
     "exception": false,
     "start_time": "2025-07-17T21:49:39.711171",
     "status": "completed"
    },
    "tags": []
   },
   "source": [
    "## Exercise: Create a Circuit\n",
    "\n",
    "Write a program to create the following circuit.\n",
    "\n",
    "```\n",
    "          ┌──┐\n",
    "0: ───H─────@────────\n",
    "            │\n",
    "1: ───H────@┼────H───\n",
    "           ││\n",
    "2: ────────X┼────────\n",
    "            │\n",
    "3: ─────────X────────\n",
    "          └──┘\n",
    "```\n",
    "\n",
    "Note that the circuit has a total of 3 different moments."
   ]
  },
  {
   "cell_type": "code",
   "execution_count": 5,
   "id": "37d6ddd8",
   "metadata": {
    "cellView": "form",
    "execution": {
     "iopub.execute_input": "2025-07-17T21:49:39.712491Z",
     "iopub.status.busy": "2025-07-17T21:49:39.712182Z",
     "iopub.status.idle": "2025-07-17T21:49:39.715542Z",
     "shell.execute_reply": "2025-07-17T21:49:39.714858Z"
    },
    "id": "6a5TEN5bKAPz",
    "papermill": {
     "duration": 0.005551,
     "end_time": "2025-07-17T21:49:39.716944",
     "exception": false,
     "start_time": "2025-07-17T21:49:39.711393",
     "status": "completed"
    },
    "tags": []
   },
   "outputs": [],
   "source": [
    "# @title Attempt the solution here\n",
    "\n",
    "# Define 4 qubits.\n",
    "\n",
    "# Define a list of operations.\n",
    "\n",
    "# Create a circuit from the list of operations."
   ]
  },
  {
   "cell_type": "code",
   "execution_count": 6,
   "id": "c45e9676",
   "metadata": {
    "cellView": "form",
    "execution": {
     "iopub.execute_input": "2025-07-17T21:49:39.718092Z",
     "iopub.status.busy": "2025-07-17T21:49:39.717816Z",
     "iopub.status.idle": "2025-07-17T21:49:39.725171Z",
     "shell.execute_reply": "2025-07-17T21:49:39.724406Z"
    },
    "id": "Q52e1pX_JIdi",
    "papermill": {
     "duration": 0.009381,
     "end_time": "2025-07-17T21:49:39.726461",
     "exception": false,
     "start_time": "2025-07-17T21:49:39.717080",
     "status": "completed"
    },
    "tags": []
   },
   "outputs": [
    {
     "name": "stdout",
     "output_type": "stream",
     "text": [
      "Circuit:\n",
      "\n",
      "          ┌──┐\n",
      "0: ───H─────@────────\n",
      "            │\n",
      "1: ───H────@┼────H───\n",
      "           ││\n",
      "2: ────────X┼────────\n",
      "            │\n",
      "3: ─────────X────────\n",
      "          └──┘\n"
     ]
    }
   ],
   "source": [
    "# @title Expand to view the solution\n",
    "\"\"\"Creating a circuit.\"\"\"\n",
    "# Define four line qubits. NamedQubits would also work, however this demonstrates a more succint syntax.\n",
    "q = cirq.LineQubit.range(4)\n",
    "\n",
    "# Define a list of operations.\n",
    "ops = [cirq.H(q[0]), cirq.H(q[1]), cirq.CNOT(q[1], q[2]), cirq.CNOT(q[0], q[3]), cirq.H(q[1])]\n",
    "\n",
    "# Create a circuit from the list of operations.\n",
    "print(\"Circuit:\\n\")\n",
    "print(cirq.Circuit(ops))"
   ]
  },
  {
   "cell_type": "markdown",
   "id": "360b056e",
   "metadata": {
    "id": "-06jQwEdI4DJ",
    "papermill": {
     "duration": 8.9e-05,
     "end_time": "2025-07-17T21:49:39.726757",
     "exception": false,
     "start_time": "2025-07-17T21:49:39.726668",
     "status": "completed"
    },
    "tags": []
   },
   "source": [
    "## Unpacking the circuit\n",
    "We can unpack this a bit and see all of the components for the circuit.\n",
    "\n",
    "The first thing we do is pick some qubits to use. There are many different types of qubits in Cirq, and you can define your own by inheriting from the `cirq.Qid` class. There's nothing inherently special or magical about these quantum id types such as `cirq.NamedQubit`. They simply identify what you wish to operate on, which is relevant when you are targeting a specific device. For example, if we were creating a circuit for the Sycamore device and wanted to refer to the qubit in the left-most position, we would use `cirq.GridQubit(5, 0)`. (See the first diagram of the Sycamore device we printed out.) For simplicity, in the previous cell we defined `cirq.NamedQubit`s which are simply qubits that can be identified by a name.\n",
    "\n",
    "Next, we encounter the object `cirq.H` which is a Hadamard gate with unitary\n",
    "\n",
    "$$\n",
    "H = {1 \\over \\sqrt{2}} \\left[ \\begin{array}[cc]  & 1 & 1  \\\\ 1 & -1 \\end{array}\\right] .\n",
    "$$\n",
    "\n",
    "In Cirq, `cirq.H` is an instance of the `cirq.HPowGate` class, which itself is a subclass of `Gate` (along with other classes). We can use Cirq to see the unitary matrix of `Gate` objects as follows."
   ]
  },
  {
   "cell_type": "code",
   "execution_count": 7,
   "id": "92d2cb85",
   "metadata": {
    "execution": {
     "iopub.execute_input": "2025-07-17T21:49:39.727937Z",
     "iopub.status.busy": "2025-07-17T21:49:39.727707Z",
     "iopub.status.idle": "2025-07-17T21:49:39.734894Z",
     "shell.execute_reply": "2025-07-17T21:49:39.734263Z"
    },
    "id": "YKfg575v1DQB",
    "papermill": {
     "duration": 0.009235,
     "end_time": "2025-07-17T21:49:39.736138",
     "exception": false,
     "start_time": "2025-07-17T21:49:39.726903",
     "status": "completed"
    },
    "tags": []
   },
   "outputs": [
    {
     "data": {
      "text/plain": [
       "array([[ 0.70710678+0.j,  0.70710678+0.j],\n",
       "       [ 0.70710678+0.j, -0.70710678+0.j]])"
      ]
     },
     "execution_count": 7,
     "metadata": {},
     "output_type": "execute_result"
    }
   ],
   "source": [
    "\"\"\"Get the unitary of a gate, here the Hadamard gate.\"\"\"\n",
    "\n",
    "cirq.unitary(cirq.H)"
   ]
  },
  {
   "cell_type": "markdown",
   "id": "30f14f70",
   "metadata": {
    "id": "hJMAciW21KEg",
    "papermill": {
     "duration": 9.5e-05,
     "end_time": "2025-07-17T21:49:39.736458",
     "exception": false,
     "start_time": "2025-07-17T21:49:39.736363",
     "status": "completed"
    },
    "tags": []
   },
   "source": [
    "We see that this agrees with the unitary for the Hadamard gate above.\n",
    "\n",
    "`Gate` objects have the ability to be applied \"on\" one or more qubits.  There are two ways to do this for gates, either using the `on` method or by directly calling the gate on the qubits as if the gate were a function and the qubits were arguments.  For example to apply the `H` on qubit `a` we can say `cirq.H.on(a)` or `cirq.H(a)`.\n",
    "\n",
    "The result of those expressions is typically a `GateOperation` object, which is a type of `Operation`.\n",
    "\n",
    "> **Note**: In Cirq, there is a strong distinction between `Operation`s and `Gate`s. An `Operation` is associated with specific qubits and can be put in `Circuit`s. A `Gate` has unspecified qubits, and will produce an operation when acting on qubits.\n",
    "\n",
    "Once you have a collection of operations, you can construct a `Circuit` by passing the operations into the constructor for a `Circuit`:\n",
    "\n",
    "```\n",
    "ops = [list of operations]\n",
    "circuit = cirq.Circuit(ops)\n",
    "```\n",
    "\n",
    "The last thing we did in the example code was use the (surprisingly useful) ability to print the circuit as a text diagram.\n",
    "\n",
    "The diagram is visually helpful, but it doesn't really get into the internal details of how the `Circuit` is represented. As mentioned, a `Circuit` is made up of a sequence of `Moment` objects, and each `Moment` object is a list of non-overlapping `Operation`s. To see this internal structure, we can iterate over the `Moment`s in the `Circuit` and print them out."
   ]
  },
  {
   "cell_type": "code",
   "execution_count": 8,
   "id": "04728a8c",
   "metadata": {
    "execution": {
     "iopub.execute_input": "2025-07-17T21:49:39.738118Z",
     "iopub.status.busy": "2025-07-17T21:49:39.737541Z",
     "iopub.status.idle": "2025-07-17T21:49:39.746338Z",
     "shell.execute_reply": "2025-07-17T21:49:39.745552Z"
    },
    "id": "hH-y4JiEMv25",
    "papermill": {
     "duration": 0.011089,
     "end_time": "2025-07-17T21:49:39.747707",
     "exception": false,
     "start_time": "2025-07-17T21:49:39.736618",
     "status": "completed"
    },
    "tags": []
   },
   "outputs": [
    {
     "name": "stdout",
     "output_type": "stream",
     "text": [
      "Circuit:\n",
      "\n",
      "a: ───H───────────\n",
      "\n",
      "b: ───H───@───H───\n",
      "          │\n",
      "c: ───────X───────\n",
      "\n",
      "Moments in the circuit:\n",
      "\n",
      "Moment 0: \n",
      "  ╷ None\n",
      "╶─┼──────\n",
      "a │ H\n",
      "  │\n",
      "b │ H\n",
      "  │\n",
      "Moment 1: \n",
      "  ╷ None\n",
      "╶─┼──────\n",
      "b │ @\n",
      "  │ │\n",
      "c │ X\n",
      "  │\n",
      "Moment 2: \n",
      "  ╷ None\n",
      "╶─┼──────\n",
      "b │ H\n",
      "  │\n"
     ]
    }
   ],
   "source": [
    "\"\"\"Print out the moments in a circuit.\"\"\"\n",
    "\n",
    "print(\"Circuit:\\n\")\n",
    "print(circuit)\n",
    "\n",
    "# Inspecting individual moments.\n",
    "print(\"\\nMoments in the circuit:\\n\")\n",
    "for i, moment in enumerate(circuit):\n",
    "    print(f'Moment {i}: \\n{moment}')"
   ]
  },
  {
   "cell_type": "markdown",
   "id": "c0ee335f",
   "metadata": {
    "id": "pm5iC7MNQY6-",
    "papermill": {
     "duration": 0.000101,
     "end_time": "2025-07-17T21:49:39.748008",
     "exception": false,
     "start_time": "2025-07-17T21:49:39.747907",
     "status": "completed"
    },
    "tags": []
   },
   "source": [
    "We see that this circuit consists of three moments. For even more on the underlying structure of a circuit, we can print the circuit's `repr`. This returns a more detailed (and usually less readable) expression."
   ]
  },
  {
   "cell_type": "code",
   "execution_count": 9,
   "id": "91cc8fd0",
   "metadata": {
    "execution": {
     "iopub.execute_input": "2025-07-17T21:49:39.749598Z",
     "iopub.status.busy": "2025-07-17T21:49:39.749186Z",
     "iopub.status.idle": "2025-07-17T21:49:39.754257Z",
     "shell.execute_reply": "2025-07-17T21:49:39.753469Z"
    },
    "id": "2Y6zG_peQG1y",
    "papermill": {
     "duration": 0.00747,
     "end_time": "2025-07-17T21:49:39.755616",
     "exception": false,
     "start_time": "2025-07-17T21:49:39.748146",
     "status": "completed"
    },
    "tags": []
   },
   "outputs": [
    {
     "name": "stdout",
     "output_type": "stream",
     "text": [
      "cirq.Circuit([\n",
      "    cirq.Moment(\n",
      "        cirq.H(cirq.NamedQubit('a')),\n",
      "        cirq.H(cirq.NamedQubit('b')),\n",
      "    ),\n",
      "    cirq.Moment(\n",
      "        cirq.CNOT(cirq.NamedQubit('b'), cirq.NamedQubit('c')),\n",
      "    ),\n",
      "    cirq.Moment(\n",
      "        cirq.H(cirq.NamedQubit('b')),\n",
      "    ),\n",
      "])\n"
     ]
    }
   ],
   "source": [
    "\"\"\"Print the repr of a circuit.\"\"\"\n",
    "\n",
    "print(repr(circuit))"
   ]
  },
  {
   "cell_type": "markdown",
   "id": "9b414287",
   "metadata": {
    "id": "zyVbU8yfW_qi",
    "papermill": {
     "duration": 9.8e-05,
     "end_time": "2025-07-17T21:49:39.755909",
     "exception": false,
     "start_time": "2025-07-17T21:49:39.755811",
     "status": "completed"
    },
    "tags": []
   },
   "source": [
    "Although it is less readable, the usefulness of printing the `repr` is that it includes *all* the gory details which can be useful when debugging. The `repr` is also a valid python expression that evaluates to the circuit.\n",
    "For example, if we notice that a circuit generated in some complicated way triggers a bug in a simulator, copy-pasting the generated circuit's `repr` into a test, and then working from there, is a simple way to decouple the reproduction of the bug from the circuit generation code."
   ]
  },
  {
   "cell_type": "markdown",
   "id": "3c8c3dca",
   "metadata": {
    "id": "0bb8611c3865",
    "papermill": {
     "duration": 7.2e-05,
     "end_time": "2025-07-17T21:49:39.756112",
     "exception": false,
     "start_time": "2025-07-17T21:49:39.756040",
     "status": "completed"
    },
    "tags": []
   },
   "source": [
    "## More ways to create `Circuit`s"
   ]
  },
  {
   "cell_type": "markdown",
   "id": "0b4bd10d",
   "metadata": {
    "id": "uaDb6B_jPgrb",
    "papermill": {
     "duration": 7e-05,
     "end_time": "2025-07-17T21:49:39.756305",
     "exception": false,
     "start_time": "2025-07-17T21:49:39.756235",
     "status": "completed"
    },
    "tags": []
   },
   "source": [
    "Above we created a `Circuit` by passing in a list of operations to its constructor.  In Cirq, there are many ways to construct and modify circuits, and each of these is useful in different contexts.  Here are a few examples:\n",
    "\n",
    "\n",
    "1. `Circuit(...)`: This is the simplest way to make a circuit. Give this method some operations, and out pops a circuit.\n",
    "2.  `append`:  `Circuit`s are mutable. You can start with an empty `circuit = cirq.Circuit()` and simply `circuit.append(operations)` to add on more and more operations .\n",
    "3. `insert`:  Instead of appending, you can insert before a particular moment location (labeled by an integer index).\n",
    "\n",
    "One interesting, and extremely convenient, fact about `Circuit(...)`, `append`, and `insert` is that they \"auto flatten\" whatever you give them.\n",
    "You *can* give them a list of operations, but you can also give them\n",
    "\n",
    "- a list *of lists* of operations,\n",
    "- a generator function that sometimes yields tuples of operations and other times yields individual operations,\n",
    "- or just a single operation (without a list around it).\n",
    "\n",
    "If it can recursively iterated into individual operations, these three methods will take it.\n",
    "\n",
    "> The above idea uses a concept we call an `OP_TREE` in Cirq. An `OP_TREE` is not a class, but a contract. The basic idea is that if the input can be iteratively flattened into a list of operations, then the input is an `OP_TREE`.\n",
    "\n",
    "The main place where auto-flattening is useful is when you are building a circuit's operations using generators. \n",
    "\n",
    "> Recall that, in Python, functions that have a `yield` statement are *generators*. Generators are functions that act as *iterators*. \n",
    "\n",
    "In this context, auto-flattening means that generators producing operations for a circuit can simply `yield` sub-generators (instead of iterating over them and yielding their items). We show an example of this below."
   ]
  },
  {
   "cell_type": "code",
   "execution_count": 10,
   "id": "7baa6af2",
   "metadata": {
    "execution": {
     "iopub.execute_input": "2025-07-17T21:49:39.757938Z",
     "iopub.status.busy": "2025-07-17T21:49:39.757352Z",
     "iopub.status.idle": "2025-07-17T21:49:39.766041Z",
     "shell.execute_reply": "2025-07-17T21:49:39.765350Z"
    },
    "id": "QFoV-eOE1tGN",
    "papermill": {
     "duration": 0.010839,
     "end_time": "2025-07-17T21:49:39.767260",
     "exception": false,
     "start_time": "2025-07-17T21:49:39.756421",
     "status": "completed"
    },
    "tags": []
   },
   "outputs": [
    {
     "data": {
      "text/html": [
       "<pre style=\"overflow: auto; white-space: pre;\">a: ───@───X───@───\n",
       "      │   │   │\n",
       "b: ───X───@───X───</pre>"
      ],
      "text/plain": [
       "a: ───@───X───@───\n",
       "      │   │   │\n",
       "b: ───X───@───X───"
      ]
     },
     "execution_count": 10,
     "metadata": {},
     "output_type": "execute_result"
    }
   ],
   "source": [
    "\"\"\"Creating a circuit from generator functions.\"\"\"\n",
    "\n",
    "\n",
    "def xor_swap(a, b):\n",
    "    \"\"\"Swaps two qubits with three CNOTs.\"\"\"\n",
    "    yield cirq.CNOT(a, b)  # |a> |b> --> |a> |a ^ b>\n",
    "    yield cirq.CNOT(b, a)  # |a> |a ^ b> --> |a ^ a ^ b> | a ^ b> = |b>|a^b>\n",
    "    yield cirq.CNOT(a, b)  # |b> |a ^ b> --> |b>|a ^ b ^ b> = |b> |a>\n",
    "\n",
    "\n",
    "cirq.Circuit(xor_swap(a, b))"
   ]
  },
  {
   "cell_type": "markdown",
   "id": "8447df2b",
   "metadata": {
    "id": "Z76Kcs27EcY5",
    "papermill": {
     "duration": 9e-05,
     "end_time": "2025-07-17T21:49:39.767534",
     "exception": false,
     "start_time": "2025-07-17T21:49:39.767444",
     "status": "completed"
    },
    "tags": []
   },
   "source": [
    "## Exercise: Create a circuit to left rotate 5 qubits. \n",
    "\n",
    "Now that we've learnt how to build a circuit to swap the state of two qubits, use this to build a circuit which left rotates 5 qubits i.e. on applying the circuit on 5 qubits (0 - 4), the state of qubits should change as follows:\n",
    "``` \n",
    "0 --> 4 \n",
    "4 --> 3\n",
    "3 --> 2\n",
    "2 --> 1\n",
    "1 --> 0\n",
    "```"
   ]
  },
  {
   "cell_type": "code",
   "execution_count": 11,
   "id": "76cd540b",
   "metadata": {
    "cellView": "form",
    "execution": {
     "iopub.execute_input": "2025-07-17T21:49:39.769106Z",
     "iopub.status.busy": "2025-07-17T21:49:39.768551Z",
     "iopub.status.idle": "2025-07-17T21:49:39.771936Z",
     "shell.execute_reply": "2025-07-17T21:49:39.771282Z"
    },
    "id": "LbIZIMINEzD9",
    "papermill": {
     "duration": 0.005472,
     "end_time": "2025-07-17T21:49:39.773131",
     "exception": false,
     "start_time": "2025-07-17T21:49:39.767659",
     "status": "completed"
    },
    "tags": []
   },
   "outputs": [],
   "source": [
    "# @title Attempt the solution here"
   ]
  },
  {
   "cell_type": "code",
   "execution_count": 12,
   "id": "09ca1e12",
   "metadata": {
    "cellView": "form",
    "execution": {
     "iopub.execute_input": "2025-07-17T21:49:39.774733Z",
     "iopub.status.busy": "2025-07-17T21:49:39.774172Z",
     "iopub.status.idle": "2025-07-17T21:49:39.777633Z",
     "shell.execute_reply": "2025-07-17T21:49:39.777084Z"
    },
    "id": "5oqmyccsE1kK",
    "papermill": {
     "duration": 0.005406,
     "end_time": "2025-07-17T21:49:39.778710",
     "exception": false,
     "start_time": "2025-07-17T21:49:39.773304",
     "status": "completed"
    },
    "tags": []
   },
   "outputs": [],
   "source": [
    "# @title Expand to view the solution\n",
    "def left_rotate(qubits):\n",
    "    \"\"\"Rotates qubits to the left.\"\"\"\n",
    "    for i in range(len(qubits) - 1):\n",
    "        a, b = qubits[i : i + 2]\n",
    "        yield xor_swap(a, b)\n",
    "\n",
    "\n",
    "# Get five qubits on a line.\n",
    "line = cirq.LineQubit.range(5)\n",
    "\n",
    "# Create a circuit which rotates the qubits to the left.\n",
    "# uncomment the next line to compare with your circuit\n",
    "# print(cirq.Circuit(left_rotate(line)))"
   ]
  },
  {
   "cell_type": "markdown",
   "id": "b20413bc",
   "metadata": {
    "id": "ae159315c56d",
    "papermill": {
     "duration": 8.8e-05,
     "end_time": "2025-07-17T21:49:39.778976",
     "exception": false,
     "start_time": "2025-07-17T21:49:39.778888",
     "status": "completed"
    },
    "tags": []
   },
   "source": [
    "One can see how this method of creating circuits is quite powerful. \n",
    "\n",
    "> Note that `cirq.SWAP` is a pre-defined gate in Cirq. We used three `cirq.CNOT`s instead of `cirq.SWAP` in the above example to demonstrate auto-flattening with generators."
   ]
  },
  {
   "cell_type": "markdown",
   "id": "555e1bcb",
   "metadata": {
    "id": "60d8516a19b2",
    "papermill": {
     "duration": 7e-05,
     "end_time": "2025-07-17T21:49:39.779173",
     "exception": false,
     "start_time": "2025-07-17T21:49:39.779103",
     "status": "completed"
    },
    "tags": []
   },
   "source": [
    "## Insert strategies"
   ]
  },
  {
   "cell_type": "markdown",
   "id": "4d6549d5",
   "metadata": {
    "id": "p9LUxAU41wWs",
    "papermill": {
     "duration": 6.6e-05,
     "end_time": "2025-07-17T21:49:39.779348",
     "exception": false,
     "start_time": "2025-07-17T21:49:39.779282",
     "status": "completed"
    },
    "tags": []
   },
   "source": [
    "You may have noticed that there is a hole in what we've explained so far. We have been passing a one-dimensional sequence of operations, but the output is a two-dimensional circuit (a list-of-lists-of-operations). There is a degree of freedom that hasn't been account for. Specifically, how does Cirq choose the moment that each operation will be placed within?\n",
    "\n",
    "The answer is the concept of a `cirq.InsertStrategy`. An `InsertStrategy` defines how `Operation`s are placed in a `Circuit` when requested to be inserted at a given location. Here a `location` is identified by the index of the `Moment` in the `Circuit` that operations should be placed before. \n",
    "\n",
    "> *Note*: In the case of `Circuit.append` this means inserting at the index `len(circuit)` which is one more than the largest moment index and so represents the end of the circuit.\n",
    "\n",
    "There are currently four insertion strategies in Cirq:\n",
    "\n",
    "1. `InsertStrategy.EARLIEST` (the default),\n",
    "2. `InsertStrategy.NEW`,\n",
    "3. `InsertStrategy.INLINE`,\n",
    "4. `InsertStrategy.NEW_THEN_INLINE`.\n",
    "\n",
    "The strategy `InsertStrategy.EARLIEST` is defined as follows:\n",
    "\n",
    "> `InsertStrategy.EARLIEST`: Scans backward from the insert\n",
    "> location until a moment with operations touching qubits affected by the\n",
    "> operation to insert is found. The operation is added into the moment just\n",
    "> after that location.\n",
    "\n",
    "For example, if we first create an `Operation` in a single moment,\n",
    "and then use `InsertStrategy.EARLIEST` the `Operation` can slide back to this\n",
    "first `Moment` if there is space."
   ]
  },
  {
   "cell_type": "code",
   "execution_count": 13,
   "id": "eee07473",
   "metadata": {
    "execution": {
     "iopub.execute_input": "2025-07-17T21:49:39.780353Z",
     "iopub.status.busy": "2025-07-17T21:49:39.780079Z",
     "iopub.status.idle": "2025-07-17T21:49:39.785524Z",
     "shell.execute_reply": "2025-07-17T21:49:39.784812Z"
    },
    "id": "wNek1WjpX4MR",
    "papermill": {
     "duration": 0.007288,
     "end_time": "2025-07-17T21:49:39.786745",
     "exception": false,
     "start_time": "2025-07-17T21:49:39.779457",
     "status": "completed"
    },
    "tags": []
   },
   "outputs": [
    {
     "name": "stdout",
     "output_type": "stream",
     "text": [
      "Circuit:\n",
      "\n",
      "a: ───@───H───\n",
      "      │\n",
      "b: ───@───H───\n",
      "\n",
      "c: ───H───────\n"
     ]
    }
   ],
   "source": [
    "\"\"\"Appending operations with InsertStrategy.EARLIEST.\"\"\"\n",
    "\n",
    "# Create an empty circuit.\n",
    "circuit = cirq.Circuit()\n",
    "\n",
    "# Append an operation.\n",
    "# Note: InsertStrategy.EARLIEST is used by default if not otherwise specified.\n",
    "circuit.append([cirq.CZ(a, b)])\n",
    "\n",
    "# Append more operations.\n",
    "# Note: InsertStrategy.EARLIEST is used by default if not otherwise specified.\n",
    "circuit.append([cirq.H(a), cirq.H(b), cirq.H(c)])\n",
    "\n",
    "# Display the circuit.\n",
    "print(\"Circuit:\\n\")\n",
    "print(circuit)"
   ]
  },
  {
   "cell_type": "markdown",
   "id": "f8c37138",
   "metadata": {
    "id": "4d93a69cfcb8",
    "papermill": {
     "duration": 8.8e-05,
     "end_time": "2025-07-17T21:49:39.787010",
     "exception": false,
     "start_time": "2025-07-17T21:49:39.786922",
     "status": "completed"
    },
    "tags": []
   },
   "source": [
    "After creating the first moment with a `CZ` gate, the second\n",
    "append uses the `InsertStrategy.EARLIEST` strategy. The\n",
    "`H` on ``a`` and ``b`` cannot slide back, while the `H` on ``c`` can and so ends up in the first `Moment`."
   ]
  },
  {
   "cell_type": "markdown",
   "id": "8e57659d",
   "metadata": {
    "id": "TcHeZM6qXvbS",
    "papermill": {
     "duration": 6.9e-05,
     "end_time": "2025-07-17T21:49:39.787199",
     "exception": false,
     "start_time": "2025-07-17T21:49:39.787130",
     "status": "completed"
    },
    "tags": []
   },
   "source": [
    "While `InsertStrategy.EARLIEST` is the default strategy, the second most important strategy is `InsertStrategy.NEW_THEN_INLINE`, defined as follows:\n",
    "\n",
    "> `InsertStrategy.NEW_THEN_INLINE`: For the first operation, add it to a new \n",
    "> `Moment` the insertion point.  Attempts to add the operation after the first \n",
    "> operation to insert into the moment just before the desired insert location. \n",
    "> But, if there's already an existing operation affecting any of the qubits\n",
    "> touched by the operation to insert, a new moment is created instead and this \n",
    "> `Moment` is the one that is subsequently used for insertions.\n",
    "\n",
    "To see an example of this strategy, we create a circuit with the same operations but inserting them with a different strategy."
   ]
  },
  {
   "cell_type": "code",
   "execution_count": 14,
   "id": "1c112bb0",
   "metadata": {
    "execution": {
     "iopub.execute_input": "2025-07-17T21:49:39.788693Z",
     "iopub.status.busy": "2025-07-17T21:49:39.788111Z",
     "iopub.status.idle": "2025-07-17T21:49:39.794901Z",
     "shell.execute_reply": "2025-07-17T21:49:39.794214Z"
    },
    "id": "qWVDhLxFYuRp",
    "papermill": {
     "duration": 0.008772,
     "end_time": "2025-07-17T21:49:39.796078",
     "exception": false,
     "start_time": "2025-07-17T21:49:39.787306",
     "status": "completed"
    },
    "tags": []
   },
   "outputs": [
    {
     "name": "stdout",
     "output_type": "stream",
     "text": [
      "Circuit:\n",
      "\n",
      "a: ───@───H───\n",
      "      │\n",
      "b: ───@───H───\n",
      "\n",
      "c: ───────H───\n"
     ]
    }
   ],
   "source": [
    "\"\"\"Appending operations with InsertStrategy.NEW_THEN_INLINE.\"\"\"\n",
    "\n",
    "# Create an empty circuit.\n",
    "circuit = cirq.Circuit()\n",
    "\n",
    "# Append an operation.\n",
    "circuit.append([cirq.CZ(a, b)], strategy=cirq.InsertStrategy.NEW_THEN_INLINE)\n",
    "\n",
    "# Append more operations.\n",
    "circuit.append([cirq.H(a), cirq.H(b), cirq.H(c)], strategy=cirq.InsertStrategy.NEW_THEN_INLINE)\n",
    "\n",
    "# Display the circuit.\n",
    "print(\"Circuit:\\n\")\n",
    "print(circuit)"
   ]
  },
  {
   "cell_type": "markdown",
   "id": "da8fcf60",
   "metadata": {
    "id": "69a53a1f5de2",
    "papermill": {
     "duration": 8.8e-05,
     "end_time": "2025-07-17T21:49:39.796338",
     "exception": false,
     "start_time": "2025-07-17T21:49:39.796250",
     "status": "completed"
    },
    "tags": []
   },
   "source": [
    "In contrast to the previous codeblock using `InsertStrategy.EARLIEST`, we see that the three `cirq.H` gates appended after the `cirq.CZ` gate appear in the same moment when we use `InsertStrategy.NEW_THEN_INLINE`."
   ]
  },
  {
   "cell_type": "markdown",
   "id": "f86933db",
   "metadata": {
    "id": "y9conKPAPn26",
    "papermill": {
     "duration": 6.4e-05,
     "end_time": "2025-07-17T21:49:39.796517",
     "exception": false,
     "start_time": "2025-07-17T21:49:39.796453",
     "status": "completed"
    },
    "tags": []
   },
   "source": [
    "## Exercise: Create the given circuit using least number of appends\n",
    "\n",
    "Now that you've learned about `InsertStrategy`s, here is an exercise to validate your understanding.  Create, **using the least number of appends**, the following circuit:\n",
    "\n",
    "\n",
    "\n",
    "```\n",
    "a: ───@───H───────────H───H───\n",
    "      │\n",
    "b: ───@───────H───@───H───────\n",
    "                  │\n",
    "c: ───H───────────@───────────\n",
    "```\n",
    "\n",
    "Here imagine that you want exactly the moments indicated by the spacing of the circuit so that there are six moments in this circuit."
   ]
  },
  {
   "cell_type": "code",
   "execution_count": 15,
   "id": "207467d4",
   "metadata": {
    "cellView": "form",
    "execution": {
     "iopub.execute_input": "2025-07-17T21:49:39.798019Z",
     "iopub.status.busy": "2025-07-17T21:49:39.797473Z",
     "iopub.status.idle": "2025-07-17T21:49:39.800831Z",
     "shell.execute_reply": "2025-07-17T21:49:39.800169Z"
    },
    "id": "-HXXD801OFGF",
    "papermill": {
     "duration": 0.005426,
     "end_time": "2025-07-17T21:49:39.802049",
     "exception": false,
     "start_time": "2025-07-17T21:49:39.796623",
     "status": "completed"
    },
    "tags": []
   },
   "outputs": [],
   "source": [
    "# @title Attempt the solution here"
   ]
  },
  {
   "cell_type": "code",
   "execution_count": 16,
   "id": "bae37fdf",
   "metadata": {
    "cellView": "form",
    "execution": {
     "iopub.execute_input": "2025-07-17T21:49:39.803538Z",
     "iopub.status.busy": "2025-07-17T21:49:39.803282Z",
     "iopub.status.idle": "2025-07-17T21:49:39.812285Z",
     "shell.execute_reply": "2025-07-17T21:49:39.811536Z"
    },
    "id": "jP4VkPeHcjJT",
    "papermill": {
     "duration": 0.011111,
     "end_time": "2025-07-17T21:49:39.813540",
     "exception": false,
     "start_time": "2025-07-17T21:49:39.802429",
     "status": "completed"
    },
    "tags": []
   },
   "outputs": [
    {
     "name": "stdout",
     "output_type": "stream",
     "text": [
      "Circuit:\n",
      "\n",
      "a: ───@───H───────────H───H───\n",
      "      │\n",
      "b: ───@───────H───@───H───────\n",
      "                  │\n",
      "c: ───H───────────@───────────\n"
     ]
    }
   ],
   "source": [
    "# @title Expand to view the solution\n",
    "# Define three qubits.\n",
    "a = cirq.NamedQubit('a')\n",
    "b = cirq.NamedQubit('b')\n",
    "c = cirq.NamedQubit('c')\n",
    "\n",
    "# Get an empty circuit.\n",
    "circuit = cirq.Circuit()\n",
    "\n",
    "# Append these gates using cirq.InsertStrategy.EARLIEST (the default strategy).\n",
    "circuit.append([cirq.CZ(a, b), cirq.H(c), cirq.H(a)])\n",
    "\n",
    "# Append these gates using cirq.InsertStrategy.NEW_THEN_INLINE.\n",
    "circuit.append(\n",
    "    [cirq.H(b), cirq.CZ(b, c), cirq.H(b), cirq.H(a), cirq.H(a)],\n",
    "    strategy=cirq.InsertStrategy.NEW_THEN_INLINE,\n",
    ")\n",
    "\n",
    "# Display the circuit.\n",
    "print(\"Circuit:\\n\")\n",
    "print(circuit)"
   ]
  },
  {
   "cell_type": "markdown",
   "id": "90433735",
   "metadata": {
    "id": "X15yPl_KQ20Z",
    "papermill": {
     "duration": 9.2e-05,
     "end_time": "2025-07-17T21:49:39.813828",
     "exception": false,
     "start_time": "2025-07-17T21:49:39.813736",
     "status": "completed"
    },
    "tags": []
   },
   "source": [
    "# Simulations of a Circuit\n",
    "\n",
    "Now that we know how to construct `Circuit`s in Cirq, let's see how to execute them on a simulator. First we create a simple circuit to simulate in the following cell."
   ]
  },
  {
   "cell_type": "code",
   "execution_count": 17,
   "id": "968cee63",
   "metadata": {
    "execution": {
     "iopub.execute_input": "2025-07-17T21:49:39.815170Z",
     "iopub.status.busy": "2025-07-17T21:49:39.814837Z",
     "iopub.status.idle": "2025-07-17T21:49:39.822699Z",
     "shell.execute_reply": "2025-07-17T21:49:39.821924Z"
    },
    "id": "V6tZk3qGqBoH",
    "papermill": {
     "duration": 0.010069,
     "end_time": "2025-07-17T21:49:39.824023",
     "exception": false,
     "start_time": "2025-07-17T21:49:39.813954",
     "status": "completed"
    },
    "tags": []
   },
   "outputs": [
    {
     "name": "stdout",
     "output_type": "stream",
     "text": [
      "a: ───X^0.5───@───X^0.5───M───\n",
      "              │           │\n",
      "b: ───X^0.5───@───X^0.5───M───\n"
     ]
    }
   ],
   "source": [
    "\"\"\"Get a circuit to simulate.\"\"\"\n",
    "\n",
    "\n",
    "def basic_circuit(measure=True):\n",
    "    \"\"\"Returns a simple circuit with some one- and two-qubit gates,\n",
    "    as well as (optionally) measurements.\n",
    "    \"\"\"\n",
    "    # Gates we will use in the circuit.\n",
    "    sqrt_x = cirq.X**0.5\n",
    "    cz = cirq.CZ\n",
    "\n",
    "    # Yield the operations.\n",
    "    yield sqrt_x(a), sqrt_x(b)\n",
    "    yield cz(a, b)\n",
    "    yield sqrt_x(a), sqrt_x(b)\n",
    "    if measure:\n",
    "        yield cirq.measure(a, b)\n",
    "\n",
    "\n",
    "# Create a circuit including measurements.\n",
    "circuit = cirq.Circuit(basic_circuit())\n",
    "print(circuit)"
   ]
  },
  {
   "cell_type": "markdown",
   "id": "ce7cc9c7",
   "metadata": {
    "id": "WpywVOeDqi4Q",
    "papermill": {
     "duration": 8.6e-05,
     "end_time": "2025-07-17T21:49:39.824312",
     "exception": false,
     "start_time": "2025-07-17T21:49:39.824226",
     "status": "completed"
    },
    "tags": []
   },
   "source": [
    "The main simulator in Cirq is the `cirq.Simulator`. The general pattern of simulation is to instantiate this simulator, then pass in a circuit to either the `run` or `simulate` methods (more on this below)."
   ]
  },
  {
   "cell_type": "code",
   "execution_count": 18,
   "id": "7f170ee5",
   "metadata": {
    "execution": {
     "iopub.execute_input": "2025-07-17T21:49:39.825941Z",
     "iopub.status.busy": "2025-07-17T21:49:39.825380Z",
     "iopub.status.idle": "2025-07-17T21:49:39.833833Z",
     "shell.execute_reply": "2025-07-17T21:49:39.833092Z"
    },
    "id": "KmGuMjvGw_Ef",
    "papermill": {
     "duration": 0.010663,
     "end_time": "2025-07-17T21:49:39.835121",
     "exception": false,
     "start_time": "2025-07-17T21:49:39.824458",
     "status": "completed"
    },
    "tags": []
   },
   "outputs": [
    {
     "name": "stdout",
     "output_type": "stream",
     "text": [
      "Measurement results:\n",
      "a,b=1, 0\n"
     ]
    }
   ],
   "source": [
    "\"\"\"Example of simulating a circuit in Cirq.\"\"\"\n",
    "\n",
    "# Get a simulator.\n",
    "simulator = cirq.Simulator()\n",
    "\n",
    "# Pass the circuit to the simulator.run method.\n",
    "result = simulator.run(circuit, repetitions=1)\n",
    "print(\"Measurement results:\")\n",
    "print(result)"
   ]
  },
  {
   "cell_type": "markdown",
   "id": "72a063e5",
   "metadata": {
    "id": "aHugx9T0z047",
    "papermill": {
     "duration": 8.4e-05,
     "end_time": "2025-07-17T21:49:39.835414",
     "exception": false,
     "start_time": "2025-07-17T21:49:39.835330",
     "status": "completed"
    },
    "tags": []
   },
   "source": [
    "Running this multiple times should result in different measurement results, since the circuit produces a superposition over all computational basis states."
   ]
  },
  {
   "cell_type": "markdown",
   "id": "1647f1d7",
   "metadata": {
    "id": "416e9c012263",
    "papermill": {
     "duration": 7e-05,
     "end_time": "2025-07-17T21:49:39.835631",
     "exception": false,
     "start_time": "2025-07-17T21:49:39.835561",
     "status": "completed"
    },
    "tags": []
   },
   "source": [
    "Above we used the `run` method of the `simulator`. In Cirq, `run` methods mimic the actual hardware in that they don't give one access to unphysical objects like the wavefunction. The `repetitions` argument is how many times to sample from the circuit.\n",
    "\n",
    "\n",
    "\n",
    "If one wants to get the wavefunction, the `simulate` methods can be used as shown below."
   ]
  },
  {
   "cell_type": "code",
   "execution_count": 19,
   "id": "64b19673",
   "metadata": {
    "execution": {
     "iopub.execute_input": "2025-07-17T21:49:39.837199Z",
     "iopub.status.busy": "2025-07-17T21:49:39.836656Z",
     "iopub.status.idle": "2025-07-17T21:49:39.845555Z",
     "shell.execute_reply": "2025-07-17T21:49:39.844932Z"
    },
    "id": "Apj7WiFZ0WFm",
    "papermill": {
     "duration": 0.011075,
     "end_time": "2025-07-17T21:49:39.846848",
     "exception": false,
     "start_time": "2025-07-17T21:49:39.835773",
     "status": "completed"
    },
    "tags": []
   },
   "outputs": [
    {
     "name": "stdout",
     "output_type": "stream",
     "text": [
      "State vector:\n",
      "[0.5+0.j  0. +0.5j 0. +0.5j 0.5+0.j ]\n",
      "\n",
      "Dirac notation:\n",
      "0.5|00⟩ + 0.5j|01⟩ + 0.5j|10⟩ + 0.5|11⟩\n"
     ]
    }
   ],
   "source": [
    "\"\"\"Simulating a circuit with the `simulate` method.\"\"\"\n",
    "\n",
    "# Get a circuit without measurements.\n",
    "circuit = cirq.Circuit(basic_circuit(measure=False))\n",
    "\n",
    "# Simulate the circuit.\n",
    "result = simulator.simulate(circuit, qubit_order=[a, b])\n",
    "\n",
    "# Print the final state vector (wavefunction).\n",
    "print(\"State vector:\")\n",
    "print(np.around(result.final_state_vector, 3))\n",
    "\n",
    "# Print the state vector in Dirac notation.\n",
    "print(\"\\nDirac notation:\")\n",
    "print(result.dirac_notation())"
   ]
  },
  {
   "cell_type": "markdown",
   "id": "040bdaa2",
   "metadata": {
    "id": "t18-sIJc0cvf",
    "papermill": {
     "duration": 8.9e-05,
     "end_time": "2025-07-17T21:49:39.847137",
     "exception": false,
     "start_time": "2025-07-17T21:49:39.847048",
     "status": "completed"
    },
    "tags": []
   },
   "source": [
    "Notice that we passed a `qubit_order` into the `simulate` method.  This order helps define the order of the kronecker (tensor) product used in the resulting `final_state_vector`.  \n",
    "\n",
    "> *Note*: The `qubit_order` argument is optional. When it is omitted, qubits are sorted ascending according to the ordering methods defined by their Python class (for example `cirq.NamedQubit` sorts lexicographically by name).\n",
    "If there are multiple types of qubits in one circuit, the name of the type is used as a tie breaker.\n",
    "\n",
    "The simplest `qubit_order` value you can provide is a list of the qubits in the desired order. Any qubits from the circuit that are not in the list will be ordered using the  default `__str__` ordering, but come after qubits that are in the list. \n",
    "\n",
    "> **Note**: Be aware that all qubits in the list are included in the simulation, even if they are not operated on by the circuit.\n",
    "\n",
    "The mapping from the order of the qubits to the order of the  amplitudes in the wave function can be tricky to understand.  Basically, it is the same as the ordering used by `numpy.kron`.\n",
    "\n",
    "> If the state vector is the array \n",
    ">> (0.1, 0.2, 0.3, 0.4),\n",
    "\n",
    "> then this is \n",
    ">> 0.1|00⟩ + 0.2|01⟩ + 0.3|10⟩ + 0.4|11⟩ \n",
    "\n",
    "> in Dirac notation. If \n",
    ">> qubit order = [a, b]\n",
    "\n",
    "> then |00> means qubit a is in 0 and qubit b is in 0, |01> means \n",
    "> qubit a is 0 and qubit b is 1, etc.\n",
    "\n",
    "Another way to think about the qubit-to-amplitude ordering is as \"for loop ordering\":\n",
    "\n",
    "```\n",
    "for a in [0, 1]:\n",
    "    for b in [0, 1]:\n",
    "        print(a, b)\n",
    "```\n",
    "\n",
    "The first index (the outermost loop) is the slowest to vary."
   ]
  },
  {
   "cell_type": "markdown",
   "id": "24212ca6",
   "metadata": {
    "id": "YLpiz0aN1Jd6",
    "papermill": {
     "duration": 6.6e-05,
     "end_time": "2025-07-17T21:49:39.847334",
     "exception": false,
     "start_time": "2025-07-17T21:49:39.847268",
     "status": "completed"
    },
    "tags": []
   },
   "source": [
    "## Repetitions and histograms\n",
    "\n",
    "As mentioned, the simulator `run` methods also take an option for repeating the circuit, namely, the `repetitions` argument. If the measurements in the circuit are terminal and all other operations are unitary, this simulator is optimized to not recompute the state vector before sampling from the circuit."
   ]
  },
  {
   "cell_type": "code",
   "execution_count": 20,
   "id": "4281de98",
   "metadata": {
    "execution": {
     "iopub.execute_input": "2025-07-17T21:49:39.848667Z",
     "iopub.status.busy": "2025-07-17T21:49:39.848318Z",
     "iopub.status.idle": "2025-07-17T21:49:40.001428Z",
     "shell.execute_reply": "2025-07-17T21:49:40.000802Z"
    },
    "id": "QxkmBlo21lrQ",
    "papermill": {
     "duration": 0.15536,
     "end_time": "2025-07-17T21:49:40.002802",
     "exception": false,
     "start_time": "2025-07-17T21:49:39.847442",
     "status": "completed"
    },
    "tags": []
   },
   "outputs": [
    {
     "name": "stdout",
     "output_type": "stream",
     "text": [
      "Counter({0: 2})\n"
     ]
    },
    {
     "name": "stderr",
     "output_type": "stream",
     "text": [
      "/home/user/Cirq/cirq-core/cirq/vis/state_histogram.py:111: UserWarning: FigureCanvasAgg is non-interactive, and thus cannot be shown\n",
      "  fig.show()\n"
     ]
    },
    {
     "data": {
      "text/plain": [
       "<Axes: title={'center': 'Result State Histogram'}, xlabel='qubit state', ylabel='result count'>"
      ]
     },
     "execution_count": 20,
     "metadata": {},
     "output_type": "execute_result"
    },
    {
     "data": {
      "image/png": "[encoded data removed]",
      "text/plain": [
       "<Figure size 640x480 with 1 Axes>"
      ]
     },
     "metadata": {},
     "output_type": "display_data"
    }
   ],
   "source": [
    "\"\"\"Simulate a circuit using 1000 repetitions.\"\"\"\n",
    "\n",
    "# Get a circuit with terminal measurements to simulate.\n",
    "circuit = cirq.Circuit(basic_circuit())\n",
    "\n",
    "# Sample from the circuit 1000 times.\n",
    "result = simulator.run(circuit, repetitions=2)\n",
    "\n",
    "# Get a histogram of measurement results.\n",
    "print(result.histogram(key=\"a,b\"))\n",
    "\n",
    "# Plot a state histogram of the result.\n",
    "cirq.plot_state_histogram(result)"
   ]
  },
  {
   "cell_type": "markdown",
   "id": "4a4b5975",
   "metadata": {
    "id": "bD0zX0zP2HxQ",
    "papermill": {
     "duration": 9.3e-05,
     "end_time": "2025-07-17T21:49:40.003120",
     "exception": false,
     "start_time": "2025-07-17T21:49:40.003027",
     "status": "completed"
    },
    "tags": []
   },
   "source": [
    "Here we have also demonstrated the use of the `histogram` method on the `result` which sums over all the different results for all of the different repetitions.\n",
    "\n",
    "The `histogram` method can also be given a `fold_func` argument, in order to group measurement results under some key before counting them up.\n",
    "For example, we can group by whether or not the two measurement results agreed:"
   ]
  },
  {
   "cell_type": "code",
   "execution_count": 21,
   "id": "361c845d",
   "metadata": {
    "execution": {
     "iopub.execute_input": "2025-07-17T21:49:40.004551Z",
     "iopub.status.busy": "2025-07-17T21:49:40.004213Z",
     "iopub.status.idle": "2025-07-17T21:49:40.008749Z",
     "shell.execute_reply": "2025-07-17T21:49:40.008064Z"
    },
    "id": "rPqVUsD9snYf",
    "papermill": {
     "duration": 0.006709,
     "end_time": "2025-07-17T21:49:40.009990",
     "exception": false,
     "start_time": "2025-07-17T21:49:40.003281",
     "status": "completed"
    },
    "tags": []
   },
   "outputs": [
    {
     "name": "stdout",
     "output_type": "stream",
     "text": [
      "Counter({'agree': 2})\n"
     ]
    }
   ],
   "source": [
    "print(\n",
    "    result.histogram(\n",
    "        key=\"a,b\", fold_func=lambda bits: \"agree\" if bits[0] == bits[1] else \"disagree\"\n",
    "    )\n",
    ")"
   ]
  },
  {
   "cell_type": "markdown",
   "id": "912ef180",
   "metadata": {
    "id": "qFsytBIbOVD8",
    "papermill": {
     "duration": 9.7e-05,
     "end_time": "2025-07-17T21:49:40.010522",
     "exception": false,
     "start_time": "2025-07-17T21:49:40.010425",
     "status": "completed"
    },
    "tags": []
   },
   "source": [
    "# The Deutsch-Jozsa Algorithm\n",
    "\n",
    "The very first indication that quantum computers could be more powerful than classical computers was provided by David Deutsch in his 1985 paper\n",
    "\n",
    "> David Deutsch,  \"[Quantum Theory, the Church-Turing Principle and the Universal Quantum Computer](https://www.daviddeutsch.org.uk/wp-content/deutsch85.pdf)\" *Proc. R. Soc. Lond.* A **400** 97–117. http://doi.org/10.1098/rspa.1985.0070\n",
    "\n",
    "This algorithm was extended by Deutsch and Richard Jozsa to a more convincing algorithmic separation and what is now called the Deutsch-Jozsa algorithm.  In this section we will show how to write circuits for the Deutsch algorithm and then as an exercise in using Cirq for algorithms for a small version of the Deutsch-Jozsa algorithm.\n",
    "\n",
    "Let's begin with the Deutsch algorithm.  In Deutsch's algorithm you are given access to a box which computes a one bit boolean function.  That is it is a box which takes in a bit and outputs a bit.  If we want to be a mathematician or theoretical computer scientist we write the function $f$ as $f: \\{0, 1\\} \\rightarrow \\{0, 1\\}$.  There are exactly four such boolean functions which we can write out in a table\n",
    "\n",
    "| $x$ | $f_0$ | $f_1$ | $f_x$ | $f_{\\bar{x}}$ |\n",
    "| --- |  --- | --- | --- | --- |\n",
    "| 0 | 0 | 1 | 0 | 1\n",
    "| 1 | 0 | 1 | 1 | 0\n",
    "\n",
    "The first two of these are *constant* functions, $f_0$ and $f_1$.  That is they always output a constant value (independent of the input).  The other two $f_x$ and $f_\\bar{x}$ are *balanced*.  Over their inputs $0$ and $1$, they have an equal number of $0$s and $1$s in their truth table.  \n",
    "\n",
    "We can now state Deutsch's problem:\n",
    "\n",
    "> Given access to a one bit input one bit output boolean function, determine by querying the function whether the function is *balanced* or *constant*.\n",
    "\n",
    "It shouldn't take you much to convince yourself that in order to solve this problem classically you need to call the function on both possible input values.  The easiest way to see this is just to consider what happens if you query the function on one particular input and notice that, for either input, learning the value of the function does not separate the constant from balanced functions. In summary:\n",
    "\n",
    "*Classically one must query the binary function twice to distinguish the constant function from the balanced function.*"
   ]
  },
  {
   "cell_type": "markdown",
   "id": "5c7044ff",
   "metadata": {
    "id": "UAec5ZBuSWYU",
    "papermill": {
     "duration": 6.7e-05,
     "end_time": "2025-07-17T21:49:40.010730",
     "exception": false,
     "start_time": "2025-07-17T21:49:40.010663",
     "status": "completed"
    },
    "tags": []
   },
   "source": [
    "Now lets turn to the quantum approach to this problem.  There is one bit of book keeping we need to take care of.  Above we have described a classical function on bits that is not reversible.  That is, knowing the values of the output does not allow us to determine uniquely the value of the input.  In order to run this on a quantum computer, however we need to make this computation reversible.  A trick for taking a classical non-reversible function and making it \"quantum happy\" is to compute the value in an extra register and store the input.  Suppose we have an $n$ bit input $x$ and we are computing a (potentially non-reverisble) boolean function $f(x)$.  Then we can implement this via a Unitary $U_f$ that acts like on $n + 1$ qubits\n",
    "\n",
    "$$\n",
    "U_f |x\\rangle |y\\rangle = |x\\rangle | y \\oplus f(x)\\rangle .\n",
    "$$\n",
    "\n",
    "Here $\\oplus$ is addition modulo $2$ (XOR) and we have identified how $U_f$ acts by its action on all computational basis states $|x\\rangle$ ($n$ input qubits) and $|y\\rangle$ ($1$ output qubit). To see that this is reversible one can note that applying the transformation twice returns the state to its original form.\n",
    "\n",
    "Let's see how to implement these functions in Cirq.\n",
    "\n",
    "$f_0$ enacts the transform\n",
    "$$\n",
    "\\begin{eqnarray}\n",
    "|00\\rangle &\\rightarrow&  |00\\rangle \\\\\n",
    "|01\\rangle &\\rightarrow&  |01\\rangle \\\\\n",
    "|10\\rangle &\\rightarrow&  |10\\rangle \\\\\n",
    "|11\\rangle &\\rightarrow&  |11\\rangle \\\\\n",
    "\\end{eqnarray}\n",
    "$$\n",
    "Well this is just the identity transform, i.e. an empty circuit.\n",
    "\n",
    "$f_1$ enacts the transform\n",
    "$$\n",
    "\\begin{eqnarray}\n",
    "|00\\rangle &\\rightarrow&  |01\\rangle \\\\\n",
    "|01\\rangle &\\rightarrow&  |00\\rangle \\\\\n",
    "|10\\rangle &\\rightarrow&  |11\\rangle \\\\\n",
    "|11\\rangle &\\rightarrow&  |10\\rangle \\\\\n",
    "\\end{eqnarray}\n",
    "$$\n",
    "This is the `cirq.X` bit flip gate on the second qubit.\n",
    "\n",
    "$f_x$ enacts the transform\n",
    "$$\n",
    "\\begin{eqnarray}\n",
    "|00\\rangle &\\rightarrow&  |00\\rangle \\\\\n",
    "|01\\rangle &\\rightarrow&  |01\\rangle \\\\\n",
    "|10\\rangle &\\rightarrow&  |11\\rangle \\\\\n",
    "|11\\rangle &\\rightarrow&  |10\\rangle \\\\\n",
    "\\end{eqnarray}\n",
    "$$\n",
    "This is nothing more than a `cirq.CNOT` from the first bit to the second bit.\n",
    "\n",
    "Finally $f_\\bar{x}$ enacts the transform\n",
    "$$\n",
    "\\begin{eqnarray}\n",
    "|00\\rangle &\\rightarrow&  |01\\rangle \\\\\n",
    "|01\\rangle &\\rightarrow&  |00\\rangle \\\\\n",
    "|10\\rangle &\\rightarrow&  |10\\rangle \\\\\n",
    "|11\\rangle &\\rightarrow&  |11\\rangle \\\\\n",
    "\\end{eqnarray}\n",
    "$$\n",
    "which is a `cirq.CNOT` from the first bit to the second bit followed by a `cirq.X` on the second bit.\n",
    "\n",
    "We can encapulate these functions into a dictionary from a oracle name to the operations in the circuit needed to enact this function."
   ]
  },
  {
   "cell_type": "code",
   "execution_count": 22,
   "id": "07a2fa46",
   "metadata": {
    "execution": {
     "iopub.execute_input": "2025-07-17T21:49:40.012157Z",
     "iopub.status.busy": "2025-07-17T21:49:40.011818Z",
     "iopub.status.idle": "2025-07-17T21:49:40.018177Z",
     "shell.execute_reply": "2025-07-17T21:49:40.017249Z"
    },
    "id": "YtWiBHonly69",
    "papermill": {
     "duration": 0.008839,
     "end_time": "2025-07-17T21:49:40.019684",
     "exception": false,
     "start_time": "2025-07-17T21:49:40.010845",
     "status": "completed"
    },
    "tags": []
   },
   "outputs": [],
   "source": [
    "\"\"\"Store the operations to query each function in a dictionary.\"\"\"\n",
    "\n",
    "# Get qubits for the operations to act on.\n",
    "q0, q1 = cirq.LineQubit.range(2)\n",
    "\n",
    "# Define the dictionary of operations. The key of each dictionary entry\n",
    "# is the subscript of the function f in the above explanatory text.\n",
    "oracles = {\n",
    "    '0': [],\n",
    "    '1': [cirq.X(q1)],\n",
    "    'x': [cirq.CNOT(q0, q1)],\n",
    "    'notx': [cirq.CNOT(q0, q1), cirq.X(q1)],\n",
    "}"
   ]
  },
  {
   "cell_type": "markdown",
   "id": "bab95c4b",
   "metadata": {
    "id": "axCSYj3EmAEo",
    "papermill": {
     "duration": 8.6e-05,
     "end_time": "2025-07-17T21:49:40.019978",
     "exception": false,
     "start_time": "2025-07-17T21:49:40.019892",
     "status": "completed"
    },
    "tags": []
   },
   "source": [
    "We now turn to Deutsch's algorithm.  Suppose we are given access to the reversible oracle functions we have defined above.  By a similar argument for our irreversible classical functions you can show that you cannot distinguish the balanced from the constant functions by using this oracle only once.  But now we can ask the question: what if we are allowed to query this box in superposition, i.e. what if we can use the power of quantum computing?\n",
    "\n",
    "Deutsch was able to show that you could solve this problem now, with quantum computers, using only a single query.  To see how this works we need two simple insights.\n",
    "\n",
    "Suppose that we prepare the second qubit in the superposition state $|-\\rangle=\\frac{1}{\\sqrt{2}}(|0\\rangle-|1\\rangle)$ and apply the oracle.  Then we can check that\n",
    "$$ \n",
    "U_f |x\\rangle |-\\rangle = U_f|x\\rangle \\frac{1}{\\sqrt{2}}(|0\\rangle -|1\\rangle ) = |x\\rangle \\frac{1}{\\sqrt{2}}(|f(x)\\rangle -|f(x) \\oplus 1\\rangle ) =  (-1)^{f(x)} |x\\rangle |-\\rangle .\n",
    "$$  \n",
    "This is the so called \"phase kickback trick\".  By applying $U_f$ onto a target which is in superposition, the value of the function ends up showing up in the global phase.  \n",
    "\n",
    "How can we leverage this to distinguish between the constant and balanced functions?  Note that for the constant functions the phase that is applied is the same for all inputs $|x\\rangle$, whereas for the balanced functions the phase is different for each value of $x$.  In other words, if we use the phase kickback trick then for each of the oracles we apply the following transform on the first qubit:\n",
    "\n",
    "$$\n",
    "\\begin{eqnarray}\n",
    "f_0 \\rightarrow I, &&\n",
    "f_1 \\rightarrow -I, &&\n",
    "f_x \\rightarrow Z, &&\n",
    "f_\\bar{x} \\rightarrow -Z &&\n",
    "\\end{eqnarray}\n",
    "$$\n",
    "\n",
    "Now we only need, on the first qubit, to distinguish between the identity gate and the $Z$ gate.  But we can do this by recalling the identity\n",
    "\n",
    "$$ \n",
    "H Z H = X\n",
    "$$\n",
    "\n",
    "where $H$ is the Hamadard gate.\n",
    "\n",
    "This means that we can turn a phase flip into a bit flip by applying Hadamards before and after the phase flip.  If we look at the constant and balanced functions we see that this means that the constant functions will be proportional to $I$ and the balanced functions will be proportional to $X$.  If we feed in $|0\\rangle$ to this register, then in the first cases we will only see $|0\\rangle$ and in the second case we will only see $|1\\rangle$.  In other words we will be able to distinguish constant from balanced using a single query of the oracle.\n",
    "\n",
    "Let's code this up."
   ]
  },
  {
   "cell_type": "code",
   "execution_count": 23,
   "id": "7b89d076",
   "metadata": {
    "execution": {
     "iopub.execute_input": "2025-07-17T21:49:40.021153Z",
     "iopub.status.busy": "2025-07-17T21:49:40.020944Z",
     "iopub.status.idle": "2025-07-17T21:49:40.030469Z",
     "shell.execute_reply": "2025-07-17T21:49:40.029701Z"
    },
    "id": "aMHzLxztj-gq",
    "papermill": {
     "duration": 0.011663,
     "end_time": "2025-07-17T21:49:40.031787",
     "exception": false,
     "start_time": "2025-07-17T21:49:40.020124",
     "status": "completed"
    },
    "tags": []
   },
   "outputs": [
    {
     "name": "stdout",
     "output_type": "stream",
     "text": [
      "Circuit for f_0:\n",
      "0: ───H───H───M───\n",
      "\n",
      "1: ───X───H───────\n",
      "\n",
      "Circuit for f_1:\n",
      "0: ───H───H───M───\n",
      "\n",
      "1: ───X───H───X───\n",
      "\n",
      "Circuit for f_x:\n",
      "0: ───H───────@───H───M───\n",
      "              │\n",
      "1: ───X───H───X───────────\n",
      "\n",
      "Circuit for f_notx:\n",
      "0: ───H───────@───H───M───\n",
      "              │\n",
      "1: ───X───H───X───X───────\n",
      "\n"
     ]
    }
   ],
   "source": [
    "\"\"\"Creating the circuit used in Deutsch's algorithm.\"\"\"\n",
    "\n",
    "\n",
    "def deutsch_algorithm(oracle):\n",
    "    \"\"\"Returns the circuit for Deutsch's algorithm given an input\n",
    "    oracle, i.e., a sequence of operations to query a particular function.\n",
    "    \"\"\"\n",
    "    yield cirq.X(q1)\n",
    "    yield cirq.H(q0), cirq.H(q1)\n",
    "    yield oracle\n",
    "    yield cirq.H(q0)\n",
    "    yield cirq.measure(q0)\n",
    "\n",
    "\n",
    "for key, oracle in oracles.items():\n",
    "    print(f\"Circuit for f_{key}:\")\n",
    "    print(cirq.Circuit(deutsch_algorithm(oracle)), end=\"\\n\\n\")"
   ]
  },
  {
   "cell_type": "markdown",
   "id": "36718331",
   "metadata": {
    "id": "Zy-2ysxzweyv",
    "papermill": {
     "duration": 9.9e-05,
     "end_time": "2025-07-17T21:49:40.032096",
     "exception": false,
     "start_time": "2025-07-17T21:49:40.031997",
     "status": "completed"
    },
    "tags": []
   },
   "source": [
    "Lets run these circuits a bunch of times to see that the measurement result ends up correctly distinguishing constant from balanced."
   ]
  },
  {
   "cell_type": "code",
   "execution_count": 24,
   "id": "aa0d9375",
   "metadata": {
    "execution": {
     "iopub.execute_input": "2025-07-17T21:49:40.033515Z",
     "iopub.status.busy": "2025-07-17T21:49:40.033177Z",
     "iopub.status.idle": "2025-07-17T21:49:40.043131Z",
     "shell.execute_reply": "2025-07-17T21:49:40.042361Z"
    },
    "id": "ImffrBgJvLme",
    "papermill": {
     "duration": 0.012233,
     "end_time": "2025-07-17T21:49:40.044480",
     "exception": false,
     "start_time": "2025-07-17T21:49:40.032247",
     "status": "completed"
    },
    "tags": []
   },
   "outputs": [
    {
     "name": "stdout",
     "output_type": "stream",
     "text": [
      "oracle: f_0    results: q(0)=00\n",
      "oracle: f_1    results: q(0)=00\n",
      "oracle: f_x    results: q(0)=11\n",
      "oracle: f_notx results: q(0)=11\n"
     ]
    }
   ],
   "source": [
    "\"\"\"Simulate each of the circuits.\"\"\"\n",
    "\n",
    "simulator = cirq.Simulator()\n",
    "for key, oracle in oracles.items():\n",
    "    result = simulator.run(cirq.Circuit(deutsch_algorithm(oracle)), repetitions=2)\n",
    "    print(f'oracle: f_{key:<4} results: {result}')"
   ]
  },
  {
   "cell_type": "markdown",
   "id": "2925f966",
   "metadata": {
    "id": "845af7bfc7d6",
    "papermill": {
     "duration": 8.7e-05,
     "end_time": "2025-07-17T21:49:40.044775",
     "exception": false,
     "start_time": "2025-07-17T21:49:40.044688",
     "status": "completed"
    },
    "tags": []
   },
   "source": [
    "We interpret the simulation results as follows:\n",
    "\n",
    "- For the first two functions $f_0$ and $f_1$, we always measure $0$. Therefore, we know that these functions are constant.\n",
    "- For the second two functions $f_x$ and $f_{\\bar{x}}$, we always measure $1$. Therefore, we know that these functions are balanced."
   ]
  },
  {
   "cell_type": "markdown",
   "id": "074c0dd4",
   "metadata": {
    "id": "5edb6fe11163",
    "papermill": {
     "duration": 7.3e-05,
     "end_time": "2025-07-17T21:49:40.045012",
     "exception": false,
     "start_time": "2025-07-17T21:49:40.044939",
     "status": "completed"
    },
    "tags": []
   },
   "source": [
    "## Exercise: Two Bit Deutsch-Jozsa Algorithm"
   ]
  },
  {
   "cell_type": "markdown",
   "id": "cc66c819",
   "metadata": {
    "id": "v4ka34Kuj4K0",
    "papermill": {
     "duration": 6.9e-05,
     "end_time": "2025-07-17T21:49:40.045230",
     "exception": false,
     "start_time": "2025-07-17T21:49:40.045161",
     "status": "completed"
    },
    "tags": []
   },
   "source": [
    "All boolean functions for one input bit are either constant or balanced.  For boolean functions from two input bits not all functions are constant or balanced.  There are two constant functions, $f(x_0, x_1) = 0$ and $f(x_0, x_1)=1$, while there are ${4 \\choose 2} = 6$ balanced functions.  The following code gives you the operations for these functions where we take two input qubits and compute the function in the third qubit."
   ]
  },
  {
   "cell_type": "code",
   "execution_count": 25,
   "id": "d8650a94",
   "metadata": {
    "execution": {
     "iopub.execute_input": "2025-07-17T21:49:40.046612Z",
     "iopub.status.busy": "2025-07-17T21:49:40.046241Z",
     "iopub.status.idle": "2025-07-17T21:49:40.051132Z",
     "shell.execute_reply": "2025-07-17T21:49:40.050502Z"
    },
    "id": "V5ZCXGCrxl4k",
    "papermill": {
     "duration": 0.007126,
     "end_time": "2025-07-17T21:49:40.052497",
     "exception": false,
     "start_time": "2025-07-17T21:49:40.045371",
     "status": "completed"
    },
    "tags": []
   },
   "outputs": [],
   "source": [
    "\"\"\"Operations to query all possible functions on two bits.\n",
    "Two of these functions are constant, and six of these functions are balanced.\n",
    "\"\"\"\n",
    "\n",
    "# Define three qubits to use.\n",
    "q0, q1, q2 = cirq.LineQubit.range(3)\n",
    "\n",
    "# Define the operations to query each of the two constant functions.\n",
    "constant = ([], [cirq.X(q2)])\n",
    "\n",
    "# Define the operations to query each of the six balanced functions.\n",
    "balanced = (\n",
    "    [cirq.CNOT(q0, q2)],\n",
    "    [cirq.CNOT(q1, q2)],\n",
    "    [cirq.CNOT(q0, q2), cirq.CNOT(q1, q2)],\n",
    "    [cirq.CNOT(q0, q2), cirq.X(q2)],\n",
    "    [cirq.CNOT(q1, q2), cirq.X(q2)],\n",
    "    [cirq.CNOT(q0, q2), cirq.CNOT(q1, q2), cirq.X(q2)],\n",
    ")"
   ]
  },
  {
   "cell_type": "markdown",
   "id": "22184bc3",
   "metadata": {
    "id": "mr9ltXSJyB79",
    "papermill": {
     "duration": 8.8e-05,
     "end_time": "2025-07-17T21:49:40.052795",
     "exception": false,
     "start_time": "2025-07-17T21:49:40.052707",
     "status": "completed"
    },
    "tags": []
   },
   "source": [
    "An extension of Deutsch's orginal algorithm is the Deutsch-Jozsa algorithm, which can distinguish constant from balanced functions like these using a single query to the oracle.  **The goal of this exercise** is to write a quantum circuit that can distinguish these."
   ]
  },
  {
   "cell_type": "code",
   "execution_count": 26,
   "id": "cab347fc",
   "metadata": {
    "cellView": "form",
    "execution": {
     "iopub.execute_input": "2025-07-17T21:49:40.053931Z",
     "iopub.status.busy": "2025-07-17T21:49:40.053643Z",
     "iopub.status.idle": "2025-07-17T21:49:40.057143Z",
     "shell.execute_reply": "2025-07-17T21:49:40.056508Z"
    },
    "id": "qJP_e68e1JBs",
    "papermill": {
     "duration": 0.00537,
     "end_time": "2025-07-17T21:49:40.058309",
     "exception": false,
     "start_time": "2025-07-17T21:49:40.052939",
     "status": "completed"
    },
    "tags": []
   },
   "outputs": [],
   "source": [
    "# @title Attempt the solution here\n",
    "\"\"\"Exercise: Write a quantum circuit that can distinguish\n",
    "constant from balanced functions on two bits.\n",
    "\"\"\"\n",
    "\n",
    "\n",
    "def your_circuit(oracle):\n",
    "    # Your code here!\n",
    "    yield oracle\n",
    "    # Your code here!\n",
    "    yield cirq.measure(q2)"
   ]
  },
  {
   "cell_type": "markdown",
   "id": "099cb3c3",
   "metadata": {
    "id": "3e75a276e239",
    "papermill": {
     "duration": 8.5e-05,
     "end_time": "2025-07-17T21:49:40.058599",
     "exception": false,
     "start_time": "2025-07-17T21:49:40.058514",
     "status": "completed"
    },
    "tags": []
   },
   "source": [
    "You can check your circuit by running the follow cell which simulates the circuit for all oracles."
   ]
  },
  {
   "cell_type": "code",
   "execution_count": 27,
   "id": "bfe92bda",
   "metadata": {
    "execution": {
     "iopub.execute_input": "2025-07-17T21:49:40.059843Z",
     "iopub.status.busy": "2025-07-17T21:49:40.059554Z",
     "iopub.status.idle": "2025-07-17T21:49:40.073413Z",
     "shell.execute_reply": "2025-07-17T21:49:40.072631Z"
    },
    "id": "81da6ec6fc5a",
    "papermill": {
     "duration": 0.016107,
     "end_time": "2025-07-17T21:49:40.074853",
     "exception": false,
     "start_time": "2025-07-17T21:49:40.058746",
     "status": "completed"
    },
    "tags": []
   },
   "outputs": [
    {
     "name": "stdout",
     "output_type": "stream",
     "text": [
      "\n",
      "Your result on constant functions:\n",
      "q(2)=00\n",
      "q(2)=11\n",
      "\n",
      "Your result on balanced functions:\n",
      "q(2)=00\n",
      "q(2)=00\n",
      "q(2)=00\n",
      "q(2)=11\n",
      "q(2)=11\n",
      "q(2)=11\n"
     ]
    }
   ],
   "source": [
    "\"\"\"Check your answer by running this cell.\"\"\"\n",
    "\n",
    "simulator = cirq.Simulator()\n",
    "\n",
    "print(\"\\nYour result on constant functions:\")\n",
    "for oracle in constant:\n",
    "    result = simulator.run(cirq.Circuit(your_circuit(oracle)), repetitions=2)\n",
    "    print(result)\n",
    "\n",
    "print(\"\\nYour result on balanced functions:\")\n",
    "for oracle in balanced:\n",
    "    result = simulator.run(cirq.Circuit(your_circuit(oracle)), repetitions=2)\n",
    "    print(result)"
   ]
  },
  {
   "cell_type": "code",
   "execution_count": 28,
   "id": "b5c0607f",
   "metadata": {
    "cellView": "form",
    "execution": {
     "iopub.execute_input": "2025-07-17T21:49:40.076420Z",
     "iopub.status.busy": "2025-07-17T21:49:40.076087Z",
     "iopub.status.idle": "2025-07-17T21:49:40.081909Z",
     "shell.execute_reply": "2025-07-17T21:49:40.081137Z"
    },
    "id": "mUvm9rmRFb4p",
    "papermill": {
     "duration": 0.007734,
     "end_time": "2025-07-17T21:49:40.082839",
     "exception": false,
     "start_time": "2025-07-17T21:49:40.075105",
     "status": "completed"
    },
    "tags": []
   },
   "outputs": [],
   "source": [
    "# @title Expand to view the solution\n",
    "def dj_circuit(oracle):\n",
    "    # Phase kickback trick.\n",
    "    yield cirq.X(q2), cirq.H(q2)\n",
    "\n",
    "    # Get an equal superposition over input bits.\n",
    "    yield cirq.H(q0), cirq.H(q1)\n",
    "\n",
    "    # Query the function.\n",
    "    yield oracle\n",
    "\n",
    "    # Use interference to get result, put last qubit into |1>.\n",
    "    yield cirq.H(q0), cirq.H(q1), cirq.H(q2)\n",
    "\n",
    "    # Use a final OR gate to put result in final qubit.\n",
    "    yield cirq.X(q0), cirq.X(q1), cirq.CCX(q0, q1, q2)\n",
    "    yield cirq.measure(q2)"
   ]
  },
  {
   "cell_type": "markdown",
   "id": "2a7c045a",
   "metadata": {
    "id": "79348c9be8a9",
    "papermill": {
     "duration": 5.6e-05,
     "end_time": "2025-07-17T21:49:40.083026",
     "exception": false,
     "start_time": "2025-07-17T21:49:40.082970",
     "status": "completed"
    },
    "tags": []
   },
   "source": [
    "As above, we can check the solution by running the circuit with each of the oracles."
   ]
  },
  {
   "cell_type": "code",
   "execution_count": 29,
   "id": "5d79e811",
   "metadata": {
    "execution": {
     "iopub.execute_input": "2025-07-17T21:49:40.083922Z",
     "iopub.status.busy": "2025-07-17T21:49:40.083684Z",
     "iopub.status.idle": "2025-07-17T21:49:40.114471Z",
     "shell.execute_reply": "2025-07-17T21:49:40.113677Z"
    },
    "id": "c1b1e989dab2",
    "papermill": {
     "duration": 0.032702,
     "end_time": "2025-07-17T21:49:40.115795",
     "exception": false,
     "start_time": "2025-07-17T21:49:40.083093",
     "status": "completed"
    },
    "tags": []
   },
   "outputs": [
    {
     "name": "stdout",
     "output_type": "stream",
     "text": [
      "Result on constant functions:\n",
      "q(2)=00\n",
      "q(2)=00\n",
      "\n",
      "Result on balanced functions:\n",
      "q(2)=11\n",
      "q(2)=11\n",
      "q(2)=11\n",
      "q(2)=11\n",
      "q(2)=11\n",
      "q(2)=11\n"
     ]
    }
   ],
   "source": [
    "\"\"\"Simulate the Deutsch-Jozsa circuit and check the results.\"\"\"\n",
    "\n",
    "print(\"Result on constant functions:\")\n",
    "for oracle in constant:\n",
    "    result = simulator.run(cirq.Circuit(dj_circuit(oracle)), repetitions=2)\n",
    "    print(result)\n",
    "\n",
    "print(\"\\nResult on balanced functions:\")\n",
    "for oracle in balanced:\n",
    "    result = simulator.run(cirq.Circuit(dj_circuit(oracle)), repetitions=2)\n",
    "    print(result)"
   ]
  },
  {
   "cell_type": "markdown",
   "id": "ba7e8f63",
   "metadata": {
    "id": "2d62c4a01340",
    "papermill": {
     "duration": 9.8e-05,
     "end_time": "2025-07-17T21:49:40.116335",
     "exception": false,
     "start_time": "2025-07-17T21:49:40.116237",
     "status": "completed"
    },
    "tags": []
   },
   "source": [
    "As with the single-bit case (Deutsch's algorithm), we always measure $0$ for constant functions and always measure $1$ for balanced functions."
   ]
  },
  {
   "cell_type": "markdown",
   "id": "2b5ce935",
   "metadata": {
    "id": "mmhbPIhT4YAI",
    "papermill": {
     "duration": 7e-05,
     "end_time": "2025-07-17T21:49:40.116565",
     "exception": false,
     "start_time": "2025-07-17T21:49:40.116495",
     "status": "completed"
    },
    "tags": []
   },
   "source": [
    "# Gates"
   ]
  },
  {
   "cell_type": "markdown",
   "id": "64147673",
   "metadata": {
    "id": "F5ubTic94X79",
    "papermill": {
     "duration": 7.3e-05,
     "end_time": "2025-07-17T21:49:40.116781",
     "exception": false,
     "start_time": "2025-07-17T21:49:40.116708",
     "status": "completed"
    },
    "tags": []
   },
   "source": [
    "Cirq comes with a plethora of common quantum gates.  Here we show a few of them."
   ]
  },
  {
   "cell_type": "code",
   "execution_count": 30,
   "id": "531587d6",
   "metadata": {
    "execution": {
     "iopub.execute_input": "2025-07-17T21:49:40.118372Z",
     "iopub.status.busy": "2025-07-17T21:49:40.117927Z",
     "iopub.status.idle": "2025-07-17T21:49:40.134684Z",
     "shell.execute_reply": "2025-07-17T21:49:40.133924Z"
    },
    "id": "iIpoDaqK4yjV",
    "papermill": {
     "duration": 0.018884,
     "end_time": "2025-07-17T21:49:40.135829",
     "exception": false,
     "start_time": "2025-07-17T21:49:40.116945",
     "status": "completed"
    },
    "tags": []
   },
   "outputs": [
    {
     "name": "stdout",
     "output_type": "stream",
     "text": [
      "0: ───X───@───H───────@───×───@───@───iSwap──────Rx(0.5π)───X^0.5───\n",
      "          │           │   │   │   │   │\n",
      "1: ───Y───@───@───T───@───×───×───@───iSwap──────Ry(0.5π)───────────\n",
      "              │       │       │   │\n",
      "2: ───Z───────X───S───@───────×───X───Rz(0.5π)──────────────────────\n"
     ]
    }
   ],
   "source": [
    "\"\"\"Examples of common gates defined in Cirq.\"\"\"\n",
    "\n",
    "# Get some qubits.\n",
    "q0, q1, q2 = cirq.LineQubit.range(3)\n",
    "\n",
    "# Get a bunch of common gates defined in Cirq.\n",
    "ops = [\n",
    "    cirq.X(q0),  # Pauli-X.\n",
    "    cirq.Y(q1),  # Pauli-Y.\n",
    "    cirq.Z(q2),  # Pauli-Z.\n",
    "    cirq.CZ(q0, q1),  # Controlled-Z gate.\n",
    "    cirq.CNOT(q1, q2),  # Controlled-X gate.\n",
    "    cirq.H(q0),  # Hadamard gate.\n",
    "    cirq.T(q1),  # T gate.\n",
    "    cirq.S(q2),  # S gate.\n",
    "    cirq.CCZ(q0, q1, q2),  # Controlled CZ gate.\n",
    "    cirq.SWAP(q0, q1),  # Swap gate.\n",
    "    cirq.CSWAP(q0, q1, q2),  # Controlled swap gate.\n",
    "    cirq.CCX(q0, q1, q2),  # Toffoli (CCNOT) gate.\n",
    "    cirq.ISWAP(q0, q1),  # ISWAP gate.\n",
    "    cirq.Rx(rads=0.5 * np.pi)(q0),  # Rotation about X.\n",
    "    cirq.Ry(rads=0.5 * np.pi)(q1),  # Rotation about Y.\n",
    "    cirq.Rz(rads=0.5 * np.pi)(q2),  # Rotation about Z.\n",
    "    cirq.X(q0) ** 0.5,  # Sqrt of NOT gate.\n",
    "]\n",
    "\n",
    "# Display a circuit with all of these operations.\n",
    "print(cirq.Circuit(ops))"
   ]
  },
  {
   "cell_type": "markdown",
   "id": "91bb4d71",
   "metadata": {
    "id": "FKRGtncT7R0v",
    "papermill": {
     "duration": 5.9e-05,
     "end_time": "2025-07-17T21:49:40.136024",
     "exception": false,
     "start_time": "2025-07-17T21:49:40.135965",
     "status": "completed"
    },
    "tags": []
   },
   "source": [
    "For each of these gates, you can figure out how they act on the computational basis by calling `cirq.unitary` on the gate.  For example, to see the unitary of `CNOT`, we can do:"
   ]
  },
  {
   "cell_type": "code",
   "execution_count": 31,
   "id": "2b79caf9",
   "metadata": {
    "execution": {
     "iopub.execute_input": "2025-07-17T21:49:40.137163Z",
     "iopub.status.busy": "2025-07-17T21:49:40.136828Z",
     "iopub.status.idle": "2025-07-17T21:49:40.141741Z",
     "shell.execute_reply": "2025-07-17T21:49:40.141058Z"
    },
    "id": "7SUAT5F17afR",
    "papermill": {
     "duration": 0.006864,
     "end_time": "2025-07-17T21:49:40.142963",
     "exception": false,
     "start_time": "2025-07-17T21:49:40.136099",
     "status": "completed"
    },
    "tags": []
   },
   "outputs": [
    {
     "name": "stdout",
     "output_type": "stream",
     "text": [
      "[[1.+0.j 0.+0.j 0.+0.j 0.+0.j]\n",
      " [0.+0.j 1.+0.j 0.+0.j 0.+0.j]\n",
      " [0.+0.j 0.+0.j 0.+0.j 1.+0.j]\n",
      " [0.+0.j 0.+0.j 1.+0.j 0.+0.j]]\n"
     ]
    }
   ],
   "source": [
    "\"\"\"Get the unitary of CNOT.\"\"\"\n",
    "\n",
    "print(cirq.unitary(cirq.CNOT))"
   ]
  },
  {
   "cell_type": "markdown",
   "id": "56005b82",
   "metadata": {
    "id": "flm4CcqT2DoI",
    "papermill": {
     "duration": 0.000105,
     "end_time": "2025-07-17T21:49:40.143268",
     "exception": false,
     "start_time": "2025-07-17T21:49:40.143163",
     "status": "completed"
    },
    "tags": []
   },
   "source": [
    "For single qubit gates, we have named gates like `cirq.H` for the Hadmard gate as well as the single qubit rotation gates defined as follows.\n",
    "\n",
    "$$ \n",
    "{\\tt cirq.Rx(\\theta)}: \\exp(-i \\frac{\\theta}{2} X) = cos \\frac{\\theta}{2} I - i \\sin \\frac{\\theta}{2} X =\\left[ \\begin{array} ~\\cos \\frac{\\theta}{2} & -i \\sin \\frac{\\theta}{2} \\\\ -i \\sin \\frac{\\theta}{2} & \\cos \\frac{\\theta}{2}\\end{array} \\right] \\\\\n",
    "$$ \n",
    "$$ \n",
    "{\\tt cirq.Ry(\\theta)}: \\exp(-i \\frac{\\theta}{2} Y) = cos \\frac{\\theta}{2} I - i \\sin \\frac{\\theta}{2} Y =\\left[ \\begin{array} ~\\cos \\frac{\\theta}{2} &  -\\sin \\frac{\\theta}{2} \\\\  \\sin \\frac{\\theta}{2} & \\cos \\frac{\\theta}{2}\\end{array} \\right] \\\\\n",
    "$$ \n",
    "$$ \n",
    "{\\tt cirq.Rz(\\theta)}: \\exp(-i \\frac{\\theta}{2} Z) = cos \\frac{\\theta}{2} I - i \\sin \\frac{\\theta}{2} Z =\\left[ \\begin{array} ~e^{i \\frac{\\theta}{2}} & 0 \\\\ 0 & e^{-i \\frac{\\theta}{2}} \\end{array} \\right] \\\\\n",
    "$$ \n",
    "\n",
    "In addition to `cirq.unitary` another important method (behind the scenes, anyways) is `cirq.apply_unitary`.  This allows you to apply a unitary gate onto a state.  Of course we could have applied the unitary directly to the state, using `cirq.unitary`.   We'll see below in understanding how these methods are implemented that the `cirq.apply_unitary` can be used to apply the gate more directly onto the state and can save allocations of memory to store the unitary.  \n",
    "\n",
    "If we apply `cirq.Rx` to a state we can see how it rotates the state.  To do this let us introduce a new simulate method `simulate_moment_steps`.  This allows us to simulate the circuit `Moment` by `Moment`.  At each point we can access the state.  For example here we can use this to create a circuit that is a series of small `cirq.Rx` rotations and plot the probability of measuring the state in the $|0\\rangle$ state:"
   ]
  },
  {
   "cell_type": "code",
   "execution_count": 32,
   "id": "6d4ac17f",
   "metadata": {
    "execution": {
     "iopub.execute_input": "2025-07-17T21:49:40.144624Z",
     "iopub.status.busy": "2025-07-17T21:49:40.144285Z",
     "iopub.status.idle": "2025-07-17T21:49:40.291590Z",
     "shell.execute_reply": "2025-07-17T21:49:40.290855Z"
    },
    "id": "UgoNBN1H8B6h",
    "papermill": {
     "duration": 0.149567,
     "end_time": "2025-07-17T21:49:40.292984",
     "exception": false,
     "start_time": "2025-07-17T21:49:40.143417",
     "status": "completed"
    },
    "tags": []
   },
   "outputs": [
    {
     "data": {
      "image/png": "[encoded data removed]",
      "text/plain": [
       "<Figure size 640x480 with 1 Axes>"
      ]
     },
     "metadata": {},
     "output_type": "display_data"
    }
   ],
   "source": [
    "\"\"\"Plot the probability of measuring a qubit in the ground state.\"\"\"\n",
    "\n",
    "# Get a qubit.\n",
    "a = cirq.NamedQubit('a')\n",
    "\n",
    "# Get a circuit of a bunch of X rotations.\n",
    "num_angles = 2\n",
    "circuit = cirq.Circuit([cirq.Rx(rads=np.pi / 50.0)(a) for theta in range(num_angles)])\n",
    "\n",
    "# List to store probabilities of the ground state.\n",
    "probs = []\n",
    "\n",
    "# Step through the simulation results.\n",
    "for step in simulator.simulate_moment_steps(circuit):\n",
    "    prob = np.abs(step.state_vector(copy=True)) ** 2\n",
    "    probs.append(prob[0])\n",
    "\n",
    "# Plot the probability of the ground state at each simulation step.\n",
    "plt.style.use('seaborn-v0_8-whitegrid')\n",
    "plt.plot(probs, 'o')\n",
    "plt.xlabel(\"Step\")\n",
    "plt.ylabel(\"Probability of ground state\");"
   ]
  },
  {
   "cell_type": "markdown",
   "id": "32358d0c",
   "metadata": {
    "id": "6q0YkXSZBvzd",
    "papermill": {
     "duration": 5.8e-05,
     "end_time": "2025-07-17T21:49:40.293178",
     "exception": false,
     "start_time": "2025-07-17T21:49:40.293120",
     "status": "completed"
    },
    "tags": []
   },
   "source": [
    "Above we have given ourselves direct access to the wave function and calculated the exact probabilities.  Suppose we wanted to sample from the wave function at each point instead.  "
   ]
  },
  {
   "cell_type": "code",
   "execution_count": 33,
   "id": "e7739bb2",
   "metadata": {
    "execution": {
     "iopub.execute_input": "2025-07-17T21:49:40.294411Z",
     "iopub.status.busy": "2025-07-17T21:49:40.294065Z",
     "iopub.status.idle": "2025-07-17T21:49:40.405337Z",
     "shell.execute_reply": "2025-07-17T21:49:40.404598Z"
    },
    "id": "iynhJEvoCIro",
    "papermill": {
     "duration": 0.11354,
     "end_time": "2025-07-17T21:49:40.406786",
     "exception": false,
     "start_time": "2025-07-17T21:49:40.293246",
     "status": "completed"
    },
    "tags": []
   },
   "outputs": [
    {
     "data": {
      "image/png": "[encoded data removed]",
      "text/plain": [
       "<Figure size 640x480 with 1 Axes>"
      ]
     },
     "metadata": {},
     "output_type": "display_data"
    }
   ],
   "source": [
    "\"\"\"Plot the probability of measuring a qubit in the ground state by sampling.\"\"\"\n",
    "\n",
    "# Number of times to sample.\n",
    "repetitions=2\n",
    "\n",
    "# List to store the probability of the ground state.\n",
    "sampled_probs = []\n",
    "\n",
    "for i, step in enumerate(simulator.simulate_moment_steps(circuit)):\n",
    "    samples = step.sample([a], repetitions=repetitions)\n",
    "    prob = np.sum(samples, axis=0)[0] / repetitions\n",
    "    sampled_probs.append(prob)\n",
    "\n",
    "\n",
    "# Plot the probability of the ground state at each simulation step.\n",
    "plt.style.use('seaborn-v0_8-whitegrid')\n",
    "plt.plot(sampled_probs, 'o')\n",
    "plt.xlabel(\"Step\")\n",
    "plt.ylabel(\"Probability of ground state\");"
   ]
  },
  {
   "cell_type": "markdown",
   "id": "48248a35",
   "metadata": {
    "id": "2483adccd339",
    "papermill": {
     "duration": 0.000104,
     "end_time": "2025-07-17T21:49:40.407098",
     "exception": false,
     "start_time": "2025-07-17T21:49:40.406994",
     "status": "completed"
    },
    "tags": []
   },
   "source": [
    "## Custom gates"
   ]
  },
  {
   "cell_type": "markdown",
   "id": "69429c1f",
   "metadata": {
    "id": "RACz4Z5GDMAf",
    "papermill": {
     "duration": 8.2e-05,
     "end_time": "2025-07-17T21:49:40.407325",
     "exception": false,
     "start_time": "2025-07-17T21:49:40.407243",
     "status": "completed"
    },
    "tags": []
   },
   "source": [
    "Suppose there is a gate that you want Cirq to support, but it is not implemented in Cirq.  How do you go about defining your new gate?  \n",
    "\n",
    "Cirq aims to be Pythonic.  One way in which it does this is that it relies on Python's **protocol** pattern.  Protocols are similar to interfaces, in that they define a collection of methods that an object must support to implement a protocol, but different in that this requirement is more informal and not a part of a class or interface declaration.  An object supports a protocol if it implements the methods that the protocol defines.  You're probably familiar with this if you've ever done something like defined your own `Container` in Python.  To do this for an object you simply define the `__contains__`, `__setitem__`, and `__getitem__` methods on your object, and then you can use this object anywere the Container protocol is supported.  \n",
    "\n",
    "Let's see how this works for defining a custom gate.  The gate we will define is a single qubit gate that has only rational amplitudes. This is based on the famous 3, 4, 5 triangle you may remember from a long ago math class: $3^2 + 4^2 = 5^2$.  Using this observation we can construct normalized vectors and a unitary transform using the ratios of $3$, $4$, and $5$: \n",
    "$$\n",
    "\\zeta =\\left[ \\begin{array}\n",
    "~\\frac{3}{5} & \\frac{4}{5} \\\\\n",
    "-\\frac{4}{5} & \\frac{3}{5}\n",
    "\\end{array} \\right]\n",
    "$$\n",
    "\n",
    "Below is a simple implementation of this gate in Cirq.  To do this we simply define a class that inherits from `cirq.Gate` and implements the `cirq.SupportsUnitary` protocol by implementing the `_unitary_(self)` method.  We also define an optional `__str__` representation which Cirq will use when printing this gate out in a circuit diagram."
   ]
  },
  {
   "cell_type": "code",
   "execution_count": 34,
   "id": "92b5522a",
   "metadata": {
    "execution": {
     "iopub.execute_input": "2025-07-17T21:49:40.408770Z",
     "iopub.status.busy": "2025-07-17T21:49:40.408442Z",
     "iopub.status.idle": "2025-07-17T21:49:40.412578Z",
     "shell.execute_reply": "2025-07-17T21:49:40.411873Z"
    },
    "id": "Y2a7t2qmLDTb",
    "papermill": {
     "duration": 0.006519,
     "end_time": "2025-07-17T21:49:40.413975",
     "exception": false,
     "start_time": "2025-07-17T21:49:40.407456",
     "status": "completed"
    },
    "tags": []
   },
   "outputs": [],
   "source": [
    "\"\"\"Example of defining a custom gate in Cirq.\"\"\"\n",
    "\n",
    "\n",
    "class RationalGate(cirq.Gate):\n",
    "    def _num_qubits_(self) -> int:\n",
    "        return 1\n",
    "\n",
    "    def _unitary_(self):\n",
    "        return np.array([[3 / 5, 4 / 5], [-4 / 5, 3 / 5]])\n",
    "\n",
    "    def __str__(self):\n",
    "        return 'ζ'"
   ]
  },
  {
   "cell_type": "markdown",
   "id": "b9b6ecc8",
   "metadata": {
    "id": "6d262b57bb0c",
    "papermill": {
     "duration": 0.00012,
     "end_time": "2025-07-17T21:49:40.414536",
     "exception": false,
     "start_time": "2025-07-17T21:49:40.414416",
     "status": "completed"
    },
    "tags": []
   },
   "source": [
    "We can now use this custom gate just like any other gate in Cirq."
   ]
  },
  {
   "cell_type": "code",
   "execution_count": 35,
   "id": "8b998aca",
   "metadata": {
    "execution": {
     "iopub.execute_input": "2025-07-17T21:49:40.415937Z",
     "iopub.status.busy": "2025-07-17T21:49:40.415568Z",
     "iopub.status.idle": "2025-07-17T21:49:40.420155Z",
     "shell.execute_reply": "2025-07-17T21:49:40.419716Z"
    },
    "id": "28f06d1baf9b",
    "papermill": {
     "duration": 0.006717,
     "end_time": "2025-07-17T21:49:40.421417",
     "exception": false,
     "start_time": "2025-07-17T21:49:40.414700",
     "status": "completed"
    },
    "tags": []
   },
   "outputs": [
    {
     "name": "stdout",
     "output_type": "stream",
     "text": [
      "a: ───ζ───\n"
     ]
    }
   ],
   "source": [
    "\"\"\"Using the custom gate in a circuit.\"\"\"\n",
    "\n",
    "a = cirq.NamedQubit('a')\n",
    "rg = RationalGate()\n",
    "print(cirq.Circuit(rg(a)))"
   ]
  },
  {
   "cell_type": "markdown",
   "id": "99392914",
   "metadata": {
    "id": "3132dcbe8413",
    "papermill": {
     "duration": 0.000101,
     "end_time": "2025-07-17T21:49:40.421714",
     "exception": false,
     "start_time": "2025-07-17T21:49:40.421613",
     "status": "completed"
    },
    "tags": []
   },
   "source": [
    "We can also get its unitary, as shown below, because the `RationalGate` defines a `_unitary_` method."
   ]
  },
  {
   "cell_type": "code",
   "execution_count": 36,
   "id": "fa44626b",
   "metadata": {
    "execution": {
     "iopub.execute_input": "2025-07-17T21:49:40.423023Z",
     "iopub.status.busy": "2025-07-17T21:49:40.422687Z",
     "iopub.status.idle": "2025-07-17T21:49:40.427291Z",
     "shell.execute_reply": "2025-07-17T21:49:40.426516Z"
    },
    "id": "x9dHKNfgMoyz",
    "papermill": {
     "duration": 0.006718,
     "end_time": "2025-07-17T21:49:40.428578",
     "exception": false,
     "start_time": "2025-07-17T21:49:40.421860",
     "status": "completed"
    },
    "tags": []
   },
   "outputs": [
    {
     "name": "stdout",
     "output_type": "stream",
     "text": [
      "[[ 0.6  0.8]\n",
      " [-0.8  0.6]]\n"
     ]
    }
   ],
   "source": [
    "print(cirq.unitary(rg))"
   ]
  },
  {
   "cell_type": "markdown",
   "id": "9a11ebfd",
   "metadata": {
    "id": "xmF-uscmPP_G",
    "papermill": {
     "duration": 0.0001,
     "end_time": "2025-07-17T21:49:40.428870",
     "exception": false,
     "start_time": "2025-07-17T21:49:40.428770",
     "status": "completed"
    },
    "tags": []
   },
   "source": [
    "Let's check that we can use this gate in a simulation."
   ]
  },
  {
   "cell_type": "code",
   "execution_count": 37,
   "id": "7fc9b8cb",
   "metadata": {
    "execution": {
     "iopub.execute_input": "2025-07-17T21:49:40.430284Z",
     "iopub.status.busy": "2025-07-17T21:49:40.429902Z",
     "iopub.status.idle": "2025-07-17T21:49:40.436445Z",
     "shell.execute_reply": "2025-07-17T21:49:40.435765Z"
    },
    "id": "_RXBrSQ8PWnu",
    "papermill": {
     "duration": 0.008669,
     "end_time": "2025-07-17T21:49:40.437713",
     "exception": false,
     "start_time": "2025-07-17T21:49:40.429044",
     "status": "completed"
    },
    "tags": []
   },
   "outputs": [
    {
     "name": "stdout",
     "output_type": "stream",
     "text": [
      "[ 0.6+0.j -0.8+0.j]\n"
     ]
    }
   ],
   "source": [
    "\"\"\"Simulate a circuit with a custom gate.\"\"\"\n",
    "\n",
    "circuit = cirq.Circuit(rg(a))\n",
    "simulator = cirq.Simulator()\n",
    "result = simulator.simulate(circuit)\n",
    "print(result.final_state_vector)"
   ]
  },
  {
   "cell_type": "markdown",
   "id": "35f2a2c4",
   "metadata": {
    "id": "9da706cd9038",
    "papermill": {
     "duration": 0.0001,
     "end_time": "2025-07-17T21:49:40.438008",
     "exception": false,
     "start_time": "2025-07-17T21:49:40.437908",
     "status": "completed"
    },
    "tags": []
   },
   "source": [
    "> *Note on simulating circuits with custom gates.* The `_unitary_` method is extremely inefficient for gates over many qubits. In most cases the method `_apply_unitary_` will be used instead, if it is available.\n",
    "This method allows much more fine grained control on how a unitary is applied to a state, but it is harder to implement, for example because it is expected to use the pre-allocated workspace buffer that was given to it.\n",
    "Almost all of the basic gates we have defined in Cirq have this method implemented. If you need to get performant, custom multi-qubit gates, you should implement a custom `_apply_unitary_` method for such gates."
   ]
  },
  {
   "cell_type": "markdown",
   "id": "81df5636",
   "metadata": {
    "id": "y63aDja8R4rc",
    "papermill": {
     "duration": 8.3e-05,
     "end_time": "2025-07-17T21:49:40.438236",
     "exception": false,
     "start_time": "2025-07-17T21:49:40.438153",
     "status": "completed"
    },
    "tags": []
   },
   "source": [
    "## Exercise: Custom Controlled Rx gate\n",
    "\n",
    "Recall that the `cirq.Rx` gate is a rotation about the $X$ Pauli axis:\n",
    "$$ \n",
    "{\\tt cirq.Rx(θ)}: \\exp(-i \\frac{\\theta}{2} X) = cos \\frac{\\theta}{2} I - i \\sin \\frac{\\theta}{2} X =\\left[ \\begin{array} ~\\cos \\frac{\\theta}{2} & -i \\sin \\frac{\\theta}{2} \\\\ -i \\sin \\frac{\\theta}{2} & \\cos \\frac{\\theta}{2}\\end{array} \\right] . \\\\\n",
    "$$ \n",
    "\n",
    "As an exercise, create a two-qubit controlled `cirq.Rx` gate defined as follows:\n",
    "$$\n",
    "{\\tt CRx(\\theta)}:\n",
    "\\left[\\begin{array}\n",
    "~1 & 0 & 0 & 0 \\\\\n",
    "0 & 1 & 0 & 0  \\\\\n",
    "0 & 0 & \\cos \\frac{\\theta}{2} & -i \\sin \\frac{\\theta}{2} \\\\\n",
    "0 & 0 & -i \\sin \\frac{\\theta}{2} & \\cos \\frac{\\theta}{2}\n",
    "\\end{array} \\right] .\n",
    "$$"
   ]
  },
  {
   "cell_type": "code",
   "execution_count": 38,
   "id": "7ecfd81b",
   "metadata": {
    "cellView": "form",
    "execution": {
     "iopub.execute_input": "2025-07-17T21:49:40.439592Z",
     "iopub.status.busy": "2025-07-17T21:49:40.439268Z",
     "iopub.status.idle": "2025-07-17T21:49:40.446155Z",
     "shell.execute_reply": "2025-07-17T21:49:40.445416Z"
    },
    "id": "9htgTzqAYHsA",
    "papermill": {
     "duration": 0.00905,
     "end_time": "2025-07-17T21:49:40.447417",
     "exception": false,
     "start_time": "2025-07-17T21:49:40.438367",
     "status": "completed"
    },
    "tags": []
   },
   "outputs": [
    {
     "name": "stdout",
     "output_type": "stream",
     "text": [
      "[]\n"
     ]
    }
   ],
   "source": [
    "# @title Attempt the solution here\n",
    "\"\"\"Define a custom controlled cirq.rx gate here.\"\"\"\n",
    "\n",
    "\n",
    "class CRx(cirq.Gate):\n",
    "    def __init__(self, theta):\n",
    "        self.theta = theta\n",
    "\n",
    "    def _num_qubits_(self):\n",
    "        return 2\n",
    "\n",
    "    def _unitary_(self):\n",
    "        return np.array(\n",
    "            [\n",
    "                # Your code here!\n",
    "            ]\n",
    "        )\n",
    "\n",
    "\n",
    "# Print out its unitary.\n",
    "print(np.around(cirq.unitary(CRx(0.5 * np.pi)), 3))"
   ]
  },
  {
   "cell_type": "code",
   "execution_count": 39,
   "id": "07e84105",
   "metadata": {
    "cellView": "form",
    "execution": {
     "iopub.execute_input": "2025-07-17T21:49:40.448830Z",
     "iopub.status.busy": "2025-07-17T21:49:40.448517Z",
     "iopub.status.idle": "2025-07-17T21:49:40.458085Z",
     "shell.execute_reply": "2025-07-17T21:49:40.457377Z"
    },
    "id": "XaG8n5bdGgf2",
    "papermill": {
     "duration": 0.011839,
     "end_time": "2025-07-17T21:49:40.459472",
     "exception": false,
     "start_time": "2025-07-17T21:49:40.447633",
     "status": "completed"
    },
    "tags": []
   },
   "outputs": [
    {
     "name": "stdout",
     "output_type": "stream",
     "text": [
      "[[1.   +0.j    0.   +0.j    0.   +0.j    0.   +0.j   ]\n",
      " [0.   +0.j    1.   +0.j    0.   +0.j    0.   +0.j   ]\n",
      " [0.   +0.j    0.   +0.j    0.707+0.j    0.   -0.707j]\n",
      " [0.   +0.j    0.   +0.j    0.   -0.707j 0.707+0.j   ]]\n"
     ]
    }
   ],
   "source": [
    "# @title Expand to view the solution\n",
    "\"\"\"Defining a custom controlled cirq.Rx gate.\"\"\"\n",
    "\n",
    "\n",
    "class CRx(cirq.Gate):\n",
    "    def __init__(self, theta):\n",
    "        self.theta = theta\n",
    "\n",
    "    def _num_qubits_(self):\n",
    "        return 2\n",
    "\n",
    "    def _unitary_(self):\n",
    "        return np.array(\n",
    "            [\n",
    "                [1, 0, 0, 0],\n",
    "                [0, 1, 0, 0],\n",
    "                [0, 0, np.cos(self.theta / 2), -1j * np.sin(self.theta / 2)],\n",
    "                [0, 0, -1j * np.sin(self.theta / 2), np.cos(self.theta / 2)],\n",
    "            ]\n",
    "        )\n",
    "\n",
    "    def _circuit_diagram_info_(self, args):\n",
    "        return '@', f'Rx({self.theta / np.pi}π)'\n",
    "\n",
    "\n",
    "# Print out its unitary.\n",
    "print(np.around(cirq.unitary(CRx(0.5 * np.pi)), 3))"
   ]
  },
  {
   "cell_type": "markdown",
   "id": "24311141",
   "metadata": {
    "id": "af7add86ab34",
    "papermill": {
     "duration": 0.000103,
     "end_time": "2025-07-17T21:49:40.459808",
     "exception": false,
     "start_time": "2025-07-17T21:49:40.459705",
     "status": "completed"
    },
    "tags": []
   },
   "source": [
    "Note that we also define the `_circuit_diagram_info_` method which tells Cirq how to display the gate in a circuit diagram. The first string in the tuple is the symbol for the top wire, and the second string in the tuple is the symbol for the bottom wire. We can use this in a circuit to see the diagram info as shown below."
   ]
  },
  {
   "cell_type": "code",
   "execution_count": 40,
   "id": "7fd2fe10",
   "metadata": {
    "execution": {
     "iopub.execute_input": "2025-07-17T21:49:40.461316Z",
     "iopub.status.busy": "2025-07-17T21:49:40.460966Z",
     "iopub.status.idle": "2025-07-17T21:49:40.465799Z",
     "shell.execute_reply": "2025-07-17T21:49:40.465164Z"
    },
    "id": "a1cd089df7ba",
    "papermill": {
     "duration": 0.006885,
     "end_time": "2025-07-17T21:49:40.466857",
     "exception": false,
     "start_time": "2025-07-17T21:49:40.459972",
     "status": "completed"
    },
    "tags": []
   },
   "outputs": [
    {
     "name": "stdout",
     "output_type": "stream",
     "text": [
      "Circuit diagram:\n",
      "a: ───@───────────\n",
      "      │\n",
      "b: ───Rx(0.25π)───\n"
     ]
    }
   ],
   "source": [
    "\"\"\"Display a circuit with the custom gate.\"\"\"\n",
    "\n",
    "# Get qubits.\n",
    "a = cirq.NamedQubit('a')\n",
    "b = cirq.NamedQubit('b')\n",
    "\n",
    "# Display the circuit.\n",
    "print('Circuit diagram:')\n",
    "print(cirq.Circuit(CRx(0.25 * np.pi)(a, b)))"
   ]
  },
  {
   "cell_type": "markdown",
   "id": "d52011f7",
   "metadata": {
    "id": "9W_Vlgpzz0D1",
    "papermill": {
     "duration": 8.5e-05,
     "end_time": "2025-07-17T21:49:40.467124",
     "exception": false,
     "start_time": "2025-07-17T21:49:40.467039",
     "status": "completed"
    },
    "tags": []
   },
   "source": [
    "## Decompose Protocol\n"
   ]
  },
  {
   "cell_type": "markdown",
   "id": "b34d4510",
   "metadata": {
    "id": "OXqzGmclSP-n",
    "papermill": {
     "duration": 7.4e-05,
     "end_time": "2025-07-17T21:49:40.467357",
     "exception": false,
     "start_time": "2025-07-17T21:49:40.467283",
     "status": "completed"
    },
    "tags": []
   },
   "source": [
    "Cirq also supports creating custom \"composite\" gates which can be defined in terms of other \"simpler\" gates. The custom gate should implement the `cirq.SupportsDecompose` protocol by implementing `_decompose_` method.\n",
    "\n",
    "Note that implementing `_decompose_` on custom gates is convenient because if a gate has its `_decompose_` method defined, other protocols, like `cirq.SupportsUnitary`, are automatically supported by composing the values obtained from the decomposed operations. \n",
    "\n",
    "Below we show how one can construct a custom gate that can be decomposed into two gates."
   ]
  },
  {
   "cell_type": "code",
   "execution_count": 41,
   "id": "1df0d532",
   "metadata": {
    "execution": {
     "iopub.execute_input": "2025-07-17T21:49:40.468775Z",
     "iopub.status.busy": "2025-07-17T21:49:40.468295Z",
     "iopub.status.idle": "2025-07-17T21:49:40.472690Z",
     "shell.execute_reply": "2025-07-17T21:49:40.472037Z"
    },
    "id": "9G-9_29h09Mx",
    "papermill": {
     "duration": 0.006202,
     "end_time": "2025-07-17T21:49:40.473704",
     "exception": false,
     "start_time": "2025-07-17T21:49:40.467502",
     "status": "completed"
    },
    "tags": []
   },
   "outputs": [],
   "source": [
    "\"\"\"Example of a custom gate which supports the decompose protocol.\"\"\"\n",
    "\n",
    "\n",
    "class HXGate(cirq.Gate):\n",
    "    def _num_qubits_(self) -> int:\n",
    "        return 1\n",
    "\n",
    "    def _decompose_(self, qubits):\n",
    "        return cirq.H(*qubits), cirq.X(*qubits)\n",
    "\n",
    "    def __str__(self):\n",
    "        return 'HX'"
   ]
  },
  {
   "cell_type": "markdown",
   "id": "1991df4f",
   "metadata": {
    "id": "1a88ad617867",
    "papermill": {
     "duration": 5.3e-05,
     "end_time": "2025-07-17T21:49:40.473884",
     "exception": false,
     "start_time": "2025-07-17T21:49:40.473831",
     "status": "completed"
    },
    "tags": []
   },
   "source": [
    "Even though the above gate does not define a `_unitary_` method, we can use it in a circuit as follows. "
   ]
  },
  {
   "cell_type": "code",
   "execution_count": 42,
   "id": "71c811b0",
   "metadata": {
    "execution": {
     "iopub.execute_input": "2025-07-17T21:49:40.474998Z",
     "iopub.status.busy": "2025-07-17T21:49:40.474707Z",
     "iopub.status.idle": "2025-07-17T21:49:40.481599Z",
     "shell.execute_reply": "2025-07-17T21:49:40.480838Z"
    },
    "id": "370e8528c762",
    "papermill": {
     "duration": 0.008977,
     "end_time": "2025-07-17T21:49:40.482929",
     "exception": false,
     "start_time": "2025-07-17T21:49:40.473952",
     "status": "completed"
    },
    "tags": []
   },
   "outputs": [
    {
     "name": "stdout",
     "output_type": "stream",
     "text": [
      "a: ───HX───\n",
      "\n",
      "[[ 0.70710678+0.j -0.70710678+0.j]\n",
      " [ 0.70710678+0.j  0.70710678+0.j]]\n"
     ]
    }
   ],
   "source": [
    "\"\"\"Use the gate in a circuit.\"\"\"\n",
    "\n",
    "HX = HXGate()\n",
    "\n",
    "a = cirq.NamedQubit('a')\n",
    "circuit = cirq.Circuit(HX(a))\n",
    "assert cirq.has_unitary(HX(a))\n",
    "print(circuit, cirq.unitary(circuit), sep=\"\\n\\n\")"
   ]
  },
  {
   "cell_type": "markdown",
   "id": "3e2cf71c",
   "metadata": {
    "id": "eb4e74261590",
    "papermill": {
     "duration": 0.000106,
     "end_time": "2025-07-17T21:49:40.483249",
     "exception": false,
     "start_time": "2025-07-17T21:49:40.483143",
     "status": "completed"
    },
    "tags": []
   },
   "source": [
    "The symbol `HX` is a single gate, not a product of two gates. We can decompose the `HXGate` using `cirq.decompose` as shown below."
   ]
  },
  {
   "cell_type": "code",
   "execution_count": 43,
   "id": "a185f7cd",
   "metadata": {
    "execution": {
     "iopub.execute_input": "2025-07-17T21:49:40.484829Z",
     "iopub.status.busy": "2025-07-17T21:49:40.484293Z",
     "iopub.status.idle": "2025-07-17T21:49:40.489208Z",
     "shell.execute_reply": "2025-07-17T21:49:40.488513Z"
    },
    "id": "47ec94cdecf3",
    "papermill": {
     "duration": 0.00711,
     "end_time": "2025-07-17T21:49:40.490503",
     "exception": false,
     "start_time": "2025-07-17T21:49:40.483393",
     "status": "completed"
    },
    "tags": []
   },
   "outputs": [
    {
     "name": "stdout",
     "output_type": "stream",
     "text": [
      "a: ───Y^0.5───X───X───\n"
     ]
    }
   ],
   "source": [
    "\"\"\"Decompose the gate.\"\"\"\n",
    "\n",
    "print(cirq.Circuit(cirq.decompose(circuit)))"
   ]
  },
  {
   "cell_type": "markdown",
   "id": "edbb7fbe",
   "metadata": {
    "id": "RLF1narS66iB",
    "papermill": {
     "duration": 0.000109,
     "end_time": "2025-07-17T21:49:40.490822",
     "exception": false,
     "start_time": "2025-07-17T21:49:40.490713",
     "status": "completed"
    },
    "tags": []
   },
   "source": [
    "Note that this not only decomposed the `HX` gate into `H` and `X`, it also decomposed `H` into `Y**0.5` and `X`.  In order to decompose only once, one can use `cirq.decompose_once`:"
   ]
  },
  {
   "cell_type": "code",
   "execution_count": 44,
   "id": "36e5addd",
   "metadata": {
    "execution": {
     "iopub.execute_input": "2025-07-17T21:49:40.492095Z",
     "iopub.status.busy": "2025-07-17T21:49:40.491809Z",
     "iopub.status.idle": "2025-07-17T21:49:40.496296Z",
     "shell.execute_reply": "2025-07-17T21:49:40.495690Z"
    },
    "id": "AS-YMmAv6zUg",
    "papermill": {
     "duration": 0.006586,
     "end_time": "2025-07-17T21:49:40.497558",
     "exception": false,
     "start_time": "2025-07-17T21:49:40.490972",
     "status": "completed"
    },
    "tags": []
   },
   "outputs": [
    {
     "name": "stdout",
     "output_type": "stream",
     "text": [
      "a: ───H───X───\n"
     ]
    }
   ],
   "source": [
    "\"\"\"Decompose the gate once.\"\"\"\n",
    "\n",
    "print(cirq.Circuit(cirq.decompose_once(HX(a))))"
   ]
  },
  {
   "cell_type": "markdown",
   "id": "688f1e42",
   "metadata": {
    "id": "5BtDCUe-XS1H",
    "papermill": {
     "duration": 0.000106,
     "end_time": "2025-07-17T21:49:40.497869",
     "exception": false,
     "start_time": "2025-07-17T21:49:40.497763",
     "status": "completed"
    },
    "tags": []
   },
   "source": [
    "## Gatesets"
   ]
  },
  {
   "cell_type": "markdown",
   "id": "47271d91",
   "metadata": {
    "id": "8J5jNvBBXZLp",
    "papermill": {
     "duration": 8.5e-05,
     "end_time": "2025-07-17T21:49:40.498108",
     "exception": false,
     "start_time": "2025-07-17T21:49:40.498023",
     "status": "completed"
    },
    "tags": []
   },
   "source": [
    "In many contexts, the notion of what gate you can apply is defined either by the physical hardware you are running or perhaps by the quantum error correcting code you are working with.  In quantum computing we typically talk about **gate sets** and work with respect to a given gate set.  \n",
    "\n",
    "Cirq provides a `cirq.Gateset` abstraction to create custom gatesets, which is useful for\n",
    "\n",
    " * Describing the set of allowed gates in a human readable format\n",
    " * Validating a given gate / optree against the set of allowed gates\n",
    "\n",
    "\n",
    "For example, a gateset that supports any x/y/z single qubit rotation and CNOT can be defind as follows:"
   ]
  },
  {
   "cell_type": "code",
   "execution_count": 45,
   "id": "3c0ec942",
   "metadata": {
    "execution": {
     "iopub.execute_input": "2025-07-17T21:49:40.499551Z",
     "iopub.status.busy": "2025-07-17T21:49:40.499237Z",
     "iopub.status.idle": "2025-07-17T21:49:40.505860Z",
     "shell.execute_reply": "2025-07-17T21:49:40.505115Z"
    },
    "id": "YnaqZI6dRNxX",
    "papermill": {
     "duration": 0.009008,
     "end_time": "2025-07-17T21:49:40.507250",
     "exception": false,
     "start_time": "2025-07-17T21:49:40.498242",
     "status": "completed"
    },
    "tags": []
   },
   "outputs": [],
   "source": [
    "# Insert a type (eg: cirq.XPowGate) to accept all instances of that type.\n",
    "# Insert an instance (eg: cirq.CNOT) to accept only one specific instance of the type.\n",
    "gateset = cirq.Gateset(cirq.XPowGate, cirq.YPowGate, cirq.ZPowGate, cirq.CNOT)\n",
    "\n",
    "# Valid gates and operations are accepted by the gateset.\n",
    "assert cirq.CNOT(*cirq.LineQubit.range(2)) in gateset\n",
    "assert cirq.X**0.5 in gateset\n",
    "\n",
    "# Arbitrary powers of cirq.CXPowGate are not part of the gateset.\n",
    "assert cirq.CNOT**0.5 not in gateset"
   ]
  },
  {
   "cell_type": "markdown",
   "id": "4d53c647",
   "metadata": {
    "id": "3HtlMxa6QpVo",
    "papermill": {
     "duration": 0.00011,
     "end_time": "2025-07-17T21:49:40.507569",
     "exception": false,
     "start_time": "2025-07-17T21:49:40.507459",
     "status": "completed"
    },
    "tags": []
   },
   "source": [
    "# Parameterized Circuits\n",
    "\n",
    "In addition to circuit gates with fixed values, Cirq also supports parameterized gates with symbolic values via `sympy`. These are placeholder values, such as `sympy.Symbol('x')`, that will only be resolved at *run-time*. For simulators these values are resolved by providing a `ParamResolver`.  A `ParamResolver` provides a map from the `Symbol`'s name to its assigned value.  \n",
    "\n",
    "> Plain Python dictionaries can also be used whenever a `ParamResolver` is needed."
   ]
  },
  {
   "cell_type": "code",
   "execution_count": 46,
   "id": "b8b7c08d",
   "metadata": {
    "execution": {
     "iopub.execute_input": "2025-07-17T21:49:40.509068Z",
     "iopub.status.busy": "2025-07-17T21:49:40.508661Z",
     "iopub.status.idle": "2025-07-17T21:49:40.514981Z",
     "shell.execute_reply": "2025-07-17T21:49:40.514277Z"
    },
    "id": "0afe36a32636",
    "papermill": {
     "duration": 0.008485,
     "end_time": "2025-07-17T21:49:40.516202",
     "exception": false,
     "start_time": "2025-07-17T21:49:40.507717",
     "status": "completed"
    },
    "tags": []
   },
   "outputs": [
    {
     "name": "stdout",
     "output_type": "stream",
     "text": [
      "Circuit with parameterized gates:\n",
      "\n",
      "a: ───X^s───\n",
      "\n",
      "b: ───X^s───\n"
     ]
    }
   ],
   "source": [
    "\"\"\"Define a circuit with parameterized gates.\"\"\"\n",
    "\n",
    "# Import sympy for parameterized values.\n",
    "import sympy as sp\n",
    "\n",
    "# Get qubits to use in the circuit.\n",
    "a = cirq.NamedQubit(\"a\")\n",
    "b = cirq.NamedQubit(\"b\")\n",
    "\n",
    "# Define a parameterized value.\n",
    "val = sp.Symbol(\"s\")\n",
    "\n",
    "# Create a circuit.\n",
    "circuit = cirq.Circuit(cirq.X.on(a) ** val, cirq.X.on(b) ** val)\n",
    "\n",
    "# Display it.\n",
    "print(\"Circuit with parameterized gates:\\n\")\n",
    "print(circuit)"
   ]
  },
  {
   "cell_type": "markdown",
   "id": "7e3a9fd5",
   "metadata": {
    "id": "c67ac3447a5f",
    "papermill": {
     "duration": 0.000103,
     "end_time": "2025-07-17T21:49:40.516688",
     "exception": false,
     "start_time": "2025-07-17T21:49:40.516585",
     "status": "completed"
    },
    "tags": []
   },
   "source": [
    "When we simulate this circuit, we must provide a `param_resolver` as mentioned."
   ]
  },
  {
   "cell_type": "code",
   "execution_count": 47,
   "id": "50e50794",
   "metadata": {
    "execution": {
     "iopub.execute_input": "2025-07-17T21:49:40.518022Z",
     "iopub.status.busy": "2025-07-17T21:49:40.517708Z",
     "iopub.status.idle": "2025-07-17T21:49:40.527147Z",
     "shell.execute_reply": "2025-07-17T21:49:40.526415Z"
    },
    "id": "TIaVRzCD4deU",
    "papermill": {
     "duration": 0.011638,
     "end_time": "2025-07-17T21:49:40.528462",
     "exception": false,
     "start_time": "2025-07-17T21:49:40.516824",
     "status": "completed"
    },
    "tags": []
   },
   "outputs": [
    {
     "name": "stdout",
     "output_type": "stream",
     "text": [
      "s=0: [1.+0.j 0.+0.j 0.+0.j 0.+0.j]\n",
      "\n",
      "s=1: [ 0.6 +0.6j   0.25-0.25j  0.25-0.25j -0.1 -0.1j ]\n",
      "\n"
     ]
    }
   ],
   "source": [
    "\"\"\"Simulate the circuit at multiple parameter values.\"\"\"\n",
    "\n",
    "simulator = cirq.Simulator()\n",
    "\n",
    "# Simulate the circuit for several values of the parameter.\n",
    "num_params = 2\n",
    "for y in range(num_params):\n",
    "    result = simulator.simulate(circuit, param_resolver={\"s\": y / 4.0})\n",
    "    print(f\"s={y}: {np.around(result.final_state_vector, 2)}\\n\")"
   ]
  },
  {
   "cell_type": "markdown",
   "id": "25df1c3a",
   "metadata": {
    "id": "1_2i73Oo4aM1",
    "papermill": {
     "duration": 0.00011,
     "end_time": "2025-07-17T21:49:40.528779",
     "exception": false,
     "start_time": "2025-07-17T21:49:40.528669",
     "status": "completed"
    },
    "tags": []
   },
   "source": [
    "Here we see that the `Symbol` is used in two gates, and then the resolver provides this value at run time.\n",
    "\n",
    "Parameterized values are most useful in defining what we call a `cirq.Sweep`.  A `cirq.Sweep` is a collection of parameter resolvers. Our `cirq.Simulator` and `cirq.Sampler` (for real devices) interfaces support parameter sweeps. The `run_sweep` method allows the user to a parameterized circuit with each of the configurations. Within each run, the user might specify the number of repetitions as well which determines the sample size for each run.  Running parameter sweeps returns a list of `cirq.Result`s, one per set of fixed parameter values and repetitions. Example:\n"
   ]
  },
  {
   "cell_type": "code",
   "execution_count": 48,
   "id": "bf0327de",
   "metadata": {
    "execution": {
     "iopub.execute_input": "2025-07-17T21:49:40.530142Z",
     "iopub.status.busy": "2025-07-17T21:49:40.529829Z",
     "iopub.status.idle": "2025-07-17T21:49:40.539792Z",
     "shell.execute_reply": "2025-07-17T21:49:40.539081Z"
    },
    "id": "Gj_Y3Lrh49o9",
    "papermill": {
     "duration": 0.012313,
     "end_time": "2025-07-17T21:49:40.541260",
     "exception": false,
     "start_time": "2025-07-17T21:49:40.528947",
     "status": "completed"
    },
    "tags": []
   },
   "outputs": [
    {
     "name": "stdout",
     "output_type": "stream",
     "text": [
      "params: OrderedDict([('s', 0.0)])\n",
      "a=00\n",
      "b=00\n",
      "\n",
      "params: OrderedDict([('s', 0.125)])\n",
      "a=00\n",
      "b=00\n",
      "\n"
     ]
    }
   ],
   "source": [
    "\"\"\"Simulate the circuit at multiple parameter values.\"\"\"\n",
    "\n",
    "# Get a list of param resolvers.\n",
    "num_params = 2\n",
    "resolvers = [cirq.ParamResolver({'s': y / 8.0}) for y in range(num_params)]\n",
    "\n",
    "# Add measurements to the circuit.\n",
    "circuit.append([cirq.measure(a), cirq.measure(b)])\n",
    "\n",
    "# Simulate the circuit using run_sweep.\n",
    "results = simulator.run_sweep(program=circuit, params=resolvers, repetitions=2)\n",
    "\n",
    "for i, result in enumerate(results):\n",
    "    print(f'params: {result.params.param_dict}\\n{result}\\n')"
   ]
  },
  {
   "cell_type": "markdown",
   "id": "6ebfcd08",
   "metadata": {
    "id": "d31ac13186d3",
    "papermill": {
     "duration": 0.000106,
     "end_time": "2025-07-17T21:49:40.541579",
     "exception": false,
     "start_time": "2025-07-17T21:49:40.541473",
     "status": "completed"
    },
    "tags": []
   },
   "source": [
    "A very similar method to `run_sweep` is the `sample` method. This returns a pandas `DataFrame`, where each column is a parameter/measurement key and each row is a repetition.\n"
   ]
  },
  {
   "cell_type": "code",
   "execution_count": 49,
   "id": "e33eec7f",
   "metadata": {
    "execution": {
     "iopub.execute_input": "2025-07-17T21:49:40.543065Z",
     "iopub.status.busy": "2025-07-17T21:49:40.542724Z",
     "iopub.status.idle": "2025-07-17T21:49:40.567133Z",
     "shell.execute_reply": "2025-07-17T21:49:40.566473Z"
    },
    "id": "074f9fd5cdcd",
    "papermill": {
     "duration": 0.026834,
     "end_time": "2025-07-17T21:49:40.568567",
     "exception": false,
     "start_time": "2025-07-17T21:49:40.541733",
     "status": "completed"
    },
    "tags": []
   },
   "outputs": [
    {
     "data": {
      "text/html": [
       "<div>\n",
       "<style scoped>\n",
       "    .dataframe tbody tr th:only-of-type {\n",
       "        vertical-align: middle;\n",
       "    }\n",
       "\n",
       "    .dataframe tbody tr th {\n",
       "        vertical-align: top;\n",
       "    }\n",
       "\n",
       "    .dataframe thead th {\n",
       "        text-align: right;\n",
       "    }\n",
       "</style>\n",
       "<table border=\"1\" class=\"dataframe\">\n",
       "  <thead>\n",
       "    <tr style=\"text-align: right;\">\n",
       "      <th></th>\n",
       "      <th>s</th>\n",
       "      <th>a</th>\n",
       "      <th>b</th>\n",
       "    </tr>\n",
       "  </thead>\n",
       "  <tbody>\n",
       "    <tr>\n",
       "      <th>count</th>\n",
       "      <td>4.000000</td>\n",
       "      <td>4.0</td>\n",
       "      <td>4.0</td>\n",
       "    </tr>\n",
       "    <tr>\n",
       "      <th>mean</th>\n",
       "      <td>0.062500</td>\n",
       "      <td>0.0</td>\n",
       "      <td>0.0</td>\n",
       "    </tr>\n",
       "    <tr>\n",
       "      <th>std</th>\n",
       "      <td>0.072169</td>\n",
       "      <td>0.0</td>\n",
       "      <td>0.0</td>\n",
       "    </tr>\n",
       "    <tr>\n",
       "      <th>min</th>\n",
       "      <td>0.000000</td>\n",
       "      <td>0.0</td>\n",
       "      <td>0.0</td>\n",
       "    </tr>\n",
       "    <tr>\n",
       "      <th>25%</th>\n",
       "      <td>0.000000</td>\n",
       "      <td>0.0</td>\n",
       "      <td>0.0</td>\n",
       "    </tr>\n",
       "    <tr>\n",
       "      <th>50%</th>\n",
       "      <td>0.062500</td>\n",
       "      <td>0.0</td>\n",
       "      <td>0.0</td>\n",
       "    </tr>\n",
       "    <tr>\n",
       "      <th>75%</th>\n",
       "      <td>0.125000</td>\n",
       "      <td>0.0</td>\n",
       "      <td>0.0</td>\n",
       "    </tr>\n",
       "    <tr>\n",
       "      <th>max</th>\n",
       "      <td>0.125000</td>\n",
       "      <td>0.0</td>\n",
       "      <td>0.0</td>\n",
       "    </tr>\n",
       "  </tbody>\n",
       "</table>\n",
       "</div>"
      ],
      "text/plain": [
       "              s    a    b\n",
       "count  4.000000  4.0  4.0\n",
       "mean   0.062500  0.0  0.0\n",
       "std    0.072169  0.0  0.0\n",
       "min    0.000000  0.0  0.0\n",
       "25%    0.000000  0.0  0.0\n",
       "50%    0.062500  0.0  0.0\n",
       "75%    0.125000  0.0  0.0\n",
       "max    0.125000  0.0  0.0"
      ]
     },
     "execution_count": 49,
     "metadata": {},
     "output_type": "execute_result"
    }
   ],
   "source": [
    "results = simulator.sample(program=circuit, params=resolvers, repetitions=2)\n",
    "\n",
    "results.describe()"
   ]
  },
  {
   "cell_type": "markdown",
   "id": "80f1925d",
   "metadata": {
    "id": "av09E7pH44YO",
    "papermill": {
     "duration": 0.000125,
     "end_time": "2025-07-17T21:49:40.568900",
     "exception": false,
     "start_time": "2025-07-17T21:49:40.568775",
     "status": "completed"
    },
    "tags": []
   },
   "source": [
    "Above we passed in a list of `ParamResolver`s to the `params` parameter of `run_sweep` and `sample`.  But one can also pass in a `Sweepable`.  There are some useful methods for generating `Sweepable`s, for example to generate an equally spaced set of `ParamResolver`s one can use `Linspace`\n"
   ]
  },
  {
   "cell_type": "code",
   "execution_count": 50,
   "id": "4ea78ce3",
   "metadata": {
    "execution": {
     "iopub.execute_input": "2025-07-17T21:49:40.570345Z",
     "iopub.status.busy": "2025-07-17T21:49:40.570011Z",
     "iopub.status.idle": "2025-07-17T21:49:40.575145Z",
     "shell.execute_reply": "2025-07-17T21:49:40.574552Z"
    },
    "id": "zOymGxlb72Fk",
    "papermill": {
     "duration": 0.006998,
     "end_time": "2025-07-17T21:49:40.576049",
     "exception": false,
     "start_time": "2025-07-17T21:49:40.569051",
     "status": "completed"
    },
    "tags": []
   },
   "outputs": [
    {
     "name": "stdout",
     "output_type": "stream",
     "text": [
      "cirq.ParamResolver({'x': 0.0})\n",
      "cirq.ParamResolver({'x': 0.1})\n",
      "cirq.ParamResolver({'x': 0.2})\n",
      "cirq.ParamResolver({'x': 0.3})\n",
      "cirq.ParamResolver({'x': 0.4})\n",
      "cirq.ParamResolver({'x': 0.5})\n",
      "cirq.ParamResolver({'x': 0.6})\n",
      "cirq.ParamResolver({'x': 0.7})\n",
      "cirq.ParamResolver({'x': 0.8})\n",
      "cirq.ParamResolver({'x': 0.9})\n",
      "cirq.ParamResolver({'x': 1.0})\n"
     ]
    }
   ],
   "source": [
    "\"\"\"Alternative method of getting a sequence of param resolvers.\"\"\"\n",
    "\n",
    "linspace = cirq.Linspace(start=0, stop=1.0, length=11, key='x')\n",
    "for p in linspace:\n",
    "    print(p)"
   ]
  },
  {
   "cell_type": "markdown",
   "id": "f9740ece",
   "metadata": {
    "id": "r-CjbPwkRI_I",
    "papermill": {
     "duration": 5.4e-05,
     "end_time": "2025-07-17T21:49:40.576226",
     "exception": false,
     "start_time": "2025-07-17T21:49:40.576172",
     "status": "completed"
    },
    "tags": []
   },
   "source": [
    "## Exercise: Rotate a qubit\n",
    "\n",
    "Let's do the equivalent of a Rabi-flop experiment.  That is, let's apply a `XPowGate` rotating about the `X` axis for a linearly spaced set of values followed by a computational basis measurement.  The end result should be a plot of the sampled fraction that were $|1\\rangle$ as a function of gates of $X^t$ for $t$ between 0 and $1$ for 100 values of $t$ and each result sampled 100 times."
   ]
  },
  {
   "cell_type": "code",
   "execution_count": 51,
   "id": "05e2ddc8",
   "metadata": {
    "cellView": "form",
    "execution": {
     "iopub.execute_input": "2025-07-17T21:49:40.577353Z",
     "iopub.status.busy": "2025-07-17T21:49:40.577042Z",
     "iopub.status.idle": "2025-07-17T21:49:40.584197Z",
     "shell.execute_reply": "2025-07-17T21:49:40.583540Z"
    },
    "id": "8yW2e3sq9JM8",
    "papermill": {
     "duration": 0.009663,
     "end_time": "2025-07-17T21:49:40.585956",
     "exception": false,
     "start_time": "2025-07-17T21:49:40.576293",
     "status": "completed"
    },
    "tags": []
   },
   "outputs": [],
   "source": [
    "# @title Attempt the solution here\n",
    "import pandas\n",
    "\n",
    "q = cirq.NamedQubit(\"q\")\n",
    "theta = sp.Symbol(\"theta\")\n",
    "parameterized_circuit = cirq.Circuit(\n",
    "    # your code here\n",
    "    cirq.measure(q)\n",
    ")\n",
    "# replace None with something else\n",
    "param_resolvers = None\n",
    "repetitions=2\n",
    "results = cirq.Simulator().sample(\n",
    "    program=parameterized_circuit, params=param_resolvers, repetitions=repetitions\n",
    ")\n",
    "\n",
    "# You can test with the following plot\n",
    "# pandas.crosstab(results.theta, results.q).plot()"
   ]
  },
  {
   "cell_type": "code",
   "execution_count": 52,
   "id": "12309e26",
   "metadata": {
    "cellView": "form",
    "execution": {
     "iopub.execute_input": "2025-07-17T21:49:40.587737Z",
     "iopub.status.busy": "2025-07-17T21:49:40.587166Z",
     "iopub.status.idle": "2025-07-17T21:49:40.892790Z",
     "shell.execute_reply": "2025-07-17T21:49:40.892054Z"
    },
    "id": "sl1UGhThC6rn",
    "papermill": {
     "duration": 0.307659,
     "end_time": "2025-07-17T21:49:40.893862",
     "exception": false,
     "start_time": "2025-07-17T21:49:40.586203",
     "status": "completed"
    },
    "tags": []
   },
   "outputs": [
    {
     "data": {
      "text/plain": [
       "<Axes: xlabel='theta'>"
      ]
     },
     "execution_count": 52,
     "metadata": {},
     "output_type": "execute_result"
    },
    {
     "data": {
      "image/png": "[encoded data removed]",
      "text/plain": [
       "<Figure size 640x480 with 1 Axes>"
      ]
     },
     "metadata": {},
     "output_type": "display_data"
    }
   ],
   "source": [
    "# @title Expand to view the solution\n",
    "import pandas\n",
    "\n",
    "q = cirq.NamedQubit(\"q\")\n",
    "parameterized_circuit = cirq.Circuit([cirq.Rx(rads=sp.Symbol(\"theta\"))(q), cirq.measure(q)])\n",
    "param_resolvers = cirq.Linspace(start=0, stop=np.pi, length=4, key='theta')\n",
    "results = cirq.Simulator().sample(\n",
    "    program=parameterized_circuit, params=param_resolvers, repetitions=repetitions\n",
    ")\n",
    "pandas.crosstab(results.theta, results.q).plot()"
   ]
  },
  {
   "cell_type": "markdown",
   "id": "abee12bf",
   "metadata": {
    "id": "930ee2edd71b",
    "papermill": {
     "duration": 5.8e-05,
     "end_time": "2025-07-17T21:49:40.894052",
     "exception": false,
     "start_time": "2025-07-17T21:49:40.893994",
     "status": "completed"
    },
    "tags": []
   },
   "source": [
    "# Noise"
   ]
  },
  {
   "cell_type": "markdown",
   "id": "83d9be74",
   "metadata": {
    "id": "FEM73JPALREa",
    "papermill": {
     "duration": 4e-05,
     "end_time": "2025-07-17T21:49:40.894159",
     "exception": false,
     "start_time": "2025-07-17T21:49:40.894119",
     "status": "completed"
    },
    "tags": []
   },
   "source": [
    "In addition to circuits with unitary gates, Cirq also has support for modeling noisy quantum evolutions. This is useful when modeling what will happen when running on actual hardware.\n",
    "\n",
    "Cirq currently supports noise that fits within the context of *operator sum representations* of noise (a.k.a quantum operations, quantum dyanamical maps, superoperators, etc).  This formalism models the evolution of a density matrix via \n",
    "\n",
    "$$ \n",
    "\\rho \\rightarrow \\sum_k A_k \\rho A_k^\\dagger \n",
    "$$\n",
    "\n",
    "where the $A_k$ are *Kraus operators*.  These operators are not necessarily unitary and satisfy the property\n",
    "\n",
    "$$ \n",
    "\\sum_k A_k^\\dagger A_k = I . \n",
    "$$\n",
    "\n",
    "An example of a noise operator is the depolarizing channel on one qubit.  This takes\n",
    "\n",
    "$$\n",
    "\\rho \\rightarrow (1-p) \\rho + \\frac{p}{3} (X \\rho X + Y \\rho Y + Z \\rho Z) .\n",
    "$$\n",
    "\n",
    "In Cirq we can define such a channel and use it in a quantum circuit:"
   ]
  },
  {
   "cell_type": "code",
   "execution_count": 53,
   "id": "72c07f07",
   "metadata": {
    "execution": {
     "iopub.execute_input": "2025-07-17T21:49:40.895343Z",
     "iopub.status.busy": "2025-07-17T21:49:40.895008Z",
     "iopub.status.idle": "2025-07-17T21:49:40.900448Z",
     "shell.execute_reply": "2025-07-17T21:49:40.899739Z"
    },
    "id": "YclVFbKZ0aD4",
    "papermill": {
     "duration": 0.007179,
     "end_time": "2025-07-17T21:49:40.901401",
     "exception": false,
     "start_time": "2025-07-17T21:49:40.894222",
     "status": "completed"
    },
    "tags": []
   },
   "outputs": [
    {
     "name": "stdout",
     "output_type": "stream",
     "text": [
      "a: ───D(0.2)───M───\n"
     ]
    }
   ],
   "source": [
    "\"\"\"Create a circuit with a depolarizing channel.\"\"\"\n",
    "\n",
    "circuit = cirq.Circuit(cirq.depolarize(0.2)(a), cirq.measure(a))\n",
    "print(circuit)"
   ]
  },
  {
   "cell_type": "markdown",
   "id": "4147d22c",
   "metadata": {
    "id": "CvteYd9s00t_",
    "papermill": {
     "duration": 5.4e-05,
     "end_time": "2025-07-17T21:49:40.901579",
     "exception": false,
     "start_time": "2025-07-17T21:49:40.901525",
     "status": "completed"
    },
    "tags": []
   },
   "source": [
    "Previously we saw that gates could implement that `_unitary_` protocol, and by doing so they could be used to perform wave function simulation.  For noise the gates implement the `_kraus_` protocol.  Classes that implement this protocol return the Krauss operators on their `_kraus_` method.  Thus"
   ]
  },
  {
   "cell_type": "code",
   "execution_count": 54,
   "id": "d0c3cab2",
   "metadata": {
    "execution": {
     "iopub.execute_input": "2025-07-17T21:49:40.902859Z",
     "iopub.status.busy": "2025-07-17T21:49:40.902555Z",
     "iopub.status.idle": "2025-07-17T21:49:40.909209Z",
     "shell.execute_reply": "2025-07-17T21:49:40.908693Z"
    },
    "id": "0ig_NSrS12PE",
    "papermill": {
     "duration": 0.008507,
     "end_time": "2025-07-17T21:49:40.910282",
     "exception": false,
     "start_time": "2025-07-17T21:49:40.901775",
     "status": "completed"
    },
    "tags": []
   },
   "outputs": [
    {
     "name": "stdout",
     "output_type": "stream",
     "text": [
      "Kraus operator 0 is:\n",
      "[[0.89442719 0.        ]\n",
      " [0.         0.89442719]]\n",
      "\n",
      "Kraus operator 1 is:\n",
      "[[0.        +0.j 0.25819889+0.j]\n",
      " [0.25819889+0.j 0.        +0.j]]\n",
      "\n",
      "Kraus operator 2 is:\n",
      "[[0.+0.j         0.-0.25819889j]\n",
      " [0.+0.25819889j 0.+0.j        ]]\n",
      "\n",
      "Kraus operator 3 is:\n",
      "[[ 0.25819889+0.j  0.        +0.j]\n",
      " [ 0.        +0.j -0.25819889+0.j]]\n",
      "\n"
     ]
    }
   ],
   "source": [
    "for i, kraus in enumerate(cirq.kraus(cirq.depolarize(0.2))):\n",
    "    print(f\"Kraus operator {i} is:\", kraus, sep=\"\\n\", end=\"\\n\\n\")"
   ]
  },
  {
   "cell_type": "markdown",
   "id": "748c2b74",
   "metadata": {
    "id": "4ee0055e4015",
    "papermill": {
     "duration": 8.3e-05,
     "end_time": "2025-07-17T21:49:40.910533",
     "exception": false,
     "start_time": "2025-07-17T21:49:40.910450",
     "status": "completed"
    },
    "tags": []
   },
   "source": [
    "The Kraus operators are often more conveniently represented in a Pauli basis. We can do this in Cirq as shown below."
   ]
  },
  {
   "cell_type": "code",
   "execution_count": 55,
   "id": "af04ec96",
   "metadata": {
    "execution": {
     "iopub.execute_input": "2025-07-17T21:49:40.911772Z",
     "iopub.status.busy": "2025-07-17T21:49:40.911482Z",
     "iopub.status.idle": "2025-07-17T21:49:40.920187Z",
     "shell.execute_reply": "2025-07-17T21:49:40.919167Z"
    },
    "id": "a2e5258ae33d",
    "papermill": {
     "duration": 0.01093,
     "end_time": "2025-07-17T21:49:40.921569",
     "exception": false,
     "start_time": "2025-07-17T21:49:40.910639",
     "status": "completed"
    },
    "tags": []
   },
   "outputs": [
    {
     "name": "stdout",
     "output_type": "stream",
     "text": [
      "Kraus operator 0 is:\n",
      "0.894*I\n",
      "\n",
      "Kraus operator 1 is:\n",
      "0.258*X\n",
      "\n",
      "Kraus operator 2 is:\n",
      "0.258*Y\n",
      "\n",
      "Kraus operator 3 is:\n",
      "0.258*Z\n",
      "\n"
     ]
    }
   ],
   "source": [
    "for i, kraus in enumerate(cirq.kraus(cirq.depolarize(0.2))):\n",
    "    pauli_ex = cirq.expand_matrix_in_orthogonal_basis(kraus, cirq.PAULI_BASIS)\n",
    "    print(f\"Kraus operator {i} is:\", pauli_ex, sep=\"\\n\", end=\"\\n\\n\")"
   ]
  },
  {
   "cell_type": "markdown",
   "id": "63442196",
   "metadata": {
    "id": "spU2l26r0tQS",
    "papermill": {
     "duration": 8.6e-05,
     "end_time": "2025-07-17T21:49:40.921826",
     "exception": false,
     "start_time": "2025-07-17T21:49:40.921740",
     "status": "completed"
    },
    "tags": []
   },
   "source": [
    "In addition to the wavefunction simulator, Cirq also has a density matrix simulator.  Instead of keeping track of the wavefunction, this simulator keeps track of the density matrix.  It has the same `run` and `simulate` type methods.  For example we can use this to simulate depolarizing channel and return the final density matrix of the system."
   ]
  },
  {
   "cell_type": "code",
   "execution_count": 56,
   "id": "6e870188",
   "metadata": {
    "execution": {
     "iopub.execute_input": "2025-07-17T21:49:40.923065Z",
     "iopub.status.busy": "2025-07-17T21:49:40.922746Z",
     "iopub.status.idle": "2025-07-17T21:49:40.930477Z",
     "shell.execute_reply": "2025-07-17T21:49:40.929983Z"
    },
    "id": "skLIvXYq4yvX",
    "papermill": {
     "duration": 0.010648,
     "end_time": "2025-07-17T21:49:40.932583",
     "exception": false,
     "start_time": "2025-07-17T21:49:40.921935",
     "status": "completed"
    },
    "tags": []
   },
   "outputs": [
    {
     "name": "stdout",
     "output_type": "stream",
     "text": [
      "Circuit:\n",
      "a: ───D(0.2)───\n",
      "\n",
      "Final density matrix:\n",
      "[[0.8666667 +0.j 0.        +0.j]\n",
      " [0.        +0.j 0.13333333+0.j]]\n"
     ]
    }
   ],
   "source": [
    "\"\"\"Example of simulating a noisy circuit with the density matrix simulator.\"\"\"\n",
    "\n",
    "# Circuit to simulate.\n",
    "circuit = cirq.Circuit(cirq.depolarize(0.2)(a))\n",
    "print(f'Circuit:\\n{circuit}\\n')\n",
    "\n",
    "# Get the density matrix simulator.\n",
    "simulator = cirq.DensityMatrixSimulator()\n",
    "\n",
    "# Simulate the circuit and get the final density matrix.\n",
    "matrix = simulator.simulate(circuit).final_density_matrix\n",
    "print(f'Final density matrix:\\n{matrix}')"
   ]
  },
  {
   "cell_type": "markdown",
   "id": "ef7307f6",
   "metadata": {
    "id": "Eudp7NYo51LT",
    "papermill": {
     "duration": 0.000284,
     "end_time": "2025-07-17T21:49:40.933529",
     "exception": false,
     "start_time": "2025-07-17T21:49:40.933245",
     "status": "completed"
    },
    "tags": []
   },
   "source": [
    "One thing to note is that the density matrix simulator simulates measurement statistically, and not as a channel where the outcome is not known. Consider the following example."
   ]
  },
  {
   "cell_type": "code",
   "execution_count": 57,
   "id": "f06dd733",
   "metadata": {
    "execution": {
     "iopub.execute_input": "2025-07-17T21:49:40.935866Z",
     "iopub.status.busy": "2025-07-17T21:49:40.935579Z",
     "iopub.status.idle": "2025-07-17T21:49:40.944725Z",
     "shell.execute_reply": "2025-07-17T21:49:40.943662Z"
    },
    "id": "_SjPRrIX5F4O",
    "papermill": {
     "duration": 0.014735,
     "end_time": "2025-07-17T21:49:40.948801",
     "exception": false,
     "start_time": "2025-07-17T21:49:40.934066",
     "status": "completed"
    },
    "tags": []
   },
   "outputs": [
    {
     "name": "stdout",
     "output_type": "stream",
     "text": [
      "True\n"
     ]
    }
   ],
   "source": [
    "\"\"\"Simulating a circuit with measurements using the DensityMatrixSimulator.\"\"\"\n",
    "\n",
    "# Get a circuit with measurements.\n",
    "circuit = cirq.Circuit(cirq.depolarize(0.5)(a), cirq.measure(a))\n",
    "\n",
    "# Simulate with the density matrix multiple times.\n",
    "dmat1 = simulator.simulate(circuit).final_density_matrix\n",
    "dmat2 = simulator.simulate(circuit).final_density_matrix\n",
    "\n",
    "print(np.allclose(dmat1, dmat2))"
   ]
  },
  {
   "cell_type": "markdown",
   "id": "a05781c7",
   "metadata": {
    "id": "286ab4baf9fd",
    "papermill": {
     "duration": 0.00016,
     "end_time": "2025-07-17T21:49:40.949367",
     "exception": false,
     "start_time": "2025-07-17T21:49:40.949207",
     "status": "completed"
    },
    "tags": []
   },
   "source": [
    "Because the final density matrix is statistical due to the measurements, the output of the above cell will change when executed multiple times."
   ]
  },
  {
   "cell_type": "markdown",
   "id": "7b8eda65",
   "metadata": {
    "id": "3qUM-Kpi8Iy4",
    "papermill": {
     "duration": 0.000132,
     "end_time": "2025-07-17T21:49:40.949732",
     "exception": false,
     "start_time": "2025-07-17T21:49:40.949600",
     "status": "completed"
    },
    "tags": []
   },
   "source": [
    "## Monte carlo simulations\n",
    "\n",
    "Density matrix simulations are more expensive than pure state wave function simulations.  However some channels allow an interpreation of randomly applying one of a fixed set of unitaries with differing probabilites.  For example the depolarizing channel above can be interpretted as: \n",
    "\n",
    "- With probability $1-p$ apply the identity to the state, and\n",
    "- with probability $p$ apply one of the three Pauli matrices $X$, $Y$, or $Z$ with equal probability.\n",
    "\n",
    "Channels that can be interpretted in this form can be simulating using a wavefunction simulator: when this channel is simulated the simulation will sample a unitary with the appropriate probability.  \n",
    "\n",
    "For channels of these type, the channel can, instead of implementing the `_kraus_` protocol, implement the `_mixture_` protocol:"
   ]
  },
  {
   "cell_type": "code",
   "execution_count": 58,
   "id": "53214cf0",
   "metadata": {
    "execution": {
     "iopub.execute_input": "2025-07-17T21:49:40.951798Z",
     "iopub.status.busy": "2025-07-17T21:49:40.951330Z",
     "iopub.status.idle": "2025-07-17T21:49:40.959892Z",
     "shell.execute_reply": "2025-07-17T21:49:40.958836Z"
    },
    "id": "9Pt7o-Tq2SNz",
    "papermill": {
     "duration": 0.013834,
     "end_time": "2025-07-17T21:49:40.963784",
     "exception": false,
     "start_time": "2025-07-17T21:49:40.949950",
     "status": "completed"
    },
    "tags": []
   },
   "outputs": [
    {
     "name": "stdout",
     "output_type": "stream",
     "text": [
      "prob = 0.8\n",
      "unitary: \n",
      "[[1. 0.]\n",
      " [0. 1.]]\n",
      "\n",
      "prob = 0.06666666666666667\n",
      "unitary: \n",
      "[[0.+0.j 1.+0.j]\n",
      " [1.+0.j 0.+0.j]]\n",
      "\n",
      "prob = 0.06666666666666667\n",
      "unitary: \n",
      "[[0.+0.j 0.-1.j]\n",
      " [0.+1.j 0.+0.j]]\n",
      "\n",
      "prob = 0.06666666666666667\n",
      "unitary: \n",
      "[[ 1.+0.j  0.+0.j]\n",
      " [ 0.+0.j -1.+0.j]]\n",
      "\n"
     ]
    }
   ],
   "source": [
    "\"\"\"Use the cirq.mixture protocol on the cirq.depolarize channel.\"\"\"\n",
    "\n",
    "for p, u in cirq.mixture(cirq.depolarize(0.2)):\n",
    "    print(f\"prob = {p}\\nunitary: \\n{u}\\n\")"
   ]
  },
  {
   "cell_type": "markdown",
   "id": "bc937082",
   "metadata": {
    "id": "z4FIsadc4Nmg",
    "papermill": {
     "duration": 0.000199,
     "end_time": "2025-07-17T21:49:40.964504",
     "exception": false,
     "start_time": "2025-07-17T21:49:40.964305",
     "status": "completed"
    },
    "tags": []
   },
   "source": [
    "In fact the depolarizing channel does not implement `_kraus_`.  Instead it only implements `_mixture_` and the `cirq.kraus` method notices this and derives the kraus operators from the mixture."
   ]
  },
  {
   "cell_type": "code",
   "execution_count": 59,
   "id": "426cd8ba",
   "metadata": {
    "execution": {
     "iopub.execute_input": "2025-07-17T21:49:40.966597Z",
     "iopub.status.busy": "2025-07-17T21:49:40.966228Z",
     "iopub.status.idle": "2025-07-17T21:49:40.972933Z",
     "shell.execute_reply": "2025-07-17T21:49:40.971856Z"
    },
    "id": "HvhpBD334o1v",
    "papermill": {
     "duration": 0.010747,
     "end_time": "2025-07-17T21:49:40.975579",
     "exception": false,
     "start_time": "2025-07-17T21:49:40.964832",
     "status": "completed"
    },
    "tags": []
   },
   "outputs": [
    {
     "name": "stdout",
     "output_type": "stream",
     "text": [
      "does cirq.depolarize(0.2) have _kraus_? no\n",
      "does cirq.depolarize(0.2) have _mixture_? yes\n"
     ]
    }
   ],
   "source": [
    "\"\"\"Check if cirq.depolarize has _kraus_ and _mixture_ methods.\"\"\"\n",
    "\n",
    "# Get a depolarizing channel.\n",
    "d = cirq.depolarize(0.2)\n",
    "\n",
    "# Check if it has _kraus_ implemented.\n",
    "print(f\"does cirq.depolarize(0.2) have _kraus_? {'yes' if getattr(d, '_kraus_', None) else 'no'}\")\n",
    "\n",
    "# Check if it has _mixture_ implemented.\n",
    "print(\n",
    "    f\"does cirq.depolarize(0.2) have _mixture_? {'yes' if getattr(d, '_mixture_', None) else 'no'}\"\n",
    ")"
   ]
  },
  {
   "cell_type": "markdown",
   "id": "9ad30a56",
   "metadata": {
    "id": "OMCyapOd28h2",
    "papermill": {
     "duration": 0.000198,
     "end_time": "2025-07-17T21:49:40.976225",
     "exception": false,
     "start_time": "2025-07-17T21:49:40.976027",
     "status": "completed"
    },
    "tags": []
   },
   "source": [
    "When channels implement mixture then, as we said, we can use the wavefunction simulator:"
   ]
  },
  {
   "cell_type": "code",
   "execution_count": 60,
   "id": "82eda807",
   "metadata": {
    "execution": {
     "iopub.execute_input": "2025-07-17T21:49:40.978153Z",
     "iopub.status.busy": "2025-07-17T21:49:40.977751Z",
     "iopub.status.idle": "2025-07-17T21:49:40.987150Z",
     "shell.execute_reply": "2025-07-17T21:49:40.986472Z"
    },
    "id": "vDEhGG0v-UJy",
    "papermill": {
     "duration": 0.012894,
     "end_time": "2025-07-17T21:49:40.989495",
     "exception": false,
     "start_time": "2025-07-17T21:49:40.976601",
     "status": "completed"
    },
    "tags": []
   },
   "outputs": [
    {
     "name": "stdout",
     "output_type": "stream",
     "text": [
      "a=00\n"
     ]
    }
   ],
   "source": [
    "\"\"\"Use the wavefunction simulator on a channel that implements the mixture protocol.\"\"\"\n",
    "\n",
    "circuit = cirq.Circuit(cirq.depolarize(0.5).on(a), cirq.measure(a))\n",
    "simulator = cirq.Simulator()\n",
    "result = simulator.run(circuit, repetitions=2)\n",
    "print(result)"
   ]
  },
  {
   "cell_type": "markdown",
   "id": "d033ce45",
   "metadata": {
    "id": "a13d48d4836f",
    "papermill": {
     "duration": 0.000113,
     "end_time": "2025-07-17T21:49:40.989853",
     "exception": false,
     "start_time": "2025-07-17T21:49:40.989740",
     "status": "completed"
    },
    "tags": []
   },
   "source": [
    "Because the unitary Kraus operators are applied stochastically, executing the above cell multiple times will produce different outputs."
   ]
  },
  {
   "cell_type": "markdown",
   "id": "7146b0c9",
   "metadata": {
    "id": "weWPzaPx8zly",
    "papermill": {
     "duration": 9.5e-05,
     "end_time": "2025-07-17T21:49:40.990120",
     "exception": false,
     "start_time": "2025-07-17T21:49:40.990025",
     "status": "completed"
    },
    "tags": []
   },
   "source": [
    "## Adding noise to circuits and simulations"
   ]
  },
  {
   "cell_type": "markdown",
   "id": "bc589997",
   "metadata": {
    "id": "X-dT_CLu0fH9",
    "papermill": {
     "duration": 9.3e-05,
     "end_time": "2025-07-17T21:49:40.990376",
     "exception": false,
     "start_time": "2025-07-17T21:49:40.990283",
     "status": "completed"
    },
    "tags": []
   },
   "source": [
    "To add noise to circuits or during simulations, we provide the notion of a `NoiseModel`.  A `NoiseModel` may add noise operation by operation, or it may add noise moment by moment, or it may add noise across a list of moments.\n",
    "\n",
    "For example we can define a noise model that add a single qubit depolarizing for every qubit in each moment.  "
   ]
  },
  {
   "cell_type": "code",
   "execution_count": 61,
   "id": "2e7acf91",
   "metadata": {
    "execution": {
     "iopub.execute_input": "2025-07-17T21:49:40.991551Z",
     "iopub.status.busy": "2025-07-17T21:49:40.991325Z",
     "iopub.status.idle": "2025-07-17T21:49:40.998663Z",
     "shell.execute_reply": "2025-07-17T21:49:40.997940Z"
    },
    "id": "PfRP7K598wNQ",
    "papermill": {
     "duration": 0.009062,
     "end_time": "2025-07-17T21:49:40.999598",
     "exception": false,
     "start_time": "2025-07-17T21:49:40.990536",
     "status": "completed"
    },
    "tags": []
   },
   "outputs": [
    {
     "name": "stdout",
     "output_type": "stream",
     "text": [
      "Circuit with no noise:\n",
      "a: ───H───@───M───\n",
      "          │   │\n",
      "b: ───────X───M───\n",
      "\n",
      "Circuit with noise:\n",
      "a: ───H───D(0.2)[<virtual>]───@───D(0.2)[<virtual>]───M───D(0.2)[<virtual>]───\n",
      "                              │                       │\n",
      "b: ───────D(0.2)[<virtual>]───X───D(0.2)[<virtual>]───M───D(0.2)[<virtual>]───\n"
     ]
    }
   ],
   "source": [
    "\"\"\"Adding noise to a circuit.\"\"\"\n",
    "\n",
    "# Get a noiseless circuit.\n",
    "noise = cirq.ConstantQubitNoiseModel(cirq.depolarize(0.2))\n",
    "circuit = cirq.Circuit(cirq.H(a), cirq.CNOT(a, b), cirq.measure(a, b))\n",
    "print(f'Circuit with no noise:\\n{circuit}\\n')\n",
    "\n",
    "# Add noise to the circuit.\n",
    "system_qubits = sorted(circuit.all_qubits())\n",
    "noisy_circuit = cirq.Circuit()\n",
    "for moment in circuit:\n",
    "    noisy_circuit.append(noise.noisy_moment(moment, system_qubits))\n",
    "print(f'Circuit with noise:\\n{noisy_circuit}')"
   ]
  },
  {
   "cell_type": "markdown",
   "id": "f65c93e1",
   "metadata": {
    "id": "e4946d8f236f",
    "papermill": {
     "duration": 5.4e-05,
     "end_time": "2025-07-17T21:49:40.999782",
     "exception": false,
     "start_time": "2025-07-17T21:49:40.999728",
     "status": "completed"
    },
    "tags": []
   },
   "source": [
    "We can also pass a noise model into the `cirq.DensityMatrixSimulator` and execute a noisy circuit in this manner."
   ]
  },
  {
   "cell_type": "code",
   "execution_count": 62,
   "id": "0bebc8a7",
   "metadata": {
    "execution": {
     "iopub.execute_input": "2025-07-17T21:49:41.001080Z",
     "iopub.status.busy": "2025-07-17T21:49:41.000631Z",
     "iopub.status.idle": "2025-07-17T21:49:41.016951Z",
     "shell.execute_reply": "2025-07-17T21:49:41.016090Z"
    },
    "id": "uzxaFCGIz2aQ",
    "papermill": {
     "duration": 0.018389,
     "end_time": "2025-07-17T21:49:41.018240",
     "exception": false,
     "start_time": "2025-07-17T21:49:40.999851",
     "status": "completed"
    },
    "tags": []
   },
   "outputs": [
    {
     "name": "stdout",
     "output_type": "stream",
     "text": [
      "After step 0 state was\n",
      "[[0.43333334+0.j 0.        +0.j 0.31777778+0.j 0.        +0.j]\n",
      " [0.        +0.j 0.06666666+0.j 0.        +0.j 0.04888889+0.j]\n",
      " [0.31777778+0.j 0.        +0.j 0.43333334+0.j 0.        +0.j]\n",
      " [0.        +0.j 0.04888889+0.j 0.        +0.j 0.06666666+0.j]]\n",
      "\n",
      "After step 1 state was\n",
      "[[0.3485926 +0.j 0.        +0.j 0.        +0.j 0.17089383+0.j]\n",
      " [0.        +0.j 0.15140742+0.j 0.02629136+0.j 0.        +0.j]\n",
      " [0.        +0.j 0.02629136+0.j 0.15140742+0.j 0.        +0.j]\n",
      " [0.17089383+0.j 0.        +0.j 0.        +0.j 0.3485926 +0.j]]\n",
      "\n",
      "After step 2 state was\n",
      "[[0.75111115+0.j 0.        +0.j 0.        +0.j 0.        +0.j]\n",
      " [0.        +0.j 0.11555555+0.j 0.        +0.j 0.        +0.j]\n",
      " [0.        +0.j 0.        +0.j 0.11555555+0.j 0.        +0.j]\n",
      " [0.        +0.j 0.        +0.j 0.        +0.j 0.01777778+0.j]]\n",
      "\n"
     ]
    }
   ],
   "source": [
    "\"\"\"Perform noisy simulation by defining a density matrix simulator with a noise model.\"\"\"\n",
    "\n",
    "# Define a noise model.\n",
    "noise = cirq.ConstantQubitNoiseModel(cirq.depolarize(0.2))\n",
    "\n",
    "# Pass this noise model into the simulator.\n",
    "simulator = cirq.DensityMatrixSimulator(noise=noise)\n",
    "\n",
    "# Get a circuit to simulate.\n",
    "circuit = cirq.Circuit(cirq.H(a), cirq.CNOT(a, b), cirq.measure(a, b))\n",
    "\n",
    "# Simulate the circuit in steps.\n",
    "for i, step in enumerate(simulator.simulate_moment_steps(circuit)):\n",
    "    print(f'After step {i} state was\\n{step.density_matrix()}\\n')"
   ]
  },
  {
   "cell_type": "markdown",
   "id": "23c9001b",
   "metadata": {
    "id": "6308948de99a",
    "papermill": {
     "duration": 9.2e-05,
     "end_time": "2025-07-17T21:49:41.018756",
     "exception": false,
     "start_time": "2025-07-17T21:49:41.018664",
     "status": "completed"
    },
    "tags": []
   },
   "source": [
    "# Devices"
   ]
  },
  {
   "cell_type": "markdown",
   "id": "ea6b95fd",
   "metadata": {
    "id": "PvJCA3e0QsuI",
    "papermill": {
     "duration": 4.7e-05,
     "end_time": "2025-07-17T21:49:41.018954",
     "exception": false,
     "start_time": "2025-07-17T21:49:41.018907",
     "status": "completed"
    },
    "tags": []
   },
   "source": [
    "NISQ algorithms work in a regime where every gate counts.  A key philosophy behind Cirq is that we believe the details of the hardware, the performance characteristics, as well as device constraints, will be key to getting the most out of NISQ algorithms.  Towards this end these hardware features are contained in the `Device` class.\n",
    "\n",
    "For example, here is Google's Sycamore device which we printed out at the start of this notebook."
   ]
  },
  {
   "cell_type": "code",
   "execution_count": 63,
   "id": "f4474b93",
   "metadata": {
    "execution": {
     "iopub.execute_input": "2025-07-17T21:49:41.020338Z",
     "iopub.status.busy": "2025-07-17T21:49:41.019775Z",
     "iopub.status.idle": "2025-07-17T21:49:41.026306Z",
     "shell.execute_reply": "2025-07-17T21:49:41.025752Z"
    },
    "id": "BmzxGpDB9jJ4",
    "papermill": {
     "duration": 0.008028,
     "end_time": "2025-07-17T21:49:41.027050",
     "exception": false,
     "start_time": "2025-07-17T21:49:41.019022",
     "status": "completed"
    },
    "tags": []
   },
   "outputs": [
    {
     "name": "stdout",
     "output_type": "stream",
     "text": [
      "                                             (0, 5)───(0, 6)\n",
      "                                             │        │\n",
      "                                             │        │\n",
      "                                    (1, 4)───(1, 5)───(1, 6)───(1, 7)\n",
      "                                    │        │        │        │\n",
      "                                    │        │        │        │\n",
      "                           (2, 3)───(2, 4)───(2, 5)───(2, 6)───(2, 7)───(2, 8)\n",
      "                           │        │        │        │        │        │\n",
      "                           │        │        │        │        │        │\n",
      "                  (3, 2)───(3, 3)───(3, 4)───(3, 5)───(3, 6)───(3, 7)───(3, 8)───(3, 9)\n",
      "                  │        │        │        │        │        │        │        │\n",
      "                  │        │        │        │        │        │        │        │\n",
      "         (4, 1)───(4, 2)───(4, 3)───(4, 4)───(4, 5)───(4, 6)───(4, 7)───(4, 8)───(4, 9)\n",
      "         │        │        │        │        │        │        │        │\n",
      "         │        │        │        │        │        │        │        │\n",
      "(5, 0)───(5, 1)───(5, 2)───(5, 3)───(5, 4)───(5, 5)───(5, 6)───(5, 7)───(5, 8)\n",
      "         │        │        │        │        │        │        │\n",
      "         │        │        │        │        │        │        │\n",
      "         (6, 1)───(6, 2)───(6, 3)───(6, 4)───(6, 5)───(6, 6)───(6, 7)\n",
      "                  │        │        │        │        │\n",
      "                  │        │        │        │        │\n",
      "                  (7, 2)───(7, 3)───(7, 4)───(7, 5)───(7, 6)\n",
      "                           │        │        │\n",
      "                           │        │        │\n",
      "                           (8, 3)───(8, 4)───(8, 5)\n",
      "                                    │\n",
      "                                    │\n",
      "                                    (9, 4)\n"
     ]
    }
   ],
   "source": [
    "print(cirq_google.Sycamore)"
   ]
  },
  {
   "cell_type": "markdown",
   "id": "02408eee",
   "metadata": {
    "id": "GGejgRf0AGni",
    "papermill": {
     "duration": 5.4e-05,
     "end_time": "2025-07-17T21:49:41.027224",
     "exception": false,
     "start_time": "2025-07-17T21:49:41.027170",
     "status": "completed"
    },
    "tags": []
   },
   "source": [
    "In a future version, we intend for each `Device` to define a noise model.\n",
    "\n",
    "`Device`s also contain more information about the timing of the device.  For example here we can calculate the duration of an `X` on the `Sycamore` device."
   ]
  },
  {
   "cell_type": "code",
   "execution_count": 64,
   "id": "75154df4",
   "metadata": {
    "execution": {
     "iopub.execute_input": "2025-07-17T21:49:41.028050Z",
     "iopub.status.busy": "2025-07-17T21:49:41.027834Z",
     "iopub.status.idle": "2025-07-17T21:49:41.033549Z",
     "shell.execute_reply": "2025-07-17T21:49:41.032664Z"
    },
    "id": "HAwdWkprAPXN",
    "papermill": {
     "duration": 0.007808,
     "end_time": "2025-07-17T21:49:41.035098",
     "exception": false,
     "start_time": "2025-07-17T21:49:41.027290",
     "status": "completed"
    },
    "tags": []
   },
   "outputs": [
    {
     "name": "stdout",
     "output_type": "stream",
     "text": [
      "25 ns\n"
     ]
    }
   ],
   "source": [
    "\"\"\"Get the duration of an operation.\"\"\"\n",
    "\n",
    "op = cirq.X.on(cirq.GridQubit(5, 5))\n",
    "gate_durations = cirq_google.Sycamore.metadata.gate_durations\n",
    "for gate_family in gate_durations:\n",
    "    if op in gate_family:\n",
    "        print(gate_durations[gate_family])"
   ]
  },
  {
   "cell_type": "markdown",
   "id": "4a9232af",
   "metadata": {
    "id": "IxnyURhnAdph",
    "papermill": {
     "duration": 9.6e-05,
     "end_time": "2025-07-17T21:49:41.035419",
     "exception": false,
     "start_time": "2025-07-17T21:49:41.035323",
     "status": "completed"
    },
    "tags": []
   },
   "source": [
    "Another property of devices is that they can be used to enforce constraints from the hardware, both checking that these constraints are satisfied, but also enforcing the constraints on the device.  For example, on the `Sycamore` device, a two-qubit gate can be only be performed between adjacent qubits. So, for example, validating an operation on non-adjacent qubits will raise an error."
   ]
  },
  {
   "cell_type": "code",
   "execution_count": 65,
   "id": "f59bbb9b",
   "metadata": {
    "execution": {
     "iopub.execute_input": "2025-07-17T21:49:41.037048Z",
     "iopub.status.busy": "2025-07-17T21:49:41.036658Z",
     "iopub.status.idle": "2025-07-17T21:49:41.046096Z",
     "shell.execute_reply": "2025-07-17T21:49:41.045425Z"
    },
    "id": "r5F4FUtmA5kW",
    "papermill": {
     "duration": 0.011714,
     "end_time": "2025-07-17T21:49:41.047294",
     "exception": false,
     "start_time": "2025-07-17T21:49:41.035580",
     "status": "completed"
    },
    "tags": []
   },
   "outputs": [
    {
     "name": "stdout",
     "output_type": "stream",
     "text": [
      "(5, 5): ───iSwap───────\n",
      "           │\n",
      "(6, 6): ───iSwap^0.5───\n",
      "error, as expected: \n",
      "Qubit pair is not valid on device: (cirq.GridQubit(5, 5), cirq.GridQubit(6, 6)).\n"
     ]
    }
   ],
   "source": [
    "\"\"\"Validate operations on a device.\"\"\"\n",
    "\n",
    "# Get non-adjacent qubits on the Sycamore device.\n",
    "q55 = cirq.GridQubit(5, 5)\n",
    "q56 = cirq.GridQubit(5, 6)\n",
    "q66 = cirq.GridQubit(6, 6)\n",
    "\n",
    "# Operations on adjacent qubits will be validated.\n",
    "cirq_google.Sycamore.validate_operation(cirq.SQRT_ISWAP(q55, q56))\n",
    "cirq_google.Sycamore.validate_operation(cirq.SQRT_ISWAP(q56, q66))\n",
    "\n",
    "# Operation on non-adjacent qubits will raise an error.\n",
    "ops = [cirq.SQRT_ISWAP(q55, q66)]\n",
    "circuit = cirq.Circuit(ops)\n",
    "print(circuit)\n",
    "\n",
    "try:\n",
    "    cirq_google.Sycamore.validate_circuit(circuit)\n",
    "except ValueError as ex:\n",
    "    print(f\"error, as expected: \\n{ex}\")"
   ]
  },
  {
   "cell_type": "markdown",
   "id": "98435ef2",
   "metadata": {
    "id": "lyFcloaARXg4",
    "papermill": {
     "duration": 8.6e-05,
     "end_time": "2025-07-17T21:49:41.047586",
     "exception": false,
     "start_time": "2025-07-17T21:49:41.047500",
     "status": "completed"
    },
    "tags": []
   },
   "source": [
    "### Exercise: Make a Device\n",
    "\n",
    "Construct a device that acts on a square sized lattice, and only allows Hadamard, CZ, and measurement gates."
   ]
  },
  {
   "cell_type": "code",
   "execution_count": 66,
   "id": "d80119a9",
   "metadata": {
    "cellView": "form",
    "execution": {
     "iopub.execute_input": "2025-07-17T21:49:41.048796Z",
     "iopub.status.busy": "2025-07-17T21:49:41.048510Z",
     "iopub.status.idle": "2025-07-17T21:49:41.051545Z",
     "shell.execute_reply": "2025-07-17T21:49:41.050857Z"
    },
    "id": "zDE-19I_a3on",
    "papermill": {
     "duration": 0.00493,
     "end_time": "2025-07-17T21:49:41.052662",
     "exception": false,
     "start_time": "2025-07-17T21:49:41.047732",
     "status": "completed"
    },
    "tags": []
   },
   "outputs": [],
   "source": [
    "# @title Attempt the solution here"
   ]
  },
  {
   "cell_type": "code",
   "execution_count": 67,
   "id": "0a72c5a6",
   "metadata": {
    "cellView": "form",
    "execution": {
     "iopub.execute_input": "2025-07-17T21:49:41.053616Z",
     "iopub.status.busy": "2025-07-17T21:49:41.053435Z",
     "iopub.status.idle": "2025-07-17T21:49:41.058120Z",
     "shell.execute_reply": "2025-07-17T21:49:41.057478Z"
    },
    "id": "DuOcTG3XZfmb",
    "papermill": {
     "duration": 0.00668,
     "end_time": "2025-07-17T21:49:41.059541",
     "exception": false,
     "start_time": "2025-07-17T21:49:41.052861",
     "status": "completed"
    },
    "tags": []
   },
   "outputs": [],
   "source": [
    "# @title Expand to view the solution\n",
    "class SquareDevice(cirq.Device):\n",
    "    \"\"\"A Square Grid Device.\n",
    "\n",
    "    The device that only allows\n",
    "        1) Grid Qubits from (0, 0) to (grid_size - 1, grid_size - 1)\n",
    "        2) H, CZ and MeasurementGate gates.\n",
    "    \"\"\"\n",
    "\n",
    "    def __init__(self, grid_size):\n",
    "        self.qubits = []\n",
    "        for i in range(grid_size):\n",
    "            for j in range(grid_size):\n",
    "                self.qubits.append(cirq.GridQubit(i, j))\n",
    "\n",
    "    def validate_operation(self, operation: 'cirq.Operation') -> None:\n",
    "        if not isinstance(operation, cirq.GateOperation):\n",
    "            raise ValueError(f\"Unsupported operation {operation}\")\n",
    "        if not (\n",
    "            operation.gate in [cirq.H, cirq.CZ] or isinstance(operation.gate, cirq.MeasurementGate)\n",
    "        ):\n",
    "            raise ValueError(f\"Unsupported gate {operation.gate}\")\n",
    "        for qubit in operation.qubits:\n",
    "            if qubit not in self.qubits:\n",
    "                raise ValueError(f\"Qubit {qubit} not on device\")"
   ]
  },
  {
   "cell_type": "markdown",
   "id": "c35406d1",
   "metadata": {
    "id": "0ffeaed6f5e2",
    "papermill": {
     "duration": 0.000103,
     "end_time": "2025-07-17T21:49:41.059888",
     "exception": false,
     "start_time": "2025-07-17T21:49:41.059785",
     "status": "completed"
    },
    "tags": []
   },
   "source": [
    "# Quantum Virtual Machine\n",
    "\n",
    "Cirq provides the [Quantum Virtual Machine](../simulate/quantum_virtual_machine.ipynb) as a way to run circuits using the same interface that quantum hardware uses and get results that approximate those the hardware would produce. It combines [Devices](../hardware/devices.ipynb), [Noisy Simulation](../simulate/noisy_simulation.ipynb), realistic [Noise Models](../noise/representing_noise.ipynb) and a [Virtual Engine Interface](../simulate/virtual_engine_interface.ipynb) to produce a `cirq.SimulatedLocalEngine` that you can treat almost interchangeably with hardware devices. See the [Quantum Virtual Machine](../simulate/quantum_virtual_machine.ipynb) page to learn more about how it works, or jump to the [QVM Creation Template](../simulate/qvm_builder_code.ipynb) notebook to just start using it. "
   ]
  },
  {
   "cell_type": "markdown",
   "id": "cee16613",
   "metadata": {
    "id": "ed20ea519cc9",
    "papermill": {
     "duration": 8.9e-05,
     "end_time": "2025-07-17T21:49:41.060165",
     "exception": false,
     "start_time": "2025-07-17T21:49:41.060076",
     "status": "completed"
    },
    "tags": []
   },
   "source": [
    "# Transformers for circuit compilation"
   ]
  },
  {
   "cell_type": "markdown",
   "id": "3281836b",
   "metadata": {
    "id": "J9ia4eatUQ_x",
    "papermill": {
     "duration": 8.9e-05,
     "end_time": "2025-07-17T21:49:41.060436",
     "exception": false,
     "start_time": "2025-07-17T21:49:41.060347",
     "status": "completed"
    },
    "tags": []
   },
   "source": [
    "A transformer in Cirq is any callable, that satisfies the `cirq.TRANSFORMER` API, and *transforms* an input circuit into an output circuit. A custom transformer can be created by simply decorating the method/class with `@cirq.transformer` decorator. \n",
    "\n",
    "Cirq also provides useful transformer primitives which can be composed together to implement common compilation patterns. For example:\n",
    "\n",
    "- **`cirq.map_operations`**: Applies local transformations on operations, by calling `map_func(op)` for each `op`.\n",
    "- **`cirq.merge_operations`**: Merges connected component of operations by calling `merge_func(op1, op2)` on iteratively for every mergeable operation `op1` and `op2`.\n",
    "\n",
    "Below, we give an example of how you can create a circuit optimizer using the above primitives. "
   ]
  },
  {
   "cell_type": "code",
   "execution_count": 68,
   "id": "d53b709e",
   "metadata": {
    "execution": {
     "iopub.execute_input": "2025-07-17T21:49:41.061737Z",
     "iopub.status.busy": "2025-07-17T21:49:41.061492Z",
     "iopub.status.idle": "2025-07-17T21:49:41.069299Z",
     "shell.execute_reply": "2025-07-17T21:49:41.068388Z"
    },
    "id": "l7eFMVe1GEe2",
    "papermill": {
     "duration": 0.009966,
     "end_time": "2025-07-17T21:49:41.070582",
     "exception": false,
     "start_time": "2025-07-17T21:49:41.060616",
     "status": "completed"
    },
    "tags": []
   },
   "outputs": [
    {
     "name": "stdout",
     "output_type": "stream",
     "text": [
      "Before optimizing:\n",
      "a: ───X───Z───@───X───\n",
      "              │\n",
      "b: ───────────@───────\n",
      "\n",
      "After optimizing:\n",
      "a: ───Y───────@───X───\n",
      "              │\n",
      "b: ───────────@───────\n"
     ]
    }
   ],
   "source": [
    "\"\"\"Example of writing a custom cirq transformer.\"\"\"\n",
    "\n",
    "@cirq.transformer\n",
    "def xz_optimizer(circuit, *, context=None):\n",
    "    \"\"\"Replaces an X followed by a Z with a Y.\"\"\"\n",
    "\n",
    "    def merge_func(op1, op2):\n",
    "        return cirq.Y(*op1.qubits) if op1.gate == cirq.X and op2.gate == cirq.Z else None\n",
    "\n",
    "    return cirq.merge_operations(circuit, merge_func)\n",
    "\n",
    "\n",
    "circuit = cirq.Circuit(cirq.X(a), cirq.Z(a), cirq.CZ(a, b), cirq.X(a))\n",
    "print(f\"Before optimizing:\\n{circuit}\\n\")\n",
    "circuit = xz_optimizer(circuit)\n",
    "print(f\"After optimizing:\\n{circuit}\")"
   ]
  },
  {
   "cell_type": "markdown",
   "id": "b5ac24fe",
   "metadata": {
    "id": "--aUfkiaUb3S",
    "papermill": {
     "duration": 9e-05,
     "end_time": "2025-07-17T21:49:41.070879",
     "exception": false,
     "start_time": "2025-07-17T21:49:41.070789",
     "status": "completed"
    },
    "tags": []
   },
   "source": [
    "## Exercise: Simplify flipped CNOTs\n",
    "\n",
    "Write a transformer, using transformer primitives, which (greedily) performs the simplification that\n",
    "\n",
    "```\n",
    "a: ───H───@───H───\n",
    "          │\n",
    "b: ───H───X───H───\n",
    "```\n",
    "is equal to\n",
    "\n",
    "\n",
    "```\n",
    "a: ───X───\n",
    "      │\n",
    "b: ───@───\n",
    "```\n"
   ]
  },
  {
   "cell_type": "code",
   "execution_count": 69,
   "id": "ec9e60e7",
   "metadata": {
    "cellView": "form",
    "execution": {
     "iopub.execute_input": "2025-07-17T21:49:41.072089Z",
     "iopub.status.busy": "2025-07-17T21:49:41.071825Z",
     "iopub.status.idle": "2025-07-17T21:49:41.076990Z",
     "shell.execute_reply": "2025-07-17T21:49:41.076282Z"
    },
    "id": "S0PThmctKFxl",
    "papermill": {
     "duration": 0.007213,
     "end_time": "2025-07-17T21:49:41.078241",
     "exception": false,
     "start_time": "2025-07-17T21:49:41.071028",
     "status": "completed"
    },
    "tags": []
   },
   "outputs": [
    {
     "name": "stdout",
     "output_type": "stream",
     "text": [
      "None\n"
     ]
    }
   ],
   "source": [
    "# @title Attempt the solution here\n",
    "@cirq.transformer\n",
    "def simplify_flipped_cnots(circuit, *, context=None):\n",
    "    # Use transformer primitives to simplify your circuit.\n",
    "    pass\n",
    "\n",
    "\n",
    "\"\"\"Test your optimizer on this circuit.\"\"\"\n",
    "circuit = cirq.Circuit(\n",
    "    cirq.H.on_each(a, b, c), cirq.CNOT(a, b), cirq.H.on_each(a, b), cirq.CZ(a, b)\n",
    ")\n",
    "print(simplify_flipped_cnots(circuit))"
   ]
  },
  {
   "cell_type": "code",
   "execution_count": 70,
   "id": "a8f79cb3",
   "metadata": {
    "cellView": "form",
    "execution": {
     "iopub.execute_input": "2025-07-17T21:49:41.079789Z",
     "iopub.status.busy": "2025-07-17T21:49:41.079423Z",
     "iopub.status.idle": "2025-07-17T21:49:41.092154Z",
     "shell.execute_reply": "2025-07-17T21:49:41.091435Z"
    },
    "id": "O8pnDlAngS80",
    "papermill": {
     "duration": 0.015191,
     "end_time": "2025-07-17T21:49:41.093644",
     "exception": false,
     "start_time": "2025-07-17T21:49:41.078453",
     "status": "completed"
    },
    "tags": []
   },
   "outputs": [
    {
     "name": "stdout",
     "output_type": "stream",
     "text": [
      "Before optimizing:\n",
      "a: ───H───@───H───@───\n",
      "          │       │\n",
      "b: ───H───X───H───@───\n",
      "\n",
      "c: ───H───────────────\n",
      "\n",
      "After optimizing:\n",
      "a: ───────X───────@───\n",
      "          │       │\n",
      "b: ───────@───────@───\n",
      "\n",
      "c: ───H───────────────\n"
     ]
    }
   ],
   "source": [
    "# @title Expand to view the solution\n",
    "def simplify_flipped_cnots(circuit, *, context=None):\n",
    "    \"\"\"Replaces a CX surrounded by Hadamards\"\"\"\n",
    "\n",
    "    def can_merge(ops1, ops2):\n",
    "        merged = cirq.Circuit(ops1, ops2)\n",
    "        return (\n",
    "            len(merged) <= 3\n",
    "            and all(o.gate == cirq.H for o in merged[0].operations)\n",
    "            and merged[1].operations[0].gate == cirq.CNOT\n",
    "            and (len(merged) < 3 or all(o.gate == cirq.H for o in merged[2].operations))\n",
    "        )\n",
    "\n",
    "    merged_tag = \"h_cx_h\"\n",
    "    circuit = cirq.merge_operations_to_circuit_op(\n",
    "        circuit, can_merge, merged_circuit_op_tag=merged_tag\n",
    "    )\n",
    "\n",
    "    def map_func(op, _):\n",
    "        if merged_tag not in op.tags:\n",
    "            return op\n",
    "        cops = [*op.untagged.mapped_circuit().all_operations()]\n",
    "        return cirq.CNOT(*cops[2].qubits[::-1]) if len(cops) == 5 else cops\n",
    "\n",
    "    return cirq.map_operations(circuit, map_func)\n",
    "\n",
    "\n",
    "circuit = cirq.Circuit(\n",
    "    cirq.H.on_each(a, b, c), cirq.CNOT(a, b), cirq.H.on_each(a, b), cirq.CZ(a, b)\n",
    ")\n",
    "print(f\"Before optimizing:\\n{circuit}\\n\")\n",
    "print(f\"After optimizing:\\n{simplify_flipped_cnots(circuit)}\")"
   ]
  },
  {
   "cell_type": "markdown",
   "id": "0df238cf",
   "metadata": {
    "id": "Q-C_Yh6oz9uq",
    "papermill": {
     "duration": 9.8e-05,
     "end_time": "2025-07-17T21:49:41.093957",
     "exception": false,
     "start_time": "2025-07-17T21:49:41.093859",
     "status": "completed"
    },
    "tags": []
   },
   "source": [
    "## Compiling to Target Gatesets\n",
    "\n",
    "Cirq's philosophy on compiling circuits for execution on a NISQ target device or simulator is that it would often require running only a handful of individual compilation passes on the input circuit, one after the other. \n",
    "\n",
    "**`cirq.CompilationTargetGateset`** is an abstraction in Cirq to represent such compilation targets as well as the bundles of transformer passes which should be executed to compile a circuit to this target. Cirq has implementations for common target gatesets like `cirq.CZTargetGateset`, `cirq.SqrtIswapTargetGateset` etc.\n",
    "\n",
    "\n",
    "Below, we give an example of compiling a circuit to a specific target gateset. "
   ]
  },
  {
   "cell_type": "code",
   "execution_count": 71,
   "id": "066a89dd",
   "metadata": {
    "execution": {
     "iopub.execute_input": "2025-07-17T21:49:41.095529Z",
     "iopub.status.busy": "2025-07-17T21:49:41.095138Z",
     "iopub.status.idle": "2025-07-17T21:49:41.188793Z",
     "shell.execute_reply": "2025-07-17T21:49:41.188134Z"
    },
    "id": "ydDrxmlL18F1",
    "papermill": {
     "duration": 0.095914,
     "end_time": "2025-07-17T21:49:41.190010",
     "exception": false,
     "start_time": "2025-07-17T21:49:41.094096",
     "status": "completed"
    },
    "tags": []
   },
   "outputs": [
    {
     "name": "stdout",
     "output_type": "stream",
     "text": [
      "Original Circuit (depth 6):               ┌──┐                       ┌──┐\n",
      "0: ───iSwap──────────────iSwap───iSwap────@─────\n",
      "      │                  │       │        │\n",
      "1: ───┼─────────×────T───iSwap───iSwap────┼×────\n",
      "      │         │                         ││\n",
      "2: ───┼────────T┼────────X────────────────@┼────\n",
      "      │         │                          │\n",
      "3: ───iSwap─────×──────────────────────────×────\n",
      "              └──┘                       └──┘\n"
     ]
    },
    {
     "name": "stdout",
     "output_type": "stream",
     "text": [
      "Compiled circuit for CZ Target (depth 17):                                                                                                                                                                                                         ┌──────────────────┐   ┌───────────────────────┐\n",
      "0: ───PhXZ(a=0.25,x=-0.5,z=0)─────────@───PhXZ(a=0.25,x=0.5,z=5.55e-17)───@───PhXZ(a=-0.75,x=0.5,z=0.5)────────────────────────────────────────────────────────────────PhXZ(a=0,x=0,z=1)──────────────────────────────────────────────────────────────@─────────────────────────────────────────────────────────────────\n",
      "                                      │                                   │                                                                                                                                                                           │\n",
      "1: ───────────────────────────────────┼───────────────────────────────────┼───────────────────────────────@───PhXZ(a=0.5,x=0.5,z=0)───@───PhXZ(a=0.5,x=-0.5,z=0)───@───PhXZ(a=-1.11e-16,x=0.25,z=0.5)────@──────────────────────PhXZ(a=0,x=-0.5,z=0)──┼────@───PhXZ(a=-2.22e-16,x=0.5,z=0)───@───PhXZ(a=0,x=0,z=-0.5)───\n",
      "                                      │                                   │                               │                           │                            │                                     │                                            │    │                                 │\n",
      "2: ───────────────────────────────────┼───────────────────────────────────┼───────────────────────────────┼───────────────────────────┼────────────────────────────┼───PhXZ(a=0,x=0,z=0.25)──────────────┼PhXZ(a=0,x=1,z=0)───────────────────────────@────┼─────────────────────────────────┼──────────────────────────\n",
      "                                      │                                   │                               │                           │                            │                                     │                                                 │                                 │\n",
      "3: ───PhXZ(a=0.25,x=0.5,z=5.55e-17)───@───PhXZ(a=0.25,x=-0.5,z=0)─────────@───PhXZ(a=0.25,x=0.5,z=0.5)────@───PhXZ(a=0.5,x=0.5,z=0)───@───PhXZ(a=0.5,x=-0.5,z=0)───@───PhXZ(a=-0.5,x=0,z=-1)─────────────@──────────────────────PhXZ(a=0.5,x=-0.5,z=0)─────@───PhXZ(a=0.5,x=0.5,z=0)─────────@───PhXZ(a=0,x=0,z=0.5)────\n",
      "                                                                                                                                                                                                        └──────────────────┘   └───────────────────────┘\n"
     ]
    },
    {
     "name": "stdout",
     "output_type": "stream",
     "text": [
      "Compiled circuit for Sqrt-Iswap Target (depth 16): "
     ]
    },
    {
     "name": "stdout",
     "output_type": "stream",
     "text": [
      "                                                                                                                                                                                                    ┌──────────────────┐                                  ┌──────────────────┐\n",
      "0: ───PhXZ(a=0,x=0,z=0.5)───iSwap───────iSwap───────────────────────────────────────────────────────────────────────────────────────────────────────────────────────────PhXZ(a=0.5,x=0.5,z=-0.5)──────────────iSwap────────PhXZ(a=0.5,x=1,z=0)──────────────────────iSwap────────PhXZ(a=-1,x=0.5,z=2.17e-08)────────────────────────────────────────────\n",
      "                            │           │                                                                                                                                                                     │                                                     │\n",
      "1: ─────────────────────────┼───────────┼───────────────────────────────────iSwap───────PhXZ(a=0.874,x=0.5,z=-0.874)───iSwap───────PhXZ(a=-0.5,x=0.5,z=0)───iSwap───────PhXZ(a=0.5,x=0.376,z=0.5)────iSwap────┼────────────PhXZ(a=-0.126,x=0.5,z=0.126)────iSwap────┼────────────PhXZ(a=-0.5,x=0.5,z=0)────────iSwap───────PhXZ(a=0.5,x=0.126,z=-0.5)───\n",
      "                            │           │                                   │                                          │                                    │                                        │        │                                            │        │                                          │\n",
      "2: ─────────────────────────┼───────────┼───────────────────────────────────┼──────────────────────────────────────────┼────────────────────────────────────┼───────────PhXZ(a=1.0,x=0.5,z=-1.0)─────┼────────iSwap^0.5────────────────────────────────────┼────────iSwap^0.5────PhXZ(a=0,x=0.5,z=0.25)────────┼────────────────────────────────────────\n",
      "                            │           │                                   │                                          │                                    │                                        │                                                     │                                                   │\n",
      "3: ─────────────────────────iSwap^0.5───iSwap^0.5───PhXZ(a=-1,x=0,z=-0.5)───iSwap^0.5───PhXZ(a=0.874,x=0.5,z=-0.874)───iSwap^0.5───PhXZ(a=-0.5,x=0.5,z=0)───iSwap^0.5───PhXZ(a=0.5,x=0.126,z=0.5)────iSwap^0.5─────────────PhXZ(a=-0.126,x=0.5,z=0.126)────iSwap^0.5─────────────PhXZ(a=-0.5,x=0.5,z=0)────────iSwap^0.5───PhXZ(a=0.5,x=0.126,z=-1.0)───\n",
      "                                                                                                                                                                                                    └──────────────────┘                                  └──────────────────┘\n"
     ]
    }
   ],
   "source": [
    "circuit = cirq.testing.random_circuit(qubits=4, n_moments=6, op_density=0.8, random_state=1234)\n",
    "print(f\"Original Circuit (depth {len(circuit)}):\", circuit)\n",
    "cz_compiled_circuit = cirq.optimize_for_target_gateset(circuit, gateset=cirq.CZTargetGateset())\n",
    "cirq.testing.assert_circuits_with_terminal_measurements_are_equivalent(\n",
    "    circuit, cz_compiled_circuit, atol=1e-6\n",
    ")\n",
    "print(f\"Compiled circuit for CZ Target (depth {len(cz_compiled_circuit)}):\", cz_compiled_circuit)\n",
    "sqrt_iswap_compiled_circuit = cirq.optimize_for_target_gateset(\n",
    "    circuit, gateset=cirq.SqrtIswapTargetGateset()\n",
    ")\n",
    "cirq.testing.assert_circuits_with_terminal_measurements_are_equivalent(\n",
    "    circuit, sqrt_iswap_compiled_circuit, atol=1e-6\n",
    ")\n",
    "print(\n",
    "    f\"Compiled circuit for Sqrt-Iswap Target (depth {len(sqrt_iswap_compiled_circuit)}):\",\n",
    "    sqrt_iswap_compiled_circuit,\n",
    ")"
   ]
  },
  {
   "cell_type": "markdown",
   "id": "af93662e",
   "metadata": {
    "id": "b13526b78348",
    "papermill": {
     "duration": 7.4e-05,
     "end_time": "2025-07-17T21:49:41.190440",
     "exception": false,
     "start_time": "2025-07-17T21:49:41.190366",
     "status": "completed"
    },
    "tags": []
   },
   "source": [
    "# Other interesting things in Cirq"
   ]
  },
  {
   "cell_type": "markdown",
   "id": "a0f256cb",
   "metadata": {
    "id": "tMC-nLE474nH",
    "papermill": {
     "duration": 4.1e-05,
     "end_time": "2025-07-17T21:49:41.190568",
     "exception": false,
     "start_time": "2025-07-17T21:49:41.190527",
     "status": "completed"
    },
    "tags": []
   },
   "source": [
    "**Experiments**. The `cirq.experiments` package can perform and plot the results of some basic experiments for understanding how well a system is performing.\n"
   ]
  },
  {
   "cell_type": "code",
   "execution_count": 72,
   "id": "53e66cb4",
   "metadata": {
    "execution": {
     "iopub.execute_input": "2025-07-17T21:49:41.191452Z",
     "iopub.status.busy": "2025-07-17T21:49:41.191228Z",
     "iopub.status.idle": "2025-07-17T21:49:41.493510Z",
     "shell.execute_reply": "2025-07-17T21:49:41.492842Z"
    },
    "id": "Ih8YgwX19h2-",
    "papermill": {
     "duration": 0.303878,
     "end_time": "2025-07-17T21:49:41.494511",
     "exception": false,
     "start_time": "2025-07-17T21:49:41.190633",
     "status": "completed"
    },
    "tags": []
   },
   "outputs": [
    {
     "name": "stderr",
     "output_type": "stream",
     "text": [
      "/home/user/Cirq/cirq-core/cirq/experiments/qubit_characterizations.py:340: UserWarning: FigureCanvasAgg is non-interactive, and thus cannot be shown\n",
      "  fig.show()\n"
     ]
    },
    {
     "data": {
      "image/png": "[encoded data removed]",
      "text/plain": [
       "<Figure size 1200x500 with 2 Axes>"
      ]
     },
     "metadata": {},
     "output_type": "display_data"
    }
   ],
   "source": [
    "qubit = cirq.LineQubit(0)\n",
    "result = cirq.experiments.single_qubit_state_tomography(\n",
    "    sampler=cirq.Simulator(),  # In case of Google QCS or other hardware providers, sampler could point at real hardware.\n",
    "    qubit=qubit,\n",
    "    circuit=cirq.Circuit(cirq.Z(qubit), cirq.X(qubit)),\n",
    "    repetitions=2,\n",
    ")\n",
    "result.plot();"
   ]
  },
  {
   "cell_type": "markdown",
   "id": "9da65971",
   "metadata": {
    "id": "38c8tWcX90Zn",
    "papermill": {
     "duration": 7.1e-05,
     "end_time": "2025-07-17T21:49:41.494743",
     "exception": false,
     "start_time": "2025-07-17T21:49:41.494672",
     "status": "completed"
    },
    "tags": []
   },
   "source": [
    "**Testing**. The `cirq.testing` package has useful debugging and testing methods like `cirq.testing.assert_implements_consistent_protocols` and `cirq.testing.assert_allclose_up_to_global_phase`.\n"
   ]
  },
  {
   "cell_type": "code",
   "execution_count": 73,
   "id": "8d628069",
   "metadata": {
    "execution": {
     "iopub.execute_input": "2025-07-17T21:49:41.495683Z",
     "iopub.status.busy": "2025-07-17T21:49:41.495440Z",
     "iopub.status.idle": "2025-07-17T21:49:41.499450Z",
     "shell.execute_reply": "2025-07-17T21:49:41.498875Z"
    },
    "id": "j7FoZGKv90qe",
    "papermill": {
     "duration": 0.005593,
     "end_time": "2025-07-17T21:49:41.500433",
     "exception": false,
     "start_time": "2025-07-17T21:49:41.494840",
     "status": "completed"
    },
    "tags": []
   },
   "outputs": [],
   "source": [
    "class InconsistentXGate(cirq.Gate):\n",
    "    def _num_qubits_(self) -> int:\n",
    "        return 1\n",
    "\n",
    "    def _decompose_(self, qubits):\n",
    "        yield cirq.H(qubits[0])\n",
    "        yield cirq.Z(qubits[0])\n",
    "        yield cirq.H(qubits[0])\n",
    "\n",
    "    def _unitary_(self):\n",
    "        return np.array([[0, -1j], [1j, 0]])  # Oops! Y instead of X!\n",
    "\n",
    "\n",
    "# cirq.testing.assert_decompose_is_consistent_with_unitary(InconsistentXGate())"
   ]
  },
  {
   "cell_type": "markdown",
   "id": "fcb7a16d",
   "metadata": {
    "id": "iYqy0qwU9sZy",
    "papermill": {
     "duration": 6.8e-05,
     "end_time": "2025-07-17T21:49:41.500643",
     "exception": false,
     "start_time": "2025-07-17T21:49:41.500575",
     "status": "completed"
    },
    "tags": []
   },
   "source": [
    "**Export**. You can export a circuit as Qasm."
   ]
  },
  {
   "cell_type": "code",
   "execution_count": 74,
   "id": "86219f00",
   "metadata": {
    "execution": {
     "iopub.execute_input": "2025-07-17T21:49:41.501495Z",
     "iopub.status.busy": "2025-07-17T21:49:41.501282Z",
     "iopub.status.idle": "2025-07-17T21:49:41.505407Z",
     "shell.execute_reply": "2025-07-17T21:49:41.504905Z"
    },
    "id": "qH7xB-vZ-Jsn",
    "papermill": {
     "duration": 0.005314,
     "end_time": "2025-07-17T21:49:41.506054",
     "exception": false,
     "start_time": "2025-07-17T21:49:41.500740",
     "status": "completed"
    },
    "tags": []
   },
   "outputs": [
    {
     "name": "stdout",
     "output_type": "stream",
     "text": [
      "// Generated from Cirq v1.6.0.dev0\n",
      "\n",
      "OPENQASM 2.0;\n",
      "include \"qelib1.inc\";\n",
      "\n",
      "\n",
      "// Qubits: [q(0), q(1), q(2)]\n",
      "qreg q[3];\n",
      "\n",
      "\n",
      "h q[0];\n",
      "h q[2];\n",
      "cx q[0],q[1];\n",
      "\n",
      "// Gate: CCZ\n",
      "h q[2];\n",
      "ccx q[0],q[1],q[2];\n",
      "h q[2];\n",
      "\n"
     ]
    }
   ],
   "source": [
    "\"\"\"Export a circuit to Qasm.\"\"\"\n",
    "\n",
    "a, b, c = cirq.LineQubit.range(3)\n",
    "circuit = cirq.Circuit(cirq.H(a), cirq.H(c), cirq.CNOT(a, b), cirq.CCZ(a, b, c))\n",
    "print(circuit.to_qasm())"
   ]
  },
  {
   "cell_type": "markdown",
   "id": "9355b912",
   "metadata": {
    "id": "QlgFtRQs-TfQ",
    "papermill": {
     "duration": 5e-05,
     "end_time": "2025-07-17T21:49:41.506209",
     "exception": false,
     "start_time": "2025-07-17T21:49:41.506159",
     "status": "completed"
    },
    "tags": []
   },
   "source": [
    "You can also turn a circuit into a link to the drag-and-drop web simulation Quirk (though somewhat inconveniently)."
   ]
  },
  {
   "cell_type": "code",
   "execution_count": 75,
   "id": "24225f72",
   "metadata": {
    "execution": {
     "iopub.execute_input": "2025-07-17T21:49:41.506945Z",
     "iopub.status.busy": "2025-07-17T21:49:41.506741Z",
     "iopub.status.idle": "2025-07-17T21:49:41.510499Z",
     "shell.execute_reply": "2025-07-17T21:49:41.509928Z"
    },
    "id": "Ydst5b0S9IGE",
    "papermill": {
     "duration": 0.004907,
     "end_time": "2025-07-17T21:49:41.511183",
     "exception": false,
     "start_time": "2025-07-17T21:49:41.506276",
     "status": "completed"
    },
    "tags": []
   },
   "outputs": [
    {
     "name": "stdout",
     "output_type": "stream",
     "text": [
      "http://algassert.com/quirk#circuit=%7B%22cols%22%3A%5B%5B%22H%22%2C1%2C%22H%22%5D%2C%5B%22%E2%80%A2%22%2C%22X%22%5D%2C%5B%22%E2%80%A2%22%2C%22%E2%80%A2%22%2C%22Z%22%5D%5D%7D\n"
     ]
    }
   ],
   "source": [
    "\"\"\"Export a circuit to a Quirk URL.\"\"\"\n",
    "\n",
    "from cirq.contrib.quirk.export_to_quirk import circuit_to_quirk_url\n",
    "\n",
    "print(circuit_to_quirk_url(circuit))"
   ]
  }
 ],
 "metadata": {
  "colab": {
   "collapsed_sections": [],
   "name": "intro.ipynb",
   "toc_visible": true
  },
  "kernelspec": {
   "display_name": "Python 3",
   "name": "python3"
  },
  "language_info": {
   "codemirror_mode": {
    "name": "ipython",
    "version": 3
   },
   "file_extension": ".py",
   "mimetype": "text/x-python",
   "name": "python",
   "nbconvert_exporter": "python",
   "pygments_lexer": "ipython3",
   "version": "3.11.9"
  },
  "papermill": {
   "default_parameters": {},
   "duration": 7.275842,
   "end_time": "2025-07-17T21:49:42.329513",
   "environment_variables": {},
   "exception": null,
   "input_path": "/tmp/tmpztvot4co-rewrite.ipynb",
   "output_path": "/home/user/Cirq/out/docs/start/intro.out.ipynb",
   "parameters": {},
   "start_time": "2025-07-17T21:49:35.053671",
   "version": "2.6.0"
  }
 },
 "nbformat": 4,
 "nbformat_minor": 5
}
