{
 "cells": [
  {
   "cell_type": "code",
   "execution_count": 1,
   "metadata": {
    "id": "S97D7gQHMdG_"
   },
   "outputs": [],
   "source": [
    "##### Copyright 2021 The Cirq Developers"
   ]
  },
  {
   "cell_type": "code",
   "execution_count": 2,
   "metadata": {
    "cellView": "form",
    "id": "Y6Wh1qtGMghL"
   },
   "outputs": [],
   "source": [
    "#@title Licensed under the Apache License, Version 2.0 (the \"License\");\n",
    "# you may not use this file except in compliance with the License.\n",
    "# You may obtain a copy of the License at\n",
    "#\n",
    "# https://www.apache.org/licenses/LICENSE-2.0\n",
    "#\n",
    "# Unless required by applicable law or agreed to in writing, software\n",
    "# distributed under the License is distributed on an \"AS IS\" BASIS,\n",
    "# WITHOUT WARRANTIES OR CONDITIONS OF ANY KIND, either express or implied.\n",
    "# See the License for the specific language governing permissions and\n",
    "# limitations under the License."
   ]
  },
  {
   "cell_type": "markdown",
   "metadata": {
    "id": "gNBCrapEMgxB"
   },
   "source": [
    "# Circuit optimization, gate alignment, and spin echoes"
   ]
  },
  {
   "cell_type": "markdown",
   "metadata": {
    "id": "tlnEweYsMgzj"
   },
   "source": [
    "<table class=\"tfo-notebook-buttons\" align=\"left\">\n",
    "  <td>\n",
    "    <a target=\"_blank\" href=\"https://quantumai.google/cirq/tutorials/google/spin_echoes\"><img src=\"https://quantumai.google/site-assets/images/buttons/quantumai_logo_1x.png\" />View on QuantumAI</a>\n",
    "  </td>\n",
    "  <td>\n",
    "    <a target=\"_blank\" href=\"https://colab.research.google.com/github/quantumlib/Cirq/blob/main/docs/tutorials/google/spin_echoes.ipynb\"><img src=\"https://quantumai.google/site-assets/images/buttons/colab_logo_1x.png\" />Run in Google Colab</a>\n",
    "  </td>\n",
    "  <td>\n",
    "    <a target=\"_blank\" href=\"https://github.com/quantumlib/Cirq/blob/main/docs/tutorials/google/spin_echoes.ipynb\"><img src=\"https://quantumai.google/site-assets/images/buttons/github_logo_1x.png\" />View source on GitHub</a>\n",
    "  </td>\n",
    "  <td>\n",
    "    <a href=\"https://storage.googleapis.com/tensorflow_docs/Cirq/docs/tutorials/google/spin_echoes.ipynb\"><img src=\"https://quantumai.google/site-assets/images/buttons/download_icon_1x.png\" />Download notebook</a>\n",
    "  </td>\n",
    "</table>"
   ]
  },
  {
   "cell_type": "markdown",
   "metadata": {
    "id": "PnYvZgIoMg2O"
   },
   "source": [
    "This tutorial shows how to prepare circuits to run on the Quantum Computing Service (QCS) and optimize them to improve performace, showing an example of the procedure outlined in the [Best practices guide](https://quantumai.google/cirq/google/best_practices#improving_circuit_fidelity). This is an \"advanced\" tutorial where you will learn to perform the following optimization techniques:\n",
    "\n",
    "1. Converting to target gateset\n",
    "2. Ejecting single-qubit operations\n",
    "3. Aligning gates in moments\n",
    "4. Inserting spin echoes to reduce leakage & cross-talk."
   ]
  },
  {
   "cell_type": "markdown",
   "metadata": {
    "id": "S0OPIhmnv5AO"
   },
   "source": [
    "Note: The function `cirq_google.optimized_for_sycamore` implements some of the optimizations shown here. This tutorial provides more detail for finer control."
   ]
  },
  {
   "cell_type": "markdown",
   "metadata": {
    "id": "BRfLi9YSMg4v"
   },
   "source": [
    "## Setup\n"
   ]
  },
  {
   "cell_type": "code",
   "execution_count": 3,
   "metadata": {
    "id": "JolZGos2MhDM"
   },
   "outputs": [],
   "source": [
    "try:\n",
    "    import cirq\n",
    "except ImportError:\n",
    "    print(\"installing cirq...\")\n",
    "    !pip install --quiet cirq\n",
    "    print(\"installed cirq.\")"
   ]
  },
  {
   "cell_type": "code",
   "execution_count": 4,
   "metadata": {
    "id": "lFI7APiqMhFy"
   },
   "outputs": [],
   "source": [
    "import matplotlib.pyplot as plt\n",
    "import numpy as np\n",
    "\n",
    "import cirq\n",
    "import cirq_google as cg"
   ]
  },
  {
   "cell_type": "code",
   "execution_count": 5,
   "metadata": {
    "cellView": "form",
    "id": "-x_6wT1yRFYh"
   },
   "outputs": [
    {
     "name": "stdout",
     "output_type": "stream",
     "text": [
      "Getting OAuth2 credentials.\n",
      "Press enter after entering the verification code.\n",
      "Authentication complete.\n",
      "Successful authentication to Google Cloud.\n"
     ]
    }
   ],
   "source": [
    "import os\n",
    "\n",
    "# The Google Cloud Project id to use.\n",
    "project_id = '' #@param {type:\"string\"}\n",
    "processor_id = \"\" #@param {type:\"string\"}\n",
    "\n",
    "from cirq_google.engine.qcs_notebook import get_qcs_objects_for_notebook\n",
    "device_sampler = get_qcs_objects_for_notebook(project_id, processor_id)"
   ]
  },
  {
   "cell_type": "code",
   "execution_count": 6,
   "metadata": {
    "cellView": "form",
    "id": "H6QoxTf1WaPn"
   },
   "outputs": [],
   "source": [
    "# @markdown Helper functions.\n",
    "from typing import Optional, Sequence\n",
    "from cirq.experiments import random_rotations_between_grid_interaction_layers_circuit\n",
    "\n",
    "\n",
    "# Gates for spin echoes.\n",
    "pi_pulses = [\n",
    "    cirq.PhasedXPowGate(phase_exponent=p, exponent=1.0) for p in (-0.5, 0.0, 0.5, 1.0)\n",
    "]\n",
    "\n",
    "\n",
    "def create_benchmark_circuit(\n",
    "    qubits: Sequence[cirq.GridQubit],\n",
    "    cycles: int,\n",
    "    twoq_gate: cirq.Gate = cirq.SQRT_ISWAP,\n",
    "    seed: Optional[int] = None,\n",
    "    with_optimization: bool = False,\n",
    "    with_alignment: bool = False,\n",
    "    with_spin_echoes: bool = False,\n",
    ") -> cirq.Circuit:\n",
    "    \"\"\"Returns an \"OTOC-like\" circuit [1] used to benchmark optimization and/or\n",
    "    alignment and/or spin echoes.\n",
    "\n",
    "    Args:\n",
    "        qubits: Qubits to use.\n",
    "        cycles: Depth of random rotations in the forward & reverse unitary.\n",
    "        twoq_gate: Two-qubit gate to use.\n",
    "        seed: Seed for circuit generation.\n",
    "        with_optimization: Run a series of optimizations on the circuit.\n",
    "        with_alignment: Align moments and synchronize terminal measurements.\n",
    "        with_spin_echoes: Insert spin echoes on ancilla qubit.\n",
    "    \n",
    "    References:\n",
    "        [1] Fig. S10 of https://arxiv.org/abs/2101.08870.\n",
    "    \"\"\"\n",
    "    ancilla, qubits = qubits[0], qubits[1:]\n",
    "\n",
    "    # Put ancilla into the |1⟩ state and couple it to the rest of the qubits.\n",
    "    excite_ancilla = [cirq.X(ancilla), twoq_gate(ancilla, qubits[0])]\n",
    "\n",
    "    # Forward operations.\n",
    "    forward = random_rotations_between_grid_interaction_layers_circuit(\n",
    "        qubits, \n",
    "        depth=cycles,\n",
    "        two_qubit_op_factory=lambda a, b, _: twoq_gate.on(a, b),\n",
    "        pattern=cirq.experiments.GRID_STAGGERED_PATTERN,\n",
    "        single_qubit_gates=[cirq.PhasedXPowGate(phase_exponent=p, exponent=0.5)\n",
    "                            for p in np.arange(-1.0, 1.0, 0.25)],\n",
    "        seed=seed\n",
    "    )\n",
    "\n",
    "    # Full circuit. Note: We are intentionally creating a bad circuit structure\n",
    "    # by putting each operation in a new moment (via `cirq.InsertStrategy.New`)\n",
    "    # to show the advantages of optimization & alignment.\n",
    "    circuit = cirq.Circuit(excite_ancilla)\n",
    "    circuit.append(forward.all_operations(), strategy=cirq.InsertStrategy.NEW)\n",
    "    circuit.append(cirq.inverse(forward).all_operations(), strategy=cirq.InsertStrategy.NEW)\n",
    "    circuit.append(cirq.inverse(excite_ancilla[1:]))\n",
    "    circuit.append(cirq.measure(ancilla, key=\"z\"), strategy=cirq.InsertStrategy.NEW)\n",
    "\n",
    "    # Run optimization.\n",
    "    if with_optimization:\n",
    "        cirq.MergeInteractionsToSqrtIswap().optimize_circuit(circuit)\n",
    "        circuit = cirq.eject_phased_paulis(circuit)\n",
    "        circuit = cirq.eject_z(circuit)\n",
    "        circuit = cirq.drop_negligible_operations(circuit)\n",
    "        circuit = cirq.drop_empty_moments(circuit)\n",
    "\n",
    "    # Insert spin echoes. Note: It's important to do this after optimization, as\n",
    "    # optimization will remove spin echoes.\n",
    "    if with_spin_echoes:\n",
    "        random_state = np.random.RandomState(seed)\n",
    "\n",
    "        spin_echo = []\n",
    "        for _ in range(cycles * 2):\n",
    "            op = random_state.choice(pi_pulses).on(ancilla)\n",
    "            spin_echo += [op, cirq.inverse(op)]\n",
    "\n",
    "        circuit.insert(2, spin_echo)\n",
    "\n",
    "    # Alignment.\n",
    "    if with_alignment:\n",
    "        circuit = cirq.align_right(circuit)\n",
    "        circuit = synchronize_terminal_measurements(circuit)\n",
    "\n",
    "    return circuit\n",
    "\n",
    "\n",
    "def to_survival_prob(result: cirq.Result) -> float:\n",
    "    return np.mean(np.sum(result.measurements[\"z\"], axis=1) == 1)"
   ]
  },
  {
   "cell_type": "markdown",
   "metadata": {
    "id": "be9PReoRVYsB"
   },
   "source": [
    "## Preparing circuits to run on QCS"
   ]
  },
  {
   "cell_type": "markdown",
   "metadata": {
    "id": "afa-MP4Qqd6C"
   },
   "source": [
    "For the sake of this tutorial, we will use a circuit structure created by the `create_benchmark_circuit` function defined above."
   ]
  },
  {
   "cell_type": "code",
   "execution_count": 7,
   "metadata": {
    "id": "LubPWNqUVikD"
   },
   "outputs": [
    {
     "name": "stdout",
     "output_type": "stream",
     "text": [
      "Example benchmark circuit:\n",
      "\n"
     ]
    },
    {
     "data": {
      "text/html": [
       "<pre style=\"overflow: auto; white-space: pre;\">(0, 0): ───X───iSwap────────────────────────────────────────────────────────────────────────────────────────────────────────────────────────────────────────────────────────────────────────────────────────────────────────────────────────────────────────────────────────────────────────────────────────────────────────────────────────────────────────────────────────────────────────────────────────────────────────────────────────────────────────────────────────────────────────────────────────────────────────────────────────────────────────────────────────────────────────────────────────────────────────────────────────────────────────────────────────────────────iSwap──────────────────────────────────────────────────────────M(&#x27;z&#x27;)───\n",
       "               │                                                                                                                                                                                                                                                                                                                                                                                                                                                                                                                                                                                                                                                                        │\n",
       "(0, 1): ───────iSwap───PhX(0.25)^0.5──────────────────────────────────────────────────────────────────────PhX(-0.75)^0.5─────────────────────────────────────────────────────────────────iSwap───PhX(0.75)^0.5──────────────────────────────────────────────────────────────iSwap───────────PhX(0.25)^0.5──────────────────────────────────────────────────────────────PhX(0.25)^-0.5──────────────────────────────────────────────────────────────────iSwap─────────────────PhX(0.75)^-0.5──────────────────────────────────────────────────────────────────iSwap──────PhX(-0.75)^-0.5────────────────────────────────────────────────────────────────────────────────PhX(0.25)^-0.5───iSwap^-1────────────────────────────────────────────────────────────────\n",
       "                                                                                                                                                                                         │                                                                                  │                                                                                                                                                                          │                                                                                                     │\n",
       "(0, 2): ───────────────────────────────PhX(-0.25)^0.5─────────────────────────────────────────────iSwap────────────────────PhX(0.25)^0.5─────────────────────────────────────────────────┼───────────────────────PhX(0)^0.5─────────────────────────────────────────────────iSwap───────────────────────────PhX(-0.5)^0.5───────────────────────────────────────────────────────────────PhX(-0.5)^-0.5─────────────────────────────────────────────────iSwap^-1───────────────────────────────PhX(0)^-0.5────────────────────────────────────────────────────┼────────────────────────────PhX(0.25)^-0.5────────────────────────────────────────────────────iSwap───────────────────────PhX(-0.25)^-0.5─────────────────────────────────────────────────────────\n",
       "                                                                                                  │                                                                                      │                                                                                                                                                                                                                                                                                                                                                                   │                                                                                              │\n",
       "(1, 0): ────────────────────────────────────────────────PhX(0)^0.5────────────────────────────────┼────────────────────────────────────────PhX(0.75)^0.5─────────────────────────────────┼────────────────────────────────────PhX(0.5)^0.5──────────────────────────────────────────iSwap───────────────────────────────────PhX(0)^0.5───────────────────────────────────────────────────────────────────PhX(0)^-0.5──────────────────────────────────────────────iSwap─────────────────────────────────────PhX(0.5)^-0.5────────────────────────────────────┼─────────────────────────────────────────────PhX(0.75)^-0.5───────────────────────────────────┼─────────────────────────────────────────────PhX(0)^-0.5───────────────────────────────────────────\n",
       "                                                                                                  │                                                                                      │                                                                                          │                                                                                                                                                                             │                                                                                          │                                                                                              │\n",
       "(1, 1): ─────────────────────────────────────────────────────────────PhX(1)^0.5───────────────────┼────────────────────────────────────────────────────────PhX(-0.75)^0.5────────────────iSwap───────────────────────────────────────────────PhX(-0.5)^0.5──────────────────────────iSwap────────────────────────────────────────────────PhX(-0.25)^0.5────────────────────────────────────────────────────────────────PhX(-0.25)^-0.5────────────────────────────iSwap^-1──────────────────────────────────────────────────PhX(-0.5)^-0.5───────────────────iSwap^-1───────────────────────────────────────────────────────PhX(-0.75)^-0.5─────────────────┼───────────────────────────────────────────────────────────PhX(1)^-0.5─────────────────────────────\n",
       "                                                                                                  │                                                                                                                                                                                                                                                                                                                                                                                                                                                                                                                                                         │\n",
       "(1, 2): ──────────────────────────────────────────────────────────────────────────PhX(0.75)^0.5───iSwap─────────────────────────────────────────────────────────────────────PhX(0)^0.5───────────────────────────────────────────────────────────────────────PhX(0.5)^0.5─────────────────────────────────────────────────────────────────────────────────PhX(0)^0.5─────────────────────────────────────────────────────────────────────PhX(0)^-0.5─────────────────────────────────────────────────────────────────────────────────────────PhX(0.5)^-0.5────────────────────────────────────────────────────────────────────────────────────PhX(0)^-0.5───iSwap^-1──────────────────────────────────────────────────────────────────PhX(0.75)^-0.5────────────</pre>"
      ],
      "text/plain": [
       "(0, 0): ───X───iSwap────────────────────────────────────────────────────────────────────────────────────────────────────────────────────────────────────────────────────────────────────────────────────────────────────────────────────────────────────────────────────────────────────────────────────────────────────────────────────────────────────────────────────────────────────────────────────────────────────────────────────────────────────────────────────────────────────────────────────────────────────────────────────────────────────────────────────────────────────────────────────────────────────────────────────────────────────────────────────────────────────iSwap──────────────────────────────────────────────────────────M('z')───\n",
       "               │                                                                                                                                                                                                                                                                                                                                                                                                                                                                                                                                                                                                                                                                        │\n",
       "(0, 1): ───────iSwap───PhX(0.25)^0.5──────────────────────────────────────────────────────────────────────PhX(-0.75)^0.5─────────────────────────────────────────────────────────────────iSwap───PhX(0.75)^0.5──────────────────────────────────────────────────────────────iSwap───────────PhX(0.25)^0.5──────────────────────────────────────────────────────────────PhX(0.25)^-0.5──────────────────────────────────────────────────────────────────iSwap─────────────────PhX(0.75)^-0.5──────────────────────────────────────────────────────────────────iSwap──────PhX(-0.75)^-0.5────────────────────────────────────────────────────────────────────────────────PhX(0.25)^-0.5───iSwap^-1────────────────────────────────────────────────────────────────\n",
       "                                                                                                                                                                                         │                                                                                  │                                                                                                                                                                          │                                                                                                     │\n",
       "(0, 2): ───────────────────────────────PhX(-0.25)^0.5─────────────────────────────────────────────iSwap────────────────────PhX(0.25)^0.5─────────────────────────────────────────────────┼───────────────────────PhX(0)^0.5─────────────────────────────────────────────────iSwap───────────────────────────PhX(-0.5)^0.5───────────────────────────────────────────────────────────────PhX(-0.5)^-0.5─────────────────────────────────────────────────iSwap^-1───────────────────────────────PhX(0)^-0.5────────────────────────────────────────────────────┼────────────────────────────PhX(0.25)^-0.5────────────────────────────────────────────────────iSwap───────────────────────PhX(-0.25)^-0.5─────────────────────────────────────────────────────────\n",
       "                                                                                                  │                                                                                      │                                                                                                                                                                                                                                                                                                                                                                   │                                                                                              │\n",
       "(1, 0): ────────────────────────────────────────────────PhX(0)^0.5────────────────────────────────┼────────────────────────────────────────PhX(0.75)^0.5─────────────────────────────────┼────────────────────────────────────PhX(0.5)^0.5──────────────────────────────────────────iSwap───────────────────────────────────PhX(0)^0.5───────────────────────────────────────────────────────────────────PhX(0)^-0.5──────────────────────────────────────────────iSwap─────────────────────────────────────PhX(0.5)^-0.5────────────────────────────────────┼─────────────────────────────────────────────PhX(0.75)^-0.5───────────────────────────────────┼─────────────────────────────────────────────PhX(0)^-0.5───────────────────────────────────────────\n",
       "                                                                                                  │                                                                                      │                                                                                          │                                                                                                                                                                             │                                                                                          │                                                                                              │\n",
       "(1, 1): ─────────────────────────────────────────────────────────────PhX(1)^0.5───────────────────┼────────────────────────────────────────────────────────PhX(-0.75)^0.5────────────────iSwap───────────────────────────────────────────────PhX(-0.5)^0.5──────────────────────────iSwap────────────────────────────────────────────────PhX(-0.25)^0.5────────────────────────────────────────────────────────────────PhX(-0.25)^-0.5────────────────────────────iSwap^-1──────────────────────────────────────────────────PhX(-0.5)^-0.5───────────────────iSwap^-1───────────────────────────────────────────────────────PhX(-0.75)^-0.5─────────────────┼───────────────────────────────────────────────────────────PhX(1)^-0.5─────────────────────────────\n",
       "                                                                                                  │                                                                                                                                                                                                                                                                                                                                                                                                                                                                                                                                                         │\n",
       "(1, 2): ──────────────────────────────────────────────────────────────────────────PhX(0.75)^0.5───iSwap─────────────────────────────────────────────────────────────────────PhX(0)^0.5───────────────────────────────────────────────────────────────────────PhX(0.5)^0.5─────────────────────────────────────────────────────────────────────────────────PhX(0)^0.5─────────────────────────────────────────────────────────────────────PhX(0)^-0.5─────────────────────────────────────────────────────────────────────────────────────────PhX(0.5)^-0.5────────────────────────────────────────────────────────────────────────────────────PhX(0)^-0.5───iSwap^-1──────────────────────────────────────────────────────────────────PhX(0.75)^-0.5────────────"
      ]
     },
     "execution_count": 7,
     "metadata": {},
     "output_type": "execute_result"
    }
   ],
   "source": [
    "\"\"\"Create an example circuit.\"\"\"\n",
    "qubits = cirq.GridQubit.rect(2, 3)  # [cirq.GridQubit(x, y) for (x, y) in [(3, 2), (4, 2), (4, 1), (5, 1), (6, 1), (6, 2), (5, 2)]]\n",
    "circuit = create_benchmark_circuit(qubits, twoq_gate=cirq.ISWAP, cycles=3, seed=1)\n",
    "\n",
    "print(\"Example benchmark circuit:\\n\")\n",
    "circuit"
   ]
  },
  {
   "cell_type": "markdown",
   "metadata": {
    "id": "ojDozjQK7cos"
   },
   "source": [
    "This circuit divides the qubits into two registers: a single ancilla (top qubit) as the first register, and the remaining qubits as the second register. First, the ancilla is excited into the $|1\\rangle$ state and coupled to the second register. Then, a [Loschmidt echo](https://quantumai.google/cirq/tutorials/google/echoes) is performed on the second register. Last, the ancilla is uncoupled from the second register and measured. Without any noise, the only measurement result should be $1$."
   ]
  },
  {
   "cell_type": "code",
   "execution_count": 8,
   "metadata": {
    "id": "nooNt8bi8NKH"
   },
   "outputs": [
    {
     "data": {
      "text/plain": [
       "Counter({1: 1000})"
      ]
     },
     "execution_count": 8,
     "metadata": {},
     "output_type": "execute_result"
    }
   ],
   "source": [
    "\"\"\"Without noise, only the 1 state is measured.\"\"\"\n",
    "result = cirq.Simulator().run(circuit, repetitions=1000)\n",
    "result.histogram(key=\"z\")"
   ]
  },
  {
   "cell_type": "markdown",
   "metadata": {
    "id": "aA5wUJa38VyO"
   },
   "source": [
    "We choose this circuit as an example for two reasons:\n",
    "\n",
    "1. Each gate in the circuit is in its own `cirq.Moment`, so this is a poor circuit structure to run on devices without any optimization / alignment.\n",
    "\n",
    "2. The ancilla qubit is idle except at the start and end of the circuit, so this is a prime example where adding spin echoes can improve performance.\n",
    "\n",
    "A similar circuit was used in [Information Scrambling in Computationally Complex Quantum Circuits](https://arxiv.org/abs/2101.08870) (see Fig. S10) to benchmark the performance of spin echoes.\n",
    "\n",
    "Starting from this circuit, we show how to optimize gates, align moments, and insert spin echoes to improve the performance on a real device."
   ]
  },
  {
   "cell_type": "markdown",
   "metadata": {
    "id": "pQXwGBdO-iS4"
   },
   "source": [
    "### Convert to target gateset"
   ]
  },
  {
   "cell_type": "markdown",
   "metadata": {
    "id": "szjI2vm2VbN4"
   },
   "source": [
    "To run on a device, all gates in the circuit will be converted to a gateset supported by that device. (See the [Device specifications guide](https://quantumai.google/cirq/google/specification) for information on supported gatesets.)\n",
    "\n",
    "We will use the $\\sqrt{\\text{iSWAP}}$ gateset in this tutorial. You can see this gateset and others as follows."
   ]
  },
  {
   "cell_type": "code",
   "execution_count": 9,
   "metadata": {
    "id": "Hyky31J08kWK"
   },
   "outputs": [
    {
     "name": "stdout",
     "output_type": "stream",
     "text": [
      "sycamore\n",
      "-------\n",
      "syc 12000\n",
      "xy 25000\n",
      "xy_pi 25000\n",
      "xy_half_pi 25000\n",
      "z 0\n",
      "xyz 25000\n",
      "meas 4000000\n",
      "wait 0\n",
      "\n",
      "sqrt_iswap\n",
      "-------\n",
      "fsim_pi_4 32000\n",
      "inv_fsim_pi_4 32000\n",
      "xy 25000\n",
      "z 0\n",
      "xyz 25000\n",
      "meas 4000000\n",
      "wait 0\n",
      "\n",
      "fsim\n",
      "-------\n",
      "fsim 0\n",
      "xy 25000\n",
      "z 0\n",
      "xyz 25000\n",
      "meas 4000000\n",
      "wait 0\n",
      "\n",
      "xmon\n",
      "-------\n",
      "xy 25000\n",
      "z 0\n",
      "xyz 25000\n",
      "cz 0\n",
      "meas 4000000\n",
      "\n"
     ]
    }
   ],
   "source": [
    "# Create an Engine object to use.\n",
    "spec = cg.Engine(project_id).get_processor(processor_id).get_device_specification()\n",
    "\n",
    "# Iterate through each gate set valid on the device.\n",
    "for gateset in spec.valid_gate_sets:\n",
    "    print(gateset.name)\n",
    "    print('-------')\n",
    "    # Prints each gate valid in the set with its duration\n",
    "    for gate in gateset.valid_gates:\n",
    "        print('%s %d' % (gate.id, gate.gate_duration_picos))\n",
    "    print()"
   ]
  },
  {
   "cell_type": "markdown",
   "metadata": {
    "id": "Tf5O4HxH8qBg"
   },
   "source": [
    "To convert gates to this gateset, use the `cirq.MergeInteractionsToSqrtIswap` optimizer. This optimizer merges all consecutive (one- and two-qubit) interactions on two qubits into a unitary matrix and then decomposes this unitary using $\\sqrt{\\text{iSWAP}}$ gates in an attempt to (a) convert to the target gateset and (b) reduce the circuit depth by reducing the number of operations."
   ]
  },
  {
   "cell_type": "code",
   "execution_count": 10,
   "metadata": {
    "id": "Eb4NyHFT-l4-"
   },
   "outputs": [
    {
     "data": {
      "text/html": [
       "<pre style=\"overflow: auto; white-space: pre;\">                                                                                                                                                                                 ┌─────────────────────┐                                                                                                                                                              ┌───────────────────────┐   ┌───────────────────────┐                                                             ┌────────────────────┐\n",
       "(0, 0): ───X───X───S───iSwap────────────iSwap────────Z──────────────────────────────────────────────────────────────────────────────────────────────────────────────────────────────────────────────────────────────────────────────────────────────────────────────────────────────────────────────────────────────────────────────────────────────────────────────────────────────────────────────────────────────────────────────────────────────────────────────────────S────────────iSwap───────────────────iSwap─────────Z───────M(&#x27;z&#x27;)───\n",
       "                       │                │                                                                                                                                                                                                                                                                                                                                                                                                                                                │                       │\n",
       "(0, 1): ───────────────iSwap^0.5────────iSwap^0.5────X────────────S^-1────────────────────────────────────────────────────────────────────────────────────X───S^-1───iSwap────────────────────iSwap────────T───X^0.5───Z^0.75───T────────X^0.5────T^-1──────────────────────────────────────────────────────────────────────────────────────────────────X───Z^0.118──────────────────iSwap───────────────────────iSwap───────────────────────────────────────────────────────────────────iSwap^0.5───────────────iSwap^0.5─────S────────────────\n",
       "                                                                                                                                                                     │                        │                                                                                                                                                                                      │                           │\n",
       "(0, 2): ───────────────PhX(-0.25)^0.5─────────────────────────────────────────────Z^-0.145───iSwap───────iSwap───────T───────────────X^0.75───────────S──────────────┼────────────────────────┼─────────────────────────────────X^-0.5─────────────────────────────────────────────────────────────────────────────────────────────────────────────────────────────────PhX(0.25)^-0.5┼───────────────────────────┼─────────────────────────────────────X─────────Z^-0.016───iSwap───────────────────iSwap────────Z^-0.75───────X^0.5───Z^0.75───\n",
       "                                                                                             │           │                                                           │                        │                                                                                                                                                                                      │                           │                                                          │                       │\n",
       "(1, 0): ────────────────────────────────PhX(0)^0.5───────────────────────────────────────────┼───────────┼───────────PhX(0.75)^0.5───────────────────────────────────┼────────────PhX(0.5)^0.5┼──────────────────────────────────────────Y^-0.5──────────────────────────────────────────────────────────────────────────────────────────────────────────────────────────────────────┼─────────────PhX(0.75)^-0.5┼──────────────────────────────────────────────────────────┼────────────PhX(0)^-0.5┼───────────────────────────────────────────\n",
       "                                                                                             │           │                                                           │                        │                                                                                                                                                                                      │                           │                                                          │                       │\n",
       "(1, 1): ─────────────────────────────────────────────PhX(1)^0.5──────────────────────────────┼───────────┼───────────────────────────PhX(-0.75)^0.5──────────────────iSwap^0.5────────────────iSwap^0.5────S───Y^0.5─────────────────────Y^0.5───────────────────────────────────────────────────────────────────────────────────────────────────────────────────────────────────────iSwap^0.5───────────────────iSwap^0.5────Z^-0.868───X^0.5─────────Z^-0.75──────────────┼───────────────────────┼────────────PhX(1)^-0.5────────────────────\n",
       "                                                                                             │           │                                                                                                                                                                                                                                                                                                                                                                  │                       │\n",
       "(1, 2): ──────────────────────────────────────────────────────────PhX(0.75)^0.5──────────────iSwap^0.5───iSwap^0.5───Z^-0.355────────X^0.5───────────────────────────────────────────────────────────────────────────────────────────────────────────────────────────PhX(0)^0.5───────────────────PhX(0)^-0.5───────────────────────────PhX(0.5)^-0.5────────────────────────────────────────────────────────────────────────────────────PhX(0)^-0.5────────────────────────iSwap^0.5───────────────iSwap^0.5────Z^0.766───────X^0.5───Z^0.75───\n",
       "                                                                                                                                                                                 └─────────────────────┘                                                                                                                                                              └───────────────────────┘   └───────────────────────┘                                                             └────────────────────┘</pre>"
      ],
      "text/plain": [
       "                                                                                                                                                                                 ┌─────────────────────┐                                                                                                                                                              ┌───────────────────────┐   ┌───────────────────────┐                                                             ┌────────────────────┐\n",
       "(0, 0): ───X───X───S───iSwap────────────iSwap────────Z──────────────────────────────────────────────────────────────────────────────────────────────────────────────────────────────────────────────────────────────────────────────────────────────────────────────────────────────────────────────────────────────────────────────────────────────────────────────────────────────────────────────────────────────────────────────────────────────────────────────────────S────────────iSwap───────────────────iSwap─────────Z───────M('z')───\n",
       "                       │                │                                                                                                                                                                                                                                                                                                                                                                                                                                                │                       │\n",
       "(0, 1): ───────────────iSwap^0.5────────iSwap^0.5────X────────────S^-1────────────────────────────────────────────────────────────────────────────────────X───S^-1───iSwap────────────────────iSwap────────T───X^0.5───Z^0.75───T────────X^0.5────T^-1──────────────────────────────────────────────────────────────────────────────────────────────────X───Z^0.118──────────────────iSwap───────────────────────iSwap───────────────────────────────────────────────────────────────────iSwap^0.5───────────────iSwap^0.5─────S────────────────\n",
       "                                                                                                                                                                     │                        │                                                                                                                                                                                      │                           │\n",
       "(0, 2): ───────────────PhX(-0.25)^0.5─────────────────────────────────────────────Z^-0.145───iSwap───────iSwap───────T───────────────X^0.75───────────S──────────────┼────────────────────────┼─────────────────────────────────X^-0.5─────────────────────────────────────────────────────────────────────────────────────────────────────────────────────────────────PhX(0.25)^-0.5┼───────────────────────────┼─────────────────────────────────────X─────────Z^-0.016───iSwap───────────────────iSwap────────Z^-0.75───────X^0.5───Z^0.75───\n",
       "                                                                                             │           │                                                           │                        │                                                                                                                                                                                      │                           │                                                          │                       │\n",
       "(1, 0): ────────────────────────────────PhX(0)^0.5───────────────────────────────────────────┼───────────┼───────────PhX(0.75)^0.5───────────────────────────────────┼────────────PhX(0.5)^0.5┼──────────────────────────────────────────Y^-0.5──────────────────────────────────────────────────────────────────────────────────────────────────────────────────────────────────────┼─────────────PhX(0.75)^-0.5┼──────────────────────────────────────────────────────────┼────────────PhX(0)^-0.5┼───────────────────────────────────────────\n",
       "                                                                                             │           │                                                           │                        │                                                                                                                                                                                      │                           │                                                          │                       │\n",
       "(1, 1): ─────────────────────────────────────────────PhX(1)^0.5──────────────────────────────┼───────────┼───────────────────────────PhX(-0.75)^0.5──────────────────iSwap^0.5────────────────iSwap^0.5────S───Y^0.5─────────────────────Y^0.5───────────────────────────────────────────────────────────────────────────────────────────────────────────────────────────────────────iSwap^0.5───────────────────iSwap^0.5────Z^-0.868───X^0.5─────────Z^-0.75──────────────┼───────────────────────┼────────────PhX(1)^-0.5────────────────────\n",
       "                                                                                             │           │                                                                                                                                                                                                                                                                                                                                                                  │                       │\n",
       "(1, 2): ──────────────────────────────────────────────────────────PhX(0.75)^0.5──────────────iSwap^0.5───iSwap^0.5───Z^-0.355────────X^0.5───────────────────────────────────────────────────────────────────────────────────────────────────────────────────────────PhX(0)^0.5───────────────────PhX(0)^-0.5───────────────────────────PhX(0.5)^-0.5────────────────────────────────────────────────────────────────────────────────────PhX(0)^-0.5────────────────────────iSwap^0.5───────────────iSwap^0.5────Z^0.766───────X^0.5───Z^0.75───\n",
       "                                                                                                                                                                                 └─────────────────────┘                                                                                                                                                              └───────────────────────┘   └───────────────────────┘                                                             └────────────────────┘"
      ]
     },
     "execution_count": 10,
     "metadata": {},
     "output_type": "execute_result"
    }
   ],
   "source": [
    "cirq.MergeInteractionsToSqrtIswap().optimize_circuit(circuit)\n",
    "circuit"
   ]
  },
  {
   "cell_type": "markdown",
   "metadata": {
    "id": "RXBNzJKXG_Oi"
   },
   "source": [
    "Note: Cirq supports decomposing to many different target gatesets via analytical decomposition functions present in `cirq.optimizers`. For example, you can compile an arbitrary two-qubit unitary (provided as a matrix) to $\\sqrt{\\text{iSWAP}}$ operations as shown below. This is useful when using custom gates in a circuit."
   ]
  },
  {
   "cell_type": "code",
   "execution_count": 11,
   "metadata": {
    "id": "cOoSlIZlEjci"
   },
   "outputs": [
    {
     "data": {
      "text/html": [
       "<pre style=\"overflow: auto; white-space: pre;\">(0, 0): ───Z^0.07────X^0.501───Z^0.424───iSwap───────Z^(1/6)────X^0.022───Z^-0.217───iSwap───────Z^0.983────X^0.603───Z^-0.78───\n",
       "                                         │                                           │\n",
       "(0, 1): ───Z^0.543───X^0.26──────────────iSwap^0.5───Z^(5/13)───X^(1/3)──────────────iSwap^0.5───Z^-0.367───X^0.114───Z^0.18────</pre>"
      ],
      "text/plain": [
       "(0, 0): ───Z^0.07────X^0.501───Z^0.424───iSwap───────Z^(1/6)────X^0.022───Z^-0.217───iSwap───────Z^0.983────X^0.603───Z^-0.78───\n",
       "                                         │                                           │\n",
       "(0, 1): ───Z^0.543───X^0.26──────────────iSwap^0.5───Z^(5/13)───X^(1/3)──────────────iSwap^0.5───Z^-0.367───X^0.114───Z^0.18────"
      ]
     },
     "execution_count": 11,
     "metadata": {},
     "output_type": "execute_result"
    }
   ],
   "source": [
    "\"\"\"Compile an arbitrary two-qubit operation to the sqrt_iswap gateset.\"\"\"\n",
    "ops = cirq.two_qubit_matrix_to_sqrt_iswap_operations(\n",
    "    q0=qubits[0], q1=qubits[1], mat=cirq.testing.random_unitary(dim=4, random_state=1)\n",
    ")\n",
    "cirq.Circuit(ops)"
   ]
  },
  {
   "cell_type": "markdown",
   "metadata": {
    "id": "OMRtgOHh-mDj"
   },
   "source": [
    "### Eject single-qubit operations"
   ]
  },
  {
   "cell_type": "markdown",
   "metadata": {
    "id": "4mYaNbqxBDBp"
   },
   "source": [
    "After converting to a target gateset, you can use various circuit optimizers to attempt to reduce the number of gates as shown below."
   ]
  },
  {
   "cell_type": "markdown",
   "metadata": {
    "id": "DiR_6NvV_mb6"
   },
   "source": [
    "The `cirq.eject_phased_paulis` optimizer pushes `cirq.X`, `cirq.Y`, and `cirq.PhasedXPowGate` gates towards the end of the circuit."
   ]
  },
  {
   "cell_type": "code",
   "execution_count": 12,
   "metadata": {
    "id": "KnJXHJNe-mha"
   },
   "outputs": [
    {
     "data": {
      "text/html": [
       "<pre style=\"overflow: auto; white-space: pre;\">                                                                                                                                                                                 ┌─────────────────────┐                                                                                                                                                                  ┌───────────────────────┐   ┌───────────────────────┐                                                                  ┌────────────────────┐\n",
       "(0, 0): ───────────S───iSwap────────────iSwap────────Z───────────────────────────────────────────────────────────────────────────────────────────────────────────────────────────────────────────────────────────────────────────────────────────────────────────────────────────────────────────────────────────────────────────────────────────────────────────────────────────────────────────────────────────────────────────────────────────────────────────────────────────────S────────────iSwap───────────────────iSwap─────────Z───────M(&#x27;z&#x27;)───\n",
       "                       │                │                                                                                                                                                                                                                                                                                                                                                                                                                                                         │                       │\n",
       "(0, 1): ───────────────iSwap^0.5────────iSwap^0.5─────────────────────────────────────────────────────────────────────────────────────────────────────────S───S^-1───iSwap────────────────────iSwap────────T───X^0.5───Z^0.75───T────────X^0.5────T^-1──────────────────────────────────────────────────────────────────────────────────────────────────────PhX(0.0592)──────────────────iSwap───────────────────────iSwap────────────────────────────────────────────────────────────────────────iSwap^0.5───────────────iSwap^0.5─────S────────────────\n",
       "                                                                                                                                                                     │                        │                                                                                                                                                                                          │                           │\n",
       "(0, 2): ───────────────PhX(-0.25)^0.5─────────────────────────────────────────────Z^-0.145───iSwap───────iSwap───────T───────────────X^0.75───────────S──────────────┼────────────────────────┼─────────────────────────────────X^-0.5─────────────────────────────────────────────────────────────────────────────────────────────────────────────────────────────────────PhX(0.25)^-0.5┼───────────────────────────┼───────────────────────────────────────────────PhX(-0.00809)───iSwap───────────────────iSwap────────Z^-0.75───────X^0.5───Z^0.75───\n",
       "                                                                                             │           │                                                           │                        │                                                                                                                                                                                          │                           │                                                               │                       │\n",
       "(1, 0): ────────────────────────────────PhX(0)^0.5───────────────────────────────────────────┼───────────┼───────────PhX(0.75)^0.5───────────────────────────────────┼────────────PhX(0.5)^0.5┼──────────────────────────────────────────Y^-0.5──────────────────────────────────────────────────────────────────────────────────────────────────────────────────────────────────────────┼─────────────PhX(0.75)^-0.5┼───────────────────────────────────────────────────────────────┼────────────PhX(0)^-0.5┼───────────────────────────────────────────\n",
       "                                                                                             │           │                                                           │                        │                                                                                                                                                                                          │                           │                                                               │                       │\n",
       "(1, 1): ─────────────────────────────────────────────PhX(1)^0.5──────────────────────────────┼───────────┼───────────────────────────PhX(-0.75)^0.5──────────────────iSwap^0.5────────────────iSwap^0.5────S───Y^0.5─────────────────────Y^0.5───────────────────────────────────────────────────────────────────────────────────────────────────────────────────────────────────────────iSwap^0.5───────────────────iSwap^0.5────Z^-0.868───X^0.5─────────Z^-0.75───────────────────┼───────────────────────┼────────────PhX(1)^-0.5────────────────────\n",
       "                                                                                             │           │                                                                                                                                                                                                                                                                                                                                                                           │                       │\n",
       "(1, 2): ──────────────────────────────────────────────────────────PhX(0.75)^0.5──────────────iSwap^0.5───iSwap^0.5───Z^-0.355────────X^0.5───────────────────────────────────────────────────────────────────────────────────────────────────────────────────────────PhX(0)^0.5───────────────────PhX(0)^-0.5───────────────────────────PhX(0.5)^-0.5────────────────────────────────────────────────────────────────────────────────────────PhX(0)^-0.5─────────────────────────────iSwap^0.5───────────────iSwap^0.5────Z^0.766───────X^0.5───Z^0.75───\n",
       "                                                                                                                                                                                 └─────────────────────┘                                                                                                                                                                  └───────────────────────┘   └───────────────────────┘                                                                  └────────────────────┘</pre>"
      ],
      "text/plain": [
       "                                                                                                                                                                                 ┌─────────────────────┐                                                                                                                                                                  ┌───────────────────────┐   ┌───────────────────────┐                                                                  ┌────────────────────┐\n",
       "(0, 0): ───────────S───iSwap────────────iSwap────────Z───────────────────────────────────────────────────────────────────────────────────────────────────────────────────────────────────────────────────────────────────────────────────────────────────────────────────────────────────────────────────────────────────────────────────────────────────────────────────────────────────────────────────────────────────────────────────────────────────────────────────────────────S────────────iSwap───────────────────iSwap─────────Z───────M('z')───\n",
       "                       │                │                                                                                                                                                                                                                                                                                                                                                                                                                                                         │                       │\n",
       "(0, 1): ───────────────iSwap^0.5────────iSwap^0.5─────────────────────────────────────────────────────────────────────────────────────────────────────────S───S^-1───iSwap────────────────────iSwap────────T───X^0.5───Z^0.75───T────────X^0.5────T^-1──────────────────────────────────────────────────────────────────────────────────────────────────────PhX(0.0592)──────────────────iSwap───────────────────────iSwap────────────────────────────────────────────────────────────────────────iSwap^0.5───────────────iSwap^0.5─────S────────────────\n",
       "                                                                                                                                                                     │                        │                                                                                                                                                                                          │                           │\n",
       "(0, 2): ───────────────PhX(-0.25)^0.5─────────────────────────────────────────────Z^-0.145───iSwap───────iSwap───────T───────────────X^0.75───────────S──────────────┼────────────────────────┼─────────────────────────────────X^-0.5─────────────────────────────────────────────────────────────────────────────────────────────────────────────────────────────────────PhX(0.25)^-0.5┼───────────────────────────┼───────────────────────────────────────────────PhX(-0.00809)───iSwap───────────────────iSwap────────Z^-0.75───────X^0.5───Z^0.75───\n",
       "                                                                                             │           │                                                           │                        │                                                                                                                                                                                          │                           │                                                               │                       │\n",
       "(1, 0): ────────────────────────────────PhX(0)^0.5───────────────────────────────────────────┼───────────┼───────────PhX(0.75)^0.5───────────────────────────────────┼────────────PhX(0.5)^0.5┼──────────────────────────────────────────Y^-0.5──────────────────────────────────────────────────────────────────────────────────────────────────────────────────────────────────────────┼─────────────PhX(0.75)^-0.5┼───────────────────────────────────────────────────────────────┼────────────PhX(0)^-0.5┼───────────────────────────────────────────\n",
       "                                                                                             │           │                                                           │                        │                                                                                                                                                                                          │                           │                                                               │                       │\n",
       "(1, 1): ─────────────────────────────────────────────PhX(1)^0.5──────────────────────────────┼───────────┼───────────────────────────PhX(-0.75)^0.5──────────────────iSwap^0.5────────────────iSwap^0.5────S───Y^0.5─────────────────────Y^0.5───────────────────────────────────────────────────────────────────────────────────────────────────────────────────────────────────────────iSwap^0.5───────────────────iSwap^0.5────Z^-0.868───X^0.5─────────Z^-0.75───────────────────┼───────────────────────┼────────────PhX(1)^-0.5────────────────────\n",
       "                                                                                             │           │                                                                                                                                                                                                                                                                                                                                                                           │                       │\n",
       "(1, 2): ──────────────────────────────────────────────────────────PhX(0.75)^0.5──────────────iSwap^0.5───iSwap^0.5───Z^-0.355────────X^0.5───────────────────────────────────────────────────────────────────────────────────────────────────────────────────────────PhX(0)^0.5───────────────────PhX(0)^-0.5───────────────────────────PhX(0.5)^-0.5────────────────────────────────────────────────────────────────────────────────────────PhX(0)^-0.5─────────────────────────────iSwap^0.5───────────────iSwap^0.5────Z^0.766───────X^0.5───Z^0.75───\n",
       "                                                                                                                                                                                 └─────────────────────┘                                                                                                                                                                  └───────────────────────┘   └───────────────────────┘                                                                  └────────────────────┘"
      ]
     },
     "execution_count": 12,
     "metadata": {},
     "output_type": "execute_result"
    }
   ],
   "source": [
    "circuit = cirq.eject_phased_paulis(circuit)\n",
    "circuit"
   ]
  },
  {
   "cell_type": "markdown",
   "metadata": {
    "id": "M1h-qJsb_5TG"
   },
   "source": [
    "Note that, for example, the back-to-back `cirq.X` gates on the ancilla have been removed from the start of the circuit."
   ]
  },
  {
   "cell_type": "markdown",
   "metadata": {
    "id": "oKcnKYTE-ms3"
   },
   "source": [
    "You can also use the `cirq.eject_z` optimizer to attempt to push `cirq.Z` gates towards the end of the circuit."
   ]
  },
  {
   "cell_type": "code",
   "execution_count": 13,
   "metadata": {
    "id": "eomQLGiMF9kY"
   },
   "outputs": [
    {
     "data": {
      "text/html": [
       "<pre style=\"overflow: auto; white-space: pre;\">                                                                                                                                                                               ┌─────────────────────┐                                                                                                                                                                                                 ┌───────────────────────┐   ┌───────────────────────┐                                                                ┌────────────────────┐\n",
       "(0, 0): ───────────S───iSwap────────────iSwap───────────────────────────────────────────────────────────────────────────────────────────────────────────────────────────────────────────────────────────────────────────────────────────────────────────────────────────────────────────────────────────────────────────────────────────────────────────────────────────────────────────────────────────────────────────────────────────────────────────────────────────────────────────────────────────────────S^-1─────────iSwap───────────────────iSwap───────────────────────────────M(&#x27;z&#x27;)─────\n",
       "                       │                │                                                                                                                                                                                                                                                                                                                                                                                                                                                                                    │                       │\n",
       "(0, 1): ───────────────iSwap^0.5────────iSwap^0.5──────────────────────────────────────────────────────────────────────────────────────────────────────────────────iSwap────────────────────iSwap────────────PhX(-0.25)^0.5─────────────────────────PhX(0.75)^0.5────────────────────────────────────────────────────────────────────────────────────────────────────────────────────PhX(-0.941)───Z──────────────────iSwap───────────────────────iSwap──────────────────────────────────────────────────────────────────────iSwap^0.5───────────────iSwap^0.5─────────S────────────────────────────\n",
       "                                                                                                                                                                   │                        │                                                                                                                                                                                                                         │                           │\n",
       "(0, 2): ───────────────PhX(-0.25)^0.5─────────────────────────────────────────────Z^-0.145───iSwap───────iSwap───────────────────────PhX(-0.25)^0.75───────────────┼────────────────────────┼─────────────────────────────────────PhX(-0.75)^-0.5───────────────────────────────────────────────────────────────────────────────────────────────────────────────────────────────────────────────────────PhX(-0.5)^-0.5┼───────────────────────────┼──────────────────────────────────────PhX(-0.758)───Z^0.75───iSwap───────────────────iSwap──────────────────────────PhX(0.75)^0.5────────────────\n",
       "                                                                                             │           │                                                         │                        │                                                                                                                                                                                                                         │                           │                                                             │                       │\n",
       "(1, 0): ────────────────────────────────PhX(0)^0.5───────────────────────────────────────────┼───────────┼───────────PhX(0.75)^0.5─────────────────────────────────┼────────────PhX(0.5)^0.5┼───────────────────────────────────────────────────────Y^-0.5────────────────────────────────────────────────────────────────────────────────────────────────────────────────────────────────────────────────────────────┼─────────────PhX(0.75)^-0.5┼─────────────────────────────────────────────────────────────┼────────────PhX(0)^-0.5┼───────────────────────────────────────────────────────────\n",
       "                                                                                             │           │                                                         │                        │                                                                                                                                                                                                                         │                           │                                                             │                       │\n",
       "(1, 1): ─────────────────────────────────────────────PhX(1)^0.5──────────────────────────────┼───────────┼───────────────────────────PhX(-0.75)^0.5────────────────iSwap^0.5────────────────iSwap^0.5────────PhX(0)^0.5─────────────────────────────PhX(0)^0.5───────────────────────────────────────────────────────────────────────────────────────────────────────────────────────S────────────────────────────────iSwap^0.5───────────────────iSwap^0.5────────PhX(0.868)^0.5───────────────────────────────┼───────────────────────┼────────────PhX(0.618)^-0.5───Z^0.382──────────────────────\n",
       "                                                                                             │           │                                                                                                                                                                                                                                                                                                                                                                                                      │                       │\n",
       "(1, 2): ──────────────────────────────────────────────────────────PhX(0.75)^0.5──────────────iSwap^0.5───iSwap^0.5───────────────────PhX(0.355)^0.5─────────────────────────────────────────────────────────────────────────────────────────────────────────────────────────────────PhX(0.355)^0.5───────────────────PhX(0.355)^-0.5───────────────────────────PhX(0.855)^-0.5─────────────────────────────────────────────────────────────────────────────────────PhX(0.355)^-0.5───────Z^-0.355───────────────iSwap^0.5───────────────iSwap^0.5──────────────────────PhX(-0.766)^0.5───Z^-0.484───\n",
       "                                                                                                                                                                               └─────────────────────┘                                                                                                                                                                                                 └───────────────────────┘   └───────────────────────┘                                                                └────────────────────┘</pre>"
      ],
      "text/plain": [
       "                                                                                                                                                                               ┌─────────────────────┐                                                                                                                                                                                                 ┌───────────────────────┐   ┌───────────────────────┐                                                                ┌────────────────────┐\n",
       "(0, 0): ───────────S───iSwap────────────iSwap───────────────────────────────────────────────────────────────────────────────────────────────────────────────────────────────────────────────────────────────────────────────────────────────────────────────────────────────────────────────────────────────────────────────────────────────────────────────────────────────────────────────────────────────────────────────────────────────────────────────────────────────────────────────────────────────────S^-1─────────iSwap───────────────────iSwap───────────────────────────────M('z')─────\n",
       "                       │                │                                                                                                                                                                                                                                                                                                                                                                                                                                                                                    │                       │\n",
       "(0, 1): ───────────────iSwap^0.5────────iSwap^0.5──────────────────────────────────────────────────────────────────────────────────────────────────────────────────iSwap────────────────────iSwap────────────PhX(-0.25)^0.5─────────────────────────PhX(0.75)^0.5────────────────────────────────────────────────────────────────────────────────────────────────────────────────────PhX(-0.941)───Z──────────────────iSwap───────────────────────iSwap──────────────────────────────────────────────────────────────────────iSwap^0.5───────────────iSwap^0.5─────────S────────────────────────────\n",
       "                                                                                                                                                                   │                        │                                                                                                                                                                                                                         │                           │\n",
       "(0, 2): ───────────────PhX(-0.25)^0.5─────────────────────────────────────────────Z^-0.145───iSwap───────iSwap───────────────────────PhX(-0.25)^0.75───────────────┼────────────────────────┼─────────────────────────────────────PhX(-0.75)^-0.5───────────────────────────────────────────────────────────────────────────────────────────────────────────────────────────────────────────────────────PhX(-0.5)^-0.5┼───────────────────────────┼──────────────────────────────────────PhX(-0.758)───Z^0.75───iSwap───────────────────iSwap──────────────────────────PhX(0.75)^0.5────────────────\n",
       "                                                                                             │           │                                                         │                        │                                                                                                                                                                                                                         │                           │                                                             │                       │\n",
       "(1, 0): ────────────────────────────────PhX(0)^0.5───────────────────────────────────────────┼───────────┼───────────PhX(0.75)^0.5─────────────────────────────────┼────────────PhX(0.5)^0.5┼───────────────────────────────────────────────────────Y^-0.5────────────────────────────────────────────────────────────────────────────────────────────────────────────────────────────────────────────────────────────┼─────────────PhX(0.75)^-0.5┼─────────────────────────────────────────────────────────────┼────────────PhX(0)^-0.5┼───────────────────────────────────────────────────────────\n",
       "                                                                                             │           │                                                         │                        │                                                                                                                                                                                                                         │                           │                                                             │                       │\n",
       "(1, 1): ─────────────────────────────────────────────PhX(1)^0.5──────────────────────────────┼───────────┼───────────────────────────PhX(-0.75)^0.5────────────────iSwap^0.5────────────────iSwap^0.5────────PhX(0)^0.5─────────────────────────────PhX(0)^0.5───────────────────────────────────────────────────────────────────────────────────────────────────────────────────────S────────────────────────────────iSwap^0.5───────────────────iSwap^0.5────────PhX(0.868)^0.5───────────────────────────────┼───────────────────────┼────────────PhX(0.618)^-0.5───Z^0.382──────────────────────\n",
       "                                                                                             │           │                                                                                                                                                                                                                                                                                                                                                                                                      │                       │\n",
       "(1, 2): ──────────────────────────────────────────────────────────PhX(0.75)^0.5──────────────iSwap^0.5───iSwap^0.5───────────────────PhX(0.355)^0.5─────────────────────────────────────────────────────────────────────────────────────────────────────────────────────────────────PhX(0.355)^0.5───────────────────PhX(0.355)^-0.5───────────────────────────PhX(0.855)^-0.5─────────────────────────────────────────────────────────────────────────────────────PhX(0.355)^-0.5───────Z^-0.355───────────────iSwap^0.5───────────────iSwap^0.5──────────────────────PhX(-0.766)^0.5───Z^-0.484───\n",
       "                                                                                                                                                                               └─────────────────────┘                                                                                                                                                                                                 └───────────────────────┘   └───────────────────────┘                                                                └────────────────────┘"
      ]
     },
     "execution_count": 13,
     "metadata": {},
     "output_type": "execute_result"
    }
   ],
   "source": [
    "circuit = cirq.eject_z(circuit)\n",
    "circuit"
   ]
  },
  {
   "cell_type": "markdown",
   "metadata": {
    "id": "ydUlul4NE_Eu"
   },
   "source": [
    "Note that, for example, the `cirq.Z` gate immediately before the ancilla measurement has been removed."
   ]
  },
  {
   "cell_type": "markdown",
   "metadata": {
    "id": "824RLaxrVbnH"
   },
   "source": [
    "### Align gates in moments"
   ]
  },
  {
   "cell_type": "markdown",
   "metadata": {
    "id": "2o8l3r1NGT_T"
   },
   "source": [
    "After optimizing, gates should be aligned into `cirq.Moment`s to satisfy the following criteria:\n",
    "\n",
    "- The fewer moments the better (generally speaking).\n",
    "  - Each moment is a discrete time slice, so fewer moments means shorter circuit execution time.\n",
    "\n",
    "- Moments should consist of gates with similar durations.\n",
    "  - Otherwise some qubits will be idle for part of the moment.\n",
    "  - It's best to align one-qubit gates in their own moment and two-qubit gates in their own moment if possible.\n",
    "\n",
    "- All measurements should be terminal and in a single moment.\n",
    "  - Intermediate measurements are not currently supported, and measurement operation times are roughly two orders of magnitude longer than other gate times (see the above cell which prints out gatesets and gate times).\n"
   ]
  },
  {
   "cell_type": "markdown",
   "metadata": {
    "id": "q66K76iTG23G"
   },
   "source": [
    "To align gates into moments and push them as far left as possible, use `cirq.align_left`."
   ]
  },
  {
   "cell_type": "code",
   "execution_count": 14,
   "metadata": {
    "id": "MhFYbG0WGUML"
   },
   "outputs": [
    {
     "data": {
      "text/html": [
       "<pre style=\"overflow: auto; white-space: pre;\">                                             ┌─────────────────────┐   ┌────────────────────────┐   ┌────────────────────────┐                                                                                       ┌──────────────────┐   ┌───────────────────────┐\n",
       "(0, 0): ───S────────────────iSwap─────────────iSwap─────────────────────S^-1─────────────────────────────────────────────────────────────────────────────────────────────────────────────────────────────────────────────────────────────────iSwap──────────────────────iSwap─────────────M(&#x27;z&#x27;)─────\n",
       "                            │                 │                                                                                                                                                                                              │                          │\n",
       "(0, 1): ────────────────────iSwap^0.5─────────iSwap^0.5──────────────────────────iSwap──────────────────────────────iSwap────────PhX(-0.25)^0.5────PhX(0.75)^0.5─────PhX(-0.941)───────Z─────────────────iSwap────────iSwap──────────────────iSwap^0.5──────────────────iSwap^0.5─────────S──────────\n",
       "                                                                                 │                                  │                                                                                    │            │\n",
       "(0, 2): ───PhX(-0.25)^0.5───Z^-0.145──────────iSwap─────────────────────iSwap────┼───────────────────PhX(-0.25)^0.75┼────────────PhX(-0.75)^-0.5───PhX(-0.5)^-0.5────PhX(-0.758)───────Z^0.75────────────┼────────────┼────────iSwap───────────────────────iSwap────────PhX(0.75)^0.5────────────────\n",
       "                                              │                         │        │                                  │                                                                                    │            │        │                           │\n",
       "(1, 0): ───PhX(0)^0.5───────PhX(0.75)^0.5─────┼────────PhX(0.5)^0.5─────┼────────┼────────Y^-0.5─────PhX(0.75)^-0.5─┼────────────PhX(0)^-0.5─────────────────────────────────────────────────────────────┼────────────┼────────┼───────────────────────────┼─────────────────────────────────────────\n",
       "                                              │                         │        │                                  │                                                                                    │            │        │                           │\n",
       "(1, 1): ───PhX(1)^0.5───────PhX(-0.75)^0.5────┼─────────────────────────┼────────iSwap^0.5──────────────────────────iSwap^0.5────PhX(0)^0.5────────PhX(0)^0.5────────S───────────────────────────────────iSwap^0.5────iSwap^0.5┼─────────────PhX(0.868)^0.5┼────────────PhX(0.618)^-0.5───Z^0.382────\n",
       "                                              │                         │                                                                                                                                                      │                           │\n",
       "(1, 2): ───PhX(0.75)^0.5──────────────────────iSwap^0.5─────────────────iSwap^0.5────────────────────PhX(0.355)^0.5──────────────PhX(0.355)^0.5────PhX(0.355)^-0.5───PhX(0.855)^-0.5───PhX(0.355)^-0.5───Z^-0.355──────────────iSwap^0.5───────────────────iSwap^0.5────PhX(-0.766)^0.5───Z^-0.484───\n",
       "                                             └─────────────────────┘   └────────────────────────┘   └────────────────────────┘                                                                                       └──────────────────┘   └───────────────────────┘</pre>"
      ],
      "text/plain": [
       "                                             ┌─────────────────────┐   ┌────────────────────────┐   ┌────────────────────────┐                                                                                       ┌──────────────────┐   ┌───────────────────────┐\n",
       "(0, 0): ───S────────────────iSwap─────────────iSwap─────────────────────S^-1─────────────────────────────────────────────────────────────────────────────────────────────────────────────────────────────────────────────────────────────────iSwap──────────────────────iSwap─────────────M('z')─────\n",
       "                            │                 │                                                                                                                                                                                              │                          │\n",
       "(0, 1): ────────────────────iSwap^0.5─────────iSwap^0.5──────────────────────────iSwap──────────────────────────────iSwap────────PhX(-0.25)^0.5────PhX(0.75)^0.5─────PhX(-0.941)───────Z─────────────────iSwap────────iSwap──────────────────iSwap^0.5──────────────────iSwap^0.5─────────S──────────\n",
       "                                                                                 │                                  │                                                                                    │            │\n",
       "(0, 2): ───PhX(-0.25)^0.5───Z^-0.145──────────iSwap─────────────────────iSwap────┼───────────────────PhX(-0.25)^0.75┼────────────PhX(-0.75)^-0.5───PhX(-0.5)^-0.5────PhX(-0.758)───────Z^0.75────────────┼────────────┼────────iSwap───────────────────────iSwap────────PhX(0.75)^0.5────────────────\n",
       "                                              │                         │        │                                  │                                                                                    │            │        │                           │\n",
       "(1, 0): ───PhX(0)^0.5───────PhX(0.75)^0.5─────┼────────PhX(0.5)^0.5─────┼────────┼────────Y^-0.5─────PhX(0.75)^-0.5─┼────────────PhX(0)^-0.5─────────────────────────────────────────────────────────────┼────────────┼────────┼───────────────────────────┼─────────────────────────────────────────\n",
       "                                              │                         │        │                                  │                                                                                    │            │        │                           │\n",
       "(1, 1): ───PhX(1)^0.5───────PhX(-0.75)^0.5────┼─────────────────────────┼────────iSwap^0.5──────────────────────────iSwap^0.5────PhX(0)^0.5────────PhX(0)^0.5────────S───────────────────────────────────iSwap^0.5────iSwap^0.5┼─────────────PhX(0.868)^0.5┼────────────PhX(0.618)^-0.5───Z^0.382────\n",
       "                                              │                         │                                                                                                                                                      │                           │\n",
       "(1, 2): ───PhX(0.75)^0.5──────────────────────iSwap^0.5─────────────────iSwap^0.5────────────────────PhX(0.355)^0.5──────────────PhX(0.355)^0.5────PhX(0.355)^-0.5───PhX(0.855)^-0.5───PhX(0.355)^-0.5───Z^-0.355──────────────iSwap^0.5───────────────────iSwap^0.5────PhX(-0.766)^0.5───Z^-0.484───\n",
       "                                             └─────────────────────┘   └────────────────────────┘   └────────────────────────┘                                                                                       └──────────────────┘   └───────────────────────┘"
      ]
     },
     "execution_count": 14,
     "metadata": {},
     "output_type": "execute_result"
    }
   ],
   "source": [
    "left_aligned_circuit = cirq.align_left(circuit)\n",
    "left_aligned_circuit"
   ]
  },
  {
   "cell_type": "markdown",
   "metadata": {
    "id": "J537zBXPHny4"
   },
   "source": [
    "Note: Optimizers can cause terminal measurements to become misaligned, but this can be fixed with `cirq.synchronize_terminal_measurements` as discussed below."
   ]
  },
  {
   "cell_type": "markdown",
   "metadata": {
    "id": "dectZpWqHMFL"
   },
   "source": [
    "Note how many fewer moments this aligned circuit has."
   ]
  },
  {
   "cell_type": "code",
   "execution_count": 15,
   "metadata": {
    "id": "o-MDeT-wHa97"
   },
   "outputs": [
    {
     "name": "stdout",
     "output_type": "stream",
     "text": [
      "Original circuit has 54 moments.\n",
      "Aligned circuit has 14 moments.\n"
     ]
    }
   ],
   "source": [
    "print(f\"Original circuit has {len(circuit)} moments.\")\n",
    "print(f\"Aligned circuit has {len(left_aligned_circuit)} moments.\")"
   ]
  },
  {
   "cell_type": "markdown",
   "metadata": {
    "id": "v7VhDhlOHQuQ"
   },
   "source": [
    "You can also align gates and push them to the right with `cirq.align_right`."
   ]
  },
  {
   "cell_type": "code",
   "execution_count": 16,
   "metadata": {
    "id": "NOcRIJacGihn"
   },
   "outputs": [
    {
     "data": {
      "text/html": [
       "<pre style=\"overflow: auto; white-space: pre;\">                                            ┌───────────────────────┐   ┌──────────────────┐                                                                                            ┌──────────────────────┐   ┌──────────────────────────────┐   ┌───────────────────────┐\n",
       "(0, 0): ───S────────────────iSwap────────────iSwap──────────────────────────────────────────────────────────────────────────────────────────────────────────────────────────────────────────────────────────────────S^-1───────────────────────────────iSwap──────────────────────iSwap─────────────M(&#x27;z&#x27;)──────────\n",
       "                            │                │                                                                                                                                                                                                         │                          │\n",
       "(0, 1): ────────────────────iSwap^0.5────────iSwap^0.5───────────────────iSwap─────────────────iSwap────────────PhX(-0.25)^0.5────PhX(0.75)^0.5─────PhX(-0.941)───────Z───────────────────────────────iSwap──────────────────iSwap─────────────────────iSwap^0.5──────────────────iSwap^0.5─────────S───────────────\n",
       "                                                                         │                     │                                                                                                      │                      │\n",
       "(0, 2): ───PhX(-0.25)^0.5───Z^-0.145───────────────────────iSwap─────────┼────────iSwap────────┼────────────────PhX(-0.25)^0.75───PhX(-0.75)^-0.5───PhX(-0.5)^-0.5────PhX(-0.758)────────Z^0.75───────┼─────────────iSwap────┼─────────────────────────iSwap────────────────────────────────────────PhX(0.75)^0.5───\n",
       "                                                           │             │        │            │                                                                                                      │             │        │                         │\n",
       "(1, 0): ───────────────────────────────────────────────────┼─────────────┼────────┼────────────┼──────────────────────────────────────────────────────────────────────PhX(0)^0.5─────────PhX(0.75)^0.5┼─────────────┼────────┼────────PhX(0.5)^0.5─────┼────────Y^-0.5────────────PhX(0.75)^-0.5────PhX(0)^-0.5─────\n",
       "                                                           │             │        │            │                                                                                                      │             │        │                         │\n",
       "(1, 1): ────────────────────PhX(1)^0.5───────PhX(-0.75)^0.5┼─────────────iSwap^0.5┼────────────iSwap^0.5──────────────────────────PhX(0)^0.5────────PhX(0)^0.5────────S───────────────────────────────iSwap^0.5─────┼────────iSwap^0.5─────────────────┼────────PhX(0.868)^0.5────PhX(0.618)^-0.5───Z^0.382─────────\n",
       "                                                           │                      │                                                                                                                                 │                                  │\n",
       "(1, 2): ────────────────────PhX(0.75)^0.5──────────────────iSwap^0.5──────────────iSwap^0.5────PhX(0.355)^0.5───PhX(0.355)^0.5────PhX(0.355)^-0.5───PhX(0.855)^-0.5───PhX(0.355)^-0.5────Z^-0.355───────────────────iSwap^0.5──────────────────────────iSwap^0.5──────────────────PhX(-0.766)^0.5───Z^-0.484────────\n",
       "                                            └───────────────────────┘   └──────────────────┘                                                                                            └──────────────────────┘   └──────────────────────────────┘   └───────────────────────┘</pre>"
      ],
      "text/plain": [
       "                                            ┌───────────────────────┐   ┌──────────────────┐                                                                                            ┌──────────────────────┐   ┌──────────────────────────────┐   ┌───────────────────────┐\n",
       "(0, 0): ───S────────────────iSwap────────────iSwap──────────────────────────────────────────────────────────────────────────────────────────────────────────────────────────────────────────────────────────────────S^-1───────────────────────────────iSwap──────────────────────iSwap─────────────M('z')──────────\n",
       "                            │                │                                                                                                                                                                                                         │                          │\n",
       "(0, 1): ────────────────────iSwap^0.5────────iSwap^0.5───────────────────iSwap─────────────────iSwap────────────PhX(-0.25)^0.5────PhX(0.75)^0.5─────PhX(-0.941)───────Z───────────────────────────────iSwap──────────────────iSwap─────────────────────iSwap^0.5──────────────────iSwap^0.5─────────S───────────────\n",
       "                                                                         │                     │                                                                                                      │                      │\n",
       "(0, 2): ───PhX(-0.25)^0.5───Z^-0.145───────────────────────iSwap─────────┼────────iSwap────────┼────────────────PhX(-0.25)^0.75───PhX(-0.75)^-0.5───PhX(-0.5)^-0.5────PhX(-0.758)────────Z^0.75───────┼─────────────iSwap────┼─────────────────────────iSwap────────────────────────────────────────PhX(0.75)^0.5───\n",
       "                                                           │             │        │            │                                                                                                      │             │        │                         │\n",
       "(1, 0): ───────────────────────────────────────────────────┼─────────────┼────────┼────────────┼──────────────────────────────────────────────────────────────────────PhX(0)^0.5─────────PhX(0.75)^0.5┼─────────────┼────────┼────────PhX(0.5)^0.5─────┼────────Y^-0.5────────────PhX(0.75)^-0.5────PhX(0)^-0.5─────\n",
       "                                                           │             │        │            │                                                                                                      │             │        │                         │\n",
       "(1, 1): ────────────────────PhX(1)^0.5───────PhX(-0.75)^0.5┼─────────────iSwap^0.5┼────────────iSwap^0.5──────────────────────────PhX(0)^0.5────────PhX(0)^0.5────────S───────────────────────────────iSwap^0.5─────┼────────iSwap^0.5─────────────────┼────────PhX(0.868)^0.5────PhX(0.618)^-0.5───Z^0.382─────────\n",
       "                                                           │                      │                                                                                                                                 │                                  │\n",
       "(1, 2): ────────────────────PhX(0.75)^0.5──────────────────iSwap^0.5──────────────iSwap^0.5────PhX(0.355)^0.5───PhX(0.355)^0.5────PhX(0.355)^-0.5───PhX(0.855)^-0.5───PhX(0.355)^-0.5────Z^-0.355───────────────────iSwap^0.5──────────────────────────iSwap^0.5──────────────────PhX(-0.766)^0.5───Z^-0.484────────\n",
       "                                            └───────────────────────┘   └──────────────────┘                                                                                            └──────────────────────┘   └──────────────────────────────┘   └───────────────────────┘"
      ]
     },
     "execution_count": 16,
     "metadata": {},
     "output_type": "execute_result"
    }
   ],
   "source": [
    "right_aligned_circuit = cirq.align_right(circuit)\n",
    "right_aligned_circuit"
   ]
  },
  {
   "cell_type": "markdown",
   "metadata": {
    "id": "R9SbfOfPVdMv"
   },
   "source": [
    "Also, you can use `cirq.stratified_circuit` to align operations into similar categories. For example, you can align single-qubit and two-qubit operations in separate moments as follows."
   ]
  },
  {
   "cell_type": "code",
   "execution_count": 17,
   "metadata": {
    "id": "7LRQ3WooVd1Z"
   },
   "outputs": [
    {
     "data": {
      "text/html": [
       "<pre style=\"overflow: auto; white-space: pre;\">                                                                                    ┌──────────────────┐                                                                                                                                ┌──────────────────┐\n",
       "(0, 0): ───S────────────────iSwap────────────────────────iSwap───────S^-1───────────────────────────────────────────────────────────────────────────────────────────────────────────────────────────────────────────────────────────────────────────────────────────────────────iSwap─────────────────────────iSwap───────M(&#x27;z&#x27;)─────\n",
       "                            │                            │                                                                                                                                                                                                                      │                             │\n",
       "(0, 1): ────────────────────iSwap^0.5────────────────────iSwap^0.5────────────────────────────iSwap──────────────────────────iSwap───────PhX(-0.25)^0.5────PhX(0.75)^0.5─────PhX(-0.941)───────Z─────────────────iSwap───────────────────iSwap──────────────────────────────────iSwap^0.5─────────────────────iSwap^0.5───S──────────\n",
       "                                                                                              │                              │                                                                                   │                       │\n",
       "(0, 2): ───PhX(-0.25)^0.5───────────────Z^-0.145─────────iSwap───────────────────────iSwap────┼────────────PhX(-0.25)^0.75───┼───────────PhX(-0.75)^-0.5───PhX(-0.5)^-0.5────PhX(-0.758)───────Z^0.75────────────┼───────────────────────┼────────iSwap─────────────────────────iSwap───────PhX(0.75)^0.5────────────────────────────\n",
       "                                                         │                           │        │                              │                                                                                   │                       │        │                             │\n",
       "(1, 0): ───PhX(0)^0.5───────────────────PhX(0.75)^0.5────┼───────────PhX(0.5)^0.5────┼────────┼────────────Y^-0.5────────────┼───────────PhX(0.75)^-0.5────PhX(0)^-0.5───────────────────────────────────────────┼───────────────────────┼────────┼─────────────────────────────┼────────────────────────────────────────────────────\n",
       "                                                         │                           │        │                              │                                                                                   │                       │        │                             │\n",
       "(1, 1): ───PhX(1)^0.5───────────────────PhX(-0.75)^0.5───┼───────────────────────────┼────────iSwap^0.5──────────────────────iSwap^0.5───PhX(0)^0.5────────PhX(0)^0.5────────S───────────────────────────────────iSwap^0.5───────────────iSwap^0.5┼────────────PhX(0.868)^0.5───┼───────────PhX(0.618)^-0.5───────────────Z^0.382────\n",
       "                                                         │                           │                                                                                                                                                            │                             │\n",
       "(1, 2): ───PhX(0.75)^0.5─────────────────────────────────iSwap^0.5───────────────────iSwap^0.5─────────────PhX(0.355)^0.5────────────────PhX(0.355)^0.5────PhX(0.355)^-0.5───PhX(0.855)^-0.5───PhX(0.355)^-0.5───────────────Z^-0.355─────────────iSwap^0.5─────────────────────iSwap^0.5───PhX(-0.766)^0.5───────────────Z^-0.484───\n",
       "                                                                                    └──────────────────┘                                                                                                                                └──────────────────┘</pre>"
      ],
      "text/plain": [
       "                                                                                    ┌──────────────────┐                                                                                                                                ┌──────────────────┐\n",
       "(0, 0): ───S────────────────iSwap────────────────────────iSwap───────S^-1───────────────────────────────────────────────────────────────────────────────────────────────────────────────────────────────────────────────────────────────────────────────────────────────────────iSwap─────────────────────────iSwap───────M('z')─────\n",
       "                            │                            │                                                                                                                                                                                                                      │                             │\n",
       "(0, 1): ────────────────────iSwap^0.5────────────────────iSwap^0.5────────────────────────────iSwap──────────────────────────iSwap───────PhX(-0.25)^0.5────PhX(0.75)^0.5─────PhX(-0.941)───────Z─────────────────iSwap───────────────────iSwap──────────────────────────────────iSwap^0.5─────────────────────iSwap^0.5───S──────────\n",
       "                                                                                              │                              │                                                                                   │                       │\n",
       "(0, 2): ───PhX(-0.25)^0.5───────────────Z^-0.145─────────iSwap───────────────────────iSwap────┼────────────PhX(-0.25)^0.75───┼───────────PhX(-0.75)^-0.5───PhX(-0.5)^-0.5────PhX(-0.758)───────Z^0.75────────────┼───────────────────────┼────────iSwap─────────────────────────iSwap───────PhX(0.75)^0.5────────────────────────────\n",
       "                                                         │                           │        │                              │                                                                                   │                       │        │                             │\n",
       "(1, 0): ───PhX(0)^0.5───────────────────PhX(0.75)^0.5────┼───────────PhX(0.5)^0.5────┼────────┼────────────Y^-0.5────────────┼───────────PhX(0.75)^-0.5────PhX(0)^-0.5───────────────────────────────────────────┼───────────────────────┼────────┼─────────────────────────────┼────────────────────────────────────────────────────\n",
       "                                                         │                           │        │                              │                                                                                   │                       │        │                             │\n",
       "(1, 1): ───PhX(1)^0.5───────────────────PhX(-0.75)^0.5───┼───────────────────────────┼────────iSwap^0.5──────────────────────iSwap^0.5───PhX(0)^0.5────────PhX(0)^0.5────────S───────────────────────────────────iSwap^0.5───────────────iSwap^0.5┼────────────PhX(0.868)^0.5───┼───────────PhX(0.618)^-0.5───────────────Z^0.382────\n",
       "                                                         │                           │                                                                                                                                                            │                             │\n",
       "(1, 2): ───PhX(0.75)^0.5─────────────────────────────────iSwap^0.5───────────────────iSwap^0.5─────────────PhX(0.355)^0.5────────────────PhX(0.355)^0.5────PhX(0.355)^-0.5───PhX(0.855)^-0.5───PhX(0.355)^-0.5───────────────Z^-0.355─────────────iSwap^0.5─────────────────────iSwap^0.5───PhX(-0.766)^0.5───────────────Z^-0.484───\n",
       "                                                                                    └──────────────────┘                                                                                                                                └──────────────────┘"
      ]
     },
     "execution_count": 17,
     "metadata": {},
     "output_type": "execute_result"
    }
   ],
   "source": [
    "circuit = cirq.stratified_circuit(\n",
    "    circuit, categories=[lambda op : len(op.qubits) == 1, lambda op : len(op.qubits) == 2]\n",
    ")\n",
    "circuit"
   ]
  },
  {
   "cell_type": "markdown",
   "metadata": {
    "id": "Z7U3Bu37Q0Hz"
   },
   "source": [
    "Note that each moment now only contains single-qubit gates or two-qubit gates."
   ]
  },
  {
   "cell_type": "markdown",
   "metadata": {
    "id": "V1dZEX6uHIhD"
   },
   "source": [
    "#### Drop moments"
   ]
  },
  {
   "cell_type": "markdown",
   "metadata": {
    "id": "yFRC4G8hI8W-"
   },
   "source": [
    "To drop moments that have a tiny effect or moments that are empty, you can use the following optimizers."
   ]
  },
  {
   "cell_type": "code",
   "execution_count": 18,
   "metadata": {
    "id": "lUoGe6sAHItP"
   },
   "outputs": [
    {
     "data": {
      "text/html": [
       "<pre style=\"overflow: auto; white-space: pre;\">                                                                                    ┌──────────────────┐                                                                                                                                ┌──────────────────┐\n",
       "(0, 0): ───S────────────────iSwap────────────────────────iSwap───────S^-1───────────────────────────────────────────────────────────────────────────────────────────────────────────────────────────────────────────────────────────────────────────────────────────────────────iSwap─────────────────────────iSwap───────M(&#x27;z&#x27;)─────\n",
       "                            │                            │                                                                                                                                                                                                                      │                             │\n",
       "(0, 1): ────────────────────iSwap^0.5────────────────────iSwap^0.5────────────────────────────iSwap──────────────────────────iSwap───────PhX(-0.25)^0.5────PhX(0.75)^0.5─────PhX(-0.941)───────Z─────────────────iSwap───────────────────iSwap──────────────────────────────────iSwap^0.5─────────────────────iSwap^0.5───S──────────\n",
       "                                                                                              │                              │                                                                                   │                       │\n",
       "(0, 2): ───PhX(-0.25)^0.5───────────────Z^-0.145─────────iSwap───────────────────────iSwap────┼────────────PhX(-0.25)^0.75───┼───────────PhX(-0.75)^-0.5───PhX(-0.5)^-0.5────PhX(-0.758)───────Z^0.75────────────┼───────────────────────┼────────iSwap─────────────────────────iSwap───────PhX(0.75)^0.5────────────────────────────\n",
       "                                                         │                           │        │                              │                                                                                   │                       │        │                             │\n",
       "(1, 0): ───PhX(0)^0.5───────────────────PhX(0.75)^0.5────┼───────────PhX(0.5)^0.5────┼────────┼────────────Y^-0.5────────────┼───────────PhX(0.75)^-0.5────PhX(0)^-0.5───────────────────────────────────────────┼───────────────────────┼────────┼─────────────────────────────┼────────────────────────────────────────────────────\n",
       "                                                         │                           │        │                              │                                                                                   │                       │        │                             │\n",
       "(1, 1): ───PhX(1)^0.5───────────────────PhX(-0.75)^0.5───┼───────────────────────────┼────────iSwap^0.5──────────────────────iSwap^0.5───PhX(0)^0.5────────PhX(0)^0.5────────S───────────────────────────────────iSwap^0.5───────────────iSwap^0.5┼────────────PhX(0.868)^0.5───┼───────────PhX(0.618)^-0.5───────────────Z^0.382────\n",
       "                                                         │                           │                                                                                                                                                            │                             │\n",
       "(1, 2): ───PhX(0.75)^0.5─────────────────────────────────iSwap^0.5───────────────────iSwap^0.5─────────────PhX(0.355)^0.5────────────────PhX(0.355)^0.5────PhX(0.355)^-0.5───PhX(0.855)^-0.5───PhX(0.355)^-0.5───────────────Z^-0.355─────────────iSwap^0.5─────────────────────iSwap^0.5───PhX(-0.766)^0.5───────────────Z^-0.484───\n",
       "                                                                                    └──────────────────┘                                                                                                                                └──────────────────┘</pre>"
      ],
      "text/plain": [
       "                                                                                    ┌──────────────────┐                                                                                                                                ┌──────────────────┐\n",
       "(0, 0): ───S────────────────iSwap────────────────────────iSwap───────S^-1───────────────────────────────────────────────────────────────────────────────────────────────────────────────────────────────────────────────────────────────────────────────────────────────────────iSwap─────────────────────────iSwap───────M('z')─────\n",
       "                            │                            │                                                                                                                                                                                                                      │                             │\n",
       "(0, 1): ────────────────────iSwap^0.5────────────────────iSwap^0.5────────────────────────────iSwap──────────────────────────iSwap───────PhX(-0.25)^0.5────PhX(0.75)^0.5─────PhX(-0.941)───────Z─────────────────iSwap───────────────────iSwap──────────────────────────────────iSwap^0.5─────────────────────iSwap^0.5───S──────────\n",
       "                                                                                              │                              │                                                                                   │                       │\n",
       "(0, 2): ───PhX(-0.25)^0.5───────────────Z^-0.145─────────iSwap───────────────────────iSwap────┼────────────PhX(-0.25)^0.75───┼───────────PhX(-0.75)^-0.5───PhX(-0.5)^-0.5────PhX(-0.758)───────Z^0.75────────────┼───────────────────────┼────────iSwap─────────────────────────iSwap───────PhX(0.75)^0.5────────────────────────────\n",
       "                                                         │                           │        │                              │                                                                                   │                       │        │                             │\n",
       "(1, 0): ───PhX(0)^0.5───────────────────PhX(0.75)^0.5────┼───────────PhX(0.5)^0.5────┼────────┼────────────Y^-0.5────────────┼───────────PhX(0.75)^-0.5────PhX(0)^-0.5───────────────────────────────────────────┼───────────────────────┼────────┼─────────────────────────────┼────────────────────────────────────────────────────\n",
       "                                                         │                           │        │                              │                                                                                   │                       │        │                             │\n",
       "(1, 1): ───PhX(1)^0.5───────────────────PhX(-0.75)^0.5───┼───────────────────────────┼────────iSwap^0.5──────────────────────iSwap^0.5───PhX(0)^0.5────────PhX(0)^0.5────────S───────────────────────────────────iSwap^0.5───────────────iSwap^0.5┼────────────PhX(0.868)^0.5───┼───────────PhX(0.618)^-0.5───────────────Z^0.382────\n",
       "                                                         │                           │                                                                                                                                                            │                             │\n",
       "(1, 2): ───PhX(0.75)^0.5─────────────────────────────────iSwap^0.5───────────────────iSwap^0.5─────────────PhX(0.355)^0.5────────────────PhX(0.355)^0.5────PhX(0.355)^-0.5───PhX(0.855)^-0.5───PhX(0.355)^-0.5───────────────Z^-0.355─────────────iSwap^0.5─────────────────────iSwap^0.5───PhX(-0.766)^0.5───────────────Z^-0.484───\n",
       "                                                                                    └──────────────────┘                                                                                                                                └──────────────────┘"
      ]
     },
     "execution_count": 18,
     "metadata": {},
     "output_type": "execute_result"
    }
   ],
   "source": [
    "circuit = cirq.drop_negligible_operations(circuit)\n",
    "circuit = cirq.drop_empty_moments(circuit)\n",
    "circuit"
   ]
  },
  {
   "cell_type": "markdown",
   "metadata": {
    "id": "YdXaElSeIk3K"
   },
   "source": [
    "#### Synchronize terminal measurements"
   ]
  },
  {
   "cell_type": "markdown",
   "metadata": {
    "id": "q0J0zRqjKKhP"
   },
   "source": [
    "You can use the `cirq.synchronize_terminal_measurements` to move all measurements to the final moment if it can accommodate them (without overlapping with other operations)."
   ]
  },
  {
   "cell_type": "code",
   "execution_count": 19,
   "metadata": {
    "id": "0ZrpvUJyHzNh"
   },
   "outputs": [
    {
     "data": {
      "text/html": [
       "<pre style=\"overflow: auto; white-space: pre;\">                                                                                    ┌──────────────────┐                                                                                                                                ┌──────────────────┐\n",
       "(0, 0): ───S────────────────iSwap────────────────────────iSwap───────S^-1───────────────────────────────────────────────────────────────────────────────────────────────────────────────────────────────────────────────────────────────────────────────────────────────────────iSwap─────────────────────────iSwap──────────────────M(&#x27;z&#x27;)───\n",
       "                            │                            │                                                                                                                                                                                                                      │                             │\n",
       "(0, 1): ────────────────────iSwap^0.5────────────────────iSwap^0.5────────────────────────────iSwap──────────────────────────iSwap───────PhX(-0.25)^0.5────PhX(0.75)^0.5─────PhX(-0.941)───────Z─────────────────iSwap───────────────────iSwap──────────────────────────────────iSwap^0.5─────────────────────iSwap^0.5───S───────────────────\n",
       "                                                                                              │                              │                                                                                   │                       │\n",
       "(0, 2): ───PhX(-0.25)^0.5───────────────Z^-0.145─────────iSwap───────────────────────iSwap────┼────────────PhX(-0.25)^0.75───┼───────────PhX(-0.75)^-0.5───PhX(-0.5)^-0.5────PhX(-0.758)───────Z^0.75────────────┼───────────────────────┼────────iSwap─────────────────────────iSwap───────PhX(0.75)^0.5─────────────────────────────────────\n",
       "                                                         │                           │        │                              │                                                                                   │                       │        │                             │\n",
       "(1, 0): ───PhX(0)^0.5───────────────────PhX(0.75)^0.5────┼───────────PhX(0.5)^0.5────┼────────┼────────────Y^-0.5────────────┼───────────PhX(0.75)^-0.5────PhX(0)^-0.5───────────────────────────────────────────┼───────────────────────┼────────┼─────────────────────────────┼─────────────────────────────────────────────────────────────\n",
       "                                                         │                           │        │                              │                                                                                   │                       │        │                             │\n",
       "(1, 1): ───PhX(1)^0.5───────────────────PhX(-0.75)^0.5───┼───────────────────────────┼────────iSwap^0.5──────────────────────iSwap^0.5───PhX(0)^0.5────────PhX(0)^0.5────────S───────────────────────────────────iSwap^0.5───────────────iSwap^0.5┼────────────PhX(0.868)^0.5───┼───────────PhX(0.618)^-0.5───────────────Z^0.382─────────────\n",
       "                                                         │                           │                                                                                                                                                            │                             │\n",
       "(1, 2): ───PhX(0.75)^0.5─────────────────────────────────iSwap^0.5───────────────────iSwap^0.5─────────────PhX(0.355)^0.5────────────────PhX(0.355)^0.5────PhX(0.355)^-0.5───PhX(0.855)^-0.5───PhX(0.355)^-0.5───────────────Z^-0.355─────────────iSwap^0.5─────────────────────iSwap^0.5───PhX(-0.766)^0.5───────────────Z^-0.484────────────\n",
       "                                                                                    └──────────────────┘                                                                                                                                └──────────────────┘</pre>"
      ],
      "text/plain": [
       "                                                                                    ┌──────────────────┐                                                                                                                                ┌──────────────────┐\n",
       "(0, 0): ───S────────────────iSwap────────────────────────iSwap───────S^-1───────────────────────────────────────────────────────────────────────────────────────────────────────────────────────────────────────────────────────────────────────────────────────────────────────iSwap─────────────────────────iSwap──────────────────M('z')───\n",
       "                            │                            │                                                                                                                                                                                                                      │                             │\n",
       "(0, 1): ────────────────────iSwap^0.5────────────────────iSwap^0.5────────────────────────────iSwap──────────────────────────iSwap───────PhX(-0.25)^0.5────PhX(0.75)^0.5─────PhX(-0.941)───────Z─────────────────iSwap───────────────────iSwap──────────────────────────────────iSwap^0.5─────────────────────iSwap^0.5───S───────────────────\n",
       "                                                                                              │                              │                                                                                   │                       │\n",
       "(0, 2): ───PhX(-0.25)^0.5───────────────Z^-0.145─────────iSwap───────────────────────iSwap────┼────────────PhX(-0.25)^0.75───┼───────────PhX(-0.75)^-0.5───PhX(-0.5)^-0.5────PhX(-0.758)───────Z^0.75────────────┼───────────────────────┼────────iSwap─────────────────────────iSwap───────PhX(0.75)^0.5─────────────────────────────────────\n",
       "                                                         │                           │        │                              │                                                                                   │                       │        │                             │\n",
       "(1, 0): ───PhX(0)^0.5───────────────────PhX(0.75)^0.5────┼───────────PhX(0.5)^0.5────┼────────┼────────────Y^-0.5────────────┼───────────PhX(0.75)^-0.5────PhX(0)^-0.5───────────────────────────────────────────┼───────────────────────┼────────┼─────────────────────────────┼─────────────────────────────────────────────────────────────\n",
       "                                                         │                           │        │                              │                                                                                   │                       │        │                             │\n",
       "(1, 1): ───PhX(1)^0.5───────────────────PhX(-0.75)^0.5───┼───────────────────────────┼────────iSwap^0.5──────────────────────iSwap^0.5───PhX(0)^0.5────────PhX(0)^0.5────────S───────────────────────────────────iSwap^0.5───────────────iSwap^0.5┼────────────PhX(0.868)^0.5───┼───────────PhX(0.618)^-0.5───────────────Z^0.382─────────────\n",
       "                                                         │                           │                                                                                                                                                            │                             │\n",
       "(1, 2): ───PhX(0.75)^0.5─────────────────────────────────iSwap^0.5───────────────────iSwap^0.5─────────────PhX(0.355)^0.5────────────────PhX(0.355)^0.5────PhX(0.355)^-0.5───PhX(0.855)^-0.5───PhX(0.355)^-0.5───────────────Z^-0.355─────────────iSwap^0.5─────────────────────iSwap^0.5───PhX(-0.766)^0.5───────────────Z^-0.484────────────\n",
       "                                                                                    └──────────────────┘                                                                                                                                └──────────────────┘"
      ]
     },
     "execution_count": 19,
     "metadata": {},
     "output_type": "execute_result"
    }
   ],
   "source": [
    "circuit = cirq.synchronize_terminal_measurements(circuit)\n",
    "circuit"
   ]
  },
  {
   "cell_type": "markdown",
   "metadata": {
    "id": "b5i41UXNfree"
   },
   "source": [
    "## Adding spin echoes"
   ]
  },
  {
   "cell_type": "markdown",
   "metadata": {
    "id": "1VoTQNIzfupZ"
   },
   "source": [
    "[Dynamical decoupling](https://arxiv.org/abs/quant-ph/9803057) applies a series of spin echoes to otherwise idle qubits to reduce decoherent effects. As mentioned above, spin echoes were used as an effective error mitigation technique in [Information Scrambling in Computationally Complex Quantum Circuits](https://arxiv.org/abs/2101.08870), and the performance of any circuit with idle qubits can potentially be improved by adding spin echoes."
   ]
  },
  {
   "cell_type": "markdown",
   "metadata": {
    "id": "rvo9HcLoKw4w"
   },
   "source": [
    "The following codeblock shows how to insert spin echoes on the ancilla qubit."
   ]
  },
  {
   "cell_type": "code",
   "execution_count": 20,
   "metadata": {
    "id": "gyKYbFtt8Dvd"
   },
   "outputs": [
    {
     "data": {
      "text/html": [
       "<pre style=\"overflow: auto; white-space: pre;\">                                                                                    ┌──────────────────┐                                                                                                                                 ┌──────────────────┐\n",
       "(0, 0): ───S────────────────iSwap────────────────────────iSwap───────S^-1──────────────────────────────────PhX(0)────────────────────────PhX(0)────────────PhX(1)────────────PhX(1)────────────PhX(-0.5)─────────────────────PhX(-0.5)───────────────────────────────────────────iSwap─────────────────────────iSwap───────M(&#x27;z&#x27;)─────\n",
       "                            │                            │                                                                                                                                                                                                                       │                             │\n",
       "(0, 1): ────────────────────iSwap^0.5────────────────────iSwap^0.5────────────────────────────iSwap──────────────────────────iSwap───────PhX(-0.25)^0.5────PhX(0.75)^0.5─────PhX(-0.941)───────Z─────────────────iSwap────────────────────iSwap──────────────────────────────────iSwap^0.5─────────────────────iSwap^0.5───S──────────\n",
       "                                                                                              │                              │                                                                                   │                        │\n",
       "(0, 2): ───PhX(-0.25)^0.5───────────────Z^-0.145─────────iSwap───────────────────────iSwap────┼────────────PhX(-0.25)^0.75───┼───────────PhX(-0.75)^-0.5───PhX(-0.5)^-0.5────PhX(-0.758)───────Z^0.75────────────┼────────────────────────┼────────iSwap─────────────────────────iSwap───────PhX(0.75)^0.5────────────────────────────\n",
       "                                                         │                           │        │                              │                                                                                   │                        │        │                             │\n",
       "(1, 0): ───PhX(0)^0.5───────────────────PhX(0.75)^0.5────┼───────────PhX(0.5)^0.5────┼────────┼────────────Y^-0.5────────────┼───────────PhX(0.75)^-0.5────PhX(0)^-0.5───────────────────────────────────────────┼────────────────────────┼────────┼─────────────────────────────┼────────────────────────────────────────────────────\n",
       "                                                         │                           │        │                              │                                                                                   │                        │        │                             │\n",
       "(1, 1): ───PhX(1)^0.5───────────────────PhX(-0.75)^0.5───┼───────────────────────────┼────────iSwap^0.5──────────────────────iSwap^0.5───PhX(0)^0.5────────PhX(0)^0.5────────S───────────────────────────────────iSwap^0.5────────────────iSwap^0.5┼────────────PhX(0.868)^0.5───┼───────────PhX(0.618)^-0.5───────────────Z^0.382────\n",
       "                                                         │                           │                                                                                                                                                             │                             │\n",
       "(1, 2): ───PhX(0.75)^0.5─────────────────────────────────iSwap^0.5───────────────────iSwap^0.5─────────────PhX(0.355)^0.5────────────────PhX(0.355)^0.5────PhX(0.355)^-0.5───PhX(0.855)^-0.5───PhX(0.355)^-0.5───────────────Z^-0.355──────────────iSwap^0.5─────────────────────iSwap^0.5───PhX(-0.766)^0.5───────────────Z^-0.484───\n",
       "                                                                                    └──────────────────┘                                                                                                                                 └──────────────────┘</pre>"
      ],
      "text/plain": [
       "                                                                                    ┌──────────────────┐                                                                                                                                 ┌──────────────────┐\n",
       "(0, 0): ───S────────────────iSwap────────────────────────iSwap───────S^-1──────────────────────────────────PhX(0)────────────────────────PhX(0)────────────PhX(1)────────────PhX(1)────────────PhX(-0.5)─────────────────────PhX(-0.5)───────────────────────────────────────────iSwap─────────────────────────iSwap───────M('z')─────\n",
       "                            │                            │                                                                                                                                                                                                                       │                             │\n",
       "(0, 1): ────────────────────iSwap^0.5────────────────────iSwap^0.5────────────────────────────iSwap──────────────────────────iSwap───────PhX(-0.25)^0.5────PhX(0.75)^0.5─────PhX(-0.941)───────Z─────────────────iSwap────────────────────iSwap──────────────────────────────────iSwap^0.5─────────────────────iSwap^0.5───S──────────\n",
       "                                                                                              │                              │                                                                                   │                        │\n",
       "(0, 2): ───PhX(-0.25)^0.5───────────────Z^-0.145─────────iSwap───────────────────────iSwap────┼────────────PhX(-0.25)^0.75───┼───────────PhX(-0.75)^-0.5───PhX(-0.5)^-0.5────PhX(-0.758)───────Z^0.75────────────┼────────────────────────┼────────iSwap─────────────────────────iSwap───────PhX(0.75)^0.5────────────────────────────\n",
       "                                                         │                           │        │                              │                                                                                   │                        │        │                             │\n",
       "(1, 0): ───PhX(0)^0.5───────────────────PhX(0.75)^0.5────┼───────────PhX(0.5)^0.5────┼────────┼────────────Y^-0.5────────────┼───────────PhX(0.75)^-0.5────PhX(0)^-0.5───────────────────────────────────────────┼────────────────────────┼────────┼─────────────────────────────┼────────────────────────────────────────────────────\n",
       "                                                         │                           │        │                              │                                                                                   │                        │        │                             │\n",
       "(1, 1): ───PhX(1)^0.5───────────────────PhX(-0.75)^0.5───┼───────────────────────────┼────────iSwap^0.5──────────────────────iSwap^0.5───PhX(0)^0.5────────PhX(0)^0.5────────S───────────────────────────────────iSwap^0.5────────────────iSwap^0.5┼────────────PhX(0.868)^0.5───┼───────────PhX(0.618)^-0.5───────────────Z^0.382────\n",
       "                                                         │                           │                                                                                                                                                             │                             │\n",
       "(1, 2): ───PhX(0.75)^0.5─────────────────────────────────iSwap^0.5───────────────────iSwap^0.5─────────────PhX(0.355)^0.5────────────────PhX(0.355)^0.5────PhX(0.355)^-0.5───PhX(0.855)^-0.5───PhX(0.355)^-0.5───────────────Z^-0.355──────────────iSwap^0.5─────────────────────iSwap^0.5───PhX(-0.766)^0.5───────────────Z^-0.484───\n",
       "                                                                                    └──────────────────┘                                                                                                                                 └──────────────────┘"
      ]
     },
     "execution_count": 20,
     "metadata": {},
     "output_type": "execute_result"
    }
   ],
   "source": [
    "# Gates for spin echoes. Note that these gates are self-inverse.\n",
    "pi_pulses = [\n",
    "    cirq.PhasedXPowGate(phase_exponent=p, exponent=1.0) for p in (-0.5, 0.0, 0.5, 1.0)\n",
    "]\n",
    "\n",
    "# Generate spin echoes on ancilla.\n",
    "num_echoes = 3\n",
    "random_state = np.random.RandomState(1)\n",
    "\n",
    "spin_echo = []\n",
    "for _ in range(num_echoes):\n",
    "    op = random_state.choice(pi_pulses).on(qubits[0])\n",
    "    spin_echo += [op, cirq.inverse(op)]\n",
    "\n",
    "# Insert spin echo operations to circuit.\n",
    "optimized_circuit_with_spin_echoes = circuit.copy()\n",
    "optimized_circuit_with_spin_echoes.insert(5, spin_echo)\n",
    "\n",
    "# Align single-qubit spin echo gates into other moments of single-qubit gates.\n",
    "optimized_circuit_with_spin_echoes = cirq.stratified_circuit(\n",
    "    optimized_circuit_with_spin_echoes, \n",
    "    categories=[lambda op : len(op.qubits) == 1, lambda op : len(op.qubits) == 2]\n",
    ")\n",
    "optimized_circuit_with_spin_echoes"
   ]
  },
  {
   "cell_type": "markdown",
   "metadata": {
    "id": "fshsOLq_05zV"
   },
   "source": [
    "The ancilla now has spin echoes between the two-qubit gates at the start/end of the circuit instead of remaining idle."
   ]
  },
  {
   "cell_type": "markdown",
   "metadata": {
    "id": "nDOcuX94054O"
   },
   "source": [
    "## Benchmark"
   ]
  },
  {
   "cell_type": "markdown",
   "metadata": {
    "id": "pclRv5YIMRM2"
   },
   "source": [
    "Now that we have discussed how to remove uncessary gates, align gates, and insert spin echoes, we run an experiment to benchmark the results. First we get a line of qubits, list of cycle values (one circuit per cycle value), and set other experimental parameters."
   ]
  },
  {
   "cell_type": "code",
   "execution_count": 21,
   "metadata": {
    "id": "FGFb2YN43g9D"
   },
   "outputs": [],
   "source": [
    "\"\"\"Set experiment parameters.\"\"\"\n",
    "qubits = cg.line_on_device(device_sampler.device, length=7)\n",
    "cycle_values = range(0, 100 + 1, 4)\n",
    "nreps = 20_000\n",
    "seed = 1"
   ]
  },
  {
   "cell_type": "markdown",
   "metadata": {
    "id": "B4Pbu2F9MTFg"
   },
   "source": [
    "The `create_benchmark_circuit` defined at the start of this tutorial has options to optimize the circuit and insert spin echoes on the ancilla as we have discussed above. Without any optimization or spin echoes, an example circuit looks like this:"
   ]
  },
  {
   "cell_type": "code",
   "execution_count": 22,
   "metadata": {
    "id": "qP8CWEPj_QkS"
   },
   "outputs": [
    {
     "name": "stdout",
     "output_type": "stream",
     "text": [
      "Unoptimized circuit (47 moments):\n",
      "\n"
     ]
    },
    {
     "data": {
      "text/html": [
       "<pre style=\"overflow: auto; white-space: pre;\">                                                                                                                                                                                                                                                                                                                                                                                                                                                                                                                                                                                                                                            ┌─────────────────────────┐\n",
       "(3, 2): ───X───iSwap────────────────────────────────────────────────────────────────────────────────────────────────────────────────────────────────────────────────────────────────────────────────────────────────────────────────────────────────────────────────────────────────────────────────────────────────────────────────────────────────────────────────────────────────────────────────────────────────────────────────────────────────────────────────────────────────────────────────────────────────────────────────────────────────────────────────────────────────────────────────────────────────────────────────────────────────────────iSwap────────────────────────────────────────────────────────────────────────M(&#x27;z&#x27;)───\n",
       "               │                                                                                                                                                                                                                                                                                                                                                                                                                                                                                                                                                                                                                                            │\n",
       "(4, 1): ───────┼───────────────────────────PhX(-0.25)^0.5───────────────────────────────────────────────────────────────────────────────────────────────────────PhX(0.25)^0.5─────────────────────────────────────────────────────────────────iSwap───────────────────────────────────PhX(0)^0.5──────────────────────────────────────────────────────────────────────────────────PhX(0)^-0.5─────────────────────────────────────────────────────────────────────iSwap───────────────────────────────────────PhX(0.25)^-0.5─────────────────────────────────────────────────────────────────────────────────────────────────────────────────PhX(-0.25)^-0.5┼─────────────────────────────────────────────────────────────────────────────────────\n",
       "               │                                                                                                                                                                                                                              │                                                                                                                                                                                                                   │                                                                                                                                                                                         │\n",
       "(4, 2): ───────iSwap^0.5───PhX(0.25)^0.5───────────────────────────────────────────────────────────────────────────────iSwap───────────────────PhX(-0.25)^0.5─────────────────────────────────────────────────────────────────────────────────┼───────────────────────PhX(0.25)^0.5──────────────────────────────────────────────────────────────────────────────PhX(0.25)^-0.5───────────────────────────────────────────────────────────────────────────────────┼─────────────────────────PhX(-0.25)^-0.5──────────────────────────────────────────────────────────────────────────────────────iSwap─────────────────────PhX(0.25)^-0.5───────────────────iSwap^-0.5────────────────────────────────────────────────────────────────────────────\n",
       "                                                                                                                       │                                                                                                                      │                                                                                                                                                                                                                   │                                                                                                                              │\n",
       "(5, 1): ────────────────────────────────────────────────────PhX(0)^0.5─────────────────────────────────────────────────┼───────────iSwap────────────────────────────────────────PhX(0.75)^0.5─────────────────────────────────────────────────iSwap^0.5────────────────────────────────────────────PhX(0.5)^0.5─────────────────────────────────────────────────────────────────────────────────PhX(0.5)^-0.5─────────────────────────────────────────────────────iSwap^-0.5───────────────────────────────────────────────────PhX(0.75)^-0.5────────────────────────────────────────────────────┼────────────iSwap───────────────────────────────────────────────────────PhX(0)^-0.5─────────────────────────────────────────────────────────────\n",
       "                                                                                                                       │           │                                                                                                                                                                                                                                                                                                                                                                                                                                                             │            │\n",
       "(5, 2): ──────────────────────────────────────────────────────────────────────────────────────────────PhX(-0.75)^0.5───iSwap^0.5───┼──────────────────────────────────────────────────────────────────────────────────────────PhX(0.75)^0.5───────────────iSwap──────────────────────────────────────────────────────────────────────────────────PhX(0.25)^0.5───────────────────────────────────────────────────────────────────────────────────PhX(0.25)^-0.5────────────────iSwap────────────────────────────────────────────────────────────────────────────────────────────PhX(0.75)^-0.5───iSwap^-0.5───┼────────────────────────────────────────────────────────────────────────────────────────────────────────PhX(-0.75)^-0.5────────────\n",
       "                                                                                                                                   │                                                                                                                      │                                                                                                                                                                                                                    │                                                                                                                              │\n",
       "(6, 1): ─────────────────────────────────────────────────────────────────PhX(1)^0.5────────────────────────────────────────────────iSwap^0.5────────────────────────────────────────────────────PhX(-0.75)^0.5────────────────────────────────────────────┼───────────────────────────────────────────────────────PhX(-0.5)^0.5─────────────────────────────────────────────────────────────────────────────────PhX(-0.5)^-0.5─────────────────────────────────────────────────┼────────────────────────────────────────────────────────────────PhX(-0.75)^-0.5───────────────────────────────────────────────iSwap^-0.5────────────────────────────────────────────────────────────────PhX(1)^-0.5───────────────────────────────────────────────\n",
       "                                                                                                                                                                                                                                                          │                                                                                                                                                                                                                    │\n",
       "(6, 2): ──────────────────────────────────────────────────────────────────────────────PhX(0.75)^0.5──────────────────────────────────────────────────────────────────────────────────────────────────────────────PhX(0)^0.5───────────────────────────────iSwap^0.5───────────────────────────────────────────────────────────────PhX(0.5)^0.5───────────────────────────────────────────────────────────────────────────────────PhX(0.5)^-0.5─────────────────────────────────iSwap^-0.5─────────────────────────────────────────────────────────────────────────PhX(0)^-0.5─────────────────────────────────────────────────────────────────────────────────────────────────────────────────────────PhX(0.75)^-0.5──────────────────────────────\n",
       "                                                                                                                                                                                                                                                                                                                                                                                                                                                                                                                                                                                                                                            └─────────────────────────┘</pre>"
      ],
      "text/plain": [
       "                                                                                                                                                                                                                                                                                                                                                                                                                                                                                                                                                                                                                                            ┌─────────────────────────┐\n",
       "(3, 2): ───X───iSwap────────────────────────────────────────────────────────────────────────────────────────────────────────────────────────────────────────────────────────────────────────────────────────────────────────────────────────────────────────────────────────────────────────────────────────────────────────────────────────────────────────────────────────────────────────────────────────────────────────────────────────────────────────────────────────────────────────────────────────────────────────────────────────────────────────────────────────────────────────────────────────────────────────────────────────────────────────iSwap────────────────────────────────────────────────────────────────────────M('z')───\n",
       "               │                                                                                                                                                                                                                                                                                                                                                                                                                                                                                                                                                                                                                                            │\n",
       "(4, 1): ───────┼───────────────────────────PhX(-0.25)^0.5───────────────────────────────────────────────────────────────────────────────────────────────────────PhX(0.25)^0.5─────────────────────────────────────────────────────────────────iSwap───────────────────────────────────PhX(0)^0.5──────────────────────────────────────────────────────────────────────────────────PhX(0)^-0.5─────────────────────────────────────────────────────────────────────iSwap───────────────────────────────────────PhX(0.25)^-0.5─────────────────────────────────────────────────────────────────────────────────────────────────────────────────PhX(-0.25)^-0.5┼─────────────────────────────────────────────────────────────────────────────────────\n",
       "               │                                                                                                                                                                                                                              │                                                                                                                                                                                                                   │                                                                                                                                                                                         │\n",
       "(4, 2): ───────iSwap^0.5───PhX(0.25)^0.5───────────────────────────────────────────────────────────────────────────────iSwap───────────────────PhX(-0.25)^0.5─────────────────────────────────────────────────────────────────────────────────┼───────────────────────PhX(0.25)^0.5──────────────────────────────────────────────────────────────────────────────PhX(0.25)^-0.5───────────────────────────────────────────────────────────────────────────────────┼─────────────────────────PhX(-0.25)^-0.5──────────────────────────────────────────────────────────────────────────────────────iSwap─────────────────────PhX(0.25)^-0.5───────────────────iSwap^-0.5────────────────────────────────────────────────────────────────────────────\n",
       "                                                                                                                       │                                                                                                                      │                                                                                                                                                                                                                   │                                                                                                                              │\n",
       "(5, 1): ────────────────────────────────────────────────────PhX(0)^0.5─────────────────────────────────────────────────┼───────────iSwap────────────────────────────────────────PhX(0.75)^0.5─────────────────────────────────────────────────iSwap^0.5────────────────────────────────────────────PhX(0.5)^0.5─────────────────────────────────────────────────────────────────────────────────PhX(0.5)^-0.5─────────────────────────────────────────────────────iSwap^-0.5───────────────────────────────────────────────────PhX(0.75)^-0.5────────────────────────────────────────────────────┼────────────iSwap───────────────────────────────────────────────────────PhX(0)^-0.5─────────────────────────────────────────────────────────────\n",
       "                                                                                                                       │           │                                                                                                                                                                                                                                                                                                                                                                                                                                                             │            │\n",
       "(5, 2): ──────────────────────────────────────────────────────────────────────────────────────────────PhX(-0.75)^0.5───iSwap^0.5───┼──────────────────────────────────────────────────────────────────────────────────────────PhX(0.75)^0.5───────────────iSwap──────────────────────────────────────────────────────────────────────────────────PhX(0.25)^0.5───────────────────────────────────────────────────────────────────────────────────PhX(0.25)^-0.5────────────────iSwap────────────────────────────────────────────────────────────────────────────────────────────PhX(0.75)^-0.5───iSwap^-0.5───┼────────────────────────────────────────────────────────────────────────────────────────────────────────PhX(-0.75)^-0.5────────────\n",
       "                                                                                                                                   │                                                                                                                      │                                                                                                                                                                                                                    │                                                                                                                              │\n",
       "(6, 1): ─────────────────────────────────────────────────────────────────PhX(1)^0.5────────────────────────────────────────────────iSwap^0.5────────────────────────────────────────────────────PhX(-0.75)^0.5────────────────────────────────────────────┼───────────────────────────────────────────────────────PhX(-0.5)^0.5─────────────────────────────────────────────────────────────────────────────────PhX(-0.5)^-0.5─────────────────────────────────────────────────┼────────────────────────────────────────────────────────────────PhX(-0.75)^-0.5───────────────────────────────────────────────iSwap^-0.5────────────────────────────────────────────────────────────────PhX(1)^-0.5───────────────────────────────────────────────\n",
       "                                                                                                                                                                                                                                                          │                                                                                                                                                                                                                    │\n",
       "(6, 2): ──────────────────────────────────────────────────────────────────────────────PhX(0.75)^0.5──────────────────────────────────────────────────────────────────────────────────────────────────────────────PhX(0)^0.5───────────────────────────────iSwap^0.5───────────────────────────────────────────────────────────────PhX(0.5)^0.5───────────────────────────────────────────────────────────────────────────────────PhX(0.5)^-0.5─────────────────────────────────iSwap^-0.5─────────────────────────────────────────────────────────────────────────PhX(0)^-0.5─────────────────────────────────────────────────────────────────────────────────────────────────────────────────────────PhX(0.75)^-0.5──────────────────────────────\n",
       "                                                                                                                                                                                                                                                                                                                                                                                                                                                                                                                                                                                                                                            └─────────────────────────┘"
      ]
     },
     "execution_count": 22,
     "metadata": {},
     "output_type": "execute_result"
    }
   ],
   "source": [
    "circuit = create_benchmark_circuit(qubits, cycles=2, seed=1)\n",
    "print(f\"Unoptimized circuit ({len(circuit)} moments):\\n\")\n",
    "circuit"
   ]
  },
  {
   "cell_type": "markdown",
   "metadata": {
    "id": "omR0mlzl_kGN"
   },
   "source": [
    "After removing unnecessary gates (optimization) and aligning gates, the same circuit looks like this:"
   ]
  },
  {
   "cell_type": "code",
   "execution_count": 23,
   "metadata": {
    "id": "f6sj5umf_W4J"
   },
   "outputs": [
    {
     "name": "stdout",
     "output_type": "stream",
     "text": [
      "Circuit with optimization + alignment (15 moments):\n",
      "\n"
     ]
    },
    {
     "data": {
      "text/html": [
       "<pre style=\"overflow: auto; white-space: pre;\">                                                                                                                                                  ┌────────────────────────────┐                                     ┌─────────────────────────┐\n",
       "(3, 2): ───PhX(0)───iSwap────────────────────────────────────────────────────────────────────────────────────────────────────────────────────────────────────────────────────────────────────────────Z────────────────iSwap──────────────────────────────────────────M(&#x27;z&#x27;)───\n",
       "                    │                                                                                                                                                                                                 │\n",
       "(4, 1): ────────────┼──────────────────────────────────────────────────────────────────────────────────────────────────────────────────────────────────────────────────────────────PhX(-0.25)^0.5────PhX(0.25)^0.5────┼──────────PhX(-0.75)^0.5────PhX(-0.25)^-0.5────────────\n",
       "                    │                                                                                                                                                                                                 │\n",
       "(4, 2): ────────────iSwap^0.5───PhX(0.25)^0.5────iSwap───────PhX(-0.25)^0.5───PhX(0.25)^0.5───PhX(0.25)^-0.5───PhX(-0.25)^-0.5───Z─────────────────iSwap───────────────────────────PhX(0.25)^0.5─────Z────────────────iSwap^0.5───────────────────────────────────────────────\n",
       "                                                 │                                                                                                 │\n",
       "(5, 1): ─────────────────────────────────────────┼────────────────────────────PhX(0)^0.5──────iSwap──────────────────────────────PhX(0.75)^0.5─────┼─────────────PhX(-0.25)^0.5────Z─────────────────iSwap────────────PhX(1)^-0.5──────────────────Z──────────────────────────\n",
       "                                                 │                                            │                                                    │                                                 │\n",
       "(5, 2): ────────────────────────PhX(-0.75)^0.5───iSwap^0.5────────────────────────────────────┼────────────────PhX(0.75)^0.5─────PhX(-0.25)^0.5────iSwap^0.5─────────────────────────────────────────┼─────────────────────────────────────────────PhX(-0.75)^-0.5────────────\n",
       "                                                                                              │                                                                                                      │\n",
       "(6, 1): ──────────────────────────────────────────────────────────────────────PhX(1)^0.5──────iSwap^0.5────────PhX(-0.75)^0.5────PhX(-0.5)^0.5─────PhX(-0.5)^-0.5──────────────────PhX(-0.75)^-0.5───iSwap^0.5─────────────────────────────────────X^0.5──────────────────────\n",
       "\n",
       "(6, 2): ───────────────────────────────────────────────────────────────────────────────────────────────────────────────────────────────────────────────────────────────────────────PhX(0.75)^0.5─────PhX(0)^0.5───────X^-0.5───────────────────────PhX(0.75)^-0.5─────────────\n",
       "                                                                                                                                                  └────────────────────────────┘                                     └─────────────────────────┘</pre>"
      ],
      "text/plain": [
       "                                                                                                                                                  ┌────────────────────────────┐                                     ┌─────────────────────────┐\n",
       "(3, 2): ───PhX(0)───iSwap────────────────────────────────────────────────────────────────────────────────────────────────────────────────────────────────────────────────────────────────────────────Z────────────────iSwap──────────────────────────────────────────M('z')───\n",
       "                    │                                                                                                                                                                                                 │\n",
       "(4, 1): ────────────┼──────────────────────────────────────────────────────────────────────────────────────────────────────────────────────────────────────────────────────────────PhX(-0.25)^0.5────PhX(0.25)^0.5────┼──────────PhX(-0.75)^0.5────PhX(-0.25)^-0.5────────────\n",
       "                    │                                                                                                                                                                                                 │\n",
       "(4, 2): ────────────iSwap^0.5───PhX(0.25)^0.5────iSwap───────PhX(-0.25)^0.5───PhX(0.25)^0.5───PhX(0.25)^-0.5───PhX(-0.25)^-0.5───Z─────────────────iSwap───────────────────────────PhX(0.25)^0.5─────Z────────────────iSwap^0.5───────────────────────────────────────────────\n",
       "                                                 │                                                                                                 │\n",
       "(5, 1): ─────────────────────────────────────────┼────────────────────────────PhX(0)^0.5──────iSwap──────────────────────────────PhX(0.75)^0.5─────┼─────────────PhX(-0.25)^0.5────Z─────────────────iSwap────────────PhX(1)^-0.5──────────────────Z──────────────────────────\n",
       "                                                 │                                            │                                                    │                                                 │\n",
       "(5, 2): ────────────────────────PhX(-0.75)^0.5───iSwap^0.5────────────────────────────────────┼────────────────PhX(0.75)^0.5─────PhX(-0.25)^0.5────iSwap^0.5─────────────────────────────────────────┼─────────────────────────────────────────────PhX(-0.75)^-0.5────────────\n",
       "                                                                                              │                                                                                                      │\n",
       "(6, 1): ──────────────────────────────────────────────────────────────────────PhX(1)^0.5──────iSwap^0.5────────PhX(-0.75)^0.5────PhX(-0.5)^0.5─────PhX(-0.5)^-0.5──────────────────PhX(-0.75)^-0.5───iSwap^0.5─────────────────────────────────────X^0.5──────────────────────\n",
       "\n",
       "(6, 2): ───────────────────────────────────────────────────────────────────────────────────────────────────────────────────────────────────────────────────────────────────────────PhX(0.75)^0.5─────PhX(0)^0.5───────X^-0.5───────────────────────PhX(0.75)^-0.5─────────────\n",
       "                                                                                                                                                  └────────────────────────────┘                                     └─────────────────────────┘"
      ]
     },
     "execution_count": 23,
     "metadata": {},
     "output_type": "execute_result"
    }
   ],
   "source": [
    "optimized_circuit = create_benchmark_circuit(qubits, cycles=2, seed=1, with_optimization=True, with_alignment=True)\n",
    "print(f\"Circuit with optimization + alignment ({len(optimized_circuit)} moments):\\n\")\n",
    "optimized_circuit"
   ]
  },
  {
   "cell_type": "markdown",
   "metadata": {
    "id": "9G4KFlAO_k5d"
   },
   "source": [
    "And with optimization + alginment + spin echoes on the ancilla, the same circuit looks like this:"
   ]
  },
  {
   "cell_type": "code",
   "execution_count": 24,
   "metadata": {
    "id": "g52V6Y4b0A7f"
   },
   "outputs": [
    {
     "name": "stdout",
     "output_type": "stream",
     "text": [
      "Circuit with optimization + alignment + spin echoes (15 moments):\n",
      "\n"
     ]
    },
    {
     "data": {
      "text/html": [
       "<pre style=\"overflow: auto; white-space: pre;\">                                                                                                                                                  ┌────────────────────────────┐                                     ┌─────────────────────────┐\n",
       "(3, 2): ───PhX(0)───iSwap────────────────────────PhX(0)──────PhX(0)───────────PhX(1)──────────PhX(1)───────────PhX(-0.5)─────────PhX(-0.5)─────────PhX(-0.5)───────────────────────PhX(-0.5)─────────Z────────────────iSwap──────────────────────────────────────────M(&#x27;z&#x27;)───\n",
       "                    │                                                                                                                                                                                                 │\n",
       "(4, 1): ────────────┼──────────────────────────────────────────────────────────────────────────────────────────────────────────────────────────────────────────────────────────────PhX(-0.25)^0.5────PhX(0.25)^0.5────┼──────────PhX(-0.75)^0.5────PhX(-0.25)^-0.5────────────\n",
       "                    │                                                                                                                                                                                                 │\n",
       "(4, 2): ────────────iSwap^0.5───PhX(0.25)^0.5────iSwap───────PhX(-0.25)^0.5───PhX(0.25)^0.5───PhX(0.25)^-0.5───PhX(-0.25)^-0.5───Z─────────────────iSwap───────────────────────────PhX(0.25)^0.5─────Z────────────────iSwap^0.5───────────────────────────────────────────────\n",
       "                                                 │                                                                                                 │\n",
       "(5, 1): ─────────────────────────────────────────┼────────────────────────────PhX(0)^0.5──────iSwap──────────────────────────────PhX(0.75)^0.5─────┼─────────────PhX(-0.25)^0.5────Z─────────────────iSwap────────────PhX(1)^-0.5──────────────────Z──────────────────────────\n",
       "                                                 │                                            │                                                    │                                                 │\n",
       "(5, 2): ────────────────────────PhX(-0.75)^0.5───iSwap^0.5────────────────────────────────────┼────────────────PhX(0.75)^0.5─────PhX(-0.25)^0.5────iSwap^0.5─────────────────────────────────────────┼─────────────────────────────────────────────PhX(-0.75)^-0.5────────────\n",
       "                                                                                              │                                                                                                      │\n",
       "(6, 1): ──────────────────────────────────────────────────────────────────────PhX(1)^0.5──────iSwap^0.5────────PhX(-0.75)^0.5────PhX(-0.5)^0.5─────PhX(-0.5)^-0.5──────────────────PhX(-0.75)^-0.5───iSwap^0.5─────────────────────────────────────X^0.5──────────────────────\n",
       "\n",
       "(6, 2): ───────────────────────────────────────────────────────────────────────────────────────────────────────────────────────────────────────────────────────────────────────────PhX(0.75)^0.5─────PhX(0)^0.5───────X^-0.5───────────────────────PhX(0.75)^-0.5─────────────\n",
       "                                                                                                                                                  └────────────────────────────┘                                     └─────────────────────────┘</pre>"
      ],
      "text/plain": [
       "                                                                                                                                                  ┌────────────────────────────┐                                     ┌─────────────────────────┐\n",
       "(3, 2): ───PhX(0)───iSwap────────────────────────PhX(0)──────PhX(0)───────────PhX(1)──────────PhX(1)───────────PhX(-0.5)─────────PhX(-0.5)─────────PhX(-0.5)───────────────────────PhX(-0.5)─────────Z────────────────iSwap──────────────────────────────────────────M('z')───\n",
       "                    │                                                                                                                                                                                                 │\n",
       "(4, 1): ────────────┼──────────────────────────────────────────────────────────────────────────────────────────────────────────────────────────────────────────────────────────────PhX(-0.25)^0.5────PhX(0.25)^0.5────┼──────────PhX(-0.75)^0.5────PhX(-0.25)^-0.5────────────\n",
       "                    │                                                                                                                                                                                                 │\n",
       "(4, 2): ────────────iSwap^0.5───PhX(0.25)^0.5────iSwap───────PhX(-0.25)^0.5───PhX(0.25)^0.5───PhX(0.25)^-0.5───PhX(-0.25)^-0.5───Z─────────────────iSwap───────────────────────────PhX(0.25)^0.5─────Z────────────────iSwap^0.5───────────────────────────────────────────────\n",
       "                                                 │                                                                                                 │\n",
       "(5, 1): ─────────────────────────────────────────┼────────────────────────────PhX(0)^0.5──────iSwap──────────────────────────────PhX(0.75)^0.5─────┼─────────────PhX(-0.25)^0.5────Z─────────────────iSwap────────────PhX(1)^-0.5──────────────────Z──────────────────────────\n",
       "                                                 │                                            │                                                    │                                                 │\n",
       "(5, 2): ────────────────────────PhX(-0.75)^0.5───iSwap^0.5────────────────────────────────────┼────────────────PhX(0.75)^0.5─────PhX(-0.25)^0.5────iSwap^0.5─────────────────────────────────────────┼─────────────────────────────────────────────PhX(-0.75)^-0.5────────────\n",
       "                                                                                              │                                                                                                      │\n",
       "(6, 1): ──────────────────────────────────────────────────────────────────────PhX(1)^0.5──────iSwap^0.5────────PhX(-0.75)^0.5────PhX(-0.5)^0.5─────PhX(-0.5)^-0.5──────────────────PhX(-0.75)^-0.5───iSwap^0.5─────────────────────────────────────X^0.5──────────────────────\n",
       "\n",
       "(6, 2): ───────────────────────────────────────────────────────────────────────────────────────────────────────────────────────────────────────────────────────────────────────────PhX(0.75)^0.5─────PhX(0)^0.5───────X^-0.5───────────────────────PhX(0.75)^-0.5─────────────\n",
       "                                                                                                                                                  └────────────────────────────┘                                     └─────────────────────────┘"
      ]
     },
     "execution_count": 24,
     "metadata": {},
     "output_type": "execute_result"
    }
   ],
   "source": [
    "optimized_circuit_with_spin_echoes = create_benchmark_circuit(qubits, cycles=2, seed=1, with_optimization=True, with_alignment=True, with_spin_echoes=True)\n",
    "print(f\"Circuit with optimization + alignment + spin echoes ({len(optimized_circuit_with_spin_echoes)} moments):\\n\")\n",
    "optimized_circuit_with_spin_echoes"
   ]
  },
  {
   "cell_type": "markdown",
   "metadata": {
    "id": "-ZldoKJBNVkj"
   },
   "source": [
    "Now we create circuits for all cycle values without optimization, with optimization + alignment, and with optimization + alignment + spin echoes."
   ]
  },
  {
   "cell_type": "code",
   "execution_count": 25,
   "metadata": {
    "id": "GYmT7C5w2OxO"
   },
   "outputs": [],
   "source": [
    "\"\"\"Create all circuits.\"\"\"\n",
    "batch = [\n",
    "    create_benchmark_circuit(qubits, cycles=c, seed=seed)\n",
    "    for c in cycle_values\n",
    "]\n",
    "batch_with_optimization = [\n",
    "    create_benchmark_circuit(qubits, cycles=c, seed=seed, with_optimization=True, with_alignment=True)\n",
    "    for c in cycle_values\n",
    "]\n",
    "batch_with_optimization_and_spin_echoes = [\n",
    "    create_benchmark_circuit(qubits, cycles=c, seed=seed, with_optimization=True, with_alignment=True, with_spin_echoes=True)\n",
    "    for c in cycle_values\n",
    "]"
   ]
  },
  {
   "cell_type": "markdown",
   "metadata": {
    "id": "LE3Af6DvNenw"
   },
   "source": [
    "The next cell runs them on the device."
   ]
  },
  {
   "cell_type": "code",
   "execution_count": 26,
   "metadata": {
    "id": "p-vEk4p12tF3"
   },
   "outputs": [],
   "source": [
    "\"\"\"Run all circuits.\"\"\"\n",
    "all_probs = []\n",
    "for b in (batch, batch_with_optimization, batch_with_optimization_and_spin_echoes):\n",
    "    results = device_sampler.sampler.run_batch(b, repetitions=nreps)\n",
    "    all_probs.append([to_survival_prob(*res) for res in results])"
   ]
  },
  {
   "cell_type": "markdown",
   "metadata": {
    "id": "wwAV401nNhGI"
   },
   "source": [
    "And the next cell plots the results."
   ]
  },
  {
   "cell_type": "code",
   "execution_count": 27,
   "metadata": {
    "id": "m3DFhHXk3DC9"
   },
   "outputs": [
    {
     "data": {
      "image/png": "[encoded data removed]",
      "text/plain": [
       "<Figure size 432x288 with 1 Axes>"
      ]
     },
     "metadata": {
      "needs_background": "light"
     },
     "output_type": "display_data"
    }
   ],
   "source": [
    "\"\"\"Plot results.\"\"\"\n",
    "labels = [\"Unoptimized\", \"Optimization + Alignment\", \"Optimization + Alignment + Spin echoes\"]\n",
    "\n",
    "for (probs, label) in zip(all_probs, labels):\n",
    "    plt.plot(cycle_values, probs, \"-o\", label=label)\n",
    "\n",
    "plt.xlabel(\"Cycles\")\n",
    "plt.ylabel(\"Survival probability\")\n",
    "plt.legend();"
   ]
  },
  {
   "cell_type": "markdown",
   "metadata": {
    "id": "GQntSKQU3DlE"
   },
   "source": [
    "Recall that without any noise, the survival probability (ratio of $1$s measured to all measurements) should be $1.0$, so higher on this plot is better. The unoptimized circuit performs the worst, the circuit with optimization + alignment performs better, and the circuit with optimization + alignment + spin echoes performs the best."
   ]
  }
 ],
 "metadata": {
  "colab": {
   "collapsed_sections": [],
   "name": "spin_echoes.ipynb",
   "toc_visible": true
  },
  "kernelspec": {
   "display_name": "Python 3",
   "name": "python3"
  }
 },
 "nbformat": 4,
 "nbformat_minor": 0
}
