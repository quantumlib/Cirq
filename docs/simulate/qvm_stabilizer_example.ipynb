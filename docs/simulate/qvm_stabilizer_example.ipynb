{
 "cells": [
  {
   "cell_type": "markdown",
   "metadata": {
    "id": "DkA0Fobtb9dM"
   },
   "source": [
    "##### Copyright 2022 The Cirq Developers"
   ]
  },
  {
   "cell_type": "code",
   "execution_count": null,
   "metadata": {
    "cellView": "form",
    "id": "tUshu7YfcAAW"
   },
   "outputs": [],
   "source": [
    "# @title Licensed under the Apache License, Version 2.0 (the \"License\");\n",
    "# you may not use this file except in compliance with the License.\n",
    "# You may obtain a copy of the License at\n",
    "#\n",
    "# https://www.apache.org/licenses/LICENSE-2.0\n",
    "#\n",
    "# Unless required by applicable law or agreed to in writing, software\n",
    "# distributed under the License is distributed on an \"AS IS\" BASIS,\n",
    "# WITHOUT WARRANTIES OR CONDITIONS OF ANY KIND, either express or implied.\n",
    "# See the License for the specific language governing permissions and\n",
    "# limitations under the License."
   ]
  },
  {
   "cell_type": "markdown",
   "metadata": {
    "id": "0_WkiXErntE5"
   },
   "source": [
    "# QVM Stabilizer Example"
   ]
  },
  {
   "cell_type": "markdown",
   "metadata": {
    "id": "BODT5jJI4dZI"
   },
   "source": [
    "<table class=\"tfo-notebook-buttons\" align=\"left\">\n",
    "  <td>\n",
    "    <a target=\"_blank\" href=\"https://quantumai.google/cirq/simulate/qvm_stabilizer_example\"><img src=\"https://quantumai.google/site-assets/images/buttons/quantumai_logo_1x.png\" />View on QuantumAI</a>\n",
    "  </td>\n",
    "  <td>\n",
    "    <a target=\"_blank\" href=\"https://colab.research.google.com/github/quantumlib/Cirq/blob/main/docs/simulate/qvm_stabilizer_example.ipynb\"><img src=\"https://quantumai.google/site-assets/images/buttons/colab_logo_1x.png\" />Run in Google Colab</a>\n",
    "  </td>\n",
    "  <td>\n",
    "    <a target=\"_blank\" href=\"https://github.com/quantumlib/Cirq/blob/main/docs/simulate/qvm_stabilizer_example.ipynb\"><img src=\"https://quantumai.google/site-assets/images/buttons/github_logo_1x.png\" />View source on GitHub</a>\n",
    "  </td>\n",
    "  <td>\n",
    "    <a href=\"https://storage.googleapis.com/tensorflow_docs/Cirq/docs/simulate/qvm_stabilizer_example.ipynb\"><img src=\"https://quantumai.google/site-assets/images/buttons/download_icon_1x.png\" />Download notebook</a>\n",
    "  </td>\n",
    "</table>"
   ]
  },
  {
   "cell_type": "markdown",
   "metadata": {
    "id": "5d5f1638ebdf"
   },
   "source": [
    "This notebook demonstrates how to use a [Quantum Virtual Machine](./quantum_virtual_machine.ipynb) with larger, more elaborate circuits to demonstrate [stabilizer](https://en.wikipedia.org/wiki/Stabilizer_code){:.external} circuits and how they can reveal hardware errors."
   ]
  },
  {
   "cell_type": "markdown",
   "metadata": {
    "id": "Lfira0gPf0Gd"
   },
   "source": [
    "## **Install** Cirq and qsim, Create **Quantum Virtual Machine**"
   ]
  },
  {
   "cell_type": "code",
   "execution_count": null,
   "metadata": {
    "cellView": "form",
    "id": "zs5J6wAXqvtW"
   },
   "outputs": [],
   "source": [
    "# @title Install `cirq_google` and `qsimcirq`\n",
    "\n",
    "try:\n",
    "    import cirq\n",
    "    import cirq_google\n",
    "except ImportError:\n",
    "    print(\"installing cirq...\")\n",
    "    !pip install --quiet cirq-google\n",
    "    print(\"installed cirq.\")\n",
    "    import cirq\n",
    "    import cirq_google\n",
    "\n",
    "try:\n",
    "    import qsimcirq\n",
    "except ImportError:\n",
    "    print(\"installing qsimcirq...\")\n",
    "    !pip install --quiet qsimcirq\n",
    "    print(f\"installed qsimcirq.\")\n",
    "    import qsimcirq\n",
    "\n",
    "# Other modules used in this colab\n",
    "import matplotlib.pyplot as plt\n",
    "import time\n",
    "import random"
   ]
  },
  {
   "cell_type": "code",
   "execution_count": null,
   "metadata": {
    "cellView": "form",
    "id": "pbHCUPLpq5WE"
   },
   "outputs": [],
   "source": [
    "# @title Create Quantum Virtual Machine: Choose a processor (\"rainbow\" or \"weber\")\n",
    "processor_id = \"rainbow\"  # @param {type:\"string\"}\n",
    "\n",
    "# Instantiate the engine.\n",
    "sim_engine = cirq_google.engine.create_default_noisy_quantum_virtual_machine(\n",
    "    processor_id=processor_id, simulator_class=qsimcirq.QSimSimulator\n",
    ")\n",
    "print(\n",
    "    \"Your quantum virtual machine\",\n",
    "    processor_id,\n",
    "    \"is ready, here is the qubit grid:\",\n",
    "    \"\\n========================\\n\",\n",
    ")\n",
    "print(sim_engine.get_processor(processor_id).get_device())"
   ]
  },
  {
   "cell_type": "markdown",
   "metadata": {
    "id": "UncGyI-egm8d"
   },
   "source": [
    "## **Introduction** to stabilizer measurements\n",
    "\n",
    "The following code blocks measure a Z stabilizer as described by [Fowler et al (2012)](https://arxiv.org/abs/1208.0928). This type of circuit is central to the field of quantum error correction via the idea of a [Stabilizer Code](https://en.wikipedia.org/wiki/Stabilizer_code){:.external}. \n",
    "\n",
    "![image.png](data:image/png;base64,iVBORw0KGgoAAAANSUhEUgAAASEAAABZCAYAAABxG5IDAAABQWlDQ1BJQ0MgUHJvZmlsZQAAKJFjYGASSCwoyGFhYGDIzSspCnJ3UoiIjFJgf8bAysDDwMdgxaCWmFxc4BgQ4ANUwgCjUcG3awyMIPqyLsiskM8V/yu6OJ63rLWQX1d4yAlTPQrgSkktTgbSf4A4ObmgqISBgTEByFYuLykAsVuAbJEioKOA7BkgdjqEvQbEToKwD4DVhAQ5A9lXgGyB5IzEFCD7CZCtk4Qkno7EhtoLApw+ziaW7pamIQTcSjIoSa0oAdHO+QWVRZnpGSUKjsAQSlXwzEvW01EwMjAyYmAAhTdE9ecb4HBkFONAiFW/ZWAwKQQKeiLEQnkYGPbEg7yAEFO9y8DAb8DAcLC+ILEoEe4Axm8sxWnGRhA293YGBtZp//9/DmdgYNdkYPh7/f//39v///+7jIGB+RYDw4FvAGGdXv9HjjlKAAAAYmVYSWZNTQAqAAAACAACARIAAwAAAAEAAQAAh2kABAAAAAEAAAAmAAAAAAADkoYABwAAABIAAABQoAIABAAAAAEAAAEhoAMABAAAAAEAAABZAAAAAEFTQ0lJAAAAU2NyZWVuc2hvdFVaoIkAAAI8aVRYdFhNTDpjb20uYWRvYmUueG1wAAAAAAA8eDp4bXBtZXRhIHhtbG5zOng9ImFkb2JlOm5zOm1ldGEvIiB4OnhtcHRrPSJYTVAgQ29yZSA2LjAuMCI+CiAgIDxyZGY6UkRGIHhtbG5zOnJkZj0iaHR0cDovL3d3dy53My5vcmcvMTk5OS8wMi8yMi1yZGYtc3ludGF4LW5zIyI+CiAgICAgIDxyZGY6RGVzY3JpcHRpb24gcmRmOmFib3V0PSIiCiAgICAgICAgICAgIHhtbG5zOmV4aWY9Imh0dHA6Ly9ucy5hZG9iZS5jb20vZXhpZi8xLjAvIgogICAgICAgICAgICB4bWxuczp0aWZmPSJodHRwOi8vbnMuYWRvYmUuY29tL3RpZmYvMS4wLyI+CiAgICAgICAgIDxleGlmOlBpeGVsWURpbWVuc2lvbj44OTwvZXhpZjpQaXhlbFlEaW1lbnNpb24+CiAgICAgICAgIDxleGlmOlVzZXJDb21tZW50PlNjcmVlbnNob3Q8L2V4aWY6VXNlckNvbW1lbnQ+CiAgICAgICAgIDxleGlmOlBpeGVsWERpbWVuc2lvbj4yODk8L2V4aWY6UGl4ZWxYRGltZW5zaW9uPgogICAgICAgICA8dGlmZjpPcmllbnRhdGlvbj4xPC90aWZmOk9yaWVudGF0aW9uPgogICAgICA8L3JkZjpEZXNjcmlwdGlvbj4KICAgPC9yZGY6UkRGPgo8L3g6eG1wbWV0YT4KZd/EeAAALF1JREFUeAHtnQe8FcX1xw/whEeVJl0BFbFhATHyFyOIoliikmBBTVSMxgbYS0CNSjRqFEENUYMQiSSKJUFEUEEsSFFARRGkd6V3eJT5n+88Zt/evfXBK/fet4fP4+7OzO7OzO6ePeV3zpQzShJSOAN7Z+Dnn3+W1157TXr37p10Tn744Qd56623ZNWqVdKlSxfp3Llz0mPGjxsvH370ofDYXXrppXL88ccnPWblypXy0ksvSd++fRO2/ctf/iJbt261bb766is7jho1aiQ8ZuHChfKvf/1LTjvtNPnlL3+ZsC2Vjz/+uGzbts1rV69ePbn55pu9/Vgbc+bMkddff102bNggZ599tpx55pmxmpXZsvJlduThwCNmYM+ePfLXv/5V2rRpIy+++GJEXbydX/ziF1KrVi0577zzpFu3bjJ9+vR4TW35559/Lpd3v9wyrJycHDn99NMjXuh4B/fo0UP+9re/xav2yvv37y8wLP4aN24sVatW9epibQwbNsz2vU6dOtKiRYtYTaLKuMaSJUtk+fLlMnr0aJk2bVpUG3/B/Pnz5f/+7/+kVatWcskll8iVV14p7733nr9JuI0kFFI4A3l5eebf//63+c9//mOOOeaYlCZkxowZXjuOeeaZZ7z9WBsqpRh9KW3VrFmzTLly5YxKUbGaemVDhw41KmGZhg0bemXxNg477LB4VVHlKsXZcy5YsCCqLl6BMmozatQor/qkk04y33//vbcfa+OVV14xRx11lFd11llnmYcfftjbDzeMCSWh8DtkZ+CAAw6w6pEyhpRnxKlSX3/9tZU+unbtmvDYypUrizITKwkg3TzyyCNSt27duMf89NNP8vTTT8tDDz0Ut42/YufOnTJw4HMyaNAgWbFihb8qavuxxx6T4447TpRJyP333y/z5s2LahMsYG7OPfdcWzxmzBgrBSqDCTaL2O/UqZNs3LhRBg8eLG+++aYgGf3617+OaFPWd0ImVNafgP0c/7p166R79+7WZnPIIYckPRtqjEpcsnTpUlFpyNqG4h10/fXXS58+faR69eq2CXaeRYsWxWtubUb169ezKtLJJ58s9C0efffdd4IKqpKJVa+w1RSG/vznP8ttt92W9JCDDjpIVEKTjz/+WP773/9KlSpVpGbNmkmPK1MNQnEwnAH/DKgBNWV1bPfu3UbtOuaFF17wnyKlbaeO6csZs73aXQzqzoUXXmg6dOhgKlWqZNS2YtTuFLN9sFAlLKOSR7DY22/durUZMmSI3Ucl05feqC3Jq0+0MXHiRHP00UcnauLVPf/884ZrOVLjt3nwwQfdbvirMxBKQmXqk5N8sLt27bISQvKWYtUYvvI33nijqH1IXn755YSHobahKkGoYRinkRRiUZMmTWTq1KnyzjvvCMZgpAcM2yeccEKs5qK2GRkwYICtwwuFCtSsWbOYbSns2LGjfPnll7aethjY8XSlQv369UvqEXPnyc3NjTC+o9IhDYXkm4GQFYcz4GZAbTTWiKr2IXP55ZcbZRquKup37dq1plq1alaCUGZif9WFHtXOXzBhwgTTqFEjo655065dO3P77bf7q+Nuq9pjuMa7774bt82kSZOMeriMeqCMqmKGYxKRus3NRRddZNu3b9/eqKcsUXOvDsM6RnJ103tliTY2bdpk1I5k1INox33OOeeY9evXJzqkzNWVY8Q+nhRuhjNQ7DOgL6EceOCBUhgjeKqdAsOD9JHqucEVFUYy4XVRT6Koephql2y7HTt22N/CHleoi2Ro45AJZeiNK6pu8xJi8E1EFSpUsFiXRG2yrQ5Pm0pXhR7WkUceaVXM2bNnC8DPRNS0aVNJxZif6BzZUBcyoWy4i/sxBhiQGoDjuspXr15tz17WBGa8eAAekdiAL6RCzNU//vEPufbaa60bHjR5PAgCbe+66y554oknUjl1VrfJyerRhYNLaQbUtmNDL2I1hkmpdypWVZkoAx3tIALJBhw0midiMiFWqGA2s9Y7NnnyZLnmmmtsnA4YEDWCCnFC2UaEKAC2Qw1Qo6+0bNlS7r333qRgvWybh3A8mTsDcSUhbAWffvqpFUcBlRHnc+ihh3oj/d///mcf/COOOMIrS4cNXsqLL77Y6vPE64Dqxe08YsQIee655+Q3v/mNaChAyiJ2OowpXh9A7RKPhIvZEUhhAjkVnyIaguEhfF19SfzSn3iBozxTAPcw0HIv/M9UsG8YcwE28vHAZQ8oEtR1PFq8eLENFMU4TbwWaOVERDDtZ59/Zg3ZBNPui33miy++kGXLltmxJLpWWJdgBvCOBQm3ogYyGoWaG9WNLdiKGB4/4RI99dRTzT//+U9/calu6wtoVCKwrlrcwX4CWEdfFQ9iXabESmUyffLJJ56LXG+vdZEHf3Ghj/toXMJhKlbGnsc10hffbN++3RAnBQXrXbszzjjDqPHV7Ub8KmMx77//fkSZopct2FCNsUY/XEaDXw2AwhtuuCGindv54IMPTP369Q3u84oVKxpAfoopMoo6dk0ifnHJayCqdf1zff54hjX0I6IdO2owtkBI1w64AMdq5gCvrTIWO6fKUL2y4IaGepinnnrK9OzZ0ygC2+gHz6hNyDbTEBaj6ph3CHPKn6NgvSsvi78x1TEMagC3UGeI9eEPAubuiAjqRx5+RJ588klXVOq/9BepRxlQVFqG8uXLy1VXXSUjR460oDdg95lMpLXYvHlzwiFQ/8CDDyRsE6wkGl5fThvjFKzz7+P5cUZrynFbQ8rsRV9M+f3vfx8RNqH4GCs5EzuFhPq73/1OSHEBIPHuu++2x7r/CKm44oorbDQ/khM0duxYm5qD83KMnzQg1NZzHMBJpPO5c+eKfiRtWIa+2F5ztgnVUMZj26C+/uEPf7Bgxw8//FD+9Kc/eW3ZYCwAMvnzp/CgThHXNpJeEdQaszaQophEqhPGDEDSzVPMhmW0MCYTmjJlip00NydgLsi5wo1DZEU9g9qe3FZmzpwZwZzcMSX9y8PNQwRzcUyThxVb0G9/+1sbQEifeDB5AfBi+JlqSfd3f67Hy6uSUEqnAGUMmjhVIi0HaS146VIhXjBe6ltvvVU0kl7uuOMOqw6jCl133XX2FNyXNWvWWEQ1HwNHoJTfeOMNG0Sq0rcrth827tmvfvUrr4wN8vDcdNNNVt10FahsGjZiGZRKTq7Y4oSeffZZe49BXTsifosPFehqP5aIj+7w4cNtyhCH6eEYxoVxHkYTVAV5tnieFPSYMNUIqHBSpNB/lepcV8LfvTMQ0yYE7N29yG6mTjnlFPuVuOyyy2zeGSD6eFWYVNrzQJUmEQ3doEEDL0KZCGxeDjwUuFp5OWCgPAgk7OIhVJHfJpkqzX7vy7Vh/P6ve6Jz0O7bb78VjXWKaKbxUjY6XZHPEeW8mP6Xk0peShi3I2xqjpAizj//fOnVq5dNDMZzAiEZYBdCOrnzzjsFgCLGcwj3N9Iq4RgQmBwkMMdEYBQ8T9gdIaQHJAn6RVsYn+sP/d+yZYs9nrY8izA0JByI6/7xj3+04R/s82FCgnP1eL/ICUQoBsS58Fw5hoPtCu/YZ599JswZ88i4PvroI1FUuZWu/dITzyFjC1KsecWmx3PqqHnz5ilnDHDHZMNvTCaEUTqI7HRfxhNPPFHGjx/vjR10KmJ/aTMhDNLNNFbIfWl5iPgC8stDBt4DwyXEzeZB4mXIRHJjTLXvgA2DxLwce+yx1qiKoTgR8QLRNkioXqhJvHgwB+fAoN3bb79tJSNeWqQMjNXuxede8QFz+zAFni/uH6T2JGuIds8Ukh/SGePgPDAW1x/OhcrmzgXTg5G4fbI/gtVx7TFyIwm5ep4BmIzbR81EnQsmRON54VyoqmxzDpgh7RiLIzyUXCsVoCPJ1Fy/OJ6PaJkk/VJGkYrCEYmX9EtnNLOdbYchUdNZescQ06NfH2+/tDbokz9amcjogw8+2MYRqQhvjdWaItR2Tx8gG4uk4ndpdXe/rouzgPgufWCT/nF/lPnGvV7Q8KxZFW3UujsgWO/K9eUxmiHQGrUxYqu0YVTitNUY/ZXRe7FeRL7rC2b042brMU7zjEHqXbLxZBzjiJgyV08Z43RGXe6lpvhwTa0BnWspM7RlKpnZ87GDkV2lX6NMymuvEo19LqiDVOI3qnLZbYzhnIvxBA3TyvgMxnWVQm1bBRnahGYYuR0lMkwTi/fAAw+4piY0THtTETuKni+Q3+jIlxAbCkY/pApwKBCiL19lvgylTejmqB0u3wypN/nSgBfS1AlWROfrBZHvlzE51aG0+17Y66MqA5lIhdS7JMqMU2lq2+ijkZKqx/wR2U5iMHIzo9YgJUPYYrgm9iUIEB85nDFO+9UPbC1ADFCX/KhkVGekbVQkpC0I+x0JzpBu3fNHOf146KGH5Oqrr7YOB8ognl9sStipmANHPCf0+YILLoh4xrH5oOLxrHDOICFJM97atWtbiQiJiYRm8bIABI9PdV6Dx5WJ/QJ+VLCl3jGjL6hXQMQwX4egxENUs95Ur11pbiDdKJbEc/nimsUVTN4X3PbkptGH2+CqZ5vI5kwm3OOqUiWUhFSlTpp+NCjpEOWN1OLc78F6N2dqbLbucCQK5l6ZgFHmY6t5fvSD4JraX9qoodroS2z0o2WvwXUGDBgY0c7tkH61bdu2VqrRF9HeW2VmcSP71UZp2+LWB5rAdTSfs5WG3DndL32mjja0pR9E9ztJmXZBScgdy6+qmkY/dv4iux1PElKV0ai6aaVyJ4GFklDB9PHViyJEY1IPIPouULUmFpH6gJQJflE3VruSLPv73/9u8xarh8y7LMwIBgrBgBTIaPSrZsA5ZTqBxYmnllGeKPWFG3s8JpOsng+TGosNLz9Jukg45tQtd2ysX9QXPlxqrI7JIILHkE6EsajUFKyK2ue5veeeeyxzBDOWjGjDB4kUJH51kOMSMaF4543HhGK1D5lQwawU+Et9ch+isT7AojfUGnR9Vd4m7nrQon5R16sspQ3SgYLrQLxH/AcxDLYD9z2eGIyk48aNs7l+wTllOhGOQrQ27nDuGcRvhw4drMrg1KHiGCcOCQzCGHG5Dt4jjN3JCPVFJQ97L1JxV6M6ofKrvS/Zqe3Yucd42bhGMqINRms8b27+kh0T1hf9DMT0jrnLJIKx4yVIRwK7wUPF8jUsr+LsQOj04Dlw2WMnyBZSQ6rFR+HRJG8z3hm/tyaVceLdjJdTJwjQ85+POYXZZzMxRhhuKhScK4C8hArFItryLIYkkpAJZeoEgQ/iD/ctLlm+crh408GAXpRzirEWsB8POqBEFXDt6TG+siAf8VDJ3Pkw5GTrhSU7R1GOKV3OhTSVbF5i9bXZXpiBLn+UdLHGIBYv1vnKQllWMiF34xC3UxHLXftM+sVrpHYFu3wOAEwCPZGC1M4hQzScAMQxi/vhTUqkavCVD6agyKR5KK6+gknan3lBi0ikSRRXvzPxvFnLhLbtzpMxq2fI2p358VV1D6guneseL7kVsgM2TwQ6oRugvrEB+Qn0MfYaXanChlBg3wspnIF0nYGsY0Kbdm2TAQvflWlrvpKdu7dFzPvQhW9Km7onSc+m50u1nNT0/IgTpMkOCGckHJDFQQbkuoitBlUNKQlGhXoaUjgD6TgDMb1j6djRVPq0Nm+z3Pxtf5n882dRDIjjYUqTfvpU2zwr63dtSeWUadkGTx+L+7kF+1DBFI3rxTFhpIbwmuHFBDwYUjgD6ToDWcWEXl72gazfttLO9eopS+XL+0Z7f3NenuLdg3XblsvgpR95+5m2QVwSKpejLl26WBgCyGUiwVle2RGIZFDj6UIgq1kO+dFHHw3TWiS5KdzLzp0728iEJE0zujqr1LHl2woikmsd10CqNaslZo+RaQ+MkUptI0MXlm4taJtpd1DjqLyAYTxiwBHAu3zzzTc2WBRXvSNCcGgfJMIaiFYvSaKvSGwQ2C0kNUVa2/1E/2GEJ2woFYJBw+hSbY8USYgIgbGlTWCo/OlLyBD66quv2vCVbE6In1VMqEHuQTJf8nMdVcjNEf5mPTdRmVFtado1Mgq8YeXYK3+W9oOYyvWBGiiS3TblxSaVBHAEAJhkP8B174h2saAJpMBwqTJc2+L+BbPFS++IqPRU+sAYU2nHeYmKJ64r1fZEwitq3GYTcP0qrV8yCfiZEJ5LPjBIuKTsjRXTVlp9LcrrZhUTOqHG4TJx5Sfe/Cz/YK6s+26ltBtwkVfmNk6sfpjbzLhfHlSSzJFRECYDch2mQloJsvc5gCYvL19SgjWDBNK5pCUh+kBSMs3IYGED5BwiP1Uy4mVMta+awtemESGVSCqEKssSPX71NpXjSqoNQbJIghrBb4NnS+q6JXmdrLIJdapzrFSsUNXO38a5a+THIVOlTb9zpNwBkcOslFNNOtSJTPJVkpO+v9fSfMpW5cCuwtcTu4HGLdmkYWCCAGhCjz/+uM0qQPt0IRLwk7mTvD+pMKB06Xdp9oNwmHRQF4trDrJKEjqgXAVpXbe19YDNfnGy7NyxyxqmmbyqTWrKCX072Xk8qW4bydG2mUowHhgMuZk1KtsaegkDIFwDJkQZKSkwUD/22GNewq50GC8qhUbHp0NXMqoPSLXZSlnFhLhJrWo0s0yo7RPnxr1nrao3j1uXKRWkTCWcAmZDql1ULtDh5OshmT8pTh2jypQxhf0smzNQakwIOwYuSBKg8wUHTEdu3/01vh2sxulkdEhu3WRNUqonpSmqBcndSHiFYThWKtWUTrYPjQjWJUgXFUezHNpIduaSFSluueUWL2fzPpw6PCScgRKbgUhjSQlcdsaMGXblARanYxUGPBkECmIfIDKfrIexaLuGYXy4+lsZtWqazN6y3AvWDLb9bvOSYFHU/ndbYrdB5P1h8zJ7Da7FNWMROY5Z9ZRgRVKZkMqCoFH2+/TpU6L6O25d0lyQ8oJ8xfyysgN5nUMKZ6C0ZqAw6mOJSkIwIFJ8kn6C2CZ/LiJdSM5GHbM2mCaYsl94N4Ggm2/9doBs2AtEpLxaxTpy6kFt5fx6beWQ3Dq26VebFshbi0e5w+L+vrH4XWlRpaG0rtHcMrNF21fLuz9Plc9XTZUteQWrT7xauaE826qn1Myp4p0LL5Qu/GddzaQDReogGlqTYNl1sjSxml2LitUYkI6Kk1itgWh5MDeanMsyHjAyeIg0j7Nd8UIzSBZnF8JzZ8AMoJqTzD8WscbgsmXLdWmjW2JV73MZdj9gBWDBklGJSUKoLtgtcA2TWIwXCIyGI4ytr732mmgifenRo4e3thn1fWYPiWBAlG3OWyNjlr0vt05/RLpOvlsunfqAPDzzWQ3NyA9ZoM3OjTtkwevfyA+DJsnKCYqr2Wvcy1Om9tDM/nLJlL5y8aS7pef0R2XssjERDIjj123TcIjZQ9m0hKsUBoT6BQoZABkpQlCBWK0BTAdgOcaFelmYr4G7Rqq/xI0RxIoLF08TaiGBqvSLJYHIqUQqjzB4NdUZzdx2vFuo40HCo8a6aYT4xCOwWl9/PUOrt8m3Q3vJjf2nyVbVAgbfeba07XKPvP/9alkz8XH5Xe/hsmJnvLNEl+M04T3mXUlGJcaEwLWgesFocDmSboL9IBHnRAoE8rFAqEeLN8yx2zvWbpVN89d6f3nr8gNUd+/Jk+27IhGvP09cLGO7DZGZz34sP746RabeP1I+7fGG7NxQgB7mmD0mX+Xaunyjd16usWtLfvnCDT/IvL3oatJlsJAgDADVKxbBTHkgUDH5yhQHgXZGfUXKAZTHnPoZOut7gZMBT8TaWP7k8sXRn/CcpTsDeEYxDwQJdDqJ+VP7GFaWJo3zZNywN2RpjVZyxuEVZEPOkfLLo3TNteGvydLcI6RefvLO4GVi7hMuhImCbKfJqMSY0Cu6NhWqmCaj9/pEalI4NeA1N1EYpuGgI0aMsGUjVn7utV81aYnM+9d0+zfx9pGy6L/feXX+DZjV1Affkz2bd/iLZf3slTL90dgxY8vGzPHOPeG6f8u6mQVhHW+s/Myeh36CyXFrVHHzkX5YhWTUqAI1ENsMElO8rHoRndqHHQzRuOJh5MwXv0GGTvngwYNtxsTi6sc+dH2fDnHPxj4dXIYPItA5mD0hb8V4GTRojKzMX3gmYnYqN20uNdcvlEU7jJSjxv63SeYt2iSNDm0ihQW1DBo0yC42iQCSiEqMCQHXDyaJuu+++6ztAqkHV7Mj7BsgRDEAL9qyzBVLk3NbWqxPvVOaSrV61eSw7id6df6NJSNnyZ6t+ZKMv5ztnybPl+2rtgSLpcU1J9lzV6pdRQ4+U5dy+UVBrNmCzUtte9QeP/oYbk9KDZgOK5FiaHeEsZr2xUFIPqha/pzOsRg6IRxIQnghM5FQM0jcho2QDxj4p5AKZoCPDylk0R6Qjtnmb/y48QWNAlu7N86TKZN/lE0FkT1ei9wWN8kTt+bK4Lv+LCNmrJZt6gQa3O9e+bzmbXLflfWsdE+sH886Eg7bLmODdxLfBnYoPtJ4cRNRiRmmcV3zMPkJxC9weTrLRBKGALl2unCfv7nd3jRvjcx+ZYq0e/YiKV8xNm+OxWS8E+02sn31Fsk9KB9Z7ZXrhg3z+HaFtBsYHeZBO8IhXL5hpCDUMtQz7EKsYeZftRMG4cIn/Ncoim1ULxDSfoKhYySHocPw3VzC+GMFc6KiwczSmbBzufALbIgw1GQ5rVnLjFAWp84nGx+GfNRnf9BvsmOKqx6cF2NMlcgLzjMHXoz3yz1/lXIrxT1F5ZbXyeBX4lVXk9N7vSKn79kiXz8zXl5Y0EK63dlTbtmbeutNdYDw/CPh4AVmSW1/bnJskXyQ/cSHmZxWiSj6LU/Uej/qyGVMh0DwOnJqDZ4cPz4IYyoeNJhThXIFwhqG5mkPfSAn3N9JmUiBx8qdz/1WPzzfW+b2/b/lq1SUagdHe61cmMcpAy6MCvOoUD6f2RGpzgKLEAY3VCKXwpPJ9zNN2tG+OIgHbvv2SKkgHkNHeqCfQWKpZAI305nwOPqJIN1kfWbxS+5NsnbuvBhv8cy6D58rL43fwi4egSQOMQZiBInLCxLOFH9As9mxRhavNNKwaV2Jm2O0fFWpWbWiVKhUXar7+BmmCNQ7PnJ4gSdMmOBdjuvwDGI3dcTHAMgNC6YmohJjQj179rSrhuKad18zOogXhwyAbnkaVDDKXbzTKXWOl7c2z7djmP7wB1LzyHrWaLxq8hIrzVQ/tHbU+Jqc01JmD5smO1asi6pr2uUYyakWOf17NLxj6h/fl6bnHSkwI9G/6poGJLd+NXv8qbXzpQ6MwYjAuq6ZRSfjmSKwkofhiiuusKt4ENFO6gyWG4r1UER1aB8KuO7o0e9FuFUTMXQM1UHigU+mqwePKel9bEFIeEhDJHBDWvZ/rGL1xwWwpjq2dA9gjTXGVMuYA+yHMGbsrEgvB/38dzmvx2YZ+uVAaZNrjT5Rp8tT79j7UxfLhoWT5eNZF8g5R9cVRAHn5gcWQupgllfiHmE6QepHfQbCwkePtqwmQq7zZCsAlxgTIh0BSxdjy0Ai4mHCg4ShmsE4kB+cFlXGvcAX1z9Z3lFczx6zU2od21B2qa1n9VdL7cTVbFlPYjEhUni073+hzSO0bvYK27ZcpRxp2uVoOaZ3+6hJN6qiNTr9UNm5ueDcOfolgAlVKF9RflXvJHsMjBQjLzACDO0wHNY4Y7KRiGBQ3BRuOBIIN6s4iPOClMa96hhMLIb+448/WigEBupMJJ4RQk/4Cyn+DKCGPfN0vjfZ34oPI38R1PxxhXBElETtVKzbSm74x0y5IapG7DuLGcLZO5Gosefy3GOaYButAMAsa9HFMgUET1tiTIgLo2Yh0sGMrlajFqEFIH7hoHT2hRdesC8vQD+ScUEHKlDwnCZnyXtL3pMWV7exZf7/6lVtKo2rNJCqOZXl63Xfy6bt+W7/Kk1qSPvB3QQb0vbVW+XAI1T8rFXZO7RGbj05vtYxsnmXrte1dYVUuClaZaHxeU3Olup6bghQIl9abiyTDxhLVwi1cVpwfsR6GBI5nTEGM7biIOxoqLW46MFcxWLo2Dow5iIhFcbOUBz9Dc+5fzOA+s07Eo+o73hGx3jVCctZiw+jdqqEkRmPNoh8YAHYIUnJgjrGe8E2xLvOx4N125JRiTIhQH1jx4616szQoUPtaqnYURDl6CyeELANzZo1i+j3DU06S97uXTJB80PvMbulRqW60qbWsXJx/VPk4MoF9p8dh1wgvb57XpbvVd84SfXD6tg//wmbaN6h/kfdqGk/Coa/aNtqefunSTJ93UzZsH2NSkB6YxucLj0ad/IfalevwKDbq1cvC7zEIA2zwUUOUBHRE73YqZcRBxfRDoZImE+HDh2sQfyaa66xHgsYN+os+jrSDxgR2vGQhpS5MwDyftnSZfZ5K+pRoIWkSnxcWWQBe+11111ncXAIExAfQkKGHJ1//vluM+lvORWjTNJWxdAAzs6AXAArdqJkXHO32aO6aTk74HhdGrdmpvSf/VK8alt+x1F/kNNrHRW3DVPCv/I+o3iwMcY+sEzYhIDFk72QdJwwUm5ISRC6OBIRRkmMto5YuA917d577y0247i7Vrr9OpuQ86ol618m2ISwiyFlo3JnIxWIAiU8OoxXQSBVsi74PWXx2lat4DPnx2lULUkbmAj/EhHSCAZp56FI1La46pB8CB2B2WCAxHWPRw7wZHGpgsU1lvC88WcAFb9OnTpy+OGHy9y5c+M3zNCaUmNCxTVf87fl24R2btoRAUrMqXyAVG6YH8Q3b+tKaVPj0OLqQomdF+kHQyDeRdQw7FJIZSBlSYsCVihcarjEbkexXQiJF0L9zkbC85ZVNHldPo6H+C8X4jHtwbHy/cDPvXFOWls8SGbvAiWwAVYDA//o0aPlnnvusa5R8DE8sEhG2N7wSKYDCK8EpiOrLwH+Bs8syeuKg4oKI4WTZl+sO1nFhFblbZAF62fb+1T7+IY2DOOw7ifInl175JjbTvPu37wNs4SFEjOVsKcRm4baCKoYJuTShmBXI4IZNCsqL+2K6iHL1PnK9H6TGWF/PJybN2+Oyxyefvpp+/wwR5vmDZUbr+kvs7aulqnD75SOJ3aRR9/5XtZumigP/La3jFwY30PH8UBH/GBkylKhrGJCo1ZNV3NyQVAMKlk+wvqMiDANox620aunpzI/adkG9z85hJCCgPrHIlyo4DmQhIYNGxarSViWITOAir0vNj6kkoEDn7PJAoPoczd0gLWcH6rWuLFsnDxMRs2uIa3POlx2r86RVh2OkgpfDpfXv8uVFo1iw1jcuZDUCJcB/1cYyiomNH/rsoKx6w2Y1neMNP/NcVKrVfSLOnfL0oK2GbZF7A5eHVyljkDHAqJ86aWXvMUOAVDSjvZlhYgxI6iYr3+2EJ5YHCGFpeeeI9tCjg1jqVgxP0ogURS9HNBUmtffIAvnakiQ9cvkO2fWz18spkFzaZCYB1ngbN++fa1ntjDBxlllmN60syA6fvZLU2R33m6p3KC6EOIBArrWsfW9+7gpg9eiBwmNC97RU089ZdOhACIDH0TMDqElEOEO2IjKAmGQd0G5jJsQoX15eTNlrnBMgAkLEqobyQNdtkS8a47yo+i3S6drz5bgp7lchRZy2xO3SK8n75KnNNBgfd4q+XxYP3l7XA25909XSeW8HXK1fuhgaGDPiKDnmSPrhSNsV6S1YSEGB1x0dfF+s4oJtat9rMxbn290rtr4QGsLciEeuXWrRjChdrVaxZuTtC8HneoPSgUceccdd9hQF7xiMCFHtKN9kDAiRkH6g40ybN9vhJ84caINB/IHFccaDiu2zpo1y4bgxKovyTJCcMCepUrYBv34MHdcIhtg4ih6kTpte8mw1/fIhnlPyzt/WSDHXXCnXLk3jB7pkhTNZCr4ZMIncuVV+YssuOu6X3BNILHLJBPqVr+dLFe087jlH0oTDUaNR2c26ixdNSYtUwk7EFHiQOYhdHoXgd1Y9Xq//YB2gBeDRPoRVLdsIhewyZgI8n3xxReTosVh3qDbMeCXNrkA0VT7ATqfRHuFoZSi6KW8VKupa9iVryTVDyzA3RGjhh0SKej2O263cZNEQQQJyZyQrFQpqyQhvEW9m12gq6seJ29pNsRvVs/w0rcSiNqqzgny6wanyfHVD0l1ftKyHYsBcKNJGMVDQIwYdhB+n3/+BYXTvynjx4+34jLR/ISYBIk8MO3atQsWZ/Q+4wGWsHjxYsugkyHwGSxtUF2ybS78NxJJ2KXz2DLjyaRR9GqRlmmjp8qyzQtl4oez5PSLj5aaGvnD+wXuDJUfaYvkZkFCBcYwXSh0t1rQs5a27dph1u3cbP/YzhZSLJDRuDCjX3CjD4PRrIpGE0cZNUQblQCMuu2NxuMZTbdgFFVtNDQmW4Ze5ONQxm30hSny8xblCRs1amTUG1roU/Ic6GIIhGUZDXY2ih2LOke/fv2MZn2IKo9XoMn8jEpgRu0+XhOeQ82tbjiXJtU3AwYM9OpS2cgqSSjIlXMrVJSKe3JsBHKlSvnegWCbTNwHE4TkQ04XshJghCa4ELUMkR5cCYZZVDHaEcgaUtmbAZbdAU2fiLAZFsZ4Dw4IyZEMDkTKA47lF+JZI3bv5ptvSnTJqLrC+/2iTpF+BWAf0JVJgYphkpSU2EkQH8nFnA1EwC8rbfAQsJAk0dDYNvglsp84MoJrsxXqnw33MB3GwDvhPKnJ+kMGxwEDBlimxXEkHqTMEYZ1MGmFYWocW2pR9K7jRf2Lt6Bjx44WpEdSeqQFkqSRbhVdFnsBbs1rr722qC9daudDD2d5IR4IovnxTBDSEVLyGciEKHqcDSQI8+PCko8sc1pklTpGciYYEIY4Mr+5/M/cDtbgIgkTmAlAfVj4WUE10wkVjNANl1wNQ7XaEOTEE0+0DCnTxxf2P/tnIKvUMdJaoJ6Qp8jPgJB+CALEuo9XCeYDgC8RniITbj3ZKFkk4JFHHrEpPFDDCNdAvG7WrFlMIFsmjCvsYxmbgVSs15nQRmHiRvEzRplLVHcVuGbUmOaVaxyN0TW5jKpnXlmmbSgGxqi9yygew2gaj4juazS9Ube8UWnPaMrciLpwJ3IGstk7FjnS9N3LGnUMFCf2IGfr0Sm3kgDLjTggn/u+oK6wRC0BnqRGzTRCsgMM1rt3b7vYnb//eMnIVkkIA1ggYPTgh7LVnuAfe7idmTOQNeqYiwRGHYEIpMOSDzI4Vh4W3NaZGuTI0jeMM9YqFOS5JogTQgWF4cKQQoqeAQz6fIhAnvu9PNEtS7+ksB6n0u9x6j3IGkmI9JcQcVOsOkoMDlkHCeYDV4MtyE+kNghKSP76dN7GE9a9e3cvJIG1nkjvSrJ94AmOeHAJdCUHNYzLTwQfumVb/OVlZZt5ckt6kwyOmLtUXdXFNUc4FQg3CRIru7jVZ4J12bCfNUyodevWlqmQtoI/0p26Rdfc2lzuhrFeFx4lkn9lIjE2AGOOcMkT14NhGqmHfUe0w1gfJCLxs8E7GBxXqvt4UGE+jkgCV9rzwXPKB8ZPLH/FRxToRbZS1jAhPF8sOvjkk09aUCILsIEWbd++vbeeOTeRGBrWTsKrBIYoE4lUCk59QPohYpx0rwAyg2DMjRs3iRrho4YJkJPF6soyIfmweCXzhlrGhyydiJVTeVax62UzZY1NiJsEgpNlpTHEYnAGTo6r3r2YSBCI3by0RFjDuDKRyN/ivpgwIcR4p45iA/PTiBFv2NUw/WXhdv4MgBtD1YGBpxsDooesrEF4BA6IrKb0ddztW8/U1mE0LYMN2tPYGaMPmtGVUo1GnhuNmLaBn7oM9b6dPE2O0nQKdnyffPKJUbXCBqnqOls2mFWjwY0uSGd7CjRBGa0ZOXJkmvQ87EY4A9EzkHVhG+6LMWHCBGsfAUnMCq+I3CTxuv76663k4Npl6i+Bq6RMIL8LC+OR4Q7jJV4z1qdiH4kQtZRVWIOEneibb76xqS8yVSIMjinT95FuWYuvsHmFMn3cWcuEMv3GJOs/OXwJWP3iiy+EJXdV+rEMCE8ZMXIEtxJFja2DAN4gYRvDfY8qd+mll9plfcsSloiFAshIiUqWDkTIUbdu3QRDdDa742POdbRwFJZkygyAEtdgXKNGZque6Q22v7omuNEsAkbd0AmHoszHO05XSUjYtiQqFVhqNAmbUSnNKIMwM2fOtJdVu5ct19Qkdp88Of52/nxJ5LtRW6BBZVVGa9vzq5Kx0TQTRo29tkxxZDb3Em3nzJljy0rrP8V2mU6dOhkNsi6tLpTqdbPKMB2Ty2ZxIV4y1Evy/oJ70pdWlixZYoNZSbUQyyvmnw6Hk0GNw0VNLhjyLZO7uLQI/BOZI8kaSX4a1GkyAmBAxoVOqgikQKQ3vKEkVW/ZsqWAjAewCkyBMeB4YG4gUp2g6jBGApxpB56MceK0AGFeUqRvu70+OZ8Ak5L3iTGRoB/VuSxSqI6Vxbu+d8y4+bEXgSsi4TshH4S/sM0LCpMrbntRMA0o9hCQzHg5URlBM+PVxENEwC7YHpgTWRBwYeP9VCnCMipgF7zY5M6GKRHQTCgPDAdVEzsYSHkCl7kuOadIkeGnSy65xL9bpNuMBwbqQIkwR9LRMs9lmbIGJ1SWb+K+jt3lHuJ47ENIGqUN2KMvGNdhMvyxggZOBYzvJGgjx7EjhyKGwQC+hBgTbckd7RDQ5Nvu06ePt+oIzABCKglSkCkG68P9op+BkAkV/ZyGZ9yPGYBB4M10RAZJ1CtUL2L9HOaLeozwSE6UYaSnLSol6hzShUIYbIZJ1DIYE2oYif+5BkzKIclhRsUt8bnxhL/RMxDahKLnJCwppRlQrJNdIcQfcIxkBrMhSRuSkGMcdJG6rl27WokJVDHqDX8AD/nD7oL6BWThsssu81YnGTJkiFXfiB/DhgTjCqn0ZiC0CZXe3IdXLsQMEHBLahIISQZVjTzaGN+DuBrsLuQWp40j9ZrZNL9un18kINrGgjD424XbxTsDoSRUvPMbnr2IZsAxIE4HyBJCTQsyIMphTH4GRBl5xoOEChYyoOCslPx+yIRKfs7DK+7nDKBGDR8+3EpE+3mq8PA0mIFQHUuDmxB2IZyBsjwDoSRUlu9+OPZwBtJgBkImlAY3IexCOANleQb+H1t0nqCicraSAAAAAElFTkSuQmCC)"
   ]
  },
  {
   "cell_type": "markdown",
   "metadata": {
    "id": "jSH1HAz25W6G"
   },
   "source": [
    "This circuit is constructed such that the central \"measure\" qubit will be in the $|1\\rangle$ state if an odd number of the four surrounding \"data\" qubits (named a-d in the figure) have a bit-flip error (corresponding to an X gate)."
   ]
  },
  {
   "cell_type": "markdown",
   "metadata": {
    "id": "Hh8gyQWM62zE"
   },
   "source": [
    "## Stabilizer measurements on a **small grid**\n",
    "\n",
    "The examples below demonstrate a single Z stabilizer, similar to the image above. "
   ]
  },
  {
   "cell_type": "markdown",
   "metadata": {
    "id": "QspgLC3WHGJf"
   },
   "source": [
    "### Without noise\n",
    "\n",
    "In a perfectly noiseless Z stabilizer, all qubits will remain in the $|0\\rangle$ state."
   ]
  },
  {
   "cell_type": "code",
   "execution_count": null,
   "metadata": {
    "id": "FOitwZQvHBPQ"
   },
   "outputs": [],
   "source": [
    "data_qubits = [cirq.NamedQubit('data_' + str(x)) for x in 'abcd']\n",
    "measure_qubit = cirq.NamedQubit('_meas')\n",
    "stabilizer_circuit = cirq.Circuit(\n",
    "    *[cirq.CX(data_qubit, measure_qubit) for data_qubit in data_qubits],\n",
    "    cirq.measure(measure_qubit, key='meas'),\n",
    ")\n",
    "\n",
    "print(f'Z-stabilizer circuit:')\n",
    "print('========================')\n",
    "print(stabilizer_circuit)"
   ]
  },
  {
   "cell_type": "code",
   "execution_count": null,
   "metadata": {
    "id": "xXHsAF5FIDcM"
   },
   "outputs": [],
   "source": [
    "simulator = cirq.Simulator()\n",
    "result = simulator.run(stabilizer_circuit, repetitions=100)\n",
    "ax = cirq.plot_state_histogram(result)\n",
    "plt.show(ax)"
   ]
  },
  {
   "cell_type": "markdown",
   "metadata": {
    "id": "5Zwhyvi3IqIC"
   },
   "source": [
    "### With fixed noise\n",
    "\n",
    "If one of the qubits is flipped, the measure qubit will also flip to match the parity of the data qubits."
   ]
  },
  {
   "cell_type": "code",
   "execution_count": null,
   "metadata": {
    "id": "J48W_of2Ir_p"
   },
   "outputs": [],
   "source": [
    "random_data_qubit = random.choice(data_qubits)\n",
    "stabilizer_circuit_with_error = cirq.X(random_data_qubit) + stabilizer_circuit\n",
    "\n",
    "print(f'Z-stabilizer circuit with single error:')\n",
    "print('========================')\n",
    "print(stabilizer_circuit_with_error)"
   ]
  },
  {
   "cell_type": "code",
   "execution_count": null,
   "metadata": {
    "id": "MtJdnKIxI2rc"
   },
   "outputs": [],
   "source": [
    "result = simulator.run(stabilizer_circuit_with_error, repetitions=100)\n",
    "ax = cirq.plot_state_histogram(result)\n",
    "plt.show(ax)"
   ]
  },
  {
   "cell_type": "markdown",
   "metadata": {
    "id": "BZMxGdueKrLu"
   },
   "source": [
    "### With hardware noise on the QVM\n",
    "\n",
    "With hardware-like noise, the stabilizer circuit becomes much more interesting. An arbitrary error could occur at any point:\n",
    "\n",
    "*   On a data qubit before or after the CNOT\n",
    "*   On the measure qubit before or after the CNOTs\n",
    "*   On the measure qubit _between_ CNOTs\n",
    "*   Multiple errors in any combination of the above locations\n",
    "\n",
    "The only indication of that error comes from the output of the measure qubit. By creating a grid of stabilizers and observing how they change over time, it's possible to decode when and where errors occured and compensate for them.\n",
    "\n",
    "The example below only runs a single cycle of one Z stabilizer, so it can't pinpoint error precisely. However, by measuring the data qubits afterwards it's possible to guess at where the error(s) took place."
   ]
  },
  {
   "cell_type": "code",
   "execution_count": null,
   "metadata": {
    "id": "VWx6GaiUKpkW"
   },
   "outputs": [],
   "source": [
    "# Add measurements to the data qubits.\n",
    "stabilizer_circuit_for_hardware = stabilizer_circuit + (\n",
    "    cirq.Moment(cirq.measure(data_qubit, key=str(data_qubit)[-1]) for data_qubit in data_qubits)\n",
    ")\n",
    "print(f'Z-stabilizer circuit with data measurement:')\n",
    "print('========================')\n",
    "print(stabilizer_circuit_for_hardware)"
   ]
  },
  {
   "cell_type": "code",
   "execution_count": null,
   "metadata": {
    "id": "X9SgEuPzfwbD"
   },
   "outputs": [],
   "source": [
    "# Device_stabilizer_plaquette is an X-shaped region of qubits\n",
    "# on the actual device.\n",
    "device_stabilizer_plaquette = [\n",
    "    cirq.GridQubit(5, 3),\n",
    "    cirq.GridQubit(5, 2),\n",
    "    cirq.GridQubit(4, 3),\n",
    "    cirq.GridQubit(5, 4),\n",
    "    cirq.GridQubit(6, 3),\n",
    "]\n",
    "\n",
    "# Translate the circuit to a suitable gate set.\n",
    "test_stabilizer_circuit = cirq.optimize_for_target_gateset(\n",
    "    stabilizer_circuit_for_hardware,\n",
    "    context=cirq.TransformerContext(deep=True),\n",
    "    gateset=cirq.SqrtIswapTargetGateset(),\n",
    ")\n",
    "# Map circuit qubits to hardware ones.\n",
    "qubit_map = dict(zip([measure_qubit] + data_qubits, device_stabilizer_plaquette))\n",
    "# Re-map the circuit to the hardware qubits.\n",
    "test_stabilizer_circuit = test_stabilizer_circuit.transform_qubits(lambda q: qubit_map[q])\n",
    "print(f'Z-stabilizer circuit optimized for {processor_id}:')\n",
    "print('========================')\n",
    "print(test_stabilizer_circuit)"
   ]
  },
  {
   "cell_type": "code",
   "execution_count": null,
   "metadata": {
    "id": "JiUTetihmEA8"
   },
   "outputs": [],
   "source": [
    "# Run for 1k repetitions.\n",
    "repetitions = 1000\n",
    "start = time.time()\n",
    "results = sim_engine.get_sampler(processor_id).run(test_stabilizer_circuit, repetitions=repetitions)\n",
    "elapsed = time.time() - start\n",
    "print(f'{repetitions} repetitions completed in {elapsed:.03f}s')"
   ]
  },
  {
   "cell_type": "markdown",
   "metadata": {
    "id": "c6lmcI_ID7zp"
   },
   "source": [
    "Each result in the histogram below corresponds to a different set of possible errors. Below are some of the most likely cases for each measured result, or \"syndrome\", but there are many other possible cases not listed.\n",
    "\n",
    "*   No flips (`0_0000`) could be no error, or two errors on the same qubit.\n",
    "*   A single data flip (e.g. `0_1000`) could be a post-CNOT data error, or a pre-CNOT data error and a measurement error.\n",
    "*   A data flip and a measure flip (e.g. `1_1000`) could be a pre-CNOT data error or post-CNOT errors on both flipped qubits.\n",
    "*   Two data flips (e.g. `0_1100`) could be pre-CNOT or post-CNOT errors on both flipped qubits.\n",
    "\n",
    "...and so on, for more unusual cases."
   ]
  },
  {
   "cell_type": "code",
   "execution_count": null,
   "metadata": {
    "id": "ydV-1HmnLHT9"
   },
   "outputs": [],
   "source": [
    "# A labeling function.\n",
    "def fold_func(bits) -> str:\n",
    "    suffix = \"\".join(map(str, [bits[i][0] for i in range(1,5)]))\n",
    "    return f\"{bits[0][0]}_{suffix}\"\n",
    "\n",
    "\n",
    "hist = results.multi_measurement_histogram(keys=['meas'] + list('abcd'), fold_func=fold_func)\n",
    "\n",
    "print(\"Results (<meas>_<data>)\")\n",
    "ax = cirq.plot_state_histogram(hist)\n",
    "plt.setp(ax.get_xticklabels(), rotation=30, horizontalalignment='right')\n",
    "plt.show(ax)"
   ]
  },
  {
   "cell_type": "markdown",
   "metadata": {
    "id": "6XgoJWPaH5Qi"
   },
   "source": [
    "As a final exercise on this circuit, it's possible to display a 2D heatmap of measurement results. This will show which qubits measured a $|1\\rangle$ most often; on a hardware device, this could be used to highlight the performance of specific qubits. See [Heatmaps](../noise/heatmaps.ipynb) for more on visualizing error."
   ]
  },
  {
   "cell_type": "code",
   "execution_count": null,
   "metadata": {
    "id": "7NIqBbdWkrMQ"
   },
   "outputs": [],
   "source": [
    "meas_map = {qubit_map[measure_qubit]: sum(results.measurements['meas']) / repetitions}\n",
    "\n",
    "data_map = {\n",
    "    qubit_map[dq]: sum(results.measurements[str(dq)[-1]]) / repetitions for dq in data_qubits\n",
    "}\n",
    "\n",
    "heatmap = cirq.Heatmap({**meas_map, **data_map})\n",
    "heatmap.plot()"
   ]
  },
  {
   "cell_type": "markdown",
   "metadata": {
    "id": "CERJOdfP7Ctx"
   },
   "source": [
    "## Stabilizer measurements on a **large grid**\n",
    "\n",
    "The next examples scale up the stabilizer grid to a 2x3 block of three Z stabilizers and three X stabilizers. Combining both stabilizer types allows many types of error to be detected and compensated for, although some ambiguity still remains. It also manually maps the circuit to the hardware qubits.\n",
    "\n",
    "A real logical qubit would require many more stabilizers to be fault-tolerant; however, this toy example is already near the upper bound of what a full statevector simulator can simulate on personal-level computers."
   ]
  },
  {
   "cell_type": "code",
   "execution_count": null,
   "metadata": {
    "id": "g__a69njShB_"
   },
   "outputs": [],
   "source": [
    "# Consider the following grid, where numbers represent\n",
    "# measure qubits and letters represent data qubits:\n",
    "#\n",
    "#     A\n",
    "#    B0C\n",
    "#   D1E2F\n",
    "#    G3H4J\n",
    "#     K5L\n",
    "#      M\n",
    "#\n",
    "# Center Z-plaquettes on [0, 3, 4] and\n",
    "# X-plaquettes on [1, 2, 5]\n",
    "\n",
    "# Instantiate the alphabetical data qubits and numerical measurement qubits.\n",
    "grid_data_qubits = {x: cirq.NamedQubit(x) for x in 'ABCDEFGHJKLM'}\n",
    "grid_meas_qubits = {x: cirq.NamedQubit(str(x)) for x in range(6)}\n",
    "\n",
    "# Build the diamond shaped stabilizer circuit from six layered smaller stabilizers.\n",
    "stabilizer_grid_circuit = cirq.Circuit(\n",
    "    cirq.H.on_each(grid_meas_qubits[x] for x in [1, 2, 5]),\n",
    "    *[cirq.CX(grid_data_qubits[x], grid_meas_qubits[0]) for x in 'ABCE'],\n",
    "    *[cirq.CX(grid_meas_qubits[1], grid_data_qubits[x]) for x in 'BDEG'],\n",
    "    *[cirq.CX(grid_meas_qubits[2], grid_data_qubits[x]) for x in 'CEFH'],\n",
    "    *[cirq.CX(grid_data_qubits[x], grid_meas_qubits[3]) for x in 'EGHK'],\n",
    "    *[cirq.CX(grid_data_qubits[x], grid_meas_qubits[4]) for x in 'FHJL'],\n",
    "    *[cirq.CX(grid_meas_qubits[5], grid_data_qubits[x]) for x in 'HKLM'],\n",
    "    cirq.H.on_each(grid_meas_qubits[x] for x in [1, 2, 5]),\n",
    "    *[cirq.measure(mq) for mq in grid_meas_qubits.values()],\n",
    "    *[cirq.measure(dq) for dq in grid_data_qubits.values()],\n",
    ")\n",
    "# Map the named qubits of the stabilizer circuit to GridQubits on the hardware.\n",
    "qubit_map = {\n",
    "    cirq.NamedQubit('A'): cirq.GridQubit(4, 3),\n",
    "    cirq.NamedQubit('B'): cirq.GridQubit(5, 2),\n",
    "    cirq.NamedQubit('0'): cirq.GridQubit(5, 3),\n",
    "    cirq.NamedQubit('C'): cirq.GridQubit(5, 4),\n",
    "    cirq.NamedQubit('D'): cirq.GridQubit(6, 1),\n",
    "    cirq.NamedQubit('1'): cirq.GridQubit(6, 2),\n",
    "    cirq.NamedQubit('E'): cirq.GridQubit(6, 3),\n",
    "    cirq.NamedQubit('2'): cirq.GridQubit(6, 4),\n",
    "    cirq.NamedQubit('F'): cirq.GridQubit(6, 5),\n",
    "    cirq.NamedQubit('G'): cirq.GridQubit(7, 2),\n",
    "    cirq.NamedQubit('3'): cirq.GridQubit(7, 3),\n",
    "    cirq.NamedQubit('H'): cirq.GridQubit(7, 4),\n",
    "    cirq.NamedQubit('4'): cirq.GridQubit(7, 5),\n",
    "    cirq.NamedQubit('J'): cirq.GridQubit(7, 6),\n",
    "    cirq.NamedQubit('K'): cirq.GridQubit(8, 3),\n",
    "    cirq.NamedQubit('5'): cirq.GridQubit(8, 4),\n",
    "    cirq.NamedQubit('L'): cirq.GridQubit(8, 5),\n",
    "    cirq.NamedQubit('M'): cirq.GridQubit(9, 4),\n",
    "}\n",
    "stabilizer_grid_circuit = stabilizer_grid_circuit.transform_qubits(lambda q: qubit_map[q])\n",
    "print(stabilizer_grid_circuit)"
   ]
  },
  {
   "cell_type": "markdown",
   "metadata": {
    "id": "ljEDw02_kzTT"
   },
   "source": [
    "### [Optional] View 3D circuit\n",
    "\n",
    "Large circuits that are mapped to grids are suitable to be visualized in 3D with `cirq_web`, if you find it useful, as follows:"
   ]
  },
  {
   "cell_type": "code",
   "execution_count": null,
   "metadata": {
    "id": "BsSR-ndEi0Tq"
   },
   "outputs": [],
   "source": [
    "!pip install -q cirq-web~=1.0.dev\n",
    "import cirq_web\n",
    "\n",
    "circuit_vis = cirq_web.Circuit3D(stabilizer_grid_circuit)\n",
    "display(circuit_vis)"
   ]
  },
  {
   "cell_type": "markdown",
   "metadata": {
    "id": "3T0UsKjVJZTb"
   },
   "source": [
    "### Without noise\n",
    "\n",
    "The noiseless version of the larger grid is slightly more exciting than the small grid example: the X measure qubits will measure a random state since their neighbors are initialized in the Z basis. However, subsequent measurements will remain consistent.\n",
    "\n",
    "The example below runs a single cycle of the 2x3 grid 100 times, then does a Z-basis measurement of all data qubits. Since each of these is a separate execution of the circuit, no correlation is expected between repetitions."
   ]
  },
  {
   "cell_type": "code",
   "execution_count": null,
   "metadata": {
    "id": "2YwmAqBJSPHM"
   },
   "outputs": [],
   "source": [
    "noiseless_sim = qsimcirq.QSimSimulator()\n",
    "\n",
    "repetitions = 100\n",
    "start = time.time()\n",
    "results = noiseless_sim.run(stabilizer_grid_circuit, repetitions=repetitions)\n",
    "elapsed = time.time() - start\n",
    "print(f'{repetitions} repetitions completed in {elapsed:.03f}s')"
   ]
  },
  {
   "cell_type": "code",
   "execution_count": null,
   "metadata": {
    "id": "o1D_wxTCScFf"
   },
   "outputs": [],
   "source": [
    "# Set to view results from each repetition.\n",
    "repetition = 0  # @param {type:\"number\"}\n",
    "meas_map = {\n",
    "    qubit_map[q]: results.measurements[str(q)][repetition] for q in grid_meas_qubits.values()\n",
    "}\n",
    "\n",
    "data_map = {\n",
    "    qubit_map[q]: results.measurements[str(q)][repetition] for q in grid_data_qubits.values()\n",
    "}\n",
    "\n",
    "heatmap = cirq.Heatmap({**meas_map, **data_map})\n",
    "heatmap.plot()"
   ]
  },
  {
   "cell_type": "markdown",
   "metadata": {
    "id": "2PamsJlJSHhd"
   },
   "source": [
    "### With hardware noise on the QVM\n",
    "\n",
    "Adding in hardware-like noise means that subsequent cycles of a stabilizer might disagree with one another. These inconsistencies can be interpreted as various error modes, which can be decoded to compensate for the errors observed.\n",
    "\n",
    "Decoding stabilizer error is a complex topic not covered here, but the pre-decoding results and data qubit measurements shown below may shed some light on how to approach this process."
   ]
  },
  {
   "cell_type": "code",
   "execution_count": null,
   "metadata": {
    "id": "BQV2XcR5gd6X"
   },
   "outputs": [],
   "source": [
    "test_stabilizer_grid_circuit = cirq.optimize_for_target_gateset(\n",
    "    cirq.Circuit(cirq.decompose(stabilizer_grid_circuit)),\n",
    "    context=cirq.TransformerContext(deep=True),\n",
    "    gateset=cirq.SqrtIswapTargetGateset(),\n",
    ")\n",
    "print(test_stabilizer_grid_circuit)"
   ]
  },
  {
   "cell_type": "code",
   "execution_count": null,
   "metadata": {
    "id": "h3T2WqzibNfg"
   },
   "outputs": [],
   "source": [
    "repetitions = 100\n",
    "start = time.time()\n",
    "results = sim_engine.get_sampler(processor_id).run(\n",
    "    test_stabilizer_grid_circuit, repetitions=repetitions\n",
    ")\n",
    "elapsed = time.time() - start\n",
    "print(f'{repetitions} repetitions completed in {elapsed:.03f}s')"
   ]
  },
  {
   "cell_type": "code",
   "execution_count": null,
   "metadata": {
    "id": "5dP0h-OCYJjL"
   },
   "outputs": [],
   "source": [
    "# Set to view results from each repetition.\n",
    "repetition = 0  # @param {type:\"number\"}\n",
    "meas_map = {\n",
    "    qubit_map[q]: results.measurements[str(q)][repetition] for q in grid_meas_qubits.values()\n",
    "}\n",
    "\n",
    "data_map = {\n",
    "    qubit_map[q]: results.measurements[str(q)][repetition] for q in grid_data_qubits.values()\n",
    "}\n",
    "\n",
    "heatmap = cirq.Heatmap({**meas_map, **data_map})\n",
    "heatmap.plot()"
   ]
  }
 ],
 "metadata": {
  "colab": {
   "collapsed_sections": [],
   "name": "qvm_stabilizer_example.ipynb",
   "toc_visible": true
  },
  "kernelspec": {
   "display_name": "Python 3",
   "name": "python3"
  }
 },
 "nbformat": 4,
 "nbformat_minor": 0
}
