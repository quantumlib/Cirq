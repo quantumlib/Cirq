{
 "cells": [
  {
   "cell_type": "markdown",
   "metadata": {
    "id": "Vc_pi_tJfgbD"
   },
   "source": [
    "##### Copyright 2020 The Cirq Developers"
   ]
  },
  {
   "cell_type": "code",
   "execution_count": null,
   "metadata": {
    "cellView": "form",
    "id": "nF8-mErJfgv6"
   },
   "outputs": [],
   "source": [
    "# @title Licensed under the Apache License, Version 2.0 (the \"License\");\n",
    "# you may not use this file except in compliance with the License.\n",
    "# You may obtain a copy of the License at\n",
    "#\n",
    "# https://www.apache.org/licenses/LICENSE-2.0\n",
    "#\n",
    "# Unless required by applicable law or agreed to in writing, software\n",
    "# distributed under the License is distributed on an \"AS IS\" BASIS,\n",
    "# WITHOUT WARRANTIES OR CONDITIONS OF ANY KIND, either express or implied.\n",
    "# See the License for the specific language governing permissions and\n",
    "# limitations under the License."
   ]
  },
  {
   "cell_type": "markdown",
   "metadata": {
    "id": "lsV6t2orfimn"
   },
   "source": [
    "# Qudits"
   ]
  },
  {
   "cell_type": "markdown",
   "metadata": {
    "id": "H8uAzxCifjsb"
   },
   "source": [
    "<table class=\"tfo-notebook-buttons\" align=\"left\">\n",
    "  <td>\n",
    "    <a target=\"_blank\" href=\"https://quantumai.google/cirq/build/qudits\"><img src=\"https://quantumai.google/site-assets/images/buttons/quantumai_logo_1x.png\" />View on QuantumAI</a>\n",
    "  </td>\n",
    "  <td>\n",
    "    <a target=\"_blank\" href=\"https://colab.research.google.com/github/quantumlib/Cirq/blob/main/docs/build/qudits.ipynb\"><img src=\"https://quantumai.google/site-assets/images/buttons/colab_logo_1x.png\" />Run in Google Colab</a>\n",
    "  </td>\n",
    "  <td>\n",
    "    <a target=\"_blank\" href=\"https://github.com/quantumlib/Cirq/blob/main/docs/build/qudits.ipynb\"><img src=\"https://quantumai.google/site-assets/images/buttons/github_logo_1x.png\" />View source on GitHub</a>\n",
    "  </td>\n",
    "  <td>\n",
    "    <a href=\"https://storage.googleapis.com/tensorflow_docs/Cirq/docs/build/qudits.ipynb\"><img src=\"https://quantumai.google/site-assets/images/buttons/download_icon_1x.png\" />Download notebook</a>\n",
    "  </td>\n",
    "</table>"
   ]
  },
  {
   "cell_type": "code",
   "execution_count": null,
   "metadata": {
    "id": "bd9529db1c0b"
   },
   "outputs": [],
   "source": [
    "try:\n",
    "    import cirq\n",
    "except ImportError:\n",
    "    print(\"installing cirq...\")\n",
    "    !pip install --quiet cirq\n",
    "    print(\"installed cirq.\")"
   ]
  },
  {
   "cell_type": "markdown",
   "metadata": {
    "id": "9c07f9b01c71"
   },
   "source": [
    "Most of the time in quantum computation, we work with qubits, which are 2-level quantum systems. However, it is possible to also define quantum computation with higher dimensional systems. A qu-*d*-it is a generalization of a qubit to a d-level or d-dimension system.  For example, the state of a single qubit is a superposition of two basis states, $|\\psi\\rangle=\\alpha|0\\rangle+\\beta|1\\rangle$, whereas the state of a qudit for a three dimensional system is a superposition of three basis states $|\\psi\\rangle=\\alpha|0\\rangle+\\beta|1\\rangle+\\gamma|2\\rangle$.\n",
    "\n",
    "Qudits with known values for d have specific names. A **qubit** has dimension 2, a **qutrit** has dimension 3, a **ququart** has dimension 4, and so on.\n",
    "In Cirq, qudits work exactly like qubits except they have a `dimension` attribute different than 2, and they can only be used with gates specific to that dimension. In cirq, both qubits and qudits are subclasses of the class `cirq.Qid`. \n",
    "\n",
    "To apply a gate to some qudits, the dimensions of the qudits must match the dimensions it works on.  For example, consider gate represents a unitary evolution on three qudits,. Further suppose that there are a qubit, a qutrit, and another qutrit. Then the gate's \"qid shape\" is `(2, 3, 3)` and its `on` method will accept exactly 3 `Qid`s with dimension 2, 3, and 3, respectively.\n",
    "\n",
    "This is an example single qutrit gate acting on a single qutrit in a simple quantum circuit:\n"
   ]
  },
  {
   "cell_type": "code",
   "execution_count": null,
   "metadata": {
    "id": "6b3c6308ddd3"
   },
   "outputs": [],
   "source": [
    "import cirq\n",
    "import numpy as np\n",
    "\n",
    "\n",
    "class QutritPlusGate(cirq.Gate):\n",
    "    \"\"\"A gate that adds one in the computational basis of a qutrit.\n",
    "\n",
    "    This gate acts on three-level systems. In the computational basis of\n",
    "    this system it enacts the transformation U|x〉 = |x + 1 mod 3〉, or\n",
    "    in other words U|0〉 = |1〉, U|1〉 = |2〉, and U|2> = |0〉.\n",
    "    \"\"\"\n",
    "\n",
    "    def _qid_shape_(self):\n",
    "        # By implementing this method this gate implements the\n",
    "        # cirq.qid_shape protocol and will return the tuple (3,)\n",
    "        # when cirq.qid_shape acts on an instance of this class.\n",
    "        # This indicates that the gate acts on a single qutrit.\n",
    "        return (3,)\n",
    "\n",
    "    def _unitary_(self):\n",
    "        # Since the gate acts on three level systems it has a unitary\n",
    "        # effect which is a three by three unitary matrix.\n",
    "        return np.array([[0, 0, 1], [1, 0, 0], [0, 1, 0]])\n",
    "\n",
    "    def _circuit_diagram_info_(self, args):\n",
    "        return '[+1]'\n",
    "\n",
    "\n",
    "# Here we create a qutrit for the gate to act on.\n",
    "q0 = cirq.LineQid(0, dimension=3)\n",
    "\n",
    "# We can now enact the gate on this qutrit.\n",
    "circuit = cirq.Circuit(QutritPlusGate().on(q0))\n",
    "\n",
    "# When we print this out we see that the qutrit is labeled by its dimension.\n",
    "print(circuit)"
   ]
  },
  {
   "cell_type": "markdown",
   "metadata": {
    "id": "vWUhanx-fofU"
   },
   "source": [
    "## cirq.Qid\n",
    "\n",
    "`cirq.Qid` is the type that represents both qubits and qudits.\n",
    "\n",
    "Cirq has the built-in qubit types, `cirq.NamedQubit`, `cirq.GridQubit`, and `cirq.LineQubit`, and it also provides corresponding `cirq.Qid` types: \n",
    "\n",
    "- `cirq.NamedQid`\n",
    "  - Example: Create a qutrit named 'a' by specifying the dimension in the constructor: `cirq.NamedQid('a', dimension=3)`.\n",
    "- `cirq.GridQid` \n",
    "  - Example: Create a qutrit at location (2, 0) by specifying the dimension in the constructor: `cirq.GridQid(2, 0, dimension=3)`.\n",
    "  - Example: You can create regions of `cirq.GridQid`s. For example, to create a 2x2 grid of ququarts, use `cirq.GridQid.rect(2, 2, dimension=4)`.\n",
    "- `cirq.LineQid` \n",
    "  - Example: Create a qutrit at location 1 on the line by specifying the dimension in the constructor: `cirq.LineQid(0, dimension=3)`.\n",
    "  - Example: You can create ranges of `cirq.LineQid`s. For example, to create qutrits on a line with locations from 0 to 4, use `cirq.LineQid.range(5, dimension=3)`.\n",
    "  \n",
    "By default `cirq.Qid` classes in cirq will default to qubits unless their `dimension` parameter is specified in creation. Thus a `cirq.Qid` like `cirq.NamedQid('a')` is a qubit."
   ]
  },
  {
   "cell_type": "markdown",
   "metadata": {
    "id": "CYYtVX6Ffq0b"
   },
   "source": [
    "### The `cirq.qid_shape` protocol\n",
    "\n",
    "Quantum gates, operations, and other types that act on a sequence of qudits can specify the dimension of each qudit they act on by implementing the `_qid_shape_` magic method.  This method returns a tuple of integers corresponding to the required dimension of each qudit it operates on, e.g. `(2, 3, 3)` means an object that acts on a qubit, a qutrit, and another qutrit.  When you specify `_qid_shape_` we say that the object implements the `qid_shape` protocol.\n",
    "\n",
    "When `cirq.Qid`s are used with `cirq.Gate`s, `cirq.Operation`s, and `cirq.Circuit`s, the dimension of each qid must match the corresponding entry in the qid shape. An error is raised otherwise.\n",
    "\n",
    "Callers can query the qid shape of an object or a list of `Qid`s by calling `cirq.qid_shape` on it. By default, `cirq.qid_shape` will return the equivalent qid shape for qubits if `_qid_shape_` is not defined.  In particular, for a qubit-only gate the qid shape is a tuple of 2s containing one 2 for each qubit e.g. `(2,) * cirq.num_qubits(gate)`."
   ]
  },
  {
   "cell_type": "code",
   "execution_count": null,
   "metadata": {
    "id": "ace20c5d8540"
   },
   "outputs": [],
   "source": [
    "# Create an instance of the qutrit gate defined above.\n",
    "gate = QutritPlusGate()\n",
    "\n",
    "# Verify that it acts on a single qutrit.\n",
    "print(cirq.qid_shape(gate))"
   ]
  },
  {
   "cell_type": "markdown",
   "metadata": {
    "id": "GFh0hjB4ftMA"
   },
   "source": [
    "### Unitaries, mixtures, and channels on qudits\n",
    "\n",
    "The magic methods `_unitary_`, `_apply_unitary_`, `_mixture_`, and `_kraus_` can be used to define unitary gates, mixtures, and channels can be used with qudits (see [protocols](protocols.ipynb) for how these work.)\n",
    "\n",
    "Because the state space for qudits for $d>2$ live on larger dimensional spaces, the corresponding objects returned by the magic methods will be of corresponding higher dimension. "
   ]
  },
  {
   "cell_type": "code",
   "execution_count": null,
   "metadata": {
    "id": "d6ea1b23d1c5"
   },
   "outputs": [],
   "source": [
    "# Create an instance of the qutrit gate defined above. This gate implements _unitary_.\n",
    "gate = QutritPlusGate()\n",
    "\n",
    "# Because it acts on qutrits, its unitary is a 3 by 3 matrix.\n",
    "print(cirq.unitary(gate))"
   ]
  },
  {
   "cell_type": "markdown",
   "metadata": {
    "id": "cdd798defc4d"
   },
   "source": [
    "For a single qubit gate, its unitary is a 2x2 matrix, whereas for a single qutrit gate its unitary is a 3x3 matrix.  A two qutrit gate will have a unitary that is a 9x9 matrix (3 * 3 = 9) and a qubit-ququart gate will have a unitary that is an 8x8 matrix (2 * 4 = 8).  The size of the matrices involved in defining mixtures and channels follow the same pattern."
   ]
  },
  {
   "cell_type": "markdown",
   "metadata": {
    "id": "8a68e38cd33a"
   },
   "source": [
    "### Simulating qudits\n",
    "\n",
    "Cirq's simulators can be used to simulate or sample from circuits which act on qudits.\n",
    "\n",
    "Simulators like `cirq.Simulator` and `cirq.DensityMatrixSimulator` will return simulation results with larger states than the same size qubit circuit when simulating qudit circuits. The size of the state returned is determined by the product of the dimensions of the qudits being simulated. For example, the state vector output of `cirq.Simulator` after simulating a circuit on a qubit, a qutrit, and a qutrit will have 2 * 3 * 3 = 18 elements. You can call `cirq.qid_shape(simulation_result)` to check the qudit dimensions.\n"
   ]
  },
  {
   "cell_type": "code",
   "execution_count": null,
   "metadata": {
    "id": "509a4796a715"
   },
   "outputs": [],
   "source": [
    "# Create a circuit from the gate we defined above.\n",
    "q0 = cirq.LineQid(0, dimension=3)\n",
    "circuit = cirq.Circuit(QutritPlusGate()(q0))\n",
    "\n",
    "# Run a simulation of this circuit.\n",
    "sim = cirq.Simulator()\n",
    "result = sim.simulate(circuit)\n",
    "\n",
    "# Verify that the returned state is that of a qutrit.\n",
    "print(cirq.qid_shape(result))"
   ]
  },
  {
   "cell_type": "markdown",
   "metadata": {
    "id": "67887651a3ca"
   },
   "source": [
    "Circuits on qudits are always assumed to start in the $|0\\rangle$ computational basis state, and all the computational basis states of a qudit are assumed to be $|0\\rangle$, $|1\\rangle$, ..., $|d-1\\rangle$.  Correspondingly, measurements of qudits are assumed to be in the computational basis and for each qudit return an integer corresponding to these basis states.  Thus measurement results for each qudit are assumed to run from $0$ to $d-1$."
   ]
  },
  {
   "cell_type": "code",
   "execution_count": null,
   "metadata": {
    "id": "f08d7216b7eb"
   },
   "outputs": [],
   "source": [
    "# Create a circuit with three qutrit gates.\n",
    "q0, q1 = cirq.LineQid.range(2, dimension=3)\n",
    "circuit = cirq.Circuit(\n",
    "    [\n",
    "        QutritPlusGate()(q0),\n",
    "        QutritPlusGate()(q1),\n",
    "        QutritPlusGate()(q1),\n",
    "        cirq.measure(q0, q1, key=\"x\"),\n",
    "    ]\n",
    ")\n",
    "\n",
    "# Sample from this circuit.\n",
    "result = cirq.sample(circuit, repetitions=3)\n",
    "\n",
    "# See that the results are all integers from 0 to 2.\n",
    "print(result)"
   ]
  }
 ],
 "metadata": {
  "colab": {
   "name": "qudits.ipynb",
   "toc_visible": true
  },
  "kernelspec": {
   "display_name": "Python 3",
   "name": "python3"
  }
 },
 "nbformat": 4,
 "nbformat_minor": 0
}
