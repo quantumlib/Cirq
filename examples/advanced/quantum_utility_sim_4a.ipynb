{
 "nbformat": 4,
 "nbformat_minor": 0,
 "metadata": {
  "colab": {
   "provenance": []
  },
  "kernelspec": {
   "name": "python3",
   "display_name": "Python 3"
  },
  "language_info": {
   "name": "python"
  }
 },
 "cells": [
  {
   "cell_type": "code",
   "source": [
    "# Copyright 2023 The Cirq Developers\n",
    "#\n",
    "# Licensed under the Apache License, Version 2.0 (the \"License\");\n",
    "# you may not use this file except in compliance with the License.\n",
    "# You may obtain a copy of the License at\n",
    "#\n",
    "#     https://www.apache.org/licenses/LICENSE-2.0\n",
    "#\n",
    "# Unless required by applicable law or agreed to in writing, software\n",
    "# distributed under the License is distributed on an \"AS IS\" BASIS,\n",
    "# WITHOUT WARRANTIES OR CONDITIONS OF ANY KIND, either express or implied.\n",
    "# See the License for the specific language governing permissions and\n",
    "# limitations under the License."
   ],
   "metadata": {
    "id": "0w8r0YTyFMC4"
   },
   "execution_count": 1,
   "outputs": []
  },
  {
   "cell_type": "markdown",
   "source": [
    "# Quantum utility\n",
    "\n",
    "This colab contains code for simulating a circuit described in [1] on a subset\n",
    "of qubits sufficient for reproducing the results in Fig. 4a. Running this simulation requires ~24GB of RAM, which may require a local runtime.\n",
    "Additional RAM and/or compute cores can improve performance.\n",
    "\n",
    "[1] Kim, Y., Eddins, A., Anand, S. et al. Evidence for the utility of quantum\n",
    "computing before fault tolerance. Nature 618, 500–505 (2023).\n",
    "https://doi.org/10.1038/s41586-023-06096-3"
   ],
   "metadata": {
    "id": "cA7ijEELYIh2"
   }
  },
  {
   "cell_type": "code",
   "source": [
    "try:\n",
    "    import cirq\n",
    "except ImportError:\n",
    "    print(\"installing cirq...\")\n",
    "    !pip install --quiet cirq\n",
    "    print(\"installed cirq.\")\n",
    "\n",
    "try:\n",
    "    import qsimcirq\n",
    "except ImportError:\n",
    "    print(\"installing qsimcirq...\")\n",
    "    !pip install --quiet qsimcirq\n",
    "    print(\"installed qsimcirq.\")"
   ],
   "metadata": {
    "id": "kyyLlwIt2cs1"
   },
   "execution_count": 2,
   "outputs": []
  },
  {
   "cell_type": "code",
   "source": [
    "import cirq\n",
    "import qsimcirq\n",
    "import matplotlib.pyplot as plt\n",
    "import numpy as np\n",
    "import sympy"
   ],
   "metadata": {
    "id": "oxlQXSsI2dOC"
   },
   "execution_count": 3,
   "outputs": []
  },
  {
   "cell_type": "code",
   "execution_count": 4,
   "metadata": {
    "id": "cMvJ0vVs0MVr"
   },
   "outputs": [],
   "source": [
    "# These 30 qubits contain the measured observable:\n",
    "#\n",
    "#   37-38-39-40-41-42         .   X--Y--39-Y--X--Y          .\n",
    "#   |           |             .   |           |             .\n",
    "#   52          53            .   X          53             .\n",
    "#   |           |             .   |           |             .\n",
    "#   56-57-58-59-60-61-62-63   .   X--57-X--59-60-61-X--Y    .\n",
    "#         |           |       .         |           |       .\n",
    "#         71          72      .         71          Y       .\n",
    "#         |           |       .         |           |       .\n",
    "#   75-76-77-78-79-80-81      .   Z--76-77-78-X--Y--81      .\n",
    "#   |           |             .   |           |             .\n",
    "#   90          91            .   Y           Y             .\n",
    "#   |           |             .   |           |             .\n",
    "#   94-95       98            .   94-95       98            .\n",
    "#\n",
    "qubit_ids = [\n",
    "    *range(37, 43),  # row 0\n",
    "    *range(52, 54),  # row 1\n",
    "    *range(56, 64),  # row 2\n",
    "    *range(71, 73),  # row 3\n",
    "    *range(75, 82),  # row 4\n",
    "    *range(90, 92),  # row 5\n",
    "    *(94, 95, 98),  # row 6\n",
    "]\n",
    "q = {i: cirq.NamedQubit(f'q{i}') for i in qubit_ids}\n",
    "qubits = list(q.values())\n",
    "\n",
    "# This parameter will be used to sweep over X rotation angles.\n",
    "theta = sympy.Symbol('theta')\n",
    "x_rotations = cirq.Moment(cirq.rx(theta).on_each(qubits))\n",
    "\n",
    "# This is the ZZ(-pi/2) gate described in equation (2).\n",
    "zz_pi_2 = cirq.ZZ**-0.5\n",
    "\n",
    "# Each of these moments performs ZZ interactions along\n",
    "# 1/3 of the edges in the region, corresponding to the\n",
    "# red, blue, and green edges in Fig. 1b.\n",
    "zz_layer_1 = cirq.Moment(\n",
    "    zz_pi_2(q[37], q[52]),\n",
    "    zz_pi_2(q[41], q[53]),\n",
    "    zz_pi_2(q[56], q[57]),\n",
    "    zz_pi_2(q[58], q[71]),\n",
    "    zz_pi_2(q[59], q[60]),\n",
    "    zz_pi_2(q[61], q[62]),\n",
    "    zz_pi_2(q[72], q[81]),\n",
    "    zz_pi_2(q[76], q[77]),\n",
    "    zz_pi_2(q[78], q[79]),\n",
    "    zz_pi_2(q[94], q[95]),\n",
    ")\n",
    "zz_layer_2 = cirq.Moment(\n",
    "    zz_pi_2(q[38], q[39]),\n",
    "    zz_pi_2(q[40], q[41]),\n",
    "    zz_pi_2(q[53], q[60]),\n",
    "    zz_pi_2(q[57], q[58]),\n",
    "    zz_pi_2(q[62], q[63]),\n",
    "    zz_pi_2(q[71], q[77]),\n",
    "    zz_pi_2(q[75], q[76]),\n",
    "    zz_pi_2(q[79], q[80]),\n",
    "    zz_pi_2(q[90], q[94]),\n",
    "    zz_pi_2(q[91], q[98]),\n",
    ")\n",
    "zz_layer_3 = cirq.Moment(\n",
    "    zz_pi_2(q[37], q[38]),\n",
    "    zz_pi_2(q[39], q[40]),\n",
    "    zz_pi_2(q[41], q[42]),\n",
    "    zz_pi_2(q[52], q[56]),\n",
    "    zz_pi_2(q[58], q[59]),\n",
    "    zz_pi_2(q[60], q[61]),\n",
    "    zz_pi_2(q[62], q[72]),\n",
    "    zz_pi_2(q[75], q[90]),\n",
    "    zz_pi_2(q[77], q[78]),\n",
    "    zz_pi_2(q[79], q[91]),\n",
    "    zz_pi_2(q[80], q[81]),\n",
    ")\n",
    "\n",
    "# This circuit encapsulates a single \"step\", as shown\n",
    "# in Fig. 1a.\n",
    "step = cirq.FrozenCircuit(x_rotations, zz_layer_1, zz_layer_2, zz_layer_3)\n",
    "# Uncomment this line to print the circuit diagram for\n",
    "# a single step of the circuit.\n",
    "# print(step)"
   ]
  },
  {
   "cell_type": "code",
   "source": [
    "# The circuit used to generate Fig. 4a consists of 5 steps + final rotations.\n",
    "# Changing \"repetitions\" here will adjust the number of steps simulated.\n",
    "all_steps = cirq.CircuitOperation(step, repetitions=5)\n",
    "circuit = cirq.Circuit(all_steps, x_rotations)\n",
    "\n",
    "# These are the component parts of the observable used in Fig. 4a.\n",
    "x_obs = cirq.DensePauliString('X' * 8).on(*(q[i] for i in [37, 41, 52, 56, 57, 58, 62, 79]))\n",
    "y_obs = cirq.DensePauliString('Y' * 8).on(*(q[i] for i in [38, 40, 42, 63, 72, 80, 90, 91]))\n",
    "z_obs = cirq.DensePauliString('Z').on(q[75])\n",
    "observables = [x_obs * y_obs * z_obs]\n",
    "\n",
    "# These are approximately the values of theta plotted for experimental values\n",
    "# in Fig. 4a. Changing this list will adjust the simulation to test other\n",
    "# theta values.\n",
    "theta_values = [0, 0.25, 0.5, 1, *np.linspace(1.2, 1.5, 7), np.pi / 2]\n",
    "params = cirq.Points(key=\"theta\", points=theta_values)\n",
    "\n",
    "# These options are used to tune qsim performance.\n",
    "# On CPU, \"cpu_threads\" should be set to the number of cores available.\n",
    "opt = qsimcirq.QSimOptions(max_fused_gate_size=4, cpu_threads=24)\n",
    "# To use GPU instead, uncomment this line:\n",
    "# opt = qsimcirq.QSimOptions(use_gpu=True, gpu_mode=1)\n",
    "simulator = qsimcirq.QSimSimulator(qsim_options=opt)"
   ],
   "metadata": {
    "id": "d3eqfPR_K4SY"
   },
   "execution_count": 5,
   "outputs": []
  },
  {
   "cell_type": "code",
   "source": [
    "%%time\n",
    "# This will log after each value of theta is simulated. Its purpose is to\n",
    "# give an indication of total runtime before all simulations finish.\n",
    "results = []\n",
    "for i, result in enumerate(\n",
    "    simulator.simulate_expectation_values_sweep_iter(circuit, observables, params)\n",
    "):\n",
    "    results.append(result)\n",
    "    print(f\"Completed theta={theta_values[i]:.3f}; value={result}\")\n",
    "\n",
    "# Runtimes logged in the output of this cell were achieved using a machine with\n",
    "# 24 cores and 80GB of RAM."
   ],
   "metadata": {
    "colab": {
     "base_uri": "https://localhost:8080/"
    },
    "id": "jabNt3Q72QWa",
    "outputId": "55258f37-a139-446f-cded-15c2b8ed5b35"
   },
   "execution_count": 6,
   "outputs": [
    {
     "output_type": "stream",
     "name": "stdout",
     "text": [
      "Completed theta=0.000; value=[0j]\n",
      "Completed theta=0.250; value=[(4.377516467318132e-10-3.8454568700662104e-17j)]\n",
      "Completed theta=0.500; value=[(-5.663425648032262e-07-6.273358064614394e-15j)]\n",
      "Completed theta=1.000; value=[(-0.002025490629580058-1.285792463169913e-12j)]\n",
      "Completed theta=1.200; value=[(-0.08619230321475829-4.390203478532584e-13j)]\n",
      "Completed theta=1.250; value=[(-0.16428450008848153-1.3782378016635732e-15j)]\n",
      "Completed theta=1.300; value=[(-0.28045473459690645-6.927717947913248e-13j)]\n",
      "Completed theta=1.350; value=[(-0.43263143032440227+2.2862267634593536e-13j)]\n",
      "Completed theta=1.400; value=[(-0.6074061541964849+7.668017696499385e-13j)]\n",
      "Completed theta=1.450; value=[(-0.7798960015332366-1.6847268480453537e-12j)]\n",
      "Completed theta=1.500; value=[(-0.9182744564246872+4.436968438601037e-13j)]\n",
      "Completed theta=1.571; value=[(-0.9999907156716326-4.9043406579730134e-17j)]\n",
      "CPU times: user 2h 3min 1s, sys: 4min, total: 2h 7min 2s\n",
      "Wall time: 6min 8s\n"
     ]
    }
   ]
  },
  {
   "cell_type": "code",
   "source": [
    "# Each element of \"results\" is a list of one expectation value.\n",
    "# For visual simplicity, the results are negated.\n",
    "plot_results = [-x[0].real for x in results]\n",
    "\n",
    "# Plot the results in the format of Fig. 4a.\n",
    "plt.plot(np.array(theta_values), plot_results, 'bo')\n",
    "plt.xlabel(r\"$ R_X $ angle $ \\theta_h $\")\n",
    "plt.ylabel(r\"$ \\langle X_{37,41,52,56,57,58,62,79} Y_{38,40,42,63,72,80,90,91} Z_{75} \\rangle $\")\n",
    "plt.xticks(np.linspace(0, np.pi / 2, 5), [\"0\", \"π/8\", \"π/4\", \"3π/8\", \"π/2\"])\n",
    "plt.yticks(np.linspace(0, 1, 6))\n",
    "plt.show()"
   ],
   "metadata": {
    "colab": {
     "base_uri": "https://localhost:8080/",
     "height": 283
    },
    "id": "1jiA6Yy7KGpy",
    "outputId": "99ae5c8c-8bfb-4985-861c-da1f8f4108ca"
   },
   "execution_count": 7,
   "outputs": [
    {
     "output_type": "display_data",
     "data": {
      "text/plain": [
       "<Figure size 432x288 with 1 Axes>"
      ],
      "image/png": "[encoded data removed]"
     },
     "metadata": {
      "needs_background": "light"
     }
    }
   ]
  }
 ]
}
