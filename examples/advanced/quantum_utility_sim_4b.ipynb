{
 "nbformat": 4,
 "nbformat_minor": 0,
 "metadata": {
  "colab": {
   "provenance": []
  },
  "kernelspec": {
   "name": "python3",
   "display_name": "Python 3"
  },
  "language_info": {
   "name": "python"
  }
 },
 "cells": [
  {
   "cell_type": "code",
   "source": [
    "# Copyright 2023 The Cirq Developers\n",
    "#\n",
    "# Licensed under the Apache License, Version 2.0 (the \"License\");\n",
    "# you may not use this file except in compliance with the License.\n",
    "# You may obtain a copy of the License at\n",
    "#\n",
    "#     https://www.apache.org/licenses/LICENSE-2.0\n",
    "#\n",
    "# Unless required by applicable law or agreed to in writing, software\n",
    "# distributed under the License is distributed on an \"AS IS\" BASIS,\n",
    "# WITHOUT WARRANTIES OR CONDITIONS OF ANY KIND, either express or implied.\n",
    "# See the License for the specific language governing permissions and\n",
    "# limitations under the License."
   ],
   "metadata": {
    "id": "NNegRqB9GoU_"
   },
   "execution_count": 1,
   "outputs": []
  },
  {
   "cell_type": "markdown",
   "source": [
    "# Quantum utility\n",
    "\n",
    "This colab contains code for simulating a circuit described in [1] on a subset\n",
    "of qubits sufficient for reproducing the results in Fig. 4b. Running this simulation requires ~6GB of RAM, which may require a local runtime.\n",
    "Additional RAM and/or compute cores can improve performance.\n",
    "\n",
    "[1] Kim, Y., Eddins, A., Anand, S. et al. Evidence for the utility of quantum\n",
    "computing before fault tolerance. Nature 618, 500–505 (2023).\n",
    "https://doi.org/10.1038/s41586-023-06096-3"
   ],
   "metadata": {
    "id": "_7E8VdZOYL-V"
   }
  },
  {
   "cell_type": "code",
   "source": [
    "try:\n",
    "    import cirq\n",
    "except ImportError:\n",
    "    print(\"installing cirq...\")\n",
    "    !pip install --quiet cirq\n",
    "    print(\"installed cirq.\")\n",
    "\n",
    "try:\n",
    "    import qsimcirq\n",
    "except ImportError:\n",
    "    print(\"installing qsimcirq...\")\n",
    "    !pip install --quiet qsimcirq\n",
    "    print(f\"installed qsimcirq.\")"
   ],
   "metadata": {
    "id": "X8KW5a0cnRhr"
   },
   "execution_count": 2,
   "outputs": []
  },
  {
   "cell_type": "code",
   "execution_count": 3,
   "metadata": {
    "id": "82JvqINQiEpy"
   },
   "outputs": [],
   "source": [
    "import cirq\n",
    "import qsimcirq\n",
    "import matplotlib.pyplot as plt\n",
    "import numpy as np\n",
    "import sympy"
   ]
  },
  {
   "cell_type": "code",
   "source": [
    "# These 28 qubits construct the three \"bricks\" around qubit 62:\n",
    "#\n",
    "#           41-42-43-44-45\n",
    "#           |           |\n",
    "#           53          54\n",
    "#           |           |\n",
    "#     58-59-60-61-62-63-64-65-66\n",
    "#     |           |           |\n",
    "#     71          72          73\n",
    "#     |           |           |\n",
    "#     77-78-79-80-81-82-83-84-85\n",
    "#\n",
    "qubit_ids = [\n",
    "    *range(41, 46),  # row 0\n",
    "    *range(53, 55),  # row 1\n",
    "    *range(58, 67),  # row 2\n",
    "    *range(71, 74),  # row 3\n",
    "    *range(77, 86),  # row 4\n",
    "]\n",
    "q = {i: cirq.NamedQubit(f'q{i}') for i in qubit_ids}\n",
    "qubits = list(q.values())\n",
    "\n",
    "# This parameter will be used to sweep over X rotation angles.\n",
    "theta = sympy.Symbol('theta')\n",
    "x_rotations = cirq.Moment(cirq.rx(theta).on_each(qubits))\n",
    "\n",
    "# This is the ZZ(-pi/2) gate described in equation (2).\n",
    "zz_pi_2 = cirq.ZZ**-0.5\n",
    "\n",
    "# Each of these moments performs ZZ interactions along\n",
    "# 1/3 of the edges in the region, corresponding to the\n",
    "# red, blue, and green edges in Fig. 1b.\n",
    "zz_layer_1 = cirq.Moment(\n",
    "    zz_pi_2(q[41], q[53]),\n",
    "    zz_pi_2(q[43], q[44]),\n",
    "    zz_pi_2(q[58], q[71]),\n",
    "    zz_pi_2(q[59], q[60]),\n",
    "    zz_pi_2(q[61], q[62]),\n",
    "    zz_pi_2(q[63], q[64]),\n",
    "    zz_pi_2(q[72], q[81]),\n",
    "    zz_pi_2(q[73], q[85]),\n",
    "    zz_pi_2(q[78], q[79]),\n",
    "    zz_pi_2(q[83], q[84]),\n",
    ")\n",
    "zz_layer_2 = cirq.Moment(\n",
    "    zz_pi_2(q[42], q[43]),\n",
    "    zz_pi_2(q[44], q[45]),\n",
    "    zz_pi_2(q[53], q[60]),\n",
    "    zz_pi_2(q[54], q[64]),\n",
    "    zz_pi_2(q[62], q[63]),\n",
    "    zz_pi_2(q[65], q[66]),\n",
    "    zz_pi_2(q[71], q[77]),\n",
    "    zz_pi_2(q[79], q[80]),\n",
    "    zz_pi_2(q[81], q[82]),\n",
    "    zz_pi_2(q[84], q[85]),\n",
    ")\n",
    "zz_layer_3 = cirq.Moment(\n",
    "    zz_pi_2(q[41], q[42]),\n",
    "    zz_pi_2(q[45], q[54]),\n",
    "    zz_pi_2(q[58], q[59]),\n",
    "    zz_pi_2(q[60], q[61]),\n",
    "    zz_pi_2(q[62], q[72]),\n",
    "    zz_pi_2(q[64], q[65]),\n",
    "    zz_pi_2(q[66], q[73]),\n",
    "    zz_pi_2(q[77], q[78]),\n",
    "    zz_pi_2(q[80], q[81]),\n",
    "    zz_pi_2(q[82], q[83]),\n",
    ")\n",
    "\n",
    "# This circuit encapsulates a single \"step\", as shown\n",
    "# in Fig. 1a.\n",
    "step = cirq.FrozenCircuit(x_rotations, zz_layer_1, zz_layer_2, zz_layer_3)\n",
    "# Uncomment this line to print the circuit diagram for\n",
    "# a single step of the circuit.\n",
    "# print(step)"
   ],
   "metadata": {
    "id": "k6D7DylOnQw1"
   },
   "execution_count": 4,
   "outputs": []
  },
  {
   "cell_type": "code",
   "source": [
    "# The circuit used to generate Fig. 4b consists of 20 steps.\n",
    "# Changing \"repetitions\" here will adjust the number of steps simulated.\n",
    "all_steps = cirq.CircuitOperation(step, repetitions=20)\n",
    "circuit = cirq.Circuit(all_steps)\n",
    "\n",
    "# This is the Z observable on qubit 62.\n",
    "observables = [cirq.Z(q[62])]\n",
    "\n",
    "# These are approximately the values of theta plotted for experimental values\n",
    "# in Fig. 4b. Changing this list will adjust the simulation to test other\n",
    "# theta values.\n",
    "theta_values = [*np.linspace(0, 0.8, 9), 1, np.pi / 2]\n",
    "params = cirq.Points(key=\"theta\", points=theta_values)\n",
    "\n",
    "# These options are used to tune qsim performance.\n",
    "# On CPU, \"cpu_threads\" should be set to the number of cores available.\n",
    "opt = qsimcirq.QSimOptions(max_fused_gate_size=4, cpu_threads=24)\n",
    "# To use GPU instead, uncomment this line:\n",
    "# opt = qsimcirq.QSimOptions(use_gpu=True, gpu_mode=1)\n",
    "simulator = qsimcirq.QSimSimulator(qsim_options=opt)"
   ],
   "metadata": {
    "id": "ZtqG4RpBK1IY"
   },
   "execution_count": 5,
   "outputs": []
  },
  {
   "cell_type": "code",
   "source": [
    "%%time\n",
    "# This will log after each value of theta is simulated. Its purpose is to\n",
    "# give an indication of total runtime before all simulations finish.\n",
    "results = []\n",
    "for i, result in enumerate(\n",
    "    simulator.simulate_expectation_values_sweep_iter(circuit, observables, params)\n",
    "):\n",
    "    results.append(result)\n",
    "    print(f\"Completed theta={theta_values[i]:.3f}; value={result}\")\n",
    "\n",
    "# Runtimes logged in the output of this cell were achieved using a machine with\n",
    "# 24 cores and 80GB of RAM."
   ],
   "metadata": {
    "colab": {
     "base_uri": "https://localhost:8080/"
    },
    "id": "Sw0bgSywunbR",
    "outputId": "084ecb1c-6204-43c5-c3d7-fd68c1535814"
   },
   "execution_count": 6,
   "outputs": [
    {
     "output_type": "stream",
     "name": "stdout",
     "text": [
      "Completed theta=0.000; value=[(1+0j)]\n",
      "Completed theta=0.100; value=[(0.9957248494988796-1.0945159604072678e-09j)]\n",
      "Completed theta=0.200; value=[(0.9785691808859784+5.244455029047104e-09j)]\n",
      "Completed theta=0.300; value=[(0.9227771228638144+1.0042918680018413e-08j)]\n",
      "Completed theta=0.400; value=[(0.8549387301071374-1.899016572015007e-10j)]\n",
      "Completed theta=0.500; value=[(0.7790027681081058-6.695167987532044e-09j)]\n",
      "Completed theta=0.600; value=[(0.6093954499261214-4.028657081304886e-09j)]\n",
      "Completed theta=0.700; value=[(0.4257824480390532-1.4948143005177584e-10j)]\n",
      "Completed theta=0.800; value=[(0.20900853480698267-9.495178461289215e-11j)]\n",
      "Completed theta=1.000; value=[(0.011624567839324501+1.1215127671718956e-12j)]\n",
      "Completed theta=1.571; value=[(-4.8872551798147e-09-6.909408682133451e-16j)]\n",
      "CPU times: user 1h 25min 36s, sys: 38 s, total: 1h 26min 14s\n",
      "Wall time: 3min 55s\n"
     ]
    }
   ]
  },
  {
   "cell_type": "code",
   "source": [
    "# Each element of \"results\" is a list of one expectation value (for Z[62]).\n",
    "plot_results = [x[0].real for x in results]\n",
    "\n",
    "# Plot the results in the format of Fig. 4b.\n",
    "plt.plot(np.array(theta_values), plot_results, 'bo')\n",
    "plt.xlabel(r\"$ R_X $ angle $ \\theta_h $\")\n",
    "plt.ylabel(r\"$ \\langle Z_{62} \\rangle $\")\n",
    "plt.xticks(np.linspace(0, np.pi / 2, 5), [\"0\", \"π/8\", \"π/4\", \"3π/8\", \"π/2\"])\n",
    "plt.yticks(np.linspace(0, 1, 6))\n",
    "plt.show()"
   ],
   "metadata": {
    "colab": {
     "base_uri": "https://localhost:8080/",
     "height": 283
    },
    "id": "uCpJDwfwcaTg",
    "outputId": "c958f2f0-83ac-4ee4-a92a-0c0e520d5a26"
   },
   "execution_count": 7,
   "outputs": [
    {
     "output_type": "display_data",
     "data": {
      "text/plain": [
       "<Figure size 432x288 with 1 Axes>"
      ],
      "image/png": "[encoded data removed]"
     },
     "metadata": {
      "needs_background": "light"
     }
    }
   ]
  }
 ]
}
