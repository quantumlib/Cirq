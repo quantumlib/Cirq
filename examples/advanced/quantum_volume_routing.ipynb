{
 "cells": [
  {
   "cell_type": "markdown",
   "metadata": {},
   "source": [
    "# Analyzing Quantum Volume Routing Attempts\n",
    "This notebook analyzes the effect of using multiple routing attempts and picking the bestone for the Quantum Volume algorithmat a particular depth. For a given m = depth = number of qubits, plot the HOG for a range of routing attempts."
   ]
  },
  {
   "cell_type": "code",
   "execution_count": null,
   "metadata": {
    "id": "bd9529db1c0b"
   },
   "outputs": [],
   "source": [
    "try:\n",
    "    import cirq\n",
    "except ImportError:\n",
    "    print(\"installing cirq...\")\n",
    "    !pip install --quiet cirq\n",
    "    print(\"installed cirq.\")"
   ]
  },
  {
   "cell_type": "code",
   "execution_count": null,
   "metadata": {},
   "outputs": [],
   "source": [
    "import cirq\n",
    "import cirq_google\n",
    "\n",
    "# Configuration parameters. Feel free to mess with these!\n",
    "num_circuits = 10\n",
    "depth = 4\n",
    "max_routing_attempts = 100\n",
    "routing_attempts = range(1, max_routing_attempts, 10)\n",
    "repetitions = 10_000\n",
    "qubits = cirq.GridQubit.rect(3, 2)\n",
    "\n",
    "\n",
    "def compiler(circuit):\n",
    "    return cirq.optimize_for_target_gateset(circuit, gateset=cirq.CZTargetGateset())\n",
    "\n",
    "\n",
    "print(\n",
    "    f\"Configuration: depth {depth} with \"\n",
    "    f\"{num_circuits} circuits of routing attempts {routing_attempts}\"\n",
    ")"
   ]
  },
  {
   "cell_type": "code",
   "execution_count": null,
   "metadata": {},
   "outputs": [],
   "source": [
    "# Run the Quantum Volume algorithm over the above parameters.\n",
    "\n",
    "import numpy as np\n",
    "from cirq.contrib import quantum_volume, routing\n",
    "\n",
    "samplers = [\n",
    "    cirq.DensityMatrixSimulator(\n",
    "        noise=cirq.ConstantQubitNoiseModel(qubit_noise_gate=cirq.DepolarizingChannel(p=0.005))\n",
    "    )\n",
    "]\n",
    "\n",
    "results = []\n",
    "for r in routing_attempts:\n",
    "    print(f\"Running with {r} routing attempt(s)\")\n",
    "    results.append(\n",
    "        quantum_volume.calculate_quantum_volume(\n",
    "            num_circuits=num_circuits,\n",
    "            depth=depth,\n",
    "            num_qubits=depth,\n",
    "            device_graph=routing.gridqubits_to_graph_device(qubits),\n",
    "            samplers=samplers,\n",
    "            compiler=compiler,\n",
    "            random_state=np.random.RandomState(52),\n",
    "            repetitions=repetitions,\n",
    "            routing_attempts=r,\n",
    "        )\n",
    "    )"
   ]
  },
  {
   "cell_type": "code",
   "execution_count": null,
   "metadata": {},
   "outputs": [],
   "source": [
    "# Create a chart that plots the HOG rate relative to the simulated error ratio.\n",
    "\n",
    "from matplotlib import pyplot as plt\n",
    "import statistics\n",
    "\n",
    "probs = []\n",
    "for idx, r in enumerate(routing_attempts):\n",
    "    result = results[idx]\n",
    "    probs.append(statistics.mean([res.sampler_result for res in result]))\n",
    "\n",
    "fig, axs = plt.subplots()\n",
    "axs.plot(routing_attempts, probs)\n",
    "\n",
    "# Line markers for asymptotic ideal heavy output probability and the ideal Heavy\n",
    "# Output Generation threshold.\n",
    "axs.axhline((1 + np.log(2)) / 2, color='tab:green', label='Asymptotic ideal', linestyle='dashed')\n",
    "axs.axhline(2 / 3, label='HOG threshold', color='k', linestyle='dotted')\n",
    "axs.set_ybound(0.4, 1)\n",
    "axs.set_xlabel(\"Number of routing attempts\")\n",
    "axs.set_ylabel(\"est. heavy output probability\")\n",
    "fig.suptitle(f'HOG probability by number of routing attempts for d={depth}')"
   ]
  }
 ],
 "metadata": {
  "kernelspec": {
   "display_name": "Python 3",
   "language": "python",
   "name": "python3"
  },
  "language_info": {
   "codemirror_mode": {
    "name": "ipython",
    "version": 3
   },
   "file_extension": ".py",
   "mimetype": "text/x-python",
   "name": "python",
   "nbconvert_exporter": "python",
   "pygments_lexer": "ipython3",
   "version": "3.8.9"
  }
 },
 "nbformat": 4,
 "nbformat_minor": 4
}
